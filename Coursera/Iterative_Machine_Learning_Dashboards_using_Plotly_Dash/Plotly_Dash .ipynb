{
 "cells": [
  {
   "cell_type": "markdown",
   "id": "c3cb81a9",
   "metadata": {},
   "source": [
    "# Introduction"
   ]
  },
  {
   "cell_type": "markdown",
   "id": "c53b8ef1",
   "metadata": {},
   "source": [
    "<font color = 'red'>Plotly Dash</font> gives us the capablility to design a web-based dashboard that allows user input to decide what is shown on the screen. For example, We can have multiple plots that interact amongst themselves depending where the user is hovering the mouse. It can als oallow for other forms of input, such as dropdowns, radio buttons, text entry, and much more."
   ]
  },
  {
   "cell_type": "code",
   "execution_count": 1,
   "id": "4fcd99b7",
   "metadata": {},
   "outputs": [
    {
     "data": {
      "text/html": [
       "<div>\n",
       "<style scoped>\n",
       "    .dataframe tbody tr th:only-of-type {\n",
       "        vertical-align: middle;\n",
       "    }\n",
       "\n",
       "    .dataframe tbody tr th {\n",
       "        vertical-align: top;\n",
       "    }\n",
       "\n",
       "    .dataframe thead th {\n",
       "        text-align: right;\n",
       "    }\n",
       "</style>\n",
       "<table border=\"1\" class=\"dataframe\">\n",
       "  <thead>\n",
       "    <tr style=\"text-align: right;\">\n",
       "      <th></th>\n",
       "      <th>Channel</th>\n",
       "      <th>Region</th>\n",
       "      <th>Fresh</th>\n",
       "      <th>Milk</th>\n",
       "      <th>Grocery</th>\n",
       "      <th>Frozen</th>\n",
       "      <th>Detergents_Paper</th>\n",
       "      <th>Delicatessen</th>\n",
       "      <th>pca_x</th>\n",
       "      <th>pca_y</th>\n",
       "      <th>umap_x</th>\n",
       "      <th>umap_y</th>\n",
       "      <th>ae_x</th>\n",
       "      <th>ae_y</th>\n",
       "      <th>vae_x</th>\n",
       "      <th>vae_y</th>\n",
       "      <th>Total_Spend</th>\n",
       "    </tr>\n",
       "  </thead>\n",
       "  <tbody>\n",
       "    <tr>\n",
       "      <th>0</th>\n",
       "      <td>2</td>\n",
       "      <td>3</td>\n",
       "      <td>12669</td>\n",
       "      <td>9656</td>\n",
       "      <td>7561</td>\n",
       "      <td>214</td>\n",
       "      <td>2674</td>\n",
       "      <td>1338</td>\n",
       "      <td>0.193291</td>\n",
       "      <td>-0.305100</td>\n",
       "      <td>7.084310</td>\n",
       "      <td>6.933166</td>\n",
       "      <td>3.548878</td>\n",
       "      <td>3.811006</td>\n",
       "      <td>0.828640</td>\n",
       "      <td>0.798793</td>\n",
       "      <td>34112</td>\n",
       "    </tr>\n",
       "    <tr>\n",
       "      <th>1</th>\n",
       "      <td>2</td>\n",
       "      <td>3</td>\n",
       "      <td>7057</td>\n",
       "      <td>9810</td>\n",
       "      <td>9568</td>\n",
       "      <td>1762</td>\n",
       "      <td>3293</td>\n",
       "      <td>1776</td>\n",
       "      <td>0.434420</td>\n",
       "      <td>-0.328413</td>\n",
       "      <td>6.252880</td>\n",
       "      <td>7.050780</td>\n",
       "      <td>3.579156</td>\n",
       "      <td>2.955884</td>\n",
       "      <td>0.838629</td>\n",
       "      <td>0.814789</td>\n",
       "      <td>33266</td>\n",
       "    </tr>\n",
       "    <tr>\n",
       "      <th>2</th>\n",
       "      <td>2</td>\n",
       "      <td>3</td>\n",
       "      <td>6353</td>\n",
       "      <td>8808</td>\n",
       "      <td>7684</td>\n",
       "      <td>2405</td>\n",
       "      <td>3516</td>\n",
       "      <td>7844</td>\n",
       "      <td>0.811143</td>\n",
       "      <td>0.815096</td>\n",
       "      <td>8.588828</td>\n",
       "      <td>6.877347</td>\n",
       "      <td>1.341199</td>\n",
       "      <td>2.187068</td>\n",
       "      <td>0.841106</td>\n",
       "      <td>0.797111</td>\n",
       "      <td>36610</td>\n",
       "    </tr>\n",
       "    <tr>\n",
       "      <th>3</th>\n",
       "      <td>1</td>\n",
       "      <td>3</td>\n",
       "      <td>13265</td>\n",
       "      <td>1196</td>\n",
       "      <td>4221</td>\n",
       "      <td>6404</td>\n",
       "      <td>507</td>\n",
       "      <td>1788</td>\n",
       "      <td>-0.778648</td>\n",
       "      <td>0.652754</td>\n",
       "      <td>13.654358</td>\n",
       "      <td>7.857928</td>\n",
       "      <td>6.349530</td>\n",
       "      <td>8.099434</td>\n",
       "      <td>0.814431</td>\n",
       "      <td>0.814974</td>\n",
       "      <td>27381</td>\n",
       "    </tr>\n",
       "    <tr>\n",
       "      <th>4</th>\n",
       "      <td>2</td>\n",
       "      <td>3</td>\n",
       "      <td>22615</td>\n",
       "      <td>5410</td>\n",
       "      <td>7198</td>\n",
       "      <td>3915</td>\n",
       "      <td>1777</td>\n",
       "      <td>5185</td>\n",
       "      <td>0.166287</td>\n",
       "      <td>1.271434</td>\n",
       "      <td>9.122227</td>\n",
       "      <td>5.977852</td>\n",
       "      <td>1.150562</td>\n",
       "      <td>3.304798</td>\n",
       "      <td>0.853156</td>\n",
       "      <td>0.828196</td>\n",
       "      <td>46100</td>\n",
       "    </tr>\n",
       "  </tbody>\n",
       "</table>\n",
       "</div>"
      ],
      "text/plain": [
       "   Channel  Region  Fresh  Milk  Grocery  Frozen  Detergents_Paper  \\\n",
       "0        2       3  12669  9656     7561     214              2674   \n",
       "1        2       3   7057  9810     9568    1762              3293   \n",
       "2        2       3   6353  8808     7684    2405              3516   \n",
       "3        1       3  13265  1196     4221    6404               507   \n",
       "4        2       3  22615  5410     7198    3915              1777   \n",
       "\n",
       "   Delicatessen     pca_x     pca_y     umap_x    umap_y      ae_x      ae_y  \\\n",
       "0          1338  0.193291 -0.305100   7.084310  6.933166  3.548878  3.811006   \n",
       "1          1776  0.434420 -0.328413   6.252880  7.050780  3.579156  2.955884   \n",
       "2          7844  0.811143  0.815096   8.588828  6.877347  1.341199  2.187068   \n",
       "3          1788 -0.778648  0.652754  13.654358  7.857928  6.349530  8.099434   \n",
       "4          5185  0.166287  1.271434   9.122227  5.977852  1.150562  3.304798   \n",
       "\n",
       "      vae_x     vae_y  Total_Spend  \n",
       "0  0.828640  0.798793        34112  \n",
       "1  0.838629  0.814789        33266  \n",
       "2  0.841106  0.797111        36610  \n",
       "3  0.814431  0.814974        27381  \n",
       "4  0.853156  0.828196        46100  "
      ]
     },
     "execution_count": 1,
     "metadata": {},
     "output_type": "execute_result"
    }
   ],
   "source": [
    "# Prepare datasets\n",
    "\n",
    "import pandas as pd \n",
    "\n",
    "df = pd.read_csv('customer_dataset.csv')\n",
    "df.head()"
   ]
  },
  {
   "cell_type": "markdown",
   "id": "6c0dcb8b",
   "metadata": {},
   "source": [
    "**Useful Source**  \n",
    "[How to dash](https://m.blog.naver.com/raymondjin_/222202394796)"
   ]
  },
  {
   "cell_type": "markdown",
   "id": "5d9b056b",
   "metadata": {},
   "source": [
    "Dash Apps은 크게 'laout'과 'application'으로 구성됩니다. Dash는 application의 가시화 할 요소들을 Python class로 제공한다. \n",
    "  \n",
    "Layout에서 주목할점 \n",
    "\n",
    "1. layout은 components로 구성되어있다. components 는 html.Div, doc.Graph와 같은 것들이 있다. \n",
    "2. dash_html_components 라이브러리에는 모든 HTLM tag가 존재한다. "
   ]
  },
  {
   "cell_type": "markdown",
   "id": "cd2bf4a3",
   "metadata": {},
   "source": [
    "# Construction"
   ]
  },
  {
   "cell_type": "markdown",
   "id": "4bcb2c2f",
   "metadata": {},
   "source": [
    "## Importing library"
   ]
  },
  {
   "cell_type": "code",
   "execution_count": 4,
   "id": "322e6174",
   "metadata": {},
   "outputs": [],
   "source": [
    "import dash\n",
    "import dash_core_components as dcc\n",
    "import dash_bootstrap_components as dbc\n",
    "import dash_html_components as html\n",
    "import pandas as pd\n",
    "import plotly.express as px \n",
    "import plotly.graph_objects as go\n",
    "import numpy as np \n",
    "from jupyter_dash import JupyterDash"
   ]
  },
  {
   "cell_type": "markdown",
   "id": "5a5eeb9f",
   "metadata": {},
   "source": [
    "## Basic Style Sheet"
   ]
  },
  {
   "cell_type": "code",
   "execution_count": 5,
   "id": "8028f069",
   "metadata": {},
   "outputs": [],
   "source": [
    "external_stylesheets = [dbc.themes.DARKLY]\n",
    "app = JupyterDash(__name__, title = 'Interactive Model Dashboard', external_stylesheets = [external_stylesheets])"
   ]
  },
  {
   "cell_type": "markdown",
   "id": "f15e8113",
   "metadata": {},
   "source": [
    "main 함수에서 실행되는 app 인스턴스는 dash.Dash() 객체입니다. app name을 변경하고 싶으면 pytho 파일의 이름을 바꾸는 것이 아닌 이부분을 바꿔야 합니다. "
   ]
  },
  {
   "cell_type": "markdown",
   "id": "566f4a59",
   "metadata": {},
   "source": [
    "## Background Dataset"
   ]
  },
  {
   "cell_type": "code",
   "execution_count": 6,
   "id": "7f31cf56",
   "metadata": {},
   "outputs": [],
   "source": [
    "df = pd.read_csv('customer_dataset.csv')\n",
    "features = ['Fresh', 'Milk', 'Grocery', 'Frozen', 'Detergents_Paper', 'Delicatessen']\n",
    "modles = ['PCA', 'UMAP', 'AE', 'VAE']\n",
    "df_average = df[features].mean()\n",
    "max_val = df[features].max().max()"
   ]
  },
  {
   "cell_type": "markdown",
   "id": "531861a8",
   "metadata": {},
   "source": [
    "## Basic frame"
   ]
  },
  {
   "cell_type": "markdown",
   "id": "d85a5316",
   "metadata": {},
   "source": [
    "- html.Div : 기본적인 사각 프레임을 구성한다. \n",
    "- html.Label(' ') : html.Div에 들어갈 Text를 입력한다. \n",
    "- dcc.Dropdown() : Selection box에 들어갈 구성요소를 생성한다. \n",
    "    - id = ' ' : code가 인식할 Div id를 생성한다. \n",
    "    - options = ['label' : , 'value' : ] :  label은 User가 인식할내용 value는 코드가 인식할 내용이다. \n",
    "    - value = ' ' : Default check\n",
    "- dcc.Graph() : plot이 들어갈 구성요소를 생성한다.\n",
    "    - id = ' ' : code가 인식할 Div id를 생성한다. "
   ]
  },
  {
   "cell_type": "code",
   "execution_count": 7,
   "id": "72aacc5a",
   "metadata": {},
   "outputs": [],
   "source": [
    "app.layout = html.Div([  # whole block\n",
    "     \n",
    "     html.Div([  # first block                        \n",
    "         \n",
    "         html.Div([     # first - left block \n",
    "             \n",
    "            html.Div([html.Label('Model selection')], style = {'font-size' : '18px'}),      # selection box \n",
    "            \n",
    "            dcc.Dropdown(                                                                   # selection value \n",
    "                \n",
    "                id = 'crossfilter-model',\n",
    "                options = [\n",
    "                    {'label' : 'Principal Component Analysis', 'value' : 'PCA'},\n",
    "                    {'label' : 'Uniform Manifold Approximation and Projection', 'value' : 'UMAP'},\n",
    "                    {'label' : 'Autoencoder', 'value' : 'AE'},\n",
    "                    {'label' : 'Variational Autoencoder', 'value' : 'VAE'}\n",
    "                ],\n",
    "                value = 'PCA',\n",
    "                clearable = False \n",
    "            )\n",
    "         ], style = {'width' : '49%', 'display' : 'inline-block'}),\n",
    "        \n",
    "       \n",
    "        html.Div([       # first - right block \n",
    "            \n",
    "            html.Div([html.Label('Feature selection')], style = {'font-size' : '18px', 'width' : '40%', 'display' : 'inline-block'}),     # selection box \n",
    "            \n",
    "            html.Div([             \n",
    "                \n",
    "                dcc.RadioItems(\n",
    "                    id = 'gradient-scheme',\n",
    "                    options = [\n",
    "                        {'label' : 'Orange to Red', 'value' : 'OrRd'},\n",
    "                        {'label' : 'Viridis', 'value' : 'Viridis'},\n",
    "                        {'label' : 'Plasma', 'value' : 'Plasma'},\n",
    "                    ],\n",
    "                    value = 'Plasma',\n",
    "                    labelStyle = {'float' : 'right', 'display' : 'inline-block', 'margins-right' : 10}\n",
    "                )\n",
    "            ], style = {'width' : '49%', 'display' : 'inline-block', 'float' : 'right'}),\n",
    "            \n",
    "            dcc.Dropdown(\n",
    "                id = 'crossfilter-feature',\n",
    "                options = [{'label' : i, 'value' :i} for i in features + ['None', 'Region', 'Channel', 'Total_Spend']],\n",
    "                value = 'None', \n",
    "                clearable = False)\n",
    "        ], style = {'width' : '49%', 'float' : 'right', 'display' : 'inline-block'}\n",
    "        \n",
    "        )\n",
    "     ], style = {'backgroundCOlor' : 'rgb(17, 17, 17)', 'padding' : '10px 5px'}),\n",
    "\n",
    "    # ---------------------------------------------------------------------------------------------------------------------------------------------------- #\n",
    "    html.Div([     # second block\n",
    "        \n",
    "        dcc.Graph(\n",
    "            id = 'scatter-plot', \n",
    "            hoverData = {'points' : [{'customdata' : 0}]}\n",
    "        )\n",
    "    ], style = {'width' : '100%', 'height' : '90%', 'display' : 'inline-block', 'padding' : '0 20'}),\n",
    "    \n",
    "    # ------------------------------------------------------------------------------------------------------------------------------------------------------ # \n",
    "    html.Div([     # third block \n",
    "        \n",
    "        dcc.Graph(\n",
    "            id = 'point-plot'\n",
    "        )\n",
    "    ], style = {'display' : 'inline-block', 'width' : '100%'}),\n",
    "    \n",
    "], style = {'backgroundColor' : 'rgb(17, 17, 17)'})"
   ]
  },
  {
   "cell_type": "markdown",
   "id": "a4651f08",
   "metadata": {},
   "source": [
    "## Plot call back"
   ]
  },
  {
   "cell_type": "markdown",
   "id": "ea5f5c6c",
   "metadata": {},
   "source": [
    "Callback함수는 어떤 동작이 일어날 때마다 호출이 되는 함수이다. Output은 넣을 Div의 id와 동일해야한다. \n",
    "Input값은 callback함수 밑의 인자에 순서대로 입력된다. "
   ]
  },
  {
   "cell_type": "code",
   "execution_count": 8,
   "id": "db33af03",
   "metadata": {},
   "outputs": [],
   "source": [
    "@app.callback(\n",
    "    dash.dependencies.Output('scatter-plot', 'figure'),\n",
    "    [\n",
    "        dash.dependencies.Input('crossfilter-feature', 'value'), \n",
    "        dash.dependencies.Input('crossfilter-model', 'value'),\n",
    "        dash.dependencies.Input('gradient-scheme', 'value')\n",
    "    ]\n",
    ")\n",
    "\n",
    "def update_graph(feature, model, gradient) :\n",
    "    \n",
    "    if feature == 'None' :\n",
    "        cols = None\n",
    "        sizes = None\n",
    "        hover_names = [f'Customer {ix}' for ix in df.index]\n",
    "    \n",
    "    elif features in ['Region', 'Channel'] :\n",
    "        cols = df[feature].astpye(str)\n",
    "        sizes = None\n",
    "        hover_names = [f'Customer {ix}' for ix in df.index]\n",
    "    \n",
    "    else : \n",
    "        cols = df[feature]\n",
    "        sizes = [np.max([max_val, val]) for val in df[feature].values]\n",
    "        hover_names = []\n",
    "        for ix, val in zip(df.index.values, df[feature].values) :\n",
    "            hover_names.append(f'Customer {ix}<br>{feature} value of {val}')\n",
    "            \n",
    "    fig = px.scatter(df, \n",
    "                     x = df[f'{model.lower()}_x'], \n",
    "                     y = df[f'{model.lower()}_y'],\n",
    "                     opacity = 0.8, \n",
    "                     template = 'plotly_dark', \n",
    "                     color_continuous_scale = gradient, \n",
    "                     hover_name = hover_names, color = cols, size = sizes)\n",
    "    \n",
    "    fig.update_traces(customdata = df.index)\n",
    "    \n",
    "    fig.update_layout(\n",
    "        height = 650,\n",
    "        hovermode = 'closest', \n",
    "        template = 'plotly_dark'\n",
    "    )\n",
    "    \n",
    "    fig.update_xaxes(showticklabels = False)\n",
    "    fig.update_yaxes(showticklabels = False)\n",
    "    \n",
    "    return fig\n",
    "\n",
    "def create_point_plot(df, title) : \n",
    "    fig = go.Figure(\n",
    "            data = [\n",
    "                go.Bar(name = 'Average', x = features, y = df_average.values, marker_color = '#c178f6'),\n",
    "                go.Bar(name = title, x = features, y = df.values, marker_color = '#89efbd')\n",
    "            ]\n",
    "    )\n",
    "    fig.update_layout(\n",
    "        barmode = 'group',\n",
    "        height = 220,\n",
    "        margin = {'l' : 20, 'b' : 30, 'r' : 10, 't' : 10},\n",
    "        template = 'plotly_dark'\n",
    "    )\n",
    "    fig.update_xaxes(showgrid = False)\n",
    "    fig.update_yaxes(type = 'log', range = [0, 5])\n",
    "    return fig\n",
    "\n",
    "@app.callback(\n",
    "    dash.dependencies.Output('point-plot', 'figure'),\n",
    "    [\n",
    "        dash.dependencies.Input('scatter-plot', 'hoverData')\n",
    "    ]\n",
    ")\n",
    "\n",
    "def update_point_plot(hoverData) :\n",
    "    index = hoverData['points'][0]['customdata']\n",
    "    title = f'Customer {index}'\n",
    "    return create_point_plot(df[features].iloc[index], title)\n"
   ]
  },
  {
   "cell_type": "markdown",
   "id": "2246e148",
   "metadata": {},
   "source": [
    "## Run dash"
   ]
  },
  {
   "cell_type": "code",
   "execution_count": 10,
   "id": "32abbf53",
   "metadata": {},
   "outputs": [
    {
     "name": "stdout",
     "output_type": "stream",
     "text": [
      "Dash app running on http://127.0.0.1:8052/\n"
     ]
    }
   ],
   "source": [
    "app.run_server(mode='external', port = 8052)"
   ]
  },
  {
   "cell_type": "code",
   "execution_count": null,
   "id": "5320407d",
   "metadata": {},
   "outputs": [],
   "source": []
  }
 ],
 "metadata": {
  "kernelspec": {
   "display_name": "Python 3",
   "language": "python",
   "name": "python3"
  },
  "language_info": {
   "codemirror_mode": {
    "name": "ipython",
    "version": 3
   },
   "file_extension": ".py",
   "mimetype": "text/x-python",
   "name": "python",
   "nbconvert_exporter": "python",
   "pygments_lexer": "ipython3",
   "version": "3.8.8"
  },
  "toc": {
   "base_numbering": 1,
   "nav_menu": {},
   "number_sections": true,
   "sideBar": true,
   "skip_h1_title": false,
   "title_cell": "Table of Contents",
   "title_sidebar": "Contents",
   "toc_cell": false,
   "toc_position": {},
   "toc_section_display": true,
   "toc_window_display": false
  },
  "varInspector": {
   "cols": {
    "lenName": 16,
    "lenType": 16,
    "lenVar": 40
   },
   "kernels_config": {
    "python": {
     "delete_cmd_postfix": "",
     "delete_cmd_prefix": "del ",
     "library": "var_list.py",
     "varRefreshCmd": "print(var_dic_list())"
    },
    "r": {
     "delete_cmd_postfix": ") ",
     "delete_cmd_prefix": "rm(",
     "library": "var_list.r",
     "varRefreshCmd": "cat(var_dic_list()) "
    }
   },
   "types_to_exclude": [
    "module",
    "function",
    "builtin_function_or_method",
    "instance",
    "_Feature"
   ],
   "window_display": false
  }
 },
 "nbformat": 4,
 "nbformat_minor": 5
}
