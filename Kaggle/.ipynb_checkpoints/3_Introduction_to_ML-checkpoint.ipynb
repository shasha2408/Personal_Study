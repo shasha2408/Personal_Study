{
 "cells": [
  {
   "cell_type": "markdown",
   "id": "dd9951b2",
   "metadata": {},
   "source": [
    "# How Models Work\n",
    "We use data to decide how to break the houses into two groups, and then again to determine the predicted price in each group. This step of capturing patterns from data is called fitting or training the model. The data used to fit the model is called the training data. "
   ]
  },
  {
   "cell_type": "markdown",
   "id": "6c552dcc",
   "metadata": {},
   "source": [
    "# Basic Data Exploration\n",
    "\n",
    "1. Using Pandas to Get Familiar With Your Data :   \n",
    "The first step in any machine learning projects is familiarize yourself with the data. You'll use the Pandas library for this. Pandas is the primary tools data scientists use for exploring and manipulating data. Most people abbreviate pandas in their code as pd. The most important part of the Pandas library is the DataFrame. A DataFrame holds the typ4e of data you might think of as a table. This is similar to a sheet in Excel, or a table in a SQL database.   \n",
    "Pandas has powerful methods for most things you'll want to do with this type of data. \n",
    "\n",
    "\n",
    "2. Interpreting Data Description :  \n",
    "The results show 8 numbers for each colum in your original dataset. The first number, the count, shows how many rows have non-missing values.  \n",
    "Missing values arise for many reasons. For example, the size of the 2nd bedroom wouldn't be collected when surveying a 1 bedroom house. We'll come back to the topic of missing data.  \n",
    "The second value is the mean, which is the average. Under that, std is the standard deviation, which measures how numerically spread out the values are. To interpret the min, 25%, 50%, 75% and max values, imagine sorting each column from lowest to highest value. The first value is the min. If you go to quarter way through the list, you'll find a number that is bigger than 25% of the values and smaller than 75% of the values. Thsat is the 25% value. The 50th and 75th percentiles are defined analogously, and the max is the largest number."
   ]
  },
  {
   "cell_type": "markdown",
   "id": "c438ea83",
   "metadata": {},
   "source": [
    "# Your First Machine Learning Model \n",
    "\n",
    "1. Selecting Data for Modeling :   \n",
    "Your dataset had too many variables to wrap your head around, or even to pring out nicely. How can we pare  down this overwhelming amount of data to something we can understand?  \n",
    "We'll start by picking a few variables using our intuition. Later course will show us statistical techniques to automatically prioritize variables. To choose variables/columns, we'll need to see a list of all columns in the dataset. That is done with the column property of the DataFrame.  \n",
    "There are many ways to select a subset of our data. The pandas course covers these in more depth.   \n",
    "\n",
    "\n",
    "2. Selecting The Predicting Target :  \n",
    "We can pull out a vraible with dot-notation. This single column is stored in a Series, which is broadly like a DataFrame with only a single column of data. \n",
    "\n",
    "\n",
    "3. Choosing 'Features' :   \n",
    "The columns that are inputted into our model are called 'features'. Sometimes, we will use all columns except the target as features. Other times we'll be better off with fewer features. We select multiple features by providing a list of column names inside brackets. Each item in that list should be a string. By convention, this data is called X. \n",
    "\n",
    "\n",
    "4. Building Your Model :   \n",
    "We will use the scikit-learn library to create our modles. When coding, this library is written as sklearn, as we will see in the sample code. Scikit-learn is easily the most popular library for modeling the types of data typically stored in DataFrames. The steps to building and using a model are : \n",
    "    - Define : what type of model will it be? A decision tree? Some other type of model? Some other parameters of the model type are specified too. \n",
    "    - Fit : Capture patterns from provided data. This is the heart of modeling. \n",
    "    - Predict : Just what it sounds like \n",
    "    - Evaluate : Determine how accurate the model's predictions are. \n",
    "\n",
    "Many machine learning models allow some randomness in model training. Specifying a number for random_state ensures you get the same results in each run. This is considered a good practice. You use any number, and model quality won't depend meaningfully on exactly what value you choose. "
   ]
  },
  {
   "cell_type": "raw",
   "id": "d872b7c8",
   "metadata": {},
   "source": [
    "# Loading dataset\n",
    "\n",
    "import pandas as pd\n",
    "\n",
    "melbourne_file_path = '../input/melbourne-housing-snapshot/melb_data.csv'\n",
    "melbourne_data = pd.read_csv(melbourne_file_path) \n",
    "melbourne_data.columns\n",
    "\n",
    "# Data preprocessing \n",
    "\n",
    "melbourne_data = melbourne_data.dropna(axis=0)\n",
    "\n",
    "# Feature Engineering\n",
    "\n",
    "y = melbourne_data.Price\n",
    "melbourne_features = ['Rooms', 'Bathroom', 'Landsize', 'Lattitude', 'Longtitude']\n",
    "X = melbourne_data[melbourne_features]\n",
    "\n",
    "# Modeling \n",
    "\n",
    "from sklearn.tree import DecisionTreeRegressor\n",
    "\n",
    "## Define model. Specify a number for random_state to ensure same results each run\n",
    "melbourne_model = DecisionTreeRegressor(random_state=1)\n",
    "\n",
    "## Fit model\n",
    "melbourne_model.fit(X, y)\n",
    "\n",
    "\n",
    "\n",
    "\n",
    "\n"
   ]
  }
 ],
 "metadata": {
  "kernelspec": {
   "display_name": "Python 3",
   "language": "python",
   "name": "python3"
  },
  "language_info": {
   "codemirror_mode": {
    "name": "ipython",
    "version": 3
   },
   "file_extension": ".py",
   "mimetype": "text/x-python",
   "name": "python",
   "nbconvert_exporter": "python",
   "pygments_lexer": "ipython3",
   "version": "3.8.8"
  },
  "toc": {
   "base_numbering": 1,
   "nav_menu": {},
   "number_sections": true,
   "sideBar": true,
   "skip_h1_title": false,
   "title_cell": "Table of Contents",
   "title_sidebar": "Contents",
   "toc_cell": false,
   "toc_position": {},
   "toc_section_display": true,
   "toc_window_display": false
  },
  "varInspector": {
   "cols": {
    "lenName": 16,
    "lenType": 16,
    "lenVar": 40
   },
   "kernels_config": {
    "python": {
     "delete_cmd_postfix": "",
     "delete_cmd_prefix": "del ",
     "library": "var_list.py",
     "varRefreshCmd": "print(var_dic_list())"
    },
    "r": {
     "delete_cmd_postfix": ") ",
     "delete_cmd_prefix": "rm(",
     "library": "var_list.r",
     "varRefreshCmd": "cat(var_dic_list()) "
    }
   },
   "types_to_exclude": [
    "module",
    "function",
    "builtin_function_or_method",
    "instance",
    "_Feature"
   ],
   "window_display": false
  }
 },
 "nbformat": 4,
 "nbformat_minor": 5
}
