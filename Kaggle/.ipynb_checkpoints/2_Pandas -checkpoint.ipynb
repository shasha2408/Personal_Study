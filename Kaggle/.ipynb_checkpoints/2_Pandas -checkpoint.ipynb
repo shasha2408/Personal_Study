{
 "cells": [
  {
   "cell_type": "markdown",
   "id": "95cf5f3d",
   "metadata": {},
   "source": [
    "# Creating, Reading, and Writing \n",
    "\n",
    "1. Getting Started "
   ]
  },
  {
   "cell_type": "code",
   "execution_count": 1,
   "id": "eb9866a3",
   "metadata": {},
   "outputs": [],
   "source": [
    "import pandas as pd"
   ]
  },
  {
   "cell_type": "markdown",
   "id": "d26c9e90",
   "metadata": {},
   "source": [
    "2. Creating data : There are two core objects in pandas : the DataFrame and the Series. \n",
    "    \n",
    "    1) DataFrame :   \n",
    "A DataFrame is a table. It contains an array of individual entries, each of which has a certain value. Each entry correspond to a row and a column. DataFrame entries are not limited to integers.  \n",
    "We are using the pd.DataFrame() constructor to generate these DataFrame objects. The syntax for declaring a new one is a dictionary whose keys are the column names, and whose values are a list of entries. \n",
    "This is the standard way of constructing a new DataFrame, and the one you are most likely to encounter. The list of row labels used in a DataFrame is known as an index. We can assign values to it by using an index parameter in our constructor :  \n",
    "  \n",
    "    2) Series :   \n",
    "A Seris, by contrast, is a sequence of data values. If a DataFrame is a table, a Series is a list. And in fact you can Create one with nothing more than a list :   \n",
    "A Series is, in essence, a single column of a DataFrame. So you can assign column values to the Series the same way as before, using an index parameter. However, a Series does not have a column name, it only has one overall name : \n",
    "  "
   ]
  },
  {
   "cell_type": "code",
   "execution_count": 4,
   "id": "481ad677",
   "metadata": {},
   "outputs": [
    {
     "data": {
      "text/plain": [
       "2015 Sales    30\n",
       "2016 Sales    35\n",
       "2017 Sales    40\n",
       "Name: Product A, dtype: int64"
      ]
     },
     "execution_count": 4,
     "metadata": {},
     "output_type": "execute_result"
    }
   ],
   "source": [
    "pd.DataFrame({'BoB' : ['I liked it', 'It was awful.'], 'Sue' : ['Pretty good.', 'Bland.']})\n",
    "\n",
    "pd.Series([30, 35, 40], index = ['2015 Sales', '2016 Sales', '2017 Sales'], name = 'Product A')"
   ]
  },
  {
   "cell_type": "markdown",
   "id": "dd08a4ae",
   "metadata": {},
   "source": [
    "3. Reading data files :  \n",
    "Being able to create a DataFrame or Series by hand is handy. But, most of the time, We won't actually be creating our own data by hand. We'll use the pd.read_csv() function to read the data into a DataFrame.   \n",
    "    - df.shape : we can use the shape attribute to check how large the resulting DataFrame is\n",
    "    - df.head() : We can examine the contents of the resultant DataFrame which grabs the first five rows "
   ]
  },
  {
   "cell_type": "markdown",
   "id": "667e0773",
   "metadata": {},
   "source": [
    "# Indexing, Selecting & Assigning"
   ]
  },
  {
   "cell_type": "markdown",
   "id": "f1d9a501",
   "metadata": {},
   "source": [
    "1. Native accesors :  \n",
    "Native Python objects provide good ways of indexing data. Pandas carries all of these over, which helps make it easy to start with. In Python, We can access the property of an objects by accessing it as an attribute. A book objects, for example, might have a title property, which we can acess by calling 'book.title'. Columns in a pandas DataFrame work in much the same way.   \n",
    "If we have a Python dictionray, We can access its values using the indexing [] operator. 'book['title']'.  \n",
    "Doesn't a pandas Series look kind of like a fancy dictionary? It pretty much is, so it's no surprise that, to drilll down to a single specific value, we need only use the indexing operator [] once more : \n",
    "\n",
    "\n",
    "2. Indexing in pandas :   \n",
    "The indexing operator and attribute selection are nice because they work just like they do in the rest of the Python ecosystem. As a novice, this makes them easy to pick up and use. Hoever, pandas has its own accesor operators, loc and iloc. \n",
    "    - iloc : The first is index-based selection : selecting data based on its numerical position in the data. : revies.iloc[:, 0]\n",
    "    - loc : The secodn paradigm for attribute selection is the one followed by the loc operator : label-based selection. loc uses the information in teh indices to do its work. \n",
    "\n",
    "\n",
    "3. Manipulating the index :   \n",
    "Label-based selection derives its power from the labels in the index. Critically, the index we use is not immutable. We can mainpulate the index in any way we see fit. \n",
    "    - set_index() : \n",
    "    \n",
    "   \n",
    "4. Conditional selection :   \n",
    "We can choose data with conditions. When we make operation, this operation produced a Series of True/False booleans based on the column of each record. This result can then be used inside of loc to select the relevant data. \n",
    "    - isin() : lets you select data whose valeu is in a list of valeus.\n",
    "    - isnull() : let you highlight value whic are empty. \n",
    "    - notnull() : companion to isnull() "
   ]
  },
  {
   "cell_type": "markdown",
   "id": "28adf750",
   "metadata": {},
   "source": [
    "# Summary Functions and Maps "
   ]
  },
  {
   "cell_type": "markdown",
   "id": "d9af603f",
   "metadata": {},
   "source": [
    "1. Summary functions :   \n",
    "Pandas provides many simple \"summary functions\" which restructure the data in some useful way. \n",
    "    - describe() : This method generates a high-level summary of the attributes of the given column. It is type-aware, meaning that its output changes based on the data type of the input. The output above inly makes sense for numerical data\n",
    "    - unique() : To see a list of unique values \n",
    "    - value_counts() : To see a list of unique valeus and how often they occur in the dataset.\n",
    "    \n",
    "    \n",
    "2. Maps :   \n",
    "A map in a term, borrowed from mathmeatics, for a function that takes one set of values and \"maps\" them to another set of values. In data science we often have a need for creating new represntations from existing data, or for transforming data from the format it is in now to teh format that we want it to be in later. \n",
    "    - map() : use with lambda x : x ~. The function you pass to map() should expect a single value from the Series, and return a transformed version of that value. \n",
    "    - apply() : It is the equivalent metod if we want to transform a whole DataFrame by calling a custom method on each row"
   ]
  },
  {
   "cell_type": "code",
   "execution_count": null,
   "id": "3374279a",
   "metadata": {},
   "outputs": [],
   "source": []
  }
 ],
 "metadata": {
  "kernelspec": {
   "display_name": "Python 3",
   "language": "python",
   "name": "python3"
  },
  "language_info": {
   "codemirror_mode": {
    "name": "ipython",
    "version": 3
   },
   "file_extension": ".py",
   "mimetype": "text/x-python",
   "name": "python",
   "nbconvert_exporter": "python",
   "pygments_lexer": "ipython3",
   "version": "3.8.8"
  },
  "toc": {
   "base_numbering": 1,
   "nav_menu": {},
   "number_sections": true,
   "sideBar": true,
   "skip_h1_title": false,
   "title_cell": "Table of Contents",
   "title_sidebar": "Contents",
   "toc_cell": false,
   "toc_position": {},
   "toc_section_display": true,
   "toc_window_display": false
  },
  "varInspector": {
   "cols": {
    "lenName": 16,
    "lenType": 16,
    "lenVar": 40
   },
   "kernels_config": {
    "python": {
     "delete_cmd_postfix": "",
     "delete_cmd_prefix": "del ",
     "library": "var_list.py",
     "varRefreshCmd": "print(var_dic_list())"
    },
    "r": {
     "delete_cmd_postfix": ") ",
     "delete_cmd_prefix": "rm(",
     "library": "var_list.r",
     "varRefreshCmd": "cat(var_dic_list()) "
    }
   },
   "types_to_exclude": [
    "module",
    "function",
    "builtin_function_or_method",
    "instance",
    "_Feature"
   ],
   "window_display": false
  }
 },
 "nbformat": 4,
 "nbformat_minor": 5
}
