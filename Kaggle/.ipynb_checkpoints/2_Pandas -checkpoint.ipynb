{
 "cells": [
  {
   "cell_type": "markdown",
   "id": "c7a08d51",
   "metadata": {},
   "source": [
    "# Creating, Reading, and Writing \n",
    "\n",
    "1. Getting Started "
   ]
  },
  {
   "cell_type": "code",
   "execution_count": 1,
   "id": "5ed6ae72",
   "metadata": {},
   "outputs": [],
   "source": [
    "import pandas as pd"
   ]
  },
  {
   "cell_type": "markdown",
   "id": "ebadc8a3",
   "metadata": {},
   "source": [
    "2. Creating data : There are two core objects in pandas : the DataFrame and the Series. \n",
    "    \n",
    "    1) DataFrame :   \n",
    "A DataFrame is a table. It contains an array of individual entries, each of which has a certain value. Each entry correspond to a row and a column. DataFrame entries are not limited to integers.  \n",
    "We are using the pd.DataFrame() constructor to generate these DataFrame objects. The syntax for declaring a new one is a dictionary whose keys are the column names, and whose values are a list of entries. \n",
    "This is the standard way of constructing a new DataFrame, and the one you are most likely to encounter. The list of row labels used in a DataFrame is known as an index. We can assign values to it by using an index parameter in our constructor :  \n",
    "  \n",
    "    2) Series :   \n",
    "A Seris, by contrast, is a sequence of data values. If a DataFrame is a table, a Series is a list. And in fact you can Create one with nothing more than a list :   \n",
    "A Series is, in essence, a single column of a DataFrame. So you can assign column values to the Series the same way as before, using an index parameter. However, a Series does not have a column name, it only has one overall name : \n",
    "  "
   ]
  },
  {
   "cell_type": "code",
   "execution_count": 4,
   "id": "73caebb9",
   "metadata": {},
   "outputs": [
    {
     "data": {
      "text/plain": [
       "2015 Sales    30\n",
       "2016 Sales    35\n",
       "2017 Sales    40\n",
       "Name: Product A, dtype: int64"
      ]
     },
     "execution_count": 4,
     "metadata": {},
     "output_type": "execute_result"
    }
   ],
   "source": [
    "pd.DataFrame({'BoB' : ['I liked it', 'It was awful.'], 'Sue' : ['Pretty good.', 'Bland.']})\n",
    "\n",
    "pd.Series([30, 35, 40], index = ['2015 Sales', '2016 Sales', '2017 Sales'], name = 'Product A')"
   ]
  },
  {
   "cell_type": "markdown",
   "id": "4bb1b95a",
   "metadata": {},
   "source": [
    "3. Reading data files :  \n",
    "Being able to create a DataFrame or Series by hand is handy. But, most of the time, We won't actually be creating our own data by hand. We'll use the pd.read_csv() function to read the data into a DataFrame.   \n",
    "    - df.shape : we can use the shape attribute to check how large the resulting DataFrame is\n",
    "    - df.head() : We can examine the contents of the resultant DataFrame which grabs the first five rows "
   ]
  }
 ],
 "metadata": {
  "kernelspec": {
   "display_name": "Python 3",
   "language": "python",
   "name": "python3"
  },
  "language_info": {
   "codemirror_mode": {
    "name": "ipython",
    "version": 3
   },
   "file_extension": ".py",
   "mimetype": "text/x-python",
   "name": "python",
   "nbconvert_exporter": "python",
   "pygments_lexer": "ipython3",
   "version": "3.8.8"
  },
  "toc": {
   "base_numbering": 1,
   "nav_menu": {},
   "number_sections": true,
   "sideBar": true,
   "skip_h1_title": false,
   "title_cell": "Table of Contents",
   "title_sidebar": "Contents",
   "toc_cell": false,
   "toc_position": {},
   "toc_section_display": true,
   "toc_window_display": false
  },
  "varInspector": {
   "cols": {
    "lenName": 16,
    "lenType": 16,
    "lenVar": 40
   },
   "kernels_config": {
    "python": {
     "delete_cmd_postfix": "",
     "delete_cmd_prefix": "del ",
     "library": "var_list.py",
     "varRefreshCmd": "print(var_dic_list())"
    },
    "r": {
     "delete_cmd_postfix": ") ",
     "delete_cmd_prefix": "rm(",
     "library": "var_list.r",
     "varRefreshCmd": "cat(var_dic_list()) "
    }
   },
   "types_to_exclude": [
    "module",
    "function",
    "builtin_function_or_method",
    "instance",
    "_Feature"
   ],
   "window_display": false
  }
 },
 "nbformat": 4,
 "nbformat_minor": 5
}
