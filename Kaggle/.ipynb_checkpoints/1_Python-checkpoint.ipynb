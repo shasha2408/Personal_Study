{
 "cells": [
  {
   "cell_type": "markdown",
   "id": "681fac1f",
   "metadata": {},
   "source": [
    "# Hello, Python\n",
    "\n",
    "1. Variable assignment : Here we create a variable called spam_amount and assign it the value of 0 using =, which is called the assignment operator. \n",
    "\n",
    "\n",
    "2. Function calls : print is a Python function that displays the value passed to it on the screen. We call functions by putting parentheses after their name, and putting the input to the function in those parentheses. \n",
    "\n",
    "\n",
    "3. Comment : In python, comments begin with # symbol. \n",
    "\n",
    "\n",
    "4. Reassignment : Reassigning the value of an existing variable looks just the same as creating variable - it still uses the = assignment operator. "
   ]
  },
  {
   "cell_type": "markdown",
   "id": "886c8c55",
   "metadata": {},
   "source": [
    "# Functions and Getting help\n",
    "\n",
    "1. Getting help : You saw the as function in the previous tutorial, but what if you've forgotten what it does? The help() function is possibly the most importatn Python function you can learn. If you can remember how to use help(), you hold the key to understanding other functions. help() display two things :  \n",
    "\n",
    "    - the header of that function round(number, ndigits = None). In this case, this tells us that round() takes an argument we can describe as number. Additionally, we can optionally give a separate argument which could be described as ndigits. \n",
    "    \n",
    "    - A brief English description of what the function does. \n",
    "    \n",
    "2. Defining functions   \n",
    "\n",
    "    - Builtin functions are great, but we can only get so far with them before we need to start defining our own functions. Functions start with a header introduced by the def keyword. THe indented block of code following the : is run when the function is called. return is another keyword uniquely associated with functions. When Python encounters a return statement, it exits the function immediately, and passes the value on the right hand side to the calling context.\n",
    "\n",
    "    - When we use help() function to personal function it can't tell us something. Python isn't smart enough to read my code and turn it into a nice English description. However, when i write a function, I can provide a description in what's called the docstring.\n",
    "\n",
    "\n"
   ]
  },
  {
   "cell_type": "raw",
   "id": "711413be",
   "metadata": {},
   "source": [
    "# Docstrings\n",
    "\n",
    "def least_difference(a, b, c):\n",
    "    \"\"\"Return the smallest difference between any two numbers\n",
    "    among a, b and c.\n",
    "    \n",
    "    >>> least_difference(1, 5, -5)\n",
    "    4\n",
    "    \"\"\"\n",
    "    diff1 = abs(a - b)\n",
    "    diff2 = abs(b - c)\n",
    "    diff3 = abs(a - c)\n",
    "    return min(diff1, diff2, diff3)\n",
    "\n",
    "Functions Applied to functions \n",
    "\n",
    "def least_difference(a, b, c):\n",
    "    \"\"\"Return the smallest difference between any two numbers\n",
    "    among a, b and c.\n",
    "    \n",
    "    >>> least_difference(1, 5, -5)\n",
    "    4\n",
    "    \"\"\"\n",
    "    diff1 = abs(a - b)\n",
    "    diff2 = abs(b - c)\n",
    "    diff3 = abs(a - c)\n",
    "    return min(diff1, diff2, diff3)\n",
    "\n"
   ]
  },
  {
   "cell_type": "markdown",
   "id": "c2466e8e",
   "metadata": {},
   "source": [
    "# Booleans and Conditionals \n",
    "\n",
    "1. Booleans : Python has a type of variable called bool. It has two possible values : True and False. Rather than putting True or False directly in our code, we usually get boolean values from boolean operators. These are operators that answer yes/no questions. \n",
    "\n",
    "\n",
    "2. Comparision Operations\n",
    "    1) a == b  : a equal to b\n",
    "    2) a < b : a less than b\n",
    "    3) a <= b : a less than or equal to b\n",
    "    4) a != b : a not equal to b\n",
    "    5) a > b : a greater than b\n",
    "    6) a >= b : a greater than or equal to b\n",
    "    \n",
    "    \n",
    "3. Cobining Boolean Values : You can combine values using the standard concepts of \"and\", \"or\", 'Not. In fact, the words to do this are : and, or, and not. \n",
    "\n",
    "\n",
    "4. Conditionals : Booleans are most useful when combined with conditional statements, using the keywords if, elif, and else. Conditional statements, oftten referred to as if-then statements, let you control what pieces of code are run based on the value of some Boolean condition. The if and else keywords are often used in other languages; its more unique keyword is elif, a contraction of \"else if\". In these conditional clauses, elif and else blocks are optional; additionally, you can include as many elif statements as you would like. \n",
    "\n",
    "\n",
    "5. Boolean conversion : We've seen int(), which turns things into ints, and float(), which turns things into  float, so you might not be surprised to hear tha Python has a bool() function which turns things into bools. \n",
    "    \n",
    "    "
   ]
  },
  {
   "cell_type": "markdown",
   "id": "efad285b",
   "metadata": {},
   "source": [
    "# List \n",
    "\n",
    "1. Lists : lists in python represent ordered sequences of valeus. A list can contain a mix of different types of variables\n",
    "\n",
    "\n",
    "2. Indexing : We can access individual list element with square brackets : planets[0], elements at the end of the list can be accessed with negative numbers, starting from -1. \n",
    "\n",
    "\n",
    "3. Update lists : List are \"mutable\", meaing they can be modified \"in place\". One way to modify a list is to assign to an index or slice expressions. \n",
    "\n",
    "\n",
    "4. List functions : Python has several useful functions for woring with lists.\n",
    "    - len : gives the length of a list \n",
    "    - sorted : returns a sorted version of a list \n",
    "    - sum : does what you might expect\n",
    "    \n",
    "\n",
    "5. List methods : \n",
    "    - list.append : modifies a list by adding an item to the end \n",
    "    - list.pop : removes and returns the last element of a list \n",
    "    - list.index : serarching by indexing \n",
    "    \n",
    "    \n",
    "6. Tuples : Tuples are almost exactly the same as list but cannot be modified "
   ]
  },
  {
   "cell_type": "markdown",
   "id": "b17d3d2c",
   "metadata": {},
   "source": [
    "# Loops and List Comprehensions\n",
    "\n",
    "1. Loops : Loops are a way to repeatedly execute some code. The for loop specifices the variable name to use, the set of value to loop over. You use the word \"in\" to link them together. \n",
    "\n",
    "\n",
    "2. range() : range is  a function that returns a sequence of numbers. It turns out to be very useful for writing loops. \n",
    "\n",
    "\n",
    "3. while loops : The other type of loop in Python is a while loop, which iterates until some condition is met. The argument of the while loop is evaluated as a boolean statement, and the loop is executed until the statement evaluates to False. \n",
    "\n",
    "\n",
    "4. List comprehensions : List comprehensions are one of Python's most beloved and unique features. The easiest way to understand them is probably to just look at a few examples :   \n",
    "ex) [i for i in list if i != 3] or [num < 0 for num in nums]"
   ]
  }
 ],
 "metadata": {
  "kernelspec": {
   "display_name": "Python 3",
   "language": "python",
   "name": "python3"
  },
  "language_info": {
   "codemirror_mode": {
    "name": "ipython",
    "version": 3
   },
   "file_extension": ".py",
   "mimetype": "text/x-python",
   "name": "python",
   "nbconvert_exporter": "python",
   "pygments_lexer": "ipython3",
   "version": "3.8.8"
  },
  "toc": {
   "base_numbering": 1,
   "nav_menu": {},
   "number_sections": true,
   "sideBar": true,
   "skip_h1_title": false,
   "title_cell": "Table of Contents",
   "title_sidebar": "Contents",
   "toc_cell": false,
   "toc_position": {
    "height": "calc(100% - 180px)",
    "left": "10px",
    "top": "150px",
    "width": "428.8px"
   },
   "toc_section_display": true,
   "toc_window_display": true
  },
  "varInspector": {
   "cols": {
    "lenName": 16,
    "lenType": 16,
    "lenVar": 40
   },
   "kernels_config": {
    "python": {
     "delete_cmd_postfix": "",
     "delete_cmd_prefix": "del ",
     "library": "var_list.py",
     "varRefreshCmd": "print(var_dic_list())"
    },
    "r": {
     "delete_cmd_postfix": ") ",
     "delete_cmd_prefix": "rm(",
     "library": "var_list.r",
     "varRefreshCmd": "cat(var_dic_list()) "
    }
   },
   "types_to_exclude": [
    "module",
    "function",
    "builtin_function_or_method",
    "instance",
    "_Feature"
   ],
   "window_display": false
  }
 },
 "nbformat": 4,
 "nbformat_minor": 5
}
