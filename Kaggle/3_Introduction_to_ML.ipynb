{
 "cells": [
  {
   "cell_type": "markdown",
   "id": "0d14999c",
   "metadata": {},
   "source": [
    "# How Models Work\n",
    "We use data to decide how to break the houses into two groups, and then again to determine the predicted price in each group. This step of capturing patterns from data is called fitting or training the model. The data used to fit the model is called the training data. "
   ]
  },
  {
   "cell_type": "markdown",
   "id": "83e73cfd",
   "metadata": {},
   "source": [
    "# Basic Data Exploration\n",
    "\n",
    "1. Using Pandas to Get Familiar With Your Data :   \n",
    "The first step in any machine learning projects is familiarize yourself with the data. You'll use the Pandas library for this. Pandas is the primary tools data scientists use for exploring and manipulating data. Most people abbreviate pandas in their code as pd. The most important part of the Pandas library is the DataFrame. A DataFrame holds the typ4e of data you might think of as a table. This is similar to a sheet in Excel, or a table in a SQL database.   \n",
    "Pandas has powerful methods for most things you'll want to do with this type of data. \n",
    "\n",
    "\n",
    "2. Interpreting Data Description :  \n",
    "The results show 8 numbers for each colum in your original dataset. The first number, the count, shows how many rows have non-missing values.  \n",
    "Missing values arise for many reasons. For example, the size of the 2nd bedroom wouldn't be collected when surveying a 1 bedroom house. We'll come back to the topic of missing data.  \n",
    "The second value is the mean, which is the average. Under that, std is the standard deviation, which measures how numerically spread out the values are. To interpret the min, 25%, 50%, 75% and max values, imagine sorting each column from lowest to highest value. The first value is the min. If you go to quarter way through the list, you'll find a number that is bigger than 25% of the values and smaller than 75% of the values. Thsat is the 25% value. The 50th and 75th percentiles are defined analogously, and the max is the largest number."
   ]
  },
  {
   "cell_type": "markdown",
   "id": "ea87254b",
   "metadata": {},
   "source": [
    "# Your First Machine Learning Model \n",
    "\n",
    "1. Selecting Data for Modeling :   \n",
    "Your dataset had too many variables to wrap your head around, or even to pring out nicely. How can we pare  down this overwhelming amount of data to something we can understand?  \n",
    "We'll start by picking a few variables using our intuition. Later course will show us statistical techniques to automatically prioritize variables. To choose variables/columns, we'll need to see a list of all columns in the dataset. That is done with the column property of the DataFrame.  \n",
    "There are many ways to select a subset of our data. The pandas course covers these in more depth.   \n",
    "\n",
    "\n",
    "2. Selecting The Predicting Target :  \n",
    "We can pull out a vraible with dot-notation. This single column is stored in a Series, which is broadly like a DataFrame with only a single column of data. \n",
    "\n",
    "\n",
    "3. Choosing 'Features' :   \n",
    "The columns that are inputted into our model are called 'features'. Sometimes, we will use all columns except the target as features. Other times we'll be better off with fewer features. We select multiple features by providing a list of column names inside brackets. Each item in that list should be a string. By convention, this data is called X. \n",
    "\n",
    "\n",
    "4. Building Your Model :   \n",
    "We will use the scikit-learn library to create our modles. When coding, this library is written as sklearn, as we will see in the sample code. Scikit-learn is easily the most popular library for modeling the types of data typically stored in DataFrames. The steps to building and using a model are : \n",
    "    - Define : what type of model will it be? A decision tree? Some other type of model? Some other parameters of the model type are specified too. \n",
    "    - Fit : Capture patterns from provided data. This is the heart of modeling. \n",
    "    - Predict : Just what it sounds like \n",
    "    - Evaluate : Determine how accurate the model's predictions are. \n",
    "\n",
    "Many machine learning models allow some randomness in model training. Specifying a number for random_state ensures you get the same results in each run. This is considered a good practice. You use any number, and model quality won't depend meaningfully on exactly what value you choose. "
   ]
  },
  {
   "cell_type": "raw",
   "id": "9bfe0b8f",
   "metadata": {},
   "source": [
    "# Loading dataset\n",
    "\n",
    "import pandas as pd\n",
    "\n",
    "melbourne_file_path = '../input/melbourne-housing-snapshot/melb_data.csv'\n",
    "melbourne_data = pd.read_csv(melbourne_file_path) \n",
    "melbourne_data.columns\n",
    "\n",
    "# Data preprocessing \n",
    "\n",
    "melbourne_data = melbourne_data.dropna(axis=0)\n",
    "\n",
    "# Feature Engineering\n",
    "\n",
    "y = melbourne_data.Price\n",
    "melbourne_features = ['Rooms', 'Bathroom', 'Landsize', 'Lattitude', 'Longtitude']\n",
    "X = melbourne_data[melbourne_features]\n",
    "\n",
    "# Modeling \n",
    "\n",
    "from sklearn.tree import DecisionTreeRegressor\n",
    "\n",
    "## Define model. Specify a number for random_state to ensure same results each run\n",
    "melbourne_model = DecisionTreeRegressor(random_state=1)\n",
    "\n",
    "## Fit model\n",
    "melbourne_model.fit(X, y)"
   ]
  },
  {
   "cell_type": "markdown",
   "id": "12743970",
   "metadata": {},
   "source": [
    "# Model validation\n",
    "1. What is Model Validation :  \n",
    "\n",
    "you'll want to evaluate almost every model you ever build. In most applications, the relevant measure of model quality is predictive accuracy. In other words, will the model's predictions be close to what actually happens.  \n",
    "\n",
    "Many people make a huge mistake when meauring predictive accuracy. They make predictions with their training data and compare those predictions to the traget values in the training data. you'll see the problem with this approach and how to solve it in a moment, but let's think about how we'd to this first.   \n",
    "There are many metrics for summarizing model quality, but we'll start with one called Mean Absolute Error(MAE). With the MAE metric, we take the asolute value of each error. THis converts each error to a positive number. We then take the average of those absolute errors. This is our measure of model quality. "
   ]
  },
  {
   "cell_type": "raw",
   "id": "be835123",
   "metadata": {},
   "source": [
    "# apply MAE\n",
    "\n",
    "from sklearn.metric import mean_absolute error \n",
    "\n",
    "predicted_home_price = melbourne_model.predict(X)\n",
    "mean_absolute_error(y, predicted_home_price)"
   ]
  },
  {
   "cell_type": "markdown",
   "id": "ec5a1f4f",
   "metadata": {},
   "source": [
    "2. The problem with \"in-sample\" Score :  \n",
    "\n",
    "The measure we just computed can be called an \"in-sample\" score. We used a single \"sample\" of houses for both building the model and evaluating it. Here's why this is bad. Imagine that, in the large real estate market, door color is unrelated to home price.  \n",
    "\n",
    "However, in the sample of data you used to build the model, all homes with green doors were very expensive. The model's hob is to find patterns that predict home prices, so it will see this pattern, and it will always predict highprices for homes with green doors. Since this pattern was derived from the training dataa, the model will appear accurate in the training data. But if this pattern doesn't hold when the model sees new data, the model would be very inaccurate when used in practice.   \n",
    "\n",
    "Since models' practical value come from making predictions on new data, we measure performance on data that wasn't used to build the model. The most straightforward way to do this is to exclude some data from the model-building process, and then use those to test the model's accuracy on data it hasn't seen before. This data is called Validation data. \n",
    "\n",
    "3. Coding it :  \n",
    "\n",
    "The scikit-learn library has a function train_test_split to break up the data into two pieces. We'll use some of that data as training data to fit the model, and we'll use the other data as validation data to calculate. "
   ]
  },
  {
   "cell_type": "raw",
   "id": "9b7f7c95",
   "metadata": {},
   "source": [
    "from sklearn.model_selection import train_test_split\n",
    "\n",
    "train_X, val_X, train_y, val_y = train_test_split(X, y, random_state = 0)\n",
    "\n",
    "melbourne_modle = DecisionTreeRegressor()\n",
    "melbourne_model.fit(train_X, train_y)\n",
    "\n",
    "val_predicitons = melbourne_model.predict(val_X)\n",
    "mean_absolute_error(val_y, val_predictions) "
   ]
  },
  {
   "cell_type": "markdown",
   "id": "3b01ea8a",
   "metadata": {},
   "source": [
    "# Underfitting and Overfitting\n",
    "1. Experimenting With Different Models :  \n",
    "\n",
    "Now that you have a reliable way to measure model accuracy, you can experiment with alternative model and see which gives teh best predictions. But what alternative do you have for models?   \n",
    "\n",
    "You can see in scikit-learn's documentation that the decision tree model has many options. The most important options deterimine the tree's depth. In practice, it's not uncommon for a tree to have 10 splits between the top level and a leaf. As the tree gets deeper, the dataset gets sliced up into leaves with feter houses. If a tree only had 1 split. It divides the data into 2 groups. If each group is split again, we would get 4 groups of houses. Splitting each of those again would create 8 groups.  \n",
    "\n",
    "When we divide the houses amongst many levaes, we also have fewer houses in each leaf. Leaves with very few houses will make predictions that are quite close tho those homes' actual value, but they make very unreliable predictions for new data.   \n",
    "\n",
    "This is a phonomenon called overfitting, where a model matches the training data almost perfectly, but does poorly in validation and other new data. On the flip side, if we make our tree very shallow, it doen't divide up the houses into very distinct groups.  \n",
    "\n",
    "At an extreme, if a tree divdes houses into only 2 or 4, each group still has a wide variety of hoses. Resulting predictions may be far off most houses, even inthe training data. When a model fails to capture important disticntions and patterns in the data, so it performs pooly even in training data, that is called underfitting.  \n"
   ]
  },
  {
   "cell_type": "markdown",
   "id": "0ca14ef3",
   "metadata": {},
   "source": [
    "# Random Forests\n",
    "Decision trees leave ou with a difficult decision. A deep tree with lots of leaves will overfit because each prediction is coming from historical data from only the few houses at ist leaf. But a shallow tree with fe leaves will perform pooly because it fails to capture as many distinction in te raw data.  \n",
    "\n",
    "Even today's most sophisticated modeling techniques face this tension between underfitting and overfitting. But, many models have clever ideas that can lead to better performance.  \n",
    "\n",
    "The randomforest uses many trees, and it makes a prediction by averaging  the predictions of each component tree. It generally has much better predictive accuracy than a single decision tree and it works well with default parameters. If you keep modeling, you can learn more models with even better performance, but many of those are sensitive to getting the right parameters. "
   ]
  },
  {
   "cell_type": "code",
   "execution_count": null,
   "id": "75a825db",
   "metadata": {},
   "outputs": [],
   "source": []
  }
 ],
 "metadata": {
  "kernelspec": {
   "display_name": "Python 3",
   "language": "python",
   "name": "python3"
  },
  "language_info": {
   "codemirror_mode": {
    "name": "ipython",
    "version": 3
   },
   "file_extension": ".py",
   "mimetype": "text/x-python",
   "name": "python",
   "nbconvert_exporter": "python",
   "pygments_lexer": "ipython3",
   "version": "3.8.8"
  },
  "toc": {
   "base_numbering": 1,
   "nav_menu": {},
   "number_sections": true,
   "sideBar": true,
   "skip_h1_title": false,
   "title_cell": "Table of Contents",
   "title_sidebar": "Contents",
   "toc_cell": false,
   "toc_position": {},
   "toc_section_display": true,
   "toc_window_display": true
  },
  "varInspector": {
   "cols": {
    "lenName": 16,
    "lenType": 16,
    "lenVar": 40
   },
   "kernels_config": {
    "python": {
     "delete_cmd_postfix": "",
     "delete_cmd_prefix": "del ",
     "library": "var_list.py",
     "varRefreshCmd": "print(var_dic_list())"
    },
    "r": {
     "delete_cmd_postfix": ") ",
     "delete_cmd_prefix": "rm(",
     "library": "var_list.r",
     "varRefreshCmd": "cat(var_dic_list()) "
    }
   },
   "types_to_exclude": [
    "module",
    "function",
    "builtin_function_or_method",
    "instance",
    "_Feature"
   ],
   "window_display": false
  }
 },
 "nbformat": 4,
 "nbformat_minor": 5
}
