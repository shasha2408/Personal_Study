{
 "cells": [
  {
   "cell_type": "markdown",
   "id": "c7feb51b",
   "metadata": {},
   "source": [
    "# 분석 모형 평가 및 개선"
   ]
  },
  {
   "cell_type": "markdown",
   "id": "fb30842c",
   "metadata": {},
   "source": [
    "## 분석 모형 평가"
   ]
  },
  {
   "cell_type": "markdown",
   "id": "492546de",
   "metadata": {},
   "source": [
    "### 평가지표 \n",
    "\n",
    "1) 분석 모형 설정 \n",
    "- 편향(Bias) : 학습 알고리즘에서 잘못된 가정을 했을 때 발생하는 오차\n",
    "- 분산(Variance) : 훈련 데이터에 내재된 작은 변동으로 발생하는 오차 \n",
    "- 낮은 평향과 낮은 분산으로 설정되어야 한다 \n",
    "\n",
    "2) 분석 모형 평가방법\n",
    "- 범주형 : 혼동 행렬(Confusion Matrix)\n",
    "- 연속형 : RMSE(Root Mean Squared Error) \n",
    "\n",
    "3) 회귀 모형 평가 지표\n",
    "- 오차 제곱합(SSE) : $SSE = \\sum_{i=1}^{n}(y_i - \\hat y_i)^2$\n",
    "- 전체 제곱합(SST) : $SST = \\sum_{i=1}^{n}(y_i - \\bar y_i)^2$\n",
    "- 회귀 제곱합(SSR) : $SSR = \\sum_{i=1}^{n}(\\hat y_i - \\bar y_i)^2$\n",
    "- 평균 오차(AE) : $AE = \\frac{1}{n} \\sum_{i=1}^{n}(y_i - \\hat y_i)^2$\n",
    "- 평균 절대 오차(MAE) : $MAE = \\frac{1}{n} \\sum_{i=1}^{n}|y_i - \\hat y_i|^2$\n",
    "- 평균 제곱근 오차(RMSE) : $ RMSE = \\sqrt{\\frac{1}{n} \\sum_{i=1}^{n}(y_i - \\hat y_i)^2}$\n",
    "- 평균 절대 백분율 오차(MAPE) : $MAPE = \\frac{100}{n} \\sum_{i=1}^{n}|\\frac{y_i - \\hat y_i}{y_i}|$\n",
    "- 평균 백분율 오차(MPE) : $MPE = \\frac{100}{n} \\sum_{i=1}^{n}(\\frac{y_i - \\hat y_i}{y_i})$\n",
    "- 결정계수\n",
    "    - Coefficient of Determination($R^2$)\n",
    "    - 회귀 모형이 실제값을 얼마나 잘 나타내는지에 대한 비율 \n",
    "    - 1에 가까울 수록 잘 설명\n",
    "    - $R^2 = \\frac{SSR}{SST}$\n",
    "- 수정된 결정계수\n",
    "    - 적절하지 않는 독립변수를 추가하는 것에 패널티를 부가함\n",
    "    - $R_a ^ 2 = 1-(\\frac{n-1}{n-p-1})\\frac{SSE}{SST}$\n",
    "- Mallow's $C_p$\n",
    "    - 수정된 결정계수와 마찬가지로 적절하지 않는 독립변수에 패넡티를 부여 \n",
    "    - 값이 작을수록 설명력이 좋음 \n",
    "    \n",
    "4) 분석 모형 평가지표\n",
    "- 혼동 행렬(Confusion Matrix) \n",
    "    - 모델에서 구한 분류와 실제 분류를 교차표 형태로 정리한 행렬 \n",
    "    - 예측 클래스\n",
    "        - 예측이 정확한 경우 : TP, TN\n",
    "        - 예측이 부정확한 경우 : FP, FN \n",
    "    - 평가지표 \n",
    "        - 정확도(Accuracy) : $\\frac{TP + TN}{TP + TN + FP + FN}$\n",
    "        - 오차비율(Error rate) : $\\frac{FP + FN}{TP + TN + FP + FN}$\n",
    "        - 재현율(Recall) : $\\frac{TP}{TP + FN}$\n",
    "        - 특이도(Specify) : $\\frac{TN}{TN + FP}$\n",
    "        - 거짓 긍정률 : $\\frac{FP}{TN + FP}$\n",
    "        - 정밀도(Precision) : $\\frac{TP}{TP + FP}$\n",
    "        - F-Measure : $2 \\times \\frac{Precision \\times Recall}{Precision + Recall}$\n",
    "        - 카파 통계량(Kappa Statistics) : 두 관찰자가 측정한 범주 값에 대한 일치도를 측정하는 방법\n",
    "- ROC 곡선\n",
    "    - 가로축을 FP rate, 세로축을 TP rate로 두어 시각화한 그래프 \n",
    "    - 왼쪽 꼭대기에 가깝게 그려질수록 분류 성능이 우수 \n",
    "    - AUC(Area Under the ROC curve) : ROC곡선 아래의 면적을 모형의 평가지표로 설정\n",
    "    - AUC가 1에 가까울수록 좋음\n",
    "    \n",
    "- 이익 도표(Gain Chart) \n",
    "    "
   ]
  },
  {
   "cell_type": "markdown",
   "id": "7441b845",
   "metadata": {},
   "source": [
    "### 분석 모형 진단 "
   ]
  },
  {
   "cell_type": "markdown",
   "id": "6f9bfc98",
   "metadata": {},
   "source": [
    "### 교차 검증\n"
   ]
  },
  {
   "cell_type": "markdown",
   "id": "c3f05f09",
   "metadata": {},
   "source": [
    "### 모수 유의성 검정 "
   ]
  },
  {
   "cell_type": "markdown",
   "id": "c086c7a1",
   "metadata": {},
   "source": [
    "### 적합도 검정 "
   ]
  },
  {
   "cell_type": "markdown",
   "id": "3e07c610",
   "metadata": {},
   "source": [
    "## 분석 모형 개선 "
   ]
  },
  {
   "cell_type": "markdown",
   "id": "5a6dfe18",
   "metadata": {},
   "source": [
    "### 과대 적합 방지"
   ]
  },
  {
   "cell_type": "markdown",
   "id": "13eb58cd",
   "metadata": {},
   "source": [
    "### 매개변수 최적화 "
   ]
  },
  {
   "cell_type": "markdown",
   "id": "d64fa37f",
   "metadata": {},
   "source": [
    "### 분석 모형 융합 "
   ]
  },
  {
   "cell_type": "markdown",
   "id": "5ce680b1",
   "metadata": {},
   "source": [
    "### 최종 모형 선정 "
   ]
  },
  {
   "cell_type": "markdown",
   "id": "0f23b60c",
   "metadata": {},
   "source": [
    "# 분석 결과 해석 및 활용"
   ]
  },
  {
   "cell_type": "markdown",
   "id": "3b3d024a",
   "metadata": {},
   "source": [
    "## 분석 결과 해석"
   ]
  },
  {
   "cell_type": "markdown",
   "id": "42fc15bd",
   "metadata": {},
   "source": [
    "### 분석 모형 해석 "
   ]
  },
  {
   "cell_type": "markdown",
   "id": "0248f46b",
   "metadata": {},
   "source": [
    "### 비즈니스 기여도 평가 "
   ]
  },
  {
   "cell_type": "markdown",
   "id": "f1e2c5ef",
   "metadata": {},
   "source": [
    "## 분석 결과 시각화"
   ]
  },
  {
   "cell_type": "markdown",
   "id": "d71dc7cf",
   "metadata": {},
   "source": [
    "### 시공간 시각화 "
   ]
  },
  {
   "cell_type": "markdown",
   "id": "adb8387f",
   "metadata": {},
   "source": [
    "### 분포 시각화 "
   ]
  },
  {
   "cell_type": "markdown",
   "id": "002ba149",
   "metadata": {},
   "source": [
    "### 관계 시각화 "
   ]
  },
  {
   "cell_type": "markdown",
   "id": "ec1273cc",
   "metadata": {},
   "source": [
    "### 비교 시각화 "
   ]
  },
  {
   "cell_type": "markdown",
   "id": "d89ae547",
   "metadata": {},
   "source": [
    "### 인포그래픽"
   ]
  },
  {
   "cell_type": "markdown",
   "id": "2537d239",
   "metadata": {},
   "source": [
    "## 분석 결과 활용"
   ]
  },
  {
   "cell_type": "markdown",
   "id": "f3be725a",
   "metadata": {},
   "source": [
    "### 분석 모형 전개"
   ]
  },
  {
   "cell_type": "markdown",
   "id": "5118f219",
   "metadata": {},
   "source": [
    "### 분석 결과 활용 시나리오 개발 "
   ]
  },
  {
   "cell_type": "markdown",
   "id": "886f352c",
   "metadata": {},
   "source": [
    "### 분석 모형 모니터링 "
   ]
  },
  {
   "cell_type": "markdown",
   "id": "3c5fd65e",
   "metadata": {},
   "source": [
    "### 분석 모형 리모델링"
   ]
  }
 ],
 "metadata": {
  "kernelspec": {
   "display_name": "Python 3",
   "language": "python",
   "name": "python3"
  },
  "language_info": {
   "codemirror_mode": {
    "name": "ipython",
    "version": 3
   },
   "file_extension": ".py",
   "mimetype": "text/x-python",
   "name": "python",
   "nbconvert_exporter": "python",
   "pygments_lexer": "ipython3",
   "version": "3.8.8"
  },
  "toc": {
   "base_numbering": 1,
   "nav_menu": {},
   "number_sections": true,
   "sideBar": true,
   "skip_h1_title": false,
   "title_cell": "Table of Contents",
   "title_sidebar": "Contents",
   "toc_cell": false,
   "toc_position": {},
   "toc_section_display": true,
   "toc_window_display": true
  },
  "varInspector": {
   "cols": {
    "lenName": 16,
    "lenType": 16,
    "lenVar": 40
   },
   "kernels_config": {
    "python": {
     "delete_cmd_postfix": "",
     "delete_cmd_prefix": "del ",
     "library": "var_list.py",
     "varRefreshCmd": "print(var_dic_list())"
    },
    "r": {
     "delete_cmd_postfix": ") ",
     "delete_cmd_prefix": "rm(",
     "library": "var_list.r",
     "varRefreshCmd": "cat(var_dic_list()) "
    }
   },
   "types_to_exclude": [
    "module",
    "function",
    "builtin_function_or_method",
    "instance",
    "_Feature"
   ],
   "window_display": false
  }
 },
 "nbformat": 4,
 "nbformat_minor": 5
}
