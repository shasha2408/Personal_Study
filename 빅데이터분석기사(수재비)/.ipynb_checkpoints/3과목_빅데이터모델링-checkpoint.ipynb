{
 "cells": [
  {
   "cell_type": "markdown",
   "id": "6d00c138",
   "metadata": {},
   "source": [
    "# 분석 모형 설계"
   ]
  },
  {
   "cell_type": "markdown",
   "id": "c19b214a",
   "metadata": {},
   "source": [
    "## 분석 절차 수립 "
   ]
  },
  {
   "cell_type": "markdown",
   "id": "01abeb00",
   "metadata": {},
   "source": [
    "### 분석 모형 선정 "
   ]
  },
  {
   "cell_type": "markdown",
   "id": "1e59d418",
   "metadata": {},
   "source": [
    "### 분석 모형 정의  "
   ]
  },
  {
   "cell_type": "markdown",
   "id": "662f655b",
   "metadata": {},
   "source": [
    "### 분석 모형 구축 절차 "
   ]
  },
  {
   "cell_type": "markdown",
   "id": "2fbbbd6c",
   "metadata": {},
   "source": [
    "## 분석 환경 구축"
   ]
  },
  {
   "cell_type": "markdown",
   "id": "59ca0854",
   "metadata": {},
   "source": [
    "# 분석 기법 적용"
   ]
  },
  {
   "cell_type": "markdown",
   "id": "bf568254",
   "metadata": {},
   "source": [
    "## 분석 기법 "
   ]
  },
  {
   "cell_type": "markdown",
   "id": "58f6d9e3",
   "metadata": {},
   "source": [
    "## 고급 분석 기법 "
   ]
  },
  {
   "cell_type": "code",
   "execution_count": null,
   "id": "0d5a2953",
   "metadata": {},
   "outputs": [],
   "source": []
  }
 ],
 "metadata": {
  "kernelspec": {
   "display_name": "Python 3",
   "language": "python",
   "name": "python3"
  },
  "language_info": {
   "codemirror_mode": {
    "name": "ipython",
    "version": 3
   },
   "file_extension": ".py",
   "mimetype": "text/x-python",
   "name": "python",
   "nbconvert_exporter": "python",
   "pygments_lexer": "ipython3",
   "version": "3.8.8"
  },
  "toc": {
   "base_numbering": 1,
   "nav_menu": {},
   "number_sections": true,
   "sideBar": true,
   "skip_h1_title": false,
   "title_cell": "Table of Contents",
   "title_sidebar": "Contents",
   "toc_cell": false,
   "toc_position": {},
   "toc_section_display": true,
   "toc_window_display": false
  },
  "varInspector": {
   "cols": {
    "lenName": 16,
    "lenType": 16,
    "lenVar": 40
   },
   "kernels_config": {
    "python": {
     "delete_cmd_postfix": "",
     "delete_cmd_prefix": "del ",
     "library": "var_list.py",
     "varRefreshCmd": "print(var_dic_list())"
    },
    "r": {
     "delete_cmd_postfix": ") ",
     "delete_cmd_prefix": "rm(",
     "library": "var_list.r",
     "varRefreshCmd": "cat(var_dic_list()) "
    }
   },
   "types_to_exclude": [
    "module",
    "function",
    "builtin_function_or_method",
    "instance",
    "_Feature"
   ],
   "window_display": false
  }
 },
 "nbformat": 4,
 "nbformat_minor": 5
}
