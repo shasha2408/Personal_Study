{
 "cells": [
  {
   "cell_type": "markdown",
   "id": "0ae2eaf3",
   "metadata": {},
   "source": [
    "# NULL set array를 생성하고 값을 출력하는 방법 "
   ]
  },
  {
   "cell_type": "code",
   "execution_count": 1,
   "id": "3a16239d",
   "metadata": {},
   "outputs": [],
   "source": [
    "def prime_list(n):\n",
    "    # 에라토스테네스의 체 초기화: n개 요소에 True 설정(소수로 간주)\n",
    "    sieve = [True] * n\n",
    "\n",
    "    # n의 최대 약수가 sqrt(n) 이하이므로 i=sqrt(n)까지 검사\n",
    "    m = int(n ** 0.5)\n",
    "    for i in range(2, m + 1):\n",
    "        if sieve[i] == True:           # i가 소수인 경우\n",
    "            for j in range(i+i, n, i): # i이후 i의 배수들을 False 판정\n",
    "                sieve[j] = False\n",
    "\n",
    "    # 소수 목록 산출\n",
    "    return [i for i in range(2, n) if sieve[i] == True]"
   ]
  },
  {
   "cell_type": "markdown",
   "id": "c1746d0a",
   "metadata": {},
   "source": [
    "# Fuction 에서 True/False를 바로 출력하여 계산에 포함"
   ]
  },
  {
   "cell_type": "code",
   "execution_count": 1,
   "id": "8de54588",
   "metadata": {},
   "outputs": [
    {
     "name": "stdout",
     "output_type": "stream",
     "text": [
      "3 16\n",
      "3\n",
      "5\n",
      "7\n",
      "11\n",
      "13\n"
     ]
    }
   ],
   "source": [
    "def prime_list(n): #기존 에라토스테네스의 체에서 리스트에 값을 저장하기보다는 함수 값 별로 T/F를 리턴하여 바로바로 결과를 출력하는 방식\n",
    "    if n == 1 :\n",
    "        return False \n",
    "    else :\n",
    "        m = int(n ** 0.5)\n",
    "        for i in range(2, m + 1):\n",
    "            if n % i == 0 :\n",
    "                return False\n",
    "        return True\n",
    "        \n",
    "M, N = map(int, input().split())\n",
    "for ans in range(M, N + 1) :\n",
    "    if prime_list(ans) :\n",
    "        print(ans)"
   ]
  },
  {
   "cell_type": "markdown",
   "id": "c9e48b5b",
   "metadata": {},
   "source": [
    "에라토스테네스의 체와 같이 만들고자하는 list를 미리 생성후 True로 지정후 예외 처리를 통해 False로 바꾸는 작업을 선행하는게  \n",
    "효율적인 방법이 될 수 있다."
   ]
  },
  {
   "cell_type": "markdown",
   "id": "06c63898",
   "metadata": {},
   "source": [
    "# 재귀함수"
   ]
  },
  {
   "cell_type": "code",
   "execution_count": 1,
   "id": "81b1e90d",
   "metadata": {},
   "outputs": [
    {
     "name": "stdout",
     "output_type": "stream",
     "text": [
      "10\n",
      "3628800\n"
     ]
    }
   ],
   "source": [
    "N = int(input())\n",
    "def factorial(n) :\n",
    "    if n <= 1 :\n",
    "        return 1\n",
    "    else : \n",
    "        return n*factorial(n-1)\n",
    "print(factorial(N))"
   ]
  },
  {
   "cell_type": "markdown",
   "id": "718e7d82",
   "metadata": {},
   "source": [
    "재귀 함수를 쓸 경우 for문이나 while 문의 필요성이 없어지게된다.  \n",
    "끝나는 지점을 while과 마찬가지로 if문안에 설정해줘야 한다."
   ]
  },
  {
   "cell_type": "markdown",
   "id": "0aea19b8",
   "metadata": {},
   "source": [
    "알고리즘을 짤때 설계 -> 문제 분해 -> 코딩 의 순서로 진행할 것 문제에서 나오는 상황을 직접 진행해보고 구조를 분석하여 코딩을 짤것"
   ]
  },
  {
   "cell_type": "code",
   "execution_count": null,
   "id": "75d926f8",
   "metadata": {},
   "outputs": [],
   "source": []
  }
 ],
 "metadata": {
  "kernelspec": {
   "display_name": "Python 3",
   "language": "python",
   "name": "python3"
  },
  "language_info": {
   "codemirror_mode": {
    "name": "ipython",
    "version": 3
   },
   "file_extension": ".py",
   "mimetype": "text/x-python",
   "name": "python",
   "nbconvert_exporter": "python",
   "pygments_lexer": "ipython3",
   "version": "3.8.8"
  },
  "toc": {
   "base_numbering": 1,
   "nav_menu": {},
   "number_sections": true,
   "sideBar": true,
   "skip_h1_title": false,
   "title_cell": "Table of Contents",
   "title_sidebar": "Contents",
   "toc_cell": false,
   "toc_position": {},
   "toc_section_display": true,
   "toc_window_display": false
  },
  "varInspector": {
   "cols": {
    "lenName": 16,
    "lenType": 16,
    "lenVar": 40
   },
   "kernels_config": {
    "python": {
     "delete_cmd_postfix": "",
     "delete_cmd_prefix": "del ",
     "library": "var_list.py",
     "varRefreshCmd": "print(var_dic_list())"
    },
    "r": {
     "delete_cmd_postfix": ") ",
     "delete_cmd_prefix": "rm(",
     "library": "var_list.r",
     "varRefreshCmd": "cat(var_dic_list()) "
    }
   },
   "types_to_exclude": [
    "module",
    "function",
    "builtin_function_or_method",
    "instance",
    "_Feature"
   ],
   "window_display": false
  }
 },
 "nbformat": 4,
 "nbformat_minor": 5
}
