{
 "cells": [
  {
   "cell_type": "markdown",
   "id": "a25112a0",
   "metadata": {},
   "source": [
    "# Problem 8393"
   ]
  },
  {
   "cell_type": "markdown",
   "id": "b72a54ea",
   "metadata": {},
   "source": [
    "문제 : n이 주어졌을 때, 1부터 n까지 합을 구하는 프로그램을 작성하시오.\n",
    "\n",
    "풀이 : 1 ~ n까지를 for문으로 반복한다고 했을때, 더한값을 Global Variable인 res에 가산하여 출력한다.\n",
    "\n",
    "res = 0, i = 1   \n",
    "res = 1, i = 2   \n",
    "res = 3, i = 3   \n",
    "res = 6, i = 3  \n"
   ]
  },
  {
   "cell_type": "code",
   "execution_count": 1,
   "id": "850a0410",
   "metadata": {},
   "outputs": [
    {
     "name": "stdout",
     "output_type": "stream",
     "text": [
      "3\n",
      "6\n"
     ]
    }
   ],
   "source": [
    "n = int(input())\n",
    "res = 0\n",
    "for i in range(1, n+1) :\n",
    "    res += i\n",
    "print(res)"
   ]
  },
  {
   "cell_type": "markdown",
   "id": "4bff188e",
   "metadata": {},
   "source": [
    "# Problem 8958"
   ]
  },
  {
   "cell_type": "markdown",
   "id": "022d6202",
   "metadata": {},
   "source": [
    "문제 : \n",
    "\"OOXXOXXOOO\"와 같은 OX퀴즈의 결과가 있다. O는 문제를 맞은 것이고, X는 문제를 틀린 것이다. 문제를 맞은 경우 그 문제의 점수는 그 문제까지 연속된 O의 개수가 된다. 예를 들어, 10번 문제의 점수는 3이 된다.\n",
    "\n",
    "\"OOXXOXXOOO\"의 점수는 1+2+0+0+1+0+0+1+2+3 = 10점이다.\n",
    "\n",
    "OX퀴즈의 결과가 주어졌을 때, 점수를 구하는 프로그램을 작성하시오.\n",
    "\n",
    "입력 :  \n",
    "첫째 줄에 테스트 케이스의 개수가 주어진다. 각 테스트 케이스는 한 줄로 이루어져 있고, 길이가 0보다 크고 80보다 작은 문자열이 주어진다. 문자열은 O와 X만으로 이루어져 있다.\n",
    "\n",
    "출력 :  \n",
    "각 테스트 케이스마다 점수를 출력한다.\n",
    "\n",
    "풀이 : \n",
    "연속된 O에 대한 총 점수를 score에 저장하고, 누적 점수를 cum_score에 저장한다. \n",
    "\n",
    "첫번째 시작점수를 if문을 통해 O인경우 1로 score를 지정한다. \n",
    "\n",
    "이후 res의 각 원소를 for문을 통해 읽어(2번째 index) , 반복되는 경우(True)에 대하여 cum_score를 +1 하여 score에 저장한다. "
   ]
  },
  {
   "cell_type": "code",
   "execution_count": 17,
   "id": "e202278e",
   "metadata": {},
   "outputs": [
    {
     "name": "stdout",
     "output_type": "stream",
     "text": [
      "5\n",
      "OOXXOXXOOO\n",
      "10\n",
      "OOXXOOXXOO\n",
      "9\n",
      "OXOXOXOXOXOXOX\n",
      "7\n",
      "OOOOOOOOOO\n",
      "55\n",
      "OOOOXOOOOXOOOOX\n",
      "30\n"
     ]
    }
   ],
   "source": [
    "T = int(input())\n",
    "for _ in range(T) : \n",
    "    score = 0; cum_score = 1\n",
    "    res = input()\n",
    "    if res[0] == 'O' : # starting point\n",
    "        score = 1\n",
    "    for i in range(1,len(res)) : \n",
    "        if res[i] == 'O' :\n",
    "            if res[i-1] == 'O' : # Seqeunce of O cum_score += 1 \n",
    "                cum_score += 1\n",
    "                score += cum_score\n",
    "            else : \n",
    "                cum_score = 1\n",
    "                score += cum_score\n",
    "    print(score)"
   ]
  }
 ],
 "metadata": {
  "kernelspec": {
   "display_name": "Python 3",
   "language": "python",
   "name": "python3"
  },
  "language_info": {
   "codemirror_mode": {
    "name": "ipython",
    "version": 3
   },
   "file_extension": ".py",
   "mimetype": "text/x-python",
   "name": "python",
   "nbconvert_exporter": "python",
   "pygments_lexer": "ipython3",
   "version": "3.8.8"
  },
  "toc": {
   "base_numbering": 1,
   "nav_menu": {},
   "number_sections": true,
   "sideBar": true,
   "skip_h1_title": false,
   "title_cell": "Table of Contents",
   "title_sidebar": "Contents",
   "toc_cell": false,
   "toc_position": {},
   "toc_section_display": true,
   "toc_window_display": false
  },
  "varInspector": {
   "cols": {
    "lenName": 16,
    "lenType": 16,
    "lenVar": 40
   },
   "kernels_config": {
    "python": {
     "delete_cmd_postfix": "",
     "delete_cmd_prefix": "del ",
     "library": "var_list.py",
     "varRefreshCmd": "print(var_dic_list())"
    },
    "r": {
     "delete_cmd_postfix": ") ",
     "delete_cmd_prefix": "rm(",
     "library": "var_list.r",
     "varRefreshCmd": "cat(var_dic_list()) "
    }
   },
   "types_to_exclude": [
    "module",
    "function",
    "builtin_function_or_method",
    "instance",
    "_Feature"
   ],
   "window_display": false
  }
 },
 "nbformat": 4,
 "nbformat_minor": 5
}
