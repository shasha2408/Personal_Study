{
 "cells": [
  {
   "cell_type": "markdown",
   "id": "10c574ce",
   "metadata": {},
   "source": [
    "# Problem 1000"
   ]
  },
  {
   "cell_type": "markdown",
   "id": "42f26e3d",
   "metadata": {},
   "source": [
    "풀이 : 두 수를 한번에 입력받을 때에는 map(int, input().split())을 통해 각각 변수에 지정한다."
   ]
  },
  {
   "cell_type": "code",
   "execution_count": 1,
   "id": "a62e5cfa",
   "metadata": {},
   "outputs": [
    {
     "name": "stdout",
     "output_type": "stream",
     "text": [
      "1 2\n",
      "3\n"
     ]
    }
   ],
   "source": [
    "A, B = map(int, input().split())\n",
    "print(A+B)"
   ]
  },
  {
   "cell_type": "markdown",
   "id": "e82d9077",
   "metadata": {},
   "source": [
    "# Problem 1001"
   ]
  },
  {
   "cell_type": "markdown",
   "id": "b567d655",
   "metadata": {},
   "source": [
    "풀이 : 두 수를 한번에 입력받을 때에는 map(int, input().split())을 통해 각각 변수에 지정한다."
   ]
  },
  {
   "cell_type": "code",
   "execution_count": 2,
   "id": "7b50198b",
   "metadata": {},
   "outputs": [
    {
     "name": "stdout",
     "output_type": "stream",
     "text": [
      "2 1\n",
      "1\n"
     ]
    }
   ],
   "source": [
    "A, B = map(int, input().split())\n",
    "print(A-B)"
   ]
  },
  {
   "cell_type": "markdown",
   "id": "e617336e",
   "metadata": {},
   "source": [
    "# Problem 1002"
   ]
  },
  {
   "cell_type": "code",
   "execution_count": 60,
   "id": "6140f7cf",
   "metadata": {},
   "outputs": [
    {
     "name": "stdout",
     "output_type": "stream",
     "text": [
      "3\n",
      "0 0 13 40 0 37\n",
      "2\n",
      "0 0 3 0 7 4\n",
      "1\n",
      "1 1 1 1 1 5\n",
      "0\n"
     ]
    }
   ],
   "source": [
    "import math\n",
    "\n",
    "T = int(input())\n",
    "for i in range(T) : \n",
    "    x1, y1, r1, x2, y2, r2 = map(int, input().split())\n",
    "    distance = math.sqrt((x1-x2)**2 + (y1-y2)**2)\n",
    "    \n",
    "    # In Circle-Circle Intersection, Condition might be same as below : \n",
    "    # 1. Having two points intersection : abs(r1-r2) < distance < r1+r2\n",
    "    # 2. Having one point at outside : r1+r2 = distance \n",
    "    # 3. Having one point at inside : abs(r1-r2) = distance\n",
    "    # 4. Having no intersection : r1+r2 < distance < abs(r1-r2)\n",
    "    \n",
    "    if (abs(r1-r2) < distance) and (distance < r1+r2) : #Condition1\n",
    "        print(2)\n",
    "    elif (abs(r1-r2) == distance) or (distance == r1+r2) : #Condtion2+3\n",
    "        if (x1 == x2)&(y1 == y2) : #Having Inf points in Condtion2+3\n",
    "            print(-1)\n",
    "        else :\n",
    "            print(1)\n",
    "    elif (abs(r1-r2) > distance) or (distance > r1+r2) : #Condtion4\n",
    "        print(0)"
   ]
  },
  {
   "cell_type": "markdown",
   "id": "0d71c1bc",
   "metadata": {},
   "source": [
    "# Problem 1003"
   ]
  },
  {
   "cell_type": "code",
   "execution_count": 59,
   "id": "e1656ec9",
   "metadata": {},
   "outputs": [
    {
     "name": "stdout",
     "output_type": "stream",
     "text": [
      "3\n",
      "0\n",
      "1 0\n",
      "1\n",
      "0 1\n",
      "3\n",
      "1 2\n"
     ]
    }
   ],
   "source": [
    "T = int(input())\n",
    "\n",
    "\n",
    "def fibonacci(N) : \n",
    "    num_of_one = 0\n",
    "    num_of_zero = 0\n",
    "    # num_of variable get int number \n",
    "    list_of_one = list()\n",
    "    list_of_zero = list()\n",
    "    # list_of get cumsum of num_of variable\n",
    "    for i in range(N+1) : \n",
    "        if i == 0 :\n",
    "            num_of_zero = 0\n",
    "            num_of_zero += 1\n",
    "            list_of_zero.append(num_of_zero)\n",
    "            list_of_one.append(num_of_one)\n",
    "        elif i == 1 :\n",
    "            num_of_zero = 0\n",
    "            num_of_one += 1\n",
    "            list_of_zero.append(num_of_zero)\n",
    "            list_of_one.append(num_of_one)\n",
    "        # In i == 0, 1 list_of_one and zero must have non-cumsum of num_of variable\n",
    "        # So we set if-elif statement to make init value.\n",
    "        \n",
    "        else : \n",
    "            list_of_zero.append(list_of_zero[i-1]+list_of_zero[i-2])\n",
    "            list_of_one.append(list_of_one[i-1]+list_of_one[i-2])\n",
    "    print(list_of_zero[N], list_of_one[N])\n",
    "\n",
    "for i in range(T) : \n",
    "    N = int(input())\n",
    "    fibonacci(N)"
   ]
  },
  {
   "cell_type": "markdown",
   "id": "ef152ca3",
   "metadata": {},
   "source": [
    "# Problem 1004"
   ]
  },
  {
   "cell_type": "code",
   "execution_count": 6,
   "id": "eba8e8de",
   "metadata": {},
   "outputs": [
    {
     "name": "stdout",
     "output_type": "stream",
     "text": [
      "2\n",
      "-5 1 12 1\n",
      "7\n",
      "1 1 8\n",
      "-3 -1 1\n",
      "2 2 2 \n",
      "5 5 1\n",
      "-4 5 1\n",
      "12 1 1 \n",
      "12 1 2\n",
      "-5 1 5 1\n",
      "1\n",
      "0 0 2\n",
      "3\n",
      "0\n"
     ]
    }
   ],
   "source": [
    "# Main code\n",
    "import math\n",
    "\n",
    "def num_pass(x1, y1, x2, y2) :   \n",
    "    num_of_pass = 0    \n",
    "    N = int(input())\n",
    "    for j in range(N) :\n",
    "        cx, cy, r = map(int,input().split())        \n",
    "        distance1 = math.sqrt((x1-cx)**2 + (y1-cy)**2) \n",
    "        distance2 = math.sqrt((x2-cx)**2 + (y2-cy)**2)\n",
    "        # Each distance from start and end point to input point\n",
    "        if (distance1 < r) and (distance2 > r) : \n",
    "            num_of_pass += 1 \n",
    "        elif (distance1 > r) and (distance2 < r) :\n",
    "            num_of_pass += 1\n",
    "        # When distance1 < r and distance2 > r, It means that start point is in inpurt circle\n",
    "        # same as distance1 > r and distance2 < r\n",
    "    answer_list.append(num_of_pass)\n",
    "    return answer_list\n",
    "\n",
    "T = int(input())\n",
    "answer_list = list()\n",
    "for i in range(T) :    \n",
    "    x1, y1, x2, y2 = map(int, input().split())\n",
    "    answer = num_pass(x1, y1, x2, y2)\n",
    "for index in answer :\n",
    "    print(index)"
   ]
  },
  {
   "cell_type": "markdown",
   "id": "1b00a3ca",
   "metadata": {},
   "source": [
    "1005"
   ]
  },
  {
   "cell_type": "markdown",
   "id": "5b0f9100",
   "metadata": {},
   "source": [
    "1006 "
   ]
  },
  {
   "cell_type": "markdown",
   "id": "3c4d9f75",
   "metadata": {},
   "source": [
    "# Problem 1007"
   ]
  },
  {
   "cell_type": "code",
   "execution_count": 23,
   "id": "157b3e58",
   "metadata": {
    "scrolled": true
   },
   "outputs": [
    {
     "ename": "ValueError",
     "evalue": "invalid literal for int() with base 10: ''",
     "output_type": "error",
     "traceback": [
      "\u001b[0;31m---------------------------------------------------------------------------\u001b[0m",
      "\u001b[0;31mValueError\u001b[0m                                Traceback (most recent call last)",
      "\u001b[0;32m<ipython-input-23-bc534ef6af01>\u001b[0m in \u001b[0;36m<module>\u001b[0;34m\u001b[0m\n\u001b[1;32m      4\u001b[0m \u001b[0;32mimport\u001b[0m \u001b[0msys\u001b[0m\u001b[0;34m\u001b[0m\u001b[0;34m\u001b[0m\u001b[0m\n\u001b[1;32m      5\u001b[0m \u001b[0;34m\u001b[0m\u001b[0m\n\u001b[0;32m----> 6\u001b[0;31m \u001b[0mT\u001b[0m \u001b[0;34m=\u001b[0m \u001b[0mint\u001b[0m\u001b[0;34m(\u001b[0m\u001b[0msys\u001b[0m\u001b[0;34m.\u001b[0m\u001b[0mstdin\u001b[0m\u001b[0;34m.\u001b[0m\u001b[0mreadline\u001b[0m\u001b[0;34m(\u001b[0m\u001b[0;34m)\u001b[0m\u001b[0;34m)\u001b[0m\u001b[0;34m\u001b[0m\u001b[0;34m\u001b[0m\u001b[0m\n\u001b[0m\u001b[1;32m      7\u001b[0m \u001b[0;32mfor\u001b[0m \u001b[0mtest_case\u001b[0m \u001b[0;32min\u001b[0m \u001b[0mrange\u001b[0m\u001b[0;34m(\u001b[0m\u001b[0mT\u001b[0m\u001b[0;34m)\u001b[0m \u001b[0;34m:\u001b[0m\u001b[0;34m\u001b[0m\u001b[0;34m\u001b[0m\u001b[0m\n\u001b[1;32m      8\u001b[0m     \u001b[0mN\u001b[0m \u001b[0;34m=\u001b[0m \u001b[0mint\u001b[0m\u001b[0;34m(\u001b[0m\u001b[0minput\u001b[0m\u001b[0;34m(\u001b[0m\u001b[0;34m)\u001b[0m\u001b[0;34m)\u001b[0m\u001b[0;34m\u001b[0m\u001b[0;34m\u001b[0m\u001b[0m\n",
      "\u001b[0;31mValueError\u001b[0m: invalid literal for int() with base 10: ''"
     ]
    }
   ],
   "source": [
    "# Main code\n",
    "from itertools import combinations\n",
    "import math\n",
    "import sys\n",
    "T = int(sys.stdin.readline())\n",
    "for test_case in range(T) : \n",
    "    N = int(sys.stdin.readline())\n",
    "    X = []; Y = []; vec_sum = []\n",
    "    # In N = 2 case, Vector Matching value might be (x1+x2)-(x3+x4), (y1+y2)-(y3+y4) \n",
    "    # So when get input of points, divide points in to X and Y list\n",
    "    for input_case in range(N) : \n",
    "        x,y = map(int, sys.stdin.readline().split())\n",
    "        X.append(x); Y.append(y)\n",
    "    comb_index = list(combinations(range(N), int(N/2)))  \n",
    "    # Because vector has N/2 elements, we first combinate with index of Vector\n",
    "    Vec_index = [i for i in range(N)]\n",
    "        \n",
    "    for index in comb_index : \n",
    "        xt = 0; yt = 0           \n",
    "        vec1_index = list(index)\n",
    "        vec2_index = [index1 for index1 in Vec_index if index1 not in vec1_index]\n",
    "        # vec2_index means other parts of Vec_index without vec1_index, So that we calculate each of sum \n",
    "        for j in range(len(index)) : \n",
    "            xt += (X[vec1_index[j]] - X[vec2_index[j]])\n",
    "            yt += (Y[vec1_index[j]] - Y[vec2_index[j]])\n",
    "        # sum of N/2 vectors can be calculated with final x and y \n",
    "        # whic has vec1-vec2 (same as (x1+x2)-(x3+x4), (y1+y2)-(y3+y4)) \n",
    "        vec_sum.append(math.sqrt(xt**2 + yt**2))\n",
    "    print(min(vec_sum))"
   ]
  },
  {
   "cell_type": "markdown",
   "id": "06652d7d",
   "metadata": {},
   "source": [
    "# Problem 1008"
   ]
  },
  {
   "cell_type": "markdown",
   "id": "98052d68",
   "metadata": {},
   "source": [
    "풀이 : 두 수를 한번에 입력받을 때에는 map(int, input().split())을 통해 각각 변수에 지정한다."
   ]
  },
  {
   "cell_type": "code",
   "execution_count": 100,
   "id": "2fd7c2e7",
   "metadata": {},
   "outputs": [
    {
     "name": "stdout",
     "output_type": "stream",
     "text": [
      "3 2\n",
      "1.5\n"
     ]
    }
   ],
   "source": [
    "A, B = map(int, input().split())\n",
    "print(A/B)"
   ]
  },
  {
   "cell_type": "markdown",
   "id": "7b0db42f",
   "metadata": {},
   "source": [
    "# Problem 1009"
   ]
  },
  {
   "cell_type": "code",
   "execution_count": 42,
   "id": "4f78ff89",
   "metadata": {},
   "outputs": [
    {
     "name": "stdout",
     "output_type": "stream",
     "text": [
      "5\n",
      "1 6\n",
      "1\n",
      "3 7\n",
      "7\n",
      "6 2\n",
      "6\n",
      "7 100\n",
      "1\n",
      "9 635\n",
      "9\n"
     ]
    }
   ],
   "source": [
    "T = int(input())\n",
    "num_cum = 10 \n",
    "# square of each number 1~10 repeated some sequences \n",
    "# 1 : 1 1 1 1 , 2 : 2 4 8 6, 3 : 3 9 7 1, ...\n",
    "# so we can find computer by chelcking last number of a**b \n",
    "\n",
    "for test_case in range(T) : \n",
    "    a, b = map(int, input().split())\n",
    "    res = [(a**i)%10 for i in range(1,5)][(b%4)-1] # [make repeated sequence of squre] * [indexing by b % 4]\n",
    "    if res == 0 :\n",
    "        print(res+10)\n",
    "    else :\n",
    "        print(res)"
   ]
  },
  {
   "cell_type": "markdown",
   "id": "14b84157",
   "metadata": {},
   "source": [
    "# Problem 1010"
   ]
  },
  {
   "cell_type": "code",
   "execution_count": 21,
   "id": "829a1bd4",
   "metadata": {},
   "outputs": [
    {
     "name": "stdout",
     "output_type": "stream",
     "text": [
      "3\n",
      "2 2\n",
      "1\n",
      "1 5\n",
      "5\n",
      "13 29\n",
      "67863915\n"
     ]
    }
   ],
   "source": [
    "import math \n",
    "\n",
    "T = int(input())\n",
    "for test_case in range(T) :\n",
    "    n, m = map(int, input().split())\n",
    "    # Choosing bridge can be sorted as combination of m by n\n",
    "    # because  we just labeled n bridge after set cases \n",
    "    ab_term = math.factorial(m)\n",
    "    low_term = math.factorial(n)*math.factorial(m-n)\n",
    "    res = int(ab_term/low_term) # Combination  = n!/(k!(n-k)!)\n",
    "    print(res)"
   ]
  },
  {
   "cell_type": "markdown",
   "id": "76e1ee62",
   "metadata": {},
   "source": [
    "# Problem 1011"
   ]
  },
  {
   "cell_type": "code",
   "execution_count": 19,
   "id": "8f55d32f",
   "metadata": {},
   "outputs": [
    {
     "name": "stdout",
     "output_type": "stream",
     "text": [
      "5\n",
      "1 2\n",
      "1\n",
      "1 3\n",
      "2\n",
      "2 7\n",
      "4\n",
      "2 12\n",
      "6\n",
      "2 198\n",
      "27\n"
     ]
    }
   ],
   "source": [
    "import math\n",
    "\n",
    "T = int(input())\n",
    "\n",
    "# In range (x, y) there are total y-x case which has 1 distance\n",
    "# if y - x = 1, optimum roots become 1\n",
    "# if y - x = 2, optimum roots become 2\n",
    "# So there are sequence 1 2 3 3 4 4 5 5 6 6 6 ... which can sorted as [sqrt(4*i + 1)] \n",
    "\n",
    "for test_case in range(T) :\n",
    "    x, y = map(int, input().split())\n",
    "    res = int(math.sqrt(4*(y-x-1) + 1)) # Change i as y-x-1 because i start from 0\n",
    "    print(res)"
   ]
  },
  {
   "cell_type": "markdown",
   "id": "f208e17f",
   "metadata": {},
   "source": [
    "# Problem 1026 "
   ]
  },
  {
   "cell_type": "code",
   "execution_count": 17,
   "id": "712d8bde",
   "metadata": {},
   "outputs": [
    {
     "name": "stdout",
     "output_type": "stream",
     "text": [
      "5 \n",
      "1 1 1 6 0\n",
      "2 7 8 3 1\n"
     ]
    }
   ],
   "source": [
    "index = int(input())\n",
    "A = list(map(int, input().split()))\n",
    "B = list(map(int, input().split()))\n",
    "C = 0\n",
    "\n",
    "while (len(A) + len(B)) != 0 :\n",
    "    C += max(B)*min(A)\n",
    "    A.remove(min(A))\n",
    "    B.remove(max(B))\n",
    "print(C)"
   ]
  },
  {
   "cell_type": "markdown",
   "id": "0e0c8564",
   "metadata": {},
   "source": [
    "# Problem 1038"
   ]
  },
  {
   "cell_type": "markdown",
   "id": "e345a9c0",
   "metadata": {},
   "source": [
    "||1자리(nC0)|2자리(nC1)|3자리(nC2)|4자리(nC3)|5자리(nC4)|6자리(nC5)|7자리(nC6)|8자리(nC7)|9자리(nC8)|10자리(nC9)|\n",
    "|---|---|---|---|---|---|---|---|---|---|---|\n",
    "|0|1||||||||||\n",
    "|1|1|1|||||||||\n",
    "|2|1|2|1||||||||\n",
    "|3|1|3|3|1|||||||\n",
    "|4|1|4|6|4|1||||||\n",
    "|5|1|5|10|10|5|1|||||\n",
    "|6|1|6|15|20|15|6|1||||\n",
    "|7|1|7|21|35|35|21|7|1|||\n",
    "|8|1|8|28|56|70|56|28|8|1||\n",
    "|9|1|9|36|84|126|126|84|36|9|1|"
   ]
  },
  {
   "cell_type": "code",
   "execution_count": 520,
   "id": "615ebb13",
   "metadata": {
    "scrolled": true
   },
   "outputs": [
    {
     "name": "stdout",
     "output_type": "stream",
     "text": [
      "18\n",
      "42\n"
     ]
    }
   ],
   "source": [
    "import math\n",
    "from itertools import combinations\n",
    "\n",
    "# make array 1X100 for when choose after first number of digit\n",
    "res = 0; digit = []\n",
    "for i in range(10) : \n",
    "    for j in range(10) :\n",
    "        if i > j :\n",
    "            res = res\n",
    "        else : \n",
    "            ab_term = math.factorial(j)\n",
    "            low_term = math.factorial(j-i)*math.factorial(i) # choose sequence of number using Combinations\n",
    "            res += int(ab_term/low_term)\n",
    "        digit.append(res-1) # accmulate each of array\n",
    "\n",
    "def solve(N) :\n",
    "    if N > 1022 : \n",
    "        print(-1)\n",
    "    elif N < 10 :\n",
    "        print(N) \n",
    "    else :\n",
    "        k = 1\n",
    "        while digit[k] < N :\n",
    "            if digit[k] < N :\n",
    "                k += 1\n",
    "            else : \n",
    "                 break\n",
    "        n1 = int(str(k)[0]) # number of choosing combination k\n",
    "        n2 = int(str(k)[1]) # number of first digit \n",
    "        n3 = N-digit[k-1] # choose the set of combination cases\n",
    "    \n",
    "        c = [l for l in range(n2)]\n",
    "        lst = list(combinations(c,n1))\n",
    "        lstm = []\n",
    "        for pair in lst :\n",
    "            lstm.append(int(''.join(tuple(map(str,pair[::-1]))))) # sorting conbinations \n",
    "        lstm.sort()\n",
    "        ans = int(str(n2)+str(lstm[n3-1]))\n",
    "        print(ans)\n",
    "\n",
    "N = int(input())\n",
    "solve(N)"
   ]
  },
  {
   "cell_type": "markdown",
   "id": "c479ef4d",
   "metadata": {},
   "source": [
    "# Problem 1049"
   ]
  },
  {
   "cell_type": "code",
   "execution_count": 16,
   "id": "3c475261",
   "metadata": {},
   "outputs": [
    {
     "name": "stdout",
     "output_type": "stream",
     "text": [
      "15 1 \n",
      "100 40\n",
      "300\n"
     ]
    }
   ],
   "source": [
    "N, M = map(int, input().split())\n",
    "X = []; Y = [];\n",
    "for _ in range(M) :\n",
    "    x, y = map(int, input().split())\n",
    "    X.append(x); Y.append(y)\n",
    "\n",
    "if min(Y)*6 < min(X) : \n",
    "    res = min(Y)*N\n",
    "else : \n",
    "    res = min(X)*(N//6) + min(Y)*(N%6)\n",
    "    if min(X) < min(Y) * (N%6) : \n",
    "        res = min(X)*(N//6)+ min(X) \n",
    "print(res)"
   ]
  },
  {
   "cell_type": "markdown",
   "id": "b7cac461",
   "metadata": {},
   "source": [
    "# Problem 1065"
   ]
  },
  {
   "cell_type": "markdown",
   "id": "d9ccc57a",
   "metadata": {},
   "source": [
    "문제 :  \n",
    "\n",
    "어떤 양의 정수 X의 각 자리가 등차수열을 이룬다면, 그 수를 한수라고 한다. 등차수열은 연속된 두 개의 수의 차이가 일정한 수열을 말한다. N이 주어졌을 때, 1보다 크거나 같고, N보다 작거나 같은 한수의 개수를 출력하는 프로그램을 작성하시오. \n",
    "\n",
    "입력 :   \n",
    "\n",
    "첫째 줄에 1,000보다 작거나 같은 자연수 N이 주어진다.\n",
    "\n",
    "출력 :  \n",
    "\n",
    "첫째 줄에 1보다 크거나 같고, N보다 작거나 같은 한수의 개수를 출력한다.\n",
    "\n",
    "풀이 : \n",
    "\n",
    "N이 100 이하일 경우 어떠한 경우에도 등차수열을 형성하므로 if문의 예외처리로 자동 출력한다.   \n",
    "100보다 크거나 같은경우, 99개의 등차수열을 기본적으로 포함하고 있으므로, ans에 99를 초기화 시킨다.  \n",
    "세자리 수에 대하여 각 자리가 등차수열을 이룰 조건은  \n",
    "n1 - n2 == n2 - n3로 100부터 N + 1의 수 중, 각 자릿수를 분해하여 if문을 만족시키는 경우에 res + 1을 초기화 한다. "
   ]
  },
  {
   "cell_type": "code",
   "execution_count": 12,
   "id": "f0765294",
   "metadata": {},
   "outputs": [
    {
     "name": "stdout",
     "output_type": "stream",
     "text": [
      "123\n",
      "101\n"
     ]
    }
   ],
   "source": [
    "N = int(input())\n",
    "\n",
    "if N < 100 :\n",
    "    print(N)\n",
    "else :\n",
    "    res = 99\n",
    "    for i in range(100, N+1) :\n",
    "        n1 = int(str(i)[0]); n2 = int(str(i)[1]); n3 = int(str(i)[2])\n",
    "        if (n1-n2 == n2-n3) :\n",
    "            res += 1\n",
    "    print(res) "
   ]
  },
  {
   "cell_type": "markdown",
   "id": "b0677bc2",
   "metadata": {},
   "source": [
    "# problem 1075"
   ]
  },
  {
   "cell_type": "code",
   "execution_count": 1,
   "id": "eb609824",
   "metadata": {},
   "outputs": [
    {
     "name": "stdout",
     "output_type": "stream",
     "text": [
      "275\n",
      "5\n",
      "00\n"
     ]
    }
   ],
   "source": [
    "N = input()\n",
    "F = int(input())\n",
    "init_num = int(N[:-2] + '00') # Change last two index of number by '00' \n",
    "while True :\n",
    "    if init_num % F == 0 : # Start from 00 ~ 99 finding dividable number\n",
    "        break\n",
    "    init_num += 1\n",
    "print(str(init_num)[-2:])"
   ]
  },
  {
   "cell_type": "markdown",
   "id": "c4fb1918",
   "metadata": {},
   "source": [
    "# Problem 1076"
   ]
  },
  {
   "cell_type": "code",
   "execution_count": 4,
   "id": "00ddcb07",
   "metadata": {},
   "outputs": [
    {
     "name": "stdout",
     "output_type": "stream",
     "text": [
      "yellow\n",
      "violet\n",
      "red\n",
      "4700\n"
     ]
    }
   ],
   "source": [
    "ohm_dic = {'black' : {'val' : '0', 'prod' : '1'},\n",
    "           'brown' : {'val' : '1', 'prod' : '10'},\n",
    "           'red' : {'val' : '2', 'prod' : '100'},\n",
    "           'orange' : {'val' : '3', 'prod' : '1000'},\n",
    "           'yellow' : {'val' : '4', 'prod' : '10000'},\n",
    "           'green' : {'val' : '5', 'prod' : '100000'},\n",
    "           'blue' : {'val' : '6', 'prod' : '1000000'},\n",
    "           'violet' : {'val' : '7', 'prod' : '10000000'},\n",
    "           'grey' : {'val' : '8', 'prod' : '100000000'},\n",
    "           'white' : {'val' : '9', 'prod' : '1000000000'}}\n",
    "\n",
    "col1 = str(input())\n",
    "col2 = str(input())\n",
    "col3 = str(input())\n",
    "\n",
    "print(int(ohm_dic[col1]['val']+ohm_dic[col2]['val'])*int(ohm_dic[col3]['prod']))    "
   ]
  },
  {
   "cell_type": "markdown",
   "id": "5c742124",
   "metadata": {},
   "source": [
    "# Problem 1085"
   ]
  },
  {
   "cell_type": "code",
   "execution_count": 4,
   "id": "55ad0e2e",
   "metadata": {},
   "outputs": [
    {
     "name": "stdout",
     "output_type": "stream",
     "text": [
      "6 2 10 3\n",
      "1\n"
     ]
    }
   ],
   "source": [
    "x, y, w, h = map(int, input().split())\n",
    "distance = [w - x, h - y, x - 0, y - 0]\n",
    "print(min(distance))"
   ]
  },
  {
   "cell_type": "markdown",
   "id": "ca71d5fe",
   "metadata": {},
   "source": [
    "# Problem 1100"
   ]
  },
  {
   "cell_type": "code",
   "execution_count": 2,
   "id": "2aa140d5",
   "metadata": {},
   "outputs": [
    {
     "name": "stdout",
     "output_type": "stream",
     "text": [
      ".F.F...F\n",
      "F...F.F>\n",
      "...F.F.F\n",
      "F.F...F.\n",
      ".F...F..\n",
      "F...F.F.\n",
      ".F.F.F.F\n",
      "..FF..F.\n",
      "1\n"
     ]
    }
   ],
   "source": [
    "chess = []; count = 0\n",
    "for _ in range(8) : \n",
    "    chess.append(list(input().split()))\n",
    "\n",
    "# make list for chess current state\n",
    "# chess[i] means row, chess[i][0] means row element, chess[i][0][j] means significant row, column element\n",
    "# if list row is even, white colums is even. else is same in odd situation\n",
    "\n",
    "for i in range(8) :\n",
    "    for j in range(8) :\n",
    "        if i%2 == 0 :\n",
    "            if (j%2 == 0) & (chess[i][0][j] == 'F') :\n",
    "                count += 1\n",
    "        else :\n",
    "            if (j%2 != 0) & (chess[i][0][j] == 'F') :\n",
    "                count += 1\n",
    "print(count)"
   ]
  },
  {
   "cell_type": "markdown",
   "id": "990529b3",
   "metadata": {},
   "source": [
    "# Problem 1110"
   ]
  },
  {
   "cell_type": "markdown",
   "id": "0eeb1397",
   "metadata": {},
   "source": [
    "문제 :   \n",
    "\n",
    "0보다 크거나 같고, 99보다 작거나 같은 정수가 주어질 때 다음과 같은 연산을 할 수 있다. 먼저 주어진 수가 10보다 작다면 앞에 0을 붙여 두 자리 수로 만들고, 각 자리의 숫자를 더한다. 그 다음, 주어진 수의 가장 오른쪽 자리 수와 앞에서 구한 합의 가장 오른쪽 자리 수를 이어 붙이면 새로운 수를 만들 수 있다. 다음 예를 보자.\n",
    "\n",
    "26부터 시작한다. 2+6 = 8이다. 새로운 수는 68이다. 6+8 = 14이다. 새로운 수는 84이다. 8+4 = 12이다. 새로운 수는 42이다. 4+2 = 6이다. 새로운 수는 26이다.\n",
    "\n",
    "위의 예는 4번만에 원래 수로 돌아올 수 있다. 따라서 26의 사이클의 길이는 4이다.\n",
    "\n",
    "N이 주어졌을 때, N의 사이클의 길이를 구하는 프로그램을 작성하시오.\n",
    "\n",
    "입력 :   \n",
    "\n",
    "첫째 줄에 N이 주어진다. N은 0보다 크거나 같고, 99보다 작거나 같은 정수이다.\n",
    "\n",
    "출력 : \n",
    "\n",
    "첫째 줄에 N의 사이클 길이를 출력한다.\n",
    "\n",
    "풀이 : \n",
    "\n",
    "먼저 변화할 숫자를 저장할 변수 init_num과 출력의 사이클 길이를 저장할 변수 length를 설정한다.\n",
    "이후 init_num의 일의자리 숫자를 10의 자리에 (init_num%10 * 10)의 수식을 대입하고, 10의 몫과 나머를 더한후 10으로 나눈 나머지를 일의자리에 대입한다. \n",
    "init_num = (init_num % 10 * 10) + (init_num // 10 + init_num % 10) % 10 \n",
    "\n",
    "탈출조건으로   \n",
    "1. while init_num != N : \n",
    "2. if init_numm == N : -> break \n",
    "사용하여 탈출한다. "
   ]
  },
  {
   "cell_type": "code",
   "execution_count": 39,
   "id": "0371aa71",
   "metadata": {},
   "outputs": [
    {
     "name": "stdout",
     "output_type": "stream",
     "text": [
      "26\n",
      "4\n"
     ]
    }
   ],
   "source": [
    "N = int(input())\n",
    "init_num = N; length = 0\n",
    "\n",
    "while True : \n",
    "    length += 1\n",
    "    init_num = (init_num%10*10) + (init_num//10 + init_num%10) % 10\n",
    "    if init_num == N :\n",
    "        break\n",
    "print(length)"
   ]
  },
  {
   "cell_type": "markdown",
   "id": "3e89f47a",
   "metadata": {},
   "source": [
    "# Problem 1152"
   ]
  },
  {
   "cell_type": "code",
   "execution_count": 7,
   "id": "a0ef3301",
   "metadata": {},
   "outputs": [
    {
     "name": "stdout",
     "output_type": "stream",
     "text": [
      "The Curious Case of Benjamin Button\n",
      "6\n"
     ]
    }
   ],
   "source": [
    "N = list(input().split())\n",
    "print(len(N))"
   ]
  },
  {
   "cell_type": "markdown",
   "id": "695a7b1d",
   "metadata": {},
   "source": [
    "# Problem 1157"
   ]
  },
  {
   "cell_type": "markdown",
   "id": "33d604ff",
   "metadata": {},
   "source": [
    "문제 :   \n",
    "알파벳 대소문자로 된 단어가 주어지면, 이 단어에서 가장 많이 사용된 알파벳이 무엇인지 알아내는 프로그램을 작성하시오. 단, 대문자와 소문자를 구분하지 않는다.\n",
    "\n",
    "입력 :   \n",
    "첫째 줄에 알파벳 대소문자로 이루어진 단어가 주어진다. 주어지는 단어의 길이는 1,000,000을 넘지 않는다.\n",
    "\n",
    "출력 :  \n",
    "첫째 줄에 이 단어에서 가장 많이 사용된 알파벳을 대문자로 출력한다. 단, 가장 많이 사용된 알파벳이 여러 개 존재하는 경우에는 ?를 출력한다.\n",
    "\n",
    "풀이 : \n",
    "1. Make alphabet in uppper(), lower() to clean \n",
    "2. use set() to make unique alphaet list\n",
    "3. use unique_al for loop to count how many alphatbet is duplicated. \n",
    "    for (unique_al) -> for (input_str) compare each other -> count + 1\n",
    "4. to process '?' case, make max_count and check if there is max_count more than 1"
   ]
  },
  {
   "cell_type": "code",
   "execution_count": 35,
   "id": "31f5ac92",
   "metadata": {
    "scrolled": true
   },
   "outputs": [
    {
     "name": "stdout",
     "output_type": "stream",
     "text": [
      "Mississipi\n",
      "?\n"
     ]
    }
   ],
   "source": [
    "input_str = input().upper()\n",
    "unique_al = list(set(input_str)) # make unique alphabet index \n",
    "count = []\n",
    "\n",
    "for index in unique_al : \n",
    "    add_count = 0\n",
    "    for i in range(len(input_str)) :\n",
    "        if input_str[i] == index :\n",
    "            add_count += 1 # count how many alphabet duplicated\n",
    "    count.append(add_count)\n",
    "\n",
    "max_count = 0\n",
    "for i in range(len(count)) :\n",
    "    if count[i] == max(count) :\n",
    "        max_count += 1 # Search if there any duplicated max count\n",
    "        \n",
    "if max_count > 1 :\n",
    "    print('?')\n",
    "else : \n",
    "    print(unique_al[count.index(max(count))])"
   ]
  },
  {
   "cell_type": "markdown",
   "id": "2b785535",
   "metadata": {},
   "source": [
    "# Problem 1193"
   ]
  },
  {
   "cell_type": "code",
   "execution_count": 21,
   "id": "e75b8b6a",
   "metadata": {},
   "outputs": [
    {
     "name": "stdout",
     "output_type": "stream",
     "text": [
      "10\n",
      "4/1\n"
     ]
    }
   ],
   "source": [
    "X = int(input())\n",
    "line = 1; cumsum = 0\n",
    "while cumsum < X : # find final line in Xth num \n",
    "    cumsum += line\n",
    "    line += 1 # elements of line has sum of line + 1 \n",
    "nth = X-(cumsum-(line-1)) # index of Xth number in line \n",
    "\n",
    "# In sequence if current state's line is odd, moter : ascending, son : descending\n",
    "# even, mother : descending, son : ascending \n",
    "if (line-1) % 2 == 0 : \n",
    "    mother = line-nth\n",
    "    son = nth\n",
    "else :\n",
    "    mother = nth\n",
    "    son = line-nth\n",
    "print(\"{}/{}\".format(son, mother))"
   ]
  },
  {
   "cell_type": "markdown",
   "id": "591fdcc1",
   "metadata": {},
   "source": [
    "# Problem 1316"
   ]
  },
  {
   "cell_type": "markdown",
   "id": "e3892109",
   "metadata": {},
   "source": [
    "문제 :  \n",
    "그룹 단어란 단어에 존재하는 모든 문자에 대해서, 각 문자가 연속해서 나타나는 경우만을 말한다. 예를 들면, ccazzzzbb는 c, a, z, b가 모두 연속해서 나타나고, kin도 k, i, n이 연속해서 나타나기 때문에 그룹 단어이지만, aabbbccb는 b가 떨어져서 나타나기 때문에 그룹 단어가 아니다.\n",
    "\n",
    "단어 N개를 입력으로 받아 그룹 단어의 개수를 출력하는 프로그램을 작성하시오.\n",
    "\n",
    "입력 :  \n",
    "첫째 줄에 단어의 개수 N이 들어온다. N은 100보다 작거나 같은 자연수이다. 둘째 줄부터 N개의 줄에 단어가 들어온다. 단어는 알파벳 소문자로만 되어있고 중복되지 않으며, 길이는 최대 100이다.\n",
    "\n",
    "출력 :  \n",
    "첫째 줄에 그룹 단어의 개수를 출력한다.\n"
   ]
  },
  {
   "cell_type": "code",
   "execution_count": 50,
   "id": "1ffe1fe7",
   "metadata": {},
   "outputs": [
    {
     "name": "stdout",
     "output_type": "stream",
     "text": [
      "4\n",
      "aba\n",
      "abab\n",
      "abcabc\n",
      "a\n",
      "1\n"
     ]
    }
   ],
   "source": [
    "T = int(input()); count = 0\n",
    "\n",
    "for _ in range(T) :\n",
    "    input_str = input()\n",
    "    unique_al = list(set(input_str))\n",
    "    error = 0\n",
    "    for index in unique_al :\n",
    "        dup_index = []\n",
    "        for i in range(len(input_str)) :\n",
    "            if input_str[i] == index :\n",
    "                dup_index.append(i)\n",
    "        if len(dup_index) > 1 :\n",
    "            for j in range(1, len(dup_index)) :\n",
    "                if dup_index[j] - dup_index[j-1] != 1 : # Only error case in sequence is same alphabet not in ascending sequence\n",
    "                    error += 1 \n",
    "    if error == 0 :\n",
    "        count += 1\n",
    "print(count)"
   ]
  },
  {
   "cell_type": "markdown",
   "id": "d8c11e43",
   "metadata": {},
   "source": [
    "# Problem 1330"
   ]
  },
  {
   "cell_type": "markdown",
   "id": "d569b869",
   "metadata": {},
   "source": [
    "문제 : 두 정수 A, B가 주어졌을 때, A와 B를 비교하는 프로그램을 작성하시오  \n",
    "  \n",
    "풀이 : 비교하는 경우 총 3개의 Case가 존재한다.   \n",
    "1. A > B  \n",
    "2. A < B  \n",
    "3. A == B \n",
    "  \n",
    "1 -> if, 2 -> elif, 3 -> else 구문으로 3개의 Case를 구분하여 출력한다"
   ]
  },
  {
   "cell_type": "code",
   "execution_count": 2,
   "id": "a11776d9",
   "metadata": {},
   "outputs": [
    {
     "name": "stdout",
     "output_type": "stream",
     "text": [
      "5 5\n",
      "==\n"
     ]
    }
   ],
   "source": [
    "A, B = map(int, input().split())\n",
    "\n",
    "if A > B :\n",
    "    print(\">\")\n",
    "elif A < B :\n",
    "    print(\"<\")\n",
    "else :\n",
    "    print(\"==\")"
   ]
  },
  {
   "cell_type": "markdown",
   "id": "c15bc1eb",
   "metadata": {},
   "source": [
    "# Problem 1546"
   ]
  },
  {
   "cell_type": "markdown",
   "id": "ab3c03ca",
   "metadata": {},
   "source": [
    "문제 : \n",
    "세준이는 기말고사를 망쳤다. 세준이는 점수를 조작해서 집에 가져가기로 했다. 일단 세준이는 자기 점수 중에 최댓값을 골랐다. 이 값을 M이라고 한다. 그리고 나서 모든 점수를 점수/M*100으로 고쳤다.\n",
    "\n",
    "예를 들어, 세준이의 최고점이 70이고, 수학점수가 50이었으면 수학점수는 50/70*100이 되어 71.43점이 된다.\n",
    "\n",
    "세준이의 성적을 위의 방법대로 새로 계산했을 때, 새로운 평균을 구하는 프로그램을 작성하시오.\n",
    "\n",
    "입력 : \n",
    "첫째 줄에 시험 본 과목의 개수 N이 주어진다. 이 값은 1000보다 작거나 같다. 둘째 줄에 세준이의 현재 성적이 주어진다. 이 값은 100보다 작거나 같은 음이 아닌 정수이고, 적어도 하나의 값은 0보다 크다.\n",
    "\n",
    "출력 :  \n",
    "첫째 줄에 새로운 평균을 출력한다. 실제 정답과 출력값의 절대오차 또는 상대오차가 10-2 이하이면 정답이다.\n",
    "\n",
    "풀이 : \n",
    "점수를 조작하는 방법은 다음과 같다.\n",
    "M (max of score)을 각 점수에 나눈후 100을 곱한다. 이후 평균을 구하는 방식과 동일게 계산한다."
   ]
  },
  {
   "cell_type": "code",
   "execution_count": 1,
   "id": "8fa012c6",
   "metadata": {},
   "outputs": [
    {
     "name": "stdout",
     "output_type": "stream",
     "text": [
      "3\n",
      "40 80 60\n",
      "75.0\n"
     ]
    }
   ],
   "source": [
    "N = int(input())\n",
    "score = list(map(int, input().split()))\n",
    "M = max(score); sum_of_score = 0\n",
    "for i in range(N) :\n",
    "    sum_of_score += (score[i]/M)*100\n",
    "print(sum_of_score/len(score))"
   ]
  },
  {
   "cell_type": "markdown",
   "id": "b307db42",
   "metadata": {},
   "source": [
    "# Problem 1712"
   ]
  },
  {
   "cell_type": "code",
   "execution_count": 7,
   "id": "4d63af37",
   "metadata": {},
   "outputs": [
    {
     "name": "stdout",
     "output_type": "stream",
     "text": [
      "1000 70 170\n",
      "11\n"
     ]
    }
   ],
   "source": [
    "A, B, C = map(int, input().split())\n",
    "num = 0\n",
    "\n",
    "if B < C : \n",
    "    print(A//(C-B) + 1)\n",
    "else : \n",
    "    print(-1)"
   ]
  },
  {
   "cell_type": "markdown",
   "id": "61bb2f35",
   "metadata": {},
   "source": [
    "# Problem 1929"
   ]
  },
  {
   "cell_type": "code",
   "execution_count": 1,
   "id": "b099e29a",
   "metadata": {},
   "outputs": [
    {
     "name": "stdout",
     "output_type": "stream",
     "text": [
      "3 16\n",
      "3\n",
      "5\n",
      "7\n",
      "11\n",
      "13\n"
     ]
    }
   ],
   "source": [
    "def prime_list(n): #기존 에라토스테네스의 체에서 리스트에 값을 저장하기보다는 함수 값 별로 T/F를 리턴하여 바로바로 결과를 출력하는 방식\n",
    "    if n == 1 :\n",
    "        return False \n",
    "    else :\n",
    "        m = int(n ** 0.5)\n",
    "        for i in range(2, m + 1):\n",
    "            if n % i == 0 :\n",
    "                return False\n",
    "        return True\n",
    "        \n",
    "M, N = map(int, input().split())\n",
    "for ans in range(M, N + 1) :\n",
    "    if prime_list(ans) :\n",
    "        print(ans)"
   ]
  },
  {
   "cell_type": "markdown",
   "id": "f63d2ca8",
   "metadata": {},
   "source": [
    "# Problem 1978"
   ]
  },
  {
   "cell_type": "code",
   "execution_count": 5,
   "id": "3d88bf18",
   "metadata": {},
   "outputs": [
    {
     "name": "stdout",
     "output_type": "stream",
     "text": [
      "4\n",
      "1 3 5 7\n",
      "3\n"
     ]
    }
   ],
   "source": [
    "N = int(input())\n",
    "num_list = list(map(int, input().split()))\n",
    "count = 0\n",
    "\n",
    "for i in range(N) :\n",
    "    divcount = 0\n",
    "    for j in range(1, num_list[i]) :\n",
    "        if num_list[i] % j == 0 :\n",
    "            divcount += 1 # count 1 ~ num_list[i] \n",
    "    if divcount == 1 : # divcount must be 1 if num is answer\n",
    "        count += 1\n",
    "print(count)"
   ]
  }
 ],
 "metadata": {
  "kernelspec": {
   "display_name": "Python 3",
   "language": "python",
   "name": "python3"
  },
  "language_info": {
   "codemirror_mode": {
    "name": "ipython",
    "version": 3
   },
   "file_extension": ".py",
   "mimetype": "text/x-python",
   "name": "python",
   "nbconvert_exporter": "python",
   "pygments_lexer": "ipython3",
   "version": "3.8.8"
  },
  "toc": {
   "base_numbering": 1,
   "nav_menu": {},
   "number_sections": true,
   "sideBar": true,
   "skip_h1_title": false,
   "title_cell": "Table of Contents",
   "title_sidebar": "Contents",
   "toc_cell": false,
   "toc_position": {
    "height": "calc(100% - 180px)",
    "left": "10px",
    "top": "150px",
    "width": "165px"
   },
   "toc_section_display": true,
   "toc_window_display": true
  },
  "varInspector": {
   "cols": {
    "lenName": 16,
    "lenType": 16,
    "lenVar": 40
   },
   "kernels_config": {
    "python": {
     "delete_cmd_postfix": "",
     "delete_cmd_prefix": "del ",
     "library": "var_list.py",
     "varRefreshCmd": "print(var_dic_list())"
    },
    "r": {
     "delete_cmd_postfix": ") ",
     "delete_cmd_prefix": "rm(",
     "library": "var_list.r",
     "varRefreshCmd": "cat(var_dic_list()) "
    }
   },
   "types_to_exclude": [
    "module",
    "function",
    "builtin_function_or_method",
    "instance",
    "_Feature"
   ],
   "window_display": false
  }
 },
 "nbformat": 4,
 "nbformat_minor": 5
}
