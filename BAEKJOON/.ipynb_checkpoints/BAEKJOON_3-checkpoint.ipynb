{
 "cells": [
  {
   "cell_type": "markdown",
   "id": "4cdd78ac",
   "metadata": {},
   "source": [
    "# Problem 3009"
   ]
  },
  {
   "cell_type": "code",
   "execution_count": 19,
   "id": "64611be4",
   "metadata": {},
   "outputs": [
    {
     "name": "stdout",
     "output_type": "stream",
     "text": [
      "30 20\n",
      "10 10\n",
      "10 20\n",
      "30 10\n"
     ]
    }
   ],
   "source": [
    "X = []; Y = []\n",
    "for _ in range(3) :\n",
    "    x, y = map(int, input().split())\n",
    "    X.append(x); Y.append(y)\n",
    "\n",
    "def point(sets) : # find element have only 1 length\n",
    "    sets_uniq = list(set(sets))\n",
    "    for num in sets_uniq :\n",
    "        count = 0\n",
    "        for i in range(len(sets)) :\n",
    "            if sets[i] == num :\n",
    "                count += 1 \n",
    "        if count == 1 :\n",
    "            return(num)\n",
    "            \n",
    "print(point(X), point(Y))"
   ]
  },
  {
   "cell_type": "markdown",
   "id": "4b0e6378",
   "metadata": {},
   "source": [
    "# Problem 3052"
   ]
  },
  {
   "cell_type": "markdown",
   "id": "af1e4561",
   "metadata": {},
   "source": [
    "문제 : \n",
    "두 자연수 A와 B가 있을 때, A%B는 A를 B로 나눈 나머지 이다. 예를 들어, 7, 14, 27, 38을 3으로 나눈 나머지는 1, 2, 0, 2이다. \n",
    "\n",
    "수 10개를 입력받은 뒤, 이를 42로 나눈 나머지를 구한다. 그 다음 서로 다른 값이 몇 개 있는지 출력하는 프로그램을 작성하시오.\n",
    "\n",
    "입력 :  \n",
    "첫째 줄부터 열번째 줄 까지 숫자가 한 줄에 하나씩 주어진다. 이 숫자는 1,000보다 작거나 같고, 음이 아닌 정수이다.\n",
    "\n",
    "출력 :  \n",
    "첫째 줄에, 42로 나누었을 때, 서로 다른 나머지가 몇 개 있는지 출력한다.\n",
    "\n",
    "풀이 : \n",
    "입력 값을 받는 경우가 \n",
    "1. 각 원소를 for문으로 받는경우\n",
    "2. list(map()) function을 쓰는 경우\n",
    "\n",
    "res에 값을 받고 바로 나눈 값을 입력하기 위해 첫번째 방법을 사용한다."
   ]
  },
  {
   "cell_type": "code",
   "execution_count": 1,
   "id": "4d276e39",
   "metadata": {},
   "outputs": [
    {
     "name": "stdout",
     "output_type": "stream",
     "text": [
      "39\n",
      "40\n",
      "41\n",
      "42\n",
      "43\n",
      "44\n",
      "82\n",
      "83\n",
      "84\n",
      "85\n",
      "6\n"
     ]
    }
   ],
   "source": [
    "res = []\n",
    "for i in range(10) :\n",
    "    num = int(input())\n",
    "    res.append(num%42)\n",
    "print(len(set(res)))"
   ]
  },
  {
   "cell_type": "markdown",
   "id": "0206bc81",
   "metadata": {},
   "source": [
    "# Problem 3053"
   ]
  },
  {
   "cell_type": "code",
   "execution_count": 5,
   "id": "3fbad619",
   "metadata": {},
   "outputs": [
    {
     "name": "stdout",
     "output_type": "stream",
     "text": [
      "21\n",
      "1385.44236\n",
      "882.0\n"
     ]
    }
   ],
   "source": [
    "import math\n",
    "r = int(input())\n",
    "print(round(math.pi*float(r**2), 6))\n",
    "print(round(2*float(r**2), 6))"
   ]
  },
  {
   "cell_type": "code",
   "execution_count": null,
   "id": "03d63934",
   "metadata": {},
   "outputs": [],
   "source": []
  }
 ],
 "metadata": {
  "kernelspec": {
   "display_name": "Python 3",
   "language": "python",
   "name": "python3"
  },
  "language_info": {
   "codemirror_mode": {
    "name": "ipython",
    "version": 3
   },
   "file_extension": ".py",
   "mimetype": "text/x-python",
   "name": "python",
   "nbconvert_exporter": "python",
   "pygments_lexer": "ipython3",
   "version": "3.8.8"
  },
  "toc": {
   "base_numbering": 1,
   "nav_menu": {},
   "number_sections": true,
   "sideBar": true,
   "skip_h1_title": false,
   "title_cell": "Table of Contents",
   "title_sidebar": "Contents",
   "toc_cell": false,
   "toc_position": {},
   "toc_section_display": true,
   "toc_window_display": false
  },
  "varInspector": {
   "cols": {
    "lenName": 16,
    "lenType": 16,
    "lenVar": 40
   },
   "kernels_config": {
    "python": {
     "delete_cmd_postfix": "",
     "delete_cmd_prefix": "del ",
     "library": "var_list.py",
     "varRefreshCmd": "print(var_dic_list())"
    },
    "r": {
     "delete_cmd_postfix": ") ",
     "delete_cmd_prefix": "rm(",
     "library": "var_list.r",
     "varRefreshCmd": "cat(var_dic_list()) "
    }
   },
   "types_to_exclude": [
    "module",
    "function",
    "builtin_function_or_method",
    "instance",
    "_Feature"
   ],
   "window_display": false
  }
 },
 "nbformat": 4,
 "nbformat_minor": 5
}
