{
 "cells": [
  {
   "cell_type": "markdown",
   "id": "926ff927",
   "metadata": {},
   "source": [
    "# Problem 11021"
   ]
  },
  {
   "cell_type": "markdown",
   "id": "42427bf5",
   "metadata": {},
   "source": [
    "문제 : 두 정수 A와 B를 입력받은 다음, A+B를 출력하는 프로그램을 작성하시오. \n",
    "\n",
    "첫째 줄에 테스트 케이스의 개수 T가 주어진다.\n",
    "\n",
    "각 테스트 케이스는 한 줄로 이루어져 있으며, 각 줄에 A와 B가 주어진다. (0 < A, B < 10)\n",
    "각 테스트 케이스마다 \"Case #x: \"를 출력한 다음, A+B를 출력한다. 테스트 케이스 번호는 1부터 시작한다.\n",
    "\n",
    "풀이 : Same as 15552"
   ]
  },
  {
   "cell_type": "code",
   "execution_count": 2,
   "id": "eb5896ab",
   "metadata": {},
   "outputs": [
    {
     "name": "stdout",
     "output_type": "stream",
     "text": [
      "5\n",
      "1 1\n",
      "Case #1: 2\n",
      "2 3\n",
      "Case #2: 5\n",
      "3 4\n",
      "Case #3: 7\n",
      "9 8\n",
      "Case #4: 17\n",
      "5 2\n",
      "Case #5: 7\n"
     ]
    }
   ],
   "source": [
    "T = int(input())\n",
    "\n",
    "for test_case in range(1, T+1) :\n",
    "    a, b = map(int, input().split())\n",
    "    print(\"Case #%s: %d\"%(test_case, a+b))"
   ]
  },
  {
   "cell_type": "markdown",
   "id": "6330a43a",
   "metadata": {},
   "source": [
    "# Problem 11022"
   ]
  },
  {
   "cell_type": "markdown",
   "id": "7bada28a",
   "metadata": {},
   "source": [
    "문제 : \n",
    "두 정수 A와 B를 입력받은 다음, A+B를 출력하는 프로그램을 작성하시오.\n",
    "\n",
    "첫째 줄에 테스트 케이스의 개수 T가 주어진다.\n",
    "\n",
    "각 테스트 케이스는 한 줄로 이루어져 있으며, 각 줄에 A와 B가 주어진다. (0 < A, B < 10)\n",
    "\n",
    "각 테스트 케이스마다 \"Case #x: A + B = C\" 형식으로 출력한다. x는 테스트 케이스 번호이고 1부터 시작하며, C는 A+B이다.\n",
    "\n",
    "풀이 : Same as 11021\n"
   ]
  },
  {
   "cell_type": "code",
   "execution_count": 3,
   "id": "08600bc1",
   "metadata": {},
   "outputs": [
    {
     "name": "stdout",
     "output_type": "stream",
     "text": [
      "5\n",
      "1 1\n",
      "Case #1: 1 + 1 = 2\n",
      "2 3\n",
      "Case #2: 2 + 3 = 5\n",
      "3 4\n",
      "Case #3: 3 + 4 = 7\n",
      "9 8\n",
      "Case #4: 9 + 8 = 17\n",
      "5 2\n",
      "Case #5: 5 + 2 = 7\n"
     ]
    }
   ],
   "source": [
    "T = int(input())\n",
    "\n",
    "for test_case in range(1, T+1) :\n",
    "    a, b = map(int, input().split())\n",
    "    print(\"Case #%s: %d + %d = %d\"%(test_case, a, b, a+b))"
   ]
  },
  {
   "cell_type": "markdown",
   "id": "bbaf6044",
   "metadata": {},
   "source": [
    "# Problem 11653"
   ]
  },
  {
   "cell_type": "code",
   "execution_count": 3,
   "id": "b7cf1ce3",
   "metadata": {},
   "outputs": [
    {
     "name": "stdout",
     "output_type": "stream",
     "text": [
      "72\n",
      "2\n",
      "2\n",
      "2\n",
      "3\n",
      "3\n"
     ]
    }
   ],
   "source": [
    "N = int(input())\n",
    "\n",
    "while N != 1 : \n",
    "    i = 2 \n",
    "    while True :\n",
    "        if N % i == 0 :\n",
    "            print(i) \n",
    "            N = N/i\n",
    "            break \n",
    "        i += 1"
   ]
  },
  {
   "cell_type": "markdown",
   "id": "25d2db65",
   "metadata": {},
   "source": [
    "# Problem 11654"
   ]
  },
  {
   "cell_type": "markdown",
   "id": "10415e9a",
   "metadata": {},
   "source": [
    "문제 :  \n",
    "알파벳 소문자, 대문자, 숫자 0-9중 하나가 주어졌을 때, 주어진 글자의 아스키 코드값을 출력하는 프로그램을 작성하시오.\n",
    "\n",
    "입력 :  \n",
    "알파벳 소문자, 대문자, 숫자 0-9 중 하나가 첫째 줄에 주어진다.\n",
    "\n",
    "출력 :   \n",
    "입력으로 주어진 글자의 아스키 코드 값을 출력한다.\n",
    "\n",
    "풀이 : \n",
    "내장함수 ord( ) 는 ASCII코드 값을 출력한다. "
   ]
  },
  {
   "cell_type": "code",
   "execution_count": 3,
   "id": "a8880891",
   "metadata": {},
   "outputs": [
    {
     "name": "stdout",
     "output_type": "stream",
     "text": [
      "9\n",
      "57\n"
     ]
    }
   ],
   "source": [
    "N = input()\n",
    "print(ord(N))"
   ]
  },
  {
   "cell_type": "markdown",
   "id": "fe6544f7",
   "metadata": {},
   "source": [
    "# Problem 11720"
   ]
  },
  {
   "cell_type": "markdown",
   "id": "c6043401",
   "metadata": {},
   "source": [
    "문제 :   \n",
    "N개의 숫자가 공백 없이 쓰여있다. 이 숫자를 모두 합해서 출력하는 프로그램을 작성하시오.\n",
    "\n",
    "입력 :  \n",
    "첫째 줄에 숫자의 개수 N (1 ≤ N ≤ 100)이 주어진다. 둘째 줄에 숫자 N개가 공백없이 주어진다.\n",
    "\n",
    "출력 :   \n",
    "입력으로 주어진 숫자 N개의 합을 출력한다.\n",
    "\n",
    "풀이 : \n",
    "N(숫자의 갯수), Num(더하고자하는 숫자)  \n",
    "N의 for loop의 에 대하여 Num의 각 자릿수를 sum에 업데이트한다. "
   ]
  },
  {
   "cell_type": "code",
   "execution_count": 9,
   "id": "d840a101",
   "metadata": {},
   "outputs": [
    {
     "name": "stdout",
     "output_type": "stream",
     "text": [
      "5\n",
      "54321\n",
      "15\n"
     ]
    }
   ],
   "source": [
    "N = int(input())\n",
    "Num  = input()\n",
    "sum = 0\n",
    "for i in range(N) :\n",
    "    sum += int(Num[i])\n",
    "print(sum)"
   ]
  },
  {
   "cell_type": "markdown",
   "id": "bce62752",
   "metadata": {},
   "source": [
    "# Problem 11729"
   ]
  },
  {
   "cell_type": "code",
   "execution_count": 23,
   "id": "191a5684",
   "metadata": {},
   "outputs": [
    {
     "name": "stdout",
     "output_type": "stream",
     "text": [
      "3\n",
      "7\n",
      "1 3\n",
      "1 2\n",
      "3 2\n",
      "1 3\n",
      "2 1\n",
      "2 3\n",
      "1 3\n"
     ]
    }
   ],
   "source": [
    "N = int(input())\n",
    "start = 1; via = 2; to = 3\n",
    "\n",
    "def hanoi(N, start, via, to) :\n",
    "    if N == 1 :\n",
    "        print(start, to)\n",
    "    else :\n",
    "        hanoi(N-1, start, to, via)\n",
    "        print(start, to)\n",
    "        hanoi(N-1, via, start, to)\n",
    "\n",
    "print(2**int(N)-1)\n",
    "hanoi(N, start, via, to)"
   ]
  }
 ],
 "metadata": {
  "kernelspec": {
   "display_name": "Python 3",
   "language": "python",
   "name": "python3"
  },
  "language_info": {
   "codemirror_mode": {
    "name": "ipython",
    "version": 3
   },
   "file_extension": ".py",
   "mimetype": "text/x-python",
   "name": "python",
   "nbconvert_exporter": "python",
   "pygments_lexer": "ipython3",
   "version": "3.8.8"
  },
  "toc": {
   "base_numbering": 1,
   "nav_menu": {},
   "number_sections": true,
   "sideBar": true,
   "skip_h1_title": false,
   "title_cell": "Table of Contents",
   "title_sidebar": "Contents",
   "toc_cell": false,
   "toc_position": {},
   "toc_section_display": true,
   "toc_window_display": true
  },
  "varInspector": {
   "cols": {
    "lenName": 16,
    "lenType": 16,
    "lenVar": 40
   },
   "kernels_config": {
    "python": {
     "delete_cmd_postfix": "",
     "delete_cmd_prefix": "del ",
     "library": "var_list.py",
     "varRefreshCmd": "print(var_dic_list())"
    },
    "r": {
     "delete_cmd_postfix": ") ",
     "delete_cmd_prefix": "rm(",
     "library": "var_list.r",
     "varRefreshCmd": "cat(var_dic_list()) "
    }
   },
   "types_to_exclude": [
    "module",
    "function",
    "builtin_function_or_method",
    "instance",
    "_Feature"
   ],
   "window_display": false
  }
 },
 "nbformat": 4,
 "nbformat_minor": 5
}
