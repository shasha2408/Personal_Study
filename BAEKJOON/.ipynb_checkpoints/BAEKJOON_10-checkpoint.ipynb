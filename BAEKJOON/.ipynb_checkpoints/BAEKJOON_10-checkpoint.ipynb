{
 "cells": [
  {
   "cell_type": "markdown",
   "id": "2ba82b59",
   "metadata": {},
   "source": [
    "# Problem 10171"
   ]
  },
  {
   "cell_type": "markdown",
   "id": "ab4e14e8",
   "metadata": {},
   "source": [
    "풀이 : print 함수 이용 출력"
   ]
  },
  {
   "cell_type": "code",
   "execution_count": 4,
   "id": "33211abb",
   "metadata": {},
   "outputs": [
    {
     "name": "stdout",
     "output_type": "stream",
     "text": [
      "\\    /\\ \n",
      " )  ( ')\n",
      "(  /  )\n",
      " \\(__)|\n"
     ]
    }
   ],
   "source": [
    "print(\"\\    /\\ \")\n",
    "print(\" )  ( ')\")\n",
    "print(\"(  /  )\")\n",
    "print(\" \\(__)|\")"
   ]
  },
  {
   "cell_type": "markdown",
   "id": "bd3023d1",
   "metadata": {},
   "source": [
    "# Problem 10172"
   ]
  },
  {
   "cell_type": "markdown",
   "id": "874bc107",
   "metadata": {},
   "source": [
    "풀이 : print 함수 이용 출력"
   ]
  },
  {
   "cell_type": "code",
   "execution_count": 15,
   "id": "46e1dbec",
   "metadata": {
    "scrolled": true
   },
   "outputs": [
    {
     "name": "stdout",
     "output_type": "stream",
     "text": [
      "|\\_/|\n",
      "|q p|   /}\n",
      "( 0 )\"\"\"\\ \n",
      "|\"^\"`    |\n",
      "||_/=\\\\__|\n"
     ]
    }
   ],
   "source": [
    "print(\"|\\_/|\")\n",
    "print(\"|q p|   /}\")\n",
    "print('( 0 )\"\"\"\\ ')\n",
    "print('|\"^\"`    |')\n",
    "print(\"||_/=\\\\\\__|\")"
   ]
  },
  {
   "cell_type": "markdown",
   "id": "b54b9702",
   "metadata": {},
   "source": [
    "# Problem 10250"
   ]
  },
  {
   "cell_type": "code",
   "execution_count": 43,
   "id": "a999af7b",
   "metadata": {},
   "outputs": [
    {
     "name": "stdout",
     "output_type": "stream",
     "text": [
      "2\n",
      "6 12 10\n",
      "402\n",
      "30 50 72\n",
      "1203\n"
     ]
    }
   ],
   "source": [
    "T = int(input())\n",
    "\n",
    "for _ in range(T) :\n",
    "    H, W, N = map(int, input().split())\n",
    "    if N % H == 0 :\n",
    "        floor = H\n",
    "        room = N//H\n",
    "    else : \n",
    "        floor = N % H\n",
    "        room = N//H + 1\n",
    "\n",
    "    if room < 10 :\n",
    "        print(str(floor) + '0' + str(room))\n",
    "    else :\n",
    "        print(str(floor) + str(room))"
   ]
  },
  {
   "cell_type": "markdown",
   "id": "abe4d64e",
   "metadata": {},
   "source": [
    "# Problem 10430"
   ]
  },
  {
   "cell_type": "markdown",
   "id": "c8bf1ee1",
   "metadata": {},
   "source": [
    "풀이 : A, B, C 세 숫자를 입력받은후, answer list에 비교하고자하는 사칙연산을 저장한다. \n",
    "결과를 for문을 통해 출력한다."
   ]
  },
  {
   "cell_type": "code",
   "execution_count": 19,
   "id": "52137afa",
   "metadata": {},
   "outputs": [
    {
     "name": "stdout",
     "output_type": "stream",
     "text": [
      "5 8 4\n",
      "1\n",
      "1\n",
      "0\n",
      "0\n"
     ]
    }
   ],
   "source": [
    "A, B, C = map(int, input().split())\n",
    "answer = [(A+B)%C, ((A%C) + (B%C))%C, (A*B)%C, ((A%C)*(B%C))%C]\n",
    "\n",
    "for ans in answer :\n",
    "    print(ans)"
   ]
  },
  {
   "cell_type": "markdown",
   "id": "be1984af",
   "metadata": {},
   "source": [
    "# Problem 10718"
   ]
  },
  {
   "cell_type": "markdown",
   "id": "6566521e",
   "metadata": {},
   "source": [
    "풀이 : print 함수와 \"\\n\"을 사용하여 줄넘김 후 출력한다."
   ]
  },
  {
   "cell_type": "code",
   "execution_count": 2,
   "id": "3e8cc269",
   "metadata": {},
   "outputs": [
    {
     "name": "stdout",
     "output_type": "stream",
     "text": [
      "강한친구 대한육군\n",
      "강한친구 대한육군\n"
     ]
    }
   ],
   "source": [
    "print(\"강한친구 대한육군\\n강한친구 대한육군\")"
   ]
  },
  {
   "cell_type": "markdown",
   "id": "f5497ffa",
   "metadata": {},
   "source": [
    "# Problem 10757"
   ]
  },
  {
   "cell_type": "code",
   "execution_count": 1,
   "id": "2ec28385",
   "metadata": {},
   "outputs": [
    {
     "name": "stdout",
     "output_type": "stream",
     "text": [
      "1 2\n",
      "3\n"
     ]
    }
   ],
   "source": [
    "A, B = map(int, input().split())\n",
    "print(A+B)"
   ]
  },
  {
   "cell_type": "markdown",
   "id": "24e6ad90",
   "metadata": {},
   "source": [
    "# Problem 10809"
   ]
  },
  {
   "cell_type": "markdown",
   "id": "f6179c78",
   "metadata": {},
   "source": [
    "문제 :   \n",
    "알파벳 소문자로만 이루어진 단어 S가 주어진다. 각각의 알파벳에 대해서, 단어에 포함되어 있는 경우에는 처음 등장하는 위치를, 포함되어 있지 않은 경우에는 -1을 출력하는 프로그램을 작성하시오.\n",
    "\n",
    "입력 :   \n",
    "첫째 줄에 단어 S가 주어진다. 단어의 길이는 100을 넘지 않으며, 알파벳 소문자로만 이루어져 있다.\n",
    "\n",
    "출력 :    \n",
    "각각의 알파벳에 대해서, a가 처음 등장하는 위치, b가 처음 등장하는 위치, ... z가 처음 등장하는 위치를 공백으로 구분해서 출력한다.\n",
    "만약, 어떤 알파벳이 단어에 포함되어 있지 않다면 -1을 출력한다. 단어의 첫 번째 글자는 0번째 위치이고, 두 번째 글자는 1번째 위치이다.\n",
    "\n",
    "풀이 : \n",
    "First of all, make alphabet_list to find where alphabet is exist.  \n",
    "Using for loop in alphabet_list, if alphabet is existed in input_str, return index of alphabet_list's alphabet.  \n",
    "In else case, just return -1.   "
   ]
  },
  {
   "cell_type": "code",
   "execution_count": 15,
   "id": "f74ec4ff",
   "metadata": {},
   "outputs": [
    {
     "name": "stdout",
     "output_type": "stream",
     "text": [
      "baekjoon\n",
      "1 0 -1 -1 2 -1 -1 -1 -1 4 3 -1 -1 7 5 -1 -1 -1 -1 -1 -1 -1 -1 -1 -1 -1\n"
     ]
    }
   ],
   "source": [
    "input_str = input()\n",
    "alphabet_list = ['a', 'b', 'c', 'd', 'e', 'f', 'g', 'h', 'i', 'j', 'k', 'l', 'm', \n",
    "                 'n', 'o', 'p', 'q', 'r', 's', 't', 'u', 'v', 'w', 'x', 'y', 'z']\n",
    "res = []\n",
    "\n",
    "# going though alphabet_list, check if there are any alphabet in input_str \n",
    "# and append index if there are in if statement\n",
    "for i in range(len(alphabet_list)) :\n",
    "    if alphabet_list[i] in input_str : \n",
    "        res.append(str(input_str.index(alphabet_list[i])))\n",
    "    else : \n",
    "        res.append('-1')\n",
    "print(' '.join(res))"
   ]
  },
  {
   "cell_type": "markdown",
   "id": "f1216a41",
   "metadata": {},
   "source": [
    "# Problem 10818"
   ]
  },
  {
   "cell_type": "markdown",
   "id": "6c01126b",
   "metadata": {},
   "source": [
    "문제 :  \n",
    "N개의 정수가 주어진다. 이때, 최솟값과 최댓값을 구하는 프로그램을 작성하시오.\n",
    "\n",
    "입력 :  \n",
    "첫째 줄에 정수의 개수 N (1 ≤ N ≤ 1,000,000)이 주어진다. 둘째 줄에는 N개의 정수를 공백으로 구분해서 주어진다. 모든 정수는 -1,000,000보다 크거나 같고, 1,000,000보다 작거나 같은 정수이다.\n",
    "\n",
    "출력 :  \n",
    "첫째 줄에 주어진 정수 N개의 최솟값과 최댓값을 공백으로 구분해 출력한다.\n",
    "\n",
    "풀이 : \n",
    "map( ~ ) 에 list()를 씌워 Nlist에 저장하고, 간단한 내장 function 인 min, max를 이용하여 결과를 출력한다."
   ]
  },
  {
   "cell_type": "code",
   "execution_count": 2,
   "id": "b816069c",
   "metadata": {},
   "outputs": [
    {
     "name": "stdout",
     "output_type": "stream",
     "text": [
      "5\n",
      "20 10 35 30 7\n",
      "7 35\n"
     ]
    }
   ],
   "source": [
    "N = int(input())\n",
    "Nlist = list(map(int, input().split()))\n",
    "print(min(Nlist), max(Nlist))"
   ]
  },
  {
   "cell_type": "markdown",
   "id": "79dbb612",
   "metadata": {},
   "source": [
    "# Problem 10869"
   ]
  },
  {
   "cell_type": "markdown",
   "id": "6e2de193",
   "metadata": {},
   "source": [
    "풀이 : 두 수를 입력받은 후, answer list에 사칙연산을 저장하고 for문을 통해 원소를 출력한다."
   ]
  },
  {
   "cell_type": "code",
   "execution_count": 1,
   "id": "d1b46315",
   "metadata": {},
   "outputs": [
    {
     "name": "stdout",
     "output_type": "stream",
     "text": [
      "7 8\n",
      "15\n",
      "-1\n",
      "56\n",
      "0\n",
      "7\n"
     ]
    }
   ],
   "source": [
    "A, B = map(int, input().split())\n",
    "answer = [A+B, A-B, A*B, A//B, A%B]\n",
    "\n",
    "for ans in answer :\n",
    "    print(ans)"
   ]
  },
  {
   "cell_type": "markdown",
   "id": "b87398f9",
   "metadata": {},
   "source": [
    "# Problem 10870 "
   ]
  },
  {
   "cell_type": "code",
   "execution_count": 13,
   "id": "89dbb8e5",
   "metadata": {},
   "outputs": [
    {
     "name": "stdout",
     "output_type": "stream",
     "text": [
      "10\n",
      "55\n"
     ]
    }
   ],
   "source": [
    "def fibo(n) :\n",
    "    if n == 0 :\n",
    "        return 0\n",
    "    if n == 1 :\n",
    "        return 1\n",
    "    else : \n",
    "        return fibo(n-1) + fibo(n-2)\n",
    "\n",
    "N = int(input())\n",
    "print(fibo(N))"
   ]
  },
  {
   "cell_type": "markdown",
   "id": "6707458a",
   "metadata": {},
   "source": [
    "# Problem 10871"
   ]
  },
  {
   "cell_type": "markdown",
   "id": "d127ccfc",
   "metadata": {},
   "source": [
    "문제 : \n",
    "정수 N개로 이루어진 수열 A와 정수 X가 주어진다. 이때, A에서 X보다 작은 수를 모두 출력하는 프로그램을 작성하시오.  \n",
    "\n",
    "입력 :   \n",
    "첫째 줄에 N과 X가 주어진다. (1 ≤ N, X ≤ 10,000)\n",
    "\n",
    "둘째 줄에 수열 A를 이루는 정수 N개가 주어진다. 주어지는 정수는 모두 1보다 크거나 같고, 10,000보다 작거나 같은 정수이다.\n",
    "\n",
    "출력 :  \n",
    "X보다 작은 수를 입력받은 순서대로 공백으로 구분해 출력한다. X보다 작은 수는 적어도 하나 존재한다.\n",
    "\n",
    "풀이 : 정수 N개가 있는 수열 A에 대하여, X를 입력했을 때, for문에 각 list의 원소를 읽어 if문을 만족하는 경우 res수열에 저장하여 새로운 배열을 만든다.   \n",
    "i = 0, A[0] < X -> res에 추가  \n",
    "i = 1, A[1] < X -> res에 추가X  "
   ]
  },
  {
   "cell_type": "code",
   "execution_count": 6,
   "id": "39e1fdf1",
   "metadata": {},
   "outputs": [
    {
     "name": "stdout",
     "output_type": "stream",
     "text": [
      "10 5\n",
      "1 10 4 9 2 3 8 5 7 6\n",
      "1 4 2 3\n"
     ]
    }
   ],
   "source": [
    "N, X = map(int, input().split())\n",
    "A = list(map(int, input().split()))\n",
    "res = []\n",
    "\n",
    "for i in range(N) : \n",
    "    if A[i] < X : \n",
    "        res.append(str(A[i]))\n",
    "print(' '.join(res))"
   ]
  },
  {
   "cell_type": "markdown",
   "id": "fccb0bf1",
   "metadata": {},
   "source": [
    "# Problem 10872 "
   ]
  },
  {
   "cell_type": "code",
   "execution_count": 10,
   "id": "74ab5cb9",
   "metadata": {},
   "outputs": [
    {
     "name": "stdout",
     "output_type": "stream",
     "text": [
      "10\n",
      "3628800\n"
     ]
    }
   ],
   "source": [
    "N = int(input())\n",
    "def factorial(n) :\n",
    "    if n <= 1 :\n",
    "        return 1\n",
    "    else : \n",
    "        return n*factorial(n-1)\n",
    "print(factorial(N))"
   ]
  },
  {
   "cell_type": "markdown",
   "id": "5ad8c1e5",
   "metadata": {},
   "source": [
    "# Problem 10950"
   ]
  },
  {
   "cell_type": "markdown",
   "id": "209ad3ca",
   "metadata": {},
   "source": [
    "문제 : 두 정수 A와 B를 입력받은 다음, A+B를 출력하는 프로그램을 작성하시오.\n",
    "\n",
    "풀이 : 테스트를 진행 할 변수를 T에 저장했을때, range(T)만큼 반복만 하면 된다."
   ]
  },
  {
   "cell_type": "code",
   "execution_count": 1,
   "id": "790d83c0",
   "metadata": {
    "scrolled": true
   },
   "outputs": [
    {
     "name": "stdout",
     "output_type": "stream",
     "text": [
      "5\n",
      "1 1\n",
      "2\n",
      "2 3\n",
      "5\n",
      "3 4\n",
      "7\n",
      "9 8\n",
      "17\n",
      "5 2\n",
      "7\n"
     ]
    }
   ],
   "source": [
    "T = int(input())\n",
    "for _ in range(T) :\n",
    "    a, b = map(int, input().split())\n",
    "    print(a+b)"
   ]
  },
  {
   "cell_type": "markdown",
   "id": "8b25ac00",
   "metadata": {},
   "source": [
    "# Problem 10951"
   ]
  },
  {
   "cell_type": "markdown",
   "id": "b4c10144",
   "metadata": {},
   "source": [
    "문제 :  \n",
    "두 정수 A와 B를 입력받은 다음, A+B를 출력하는 프로그램을 작성하시오.  \n",
    "\n",
    "입력 :  \n",
    "입력은 여러 개의 테스트 케이스로 이루어져 있다.\n",
    "\n",
    "각 테스트 케이스는 한 줄로 이루어져 있으며, 각 줄에 A와 B가 주어진다. (0 < A, B < 10)\n",
    "\n",
    "입력의 마지막에는 0 두 개가 들어온다.\n",
    "\n",
    "출력 :  \n",
    "각 테스트 케이스마다 A+B를 출력한다. \n",
    "\n",
    "풀이 :  \n",
    "10952문제와 풀이가 비슷하나 따로 출구없이 진행한다."
   ]
  },
  {
   "cell_type": "code",
   "execution_count": 5,
   "id": "0a320f31",
   "metadata": {},
   "outputs": [
    {
     "name": "stdout",
     "output_type": "stream",
     "text": [
      "1 1\n",
      "2\n",
      "1 a\n"
     ]
    }
   ],
   "source": [
    "while True:\n",
    "    try:\n",
    "        A, B = map(int, input().split())\n",
    "        print(A+B)\n",
    "    except:\n",
    "        break"
   ]
  },
  {
   "cell_type": "markdown",
   "id": "7c0cb847",
   "metadata": {},
   "source": [
    "# Problem 10952"
   ]
  },
  {
   "cell_type": "markdown",
   "id": "68cdf4c1",
   "metadata": {},
   "source": [
    "문제 :  \n",
    "두 정수 A와 B를 입력받은 다음, A+B를 출력하는 프로그램을 작성하시오.  \n",
    "\n",
    "입력 :  \n",
    "입력은 여러 개의 테스트 케이스로 이루어져 있다.\n",
    "\n",
    "각 테스트 케이스는 한 줄로 이루어져 있으며, 각 줄에 A와 B가 주어진다. (0 < A, B < 10)\n",
    "\n",
    "입력의 마지막에는 0 두 개가 들어온다.\n",
    "\n",
    "출력 :  \n",
    "각 테스트 케이스마다 A+B를 출력한다. \n",
    "\n",
    "풀이 :  \n",
    "A, B가 둘다 0일때 While 문을 종료하면 되기때문에 while A + B != 0 : 으로 처리하거나  \n",
    "while True : -> if A + B == 0으로 예외처리를 한다."
   ]
  },
  {
   "cell_type": "code",
   "execution_count": 4,
   "id": "c265f4e6",
   "metadata": {},
   "outputs": [
    {
     "name": "stdout",
     "output_type": "stream",
     "text": [
      "1 1\n",
      "2\n",
      "2 3\n",
      "5\n",
      "3 4\n",
      "7\n",
      "9 8\n",
      "17\n",
      "5 2\n",
      "7\n",
      "0 0\n"
     ]
    }
   ],
   "source": [
    "while True :\n",
    "    A, B = map(int, input().split())\n",
    "    if A + B == 0 :\n",
    "        break \n",
    "    else :\n",
    "        print(A+B)"
   ]
  },
  {
   "cell_type": "markdown",
   "id": "6cf55dc3",
   "metadata": {},
   "source": [
    "# Problem 10998"
   ]
  },
  {
   "cell_type": "markdown",
   "id": "25fb759a",
   "metadata": {},
   "source": [
    "풀이 : 두 수를 한번에 입력받을 때에는 map(int, input().split())을 통해 각각 변수에 지정한다."
   ]
  },
  {
   "cell_type": "code",
   "execution_count": 16,
   "id": "69192167",
   "metadata": {},
   "outputs": [
    {
     "name": "stdout",
     "output_type": "stream",
     "text": [
      "1 2\n",
      "2\n"
     ]
    }
   ],
   "source": [
    "A, B = map(int, input().split())\n",
    "print(A*B)"
   ]
  },
  {
   "cell_type": "code",
   "execution_count": null,
   "id": "2d40edae",
   "metadata": {},
   "outputs": [],
   "source": []
  }
 ],
 "metadata": {
  "kernelspec": {
   "display_name": "Python 3",
   "language": "python",
   "name": "python3"
  },
  "language_info": {
   "codemirror_mode": {
    "name": "ipython",
    "version": 3
   },
   "file_extension": ".py",
   "mimetype": "text/x-python",
   "name": "python",
   "nbconvert_exporter": "python",
   "pygments_lexer": "ipython3",
   "version": "3.8.8"
  },
  "toc": {
   "base_numbering": 1,
   "nav_menu": {},
   "number_sections": true,
   "sideBar": true,
   "skip_h1_title": false,
   "title_cell": "Table of Contents",
   "title_sidebar": "Contents",
   "toc_cell": false,
   "toc_position": {
    "height": "calc(100% - 180px)",
    "left": "10px",
    "top": "150px",
    "width": "384px"
   },
   "toc_section_display": true,
   "toc_window_display": true
  },
  "varInspector": {
   "cols": {
    "lenName": 16,
    "lenType": 16,
    "lenVar": 40
   },
   "kernels_config": {
    "python": {
     "delete_cmd_postfix": "",
     "delete_cmd_prefix": "del ",
     "library": "var_list.py",
     "varRefreshCmd": "print(var_dic_list())"
    },
    "r": {
     "delete_cmd_postfix": ") ",
     "delete_cmd_prefix": "rm(",
     "library": "var_list.r",
     "varRefreshCmd": "cat(var_dic_list()) "
    }
   },
   "types_to_exclude": [
    "module",
    "function",
    "builtin_function_or_method",
    "instance",
    "_Feature"
   ],
   "window_display": false
  }
 },
 "nbformat": 4,
 "nbformat_minor": 5
}
