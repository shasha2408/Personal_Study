{
 "cells": [
  {
   "cell_type": "markdown",
   "id": "fd76ca32",
   "metadata": {},
   "source": [
    "# Problem 2292"
   ]
  },
  {
   "cell_type": "code",
   "execution_count": 2,
   "id": "75924d3f",
   "metadata": {},
   "outputs": [
    {
     "name": "stdout",
     "output_type": "stream",
     "text": [
      "58\n",
      "5\n"
     ]
    }
   ],
   "source": [
    "N = int(input())\n",
    "line = 1; cumsum = 1\n",
    "while cumsum < N :\n",
    "    cumsum += 6*line\n",
    "    line += 1\n",
    "print(line)"
   ]
  },
  {
   "cell_type": "markdown",
   "id": "2193a362",
   "metadata": {},
   "source": [
    "# Problem 2438"
   ]
  },
  {
   "cell_type": "markdown",
   "id": "e3d993ac",
   "metadata": {},
   "source": [
    "문제 :  \n",
    "첫째 줄에는 별 1개, 둘째 줄에는 별 2개, N번째 줄에는 별 N개를 찍는 문제  \n",
    "\n",
    "입력 :  \n",
    "첫째 줄에 N(1 ≤ N ≤ 100)이 주어진다.\n",
    "\n",
    "출력 :  \n",
    "첫째 줄부터 N번째 줄까지 차례대로 별을 출력한다.\n",
    "\n",
    "풀이 : 1~N까지 반복하는 숫자 만큼 * 을 곱하여 출력한다.  \n",
    "i = 1, *   \n",
    "\n",
    "i = 2, **   \n",
    "\n",
    "i = 3, ***   \n",
    "\n",
    "i = 4, ****  \n",
    "\n",
    "i = 5, *****"
   ]
  },
  {
   "cell_type": "code",
   "execution_count": 4,
   "id": "2e9d8b96",
   "metadata": {},
   "outputs": [
    {
     "name": "stdout",
     "output_type": "stream",
     "text": [
      "5\n",
      "*\n",
      "**\n",
      "***\n",
      "****\n",
      "*****\n"
     ]
    }
   ],
   "source": [
    "N = int(input())\n",
    "\n",
    "for i in range(1, N+1) :\n",
    "    print('*'*i)"
   ]
  },
  {
   "cell_type": "markdown",
   "id": "2629e9a1",
   "metadata": {},
   "source": [
    "# Problem 2439"
   ]
  },
  {
   "cell_type": "markdown",
   "id": "2868f966",
   "metadata": {},
   "source": [
    "문제 :  \n",
    "첫째 줄에는 별 1개, 둘째 줄에는 별 2개, N번째 줄에는 별 N개를 찍는 문제\n",
    "\n",
    "하지만, 오른쪽을 기준으로 정렬한 별(예제 참고)을 출력하시오.\n",
    "\n",
    "입력 :  \n",
    "첫째 줄에 N(1 ≤ N ≤ 100)이 주어진다.\n",
    "\n",
    "출력 :  \n",
    "첫째 줄부터 N번째 줄까지 차례대로 별을 출력한다.  \n",
    "\n",
    "풀이 : Same as 2438, 하지만 총 5칸에서 빈칸이 먼저 출력되어 오른쪽 끝에 찍혀야하로 ' ' * (N-1)의 빈칸을 먼저 출력한다.\n",
    "\n",
    "i = 1, ' ' = 4 + * = 1  \n",
    "i = 2, ' ' = 3 + * = 2  \n",
    "i = 3, ' ' = 2 + * = 3\n",
    "i = 4, ' ' = 1 + * = 4\n",
    "i = 5, ' ' = 0 + * = 5"
   ]
  },
  {
   "cell_type": "code",
   "execution_count": 5,
   "id": "08e618d7",
   "metadata": {
    "scrolled": true
   },
   "outputs": [
    {
     "name": "stdout",
     "output_type": "stream",
     "text": [
      "5\n",
      "    *\n",
      "   **\n",
      "  ***\n",
      " ****\n",
      "*****\n"
     ]
    }
   ],
   "source": [
    "N = int(input())\n",
    "\n",
    "for i in range(1, N+1) :\n",
    "    print(' '*(N-i)+'*'*i)"
   ]
  },
  {
   "cell_type": "markdown",
   "id": "a22413f9",
   "metadata": {},
   "source": [
    "# Problem 2447"
   ]
  },
  {
   "cell_type": "code",
   "execution_count": 1,
   "id": "82cbcea9",
   "metadata": {},
   "outputs": [
    {
     "ename": "SyntaxError",
     "evalue": "invalid syntax (<ipython-input-1-24bec49e9d3f>, line 4)",
     "output_type": "error",
     "traceback": [
      "\u001b[0;36m  File \u001b[0;32m\"<ipython-input-1-24bec49e9d3f>\"\u001b[0;36m, line \u001b[0;32m4\u001b[0m\n\u001b[0;31m    else :\u001b[0m\n\u001b[0m    ^\u001b[0m\n\u001b[0;31mSyntaxError\u001b[0m\u001b[0;31m:\u001b[0m invalid syntax\n"
     ]
    }
   ],
   "source": [
    "def star(n) :\n",
    "    if N == 3 :\n",
    "        return ''.join(['***\\n', '* *\\n', '***']\n",
    " b   else : \n",
    "        print(star(N/3)*3 )\n",
    "        "
   ]
  },
  {
   "cell_type": "code",
   "execution_count": 11,
   "id": "8c98925e",
   "metadata": {},
   "outputs": [
    {
     "name": "stdout",
     "output_type": "stream",
     "text": [
      "***\n",
      "* *\n",
      "******\n",
      "* *\n",
      "******\n",
      "* *\n",
      "***\n"
     ]
    }
   ],
   "source": [
    "N = 3\n",
    "'*'*N +  "
   ]
  },
  {
   "cell_type": "markdown",
   "id": "c0264104",
   "metadata": {},
   "source": [
    "# Problem 2557"
   ]
  },
  {
   "cell_type": "markdown",
   "id": "4ba55208",
   "metadata": {},
   "source": [
    "풀이 : print 함수를 사용하여 원하는 문장을 출력시킨다."
   ]
  },
  {
   "cell_type": "code",
   "execution_count": 1,
   "id": "dbb92d9e",
   "metadata": {},
   "outputs": [
    {
     "name": "stdout",
     "output_type": "stream",
     "text": [
      "Hello World!\n"
     ]
    }
   ],
   "source": [
    "print(\"Hello World!\")"
   ]
  },
  {
   "cell_type": "markdown",
   "id": "e4543175",
   "metadata": {},
   "source": [
    "# Problem 2562"
   ]
  },
  {
   "cell_type": "markdown",
   "id": "eaafe220",
   "metadata": {},
   "source": [
    "문제 :  \n",
    "9개의 서로 다른 자연수가 주어질 때, 이들 중 최댓값을 찾고 그 최댓값이 몇 번째 수인지를 구하는 프로그램을 작성하시오.\n",
    "\n",
    "예를 들어, 서로 다른 9개의 자연수\n",
    "\n",
    "3, 29, 38, 12, 57, 74, 40, 85, 61\n",
    "\n",
    "이 주어지면, 이들 중 최댓값은 85이고, 이 값은 8번째 수이다.\n",
    "\n",
    "입력 :  \n",
    "첫째 줄부터 아홉 번째 줄까지 한 줄에 하나의 자연수가 주어진다. 주어지는 자연수는 100 보다 작다.\n",
    "\n",
    "출력 :  \n",
    "첫째 줄에 최댓값을 출력하고, 둘째 줄에 최댓값이 몇 번째 수인지를 출력한다.\n",
    "\n",
    "풀이 :  \n",
    "개별값을 입력받아 list에 저장해야 하므로, for loop를 이용하여 n -> Nlist에 값을 저장한다.\n",
    "이후 결과값을 출력하기 위해 max(), index(max()) function을 이용한다. "
   ]
  },
  {
   "cell_type": "code",
   "execution_count": 4,
   "id": "7537e5ee",
   "metadata": {},
   "outputs": [
    {
     "name": "stdout",
     "output_type": "stream",
     "text": [
      "3\n",
      "29\n",
      "38\n",
      "12\n",
      "57\n",
      "74\n",
      "40\n",
      "85\n",
      "61\n",
      "85\n",
      "8\n"
     ]
    }
   ],
   "source": [
    "Nlist = []\n",
    "for _ in range(9) : \n",
    "    n = int(input())\n",
    "    Nlist.append(n)\n",
    "print(max(Nlist))\n",
    "print(Nlist.index(max(Nlist))+1)"
   ]
  },
  {
   "cell_type": "markdown",
   "id": "ed19d99b",
   "metadata": {},
   "source": [
    "# Problem 2577"
   ]
  },
  {
   "cell_type": "markdown",
   "id": "23ac5661",
   "metadata": {},
   "source": [
    "문제 :  \n",
    "세 개의 자연수 A, B, C가 주어질 때 A × B × C를 계산한 결과에 0부터 9까지 각각의 숫자가 몇 번씩 쓰였는지를 구하는 프로그램을 작성하시오.\n",
    "\n",
    "예를 들어 A = 150, B = 266, C = 427 이라면 A × B × C = 150 × 266 × 427 = 17037300 이 되고, 계산한 결과 17037300 에는 0이 3번, 1이 1번, 3이 2번, 7이 2번 쓰였다.\n",
    "\n",
    "입력 : \n",
    "첫째 줄에 A, 둘째 줄에 B, 셋째 줄에 C가 주어진다. A, B, C는 모두 100보다 크거나 같고, 1,000보다 작은 자연수이다.\n",
    "\n",
    "출력 :  \n",
    "첫째 줄에는 A × B × C의 결과에 0 이 몇 번 쓰였는지 출력한다. 마찬가지로 둘째 줄부터 열 번째 줄까지 A × B × C의 결과에 1부터 9까지의 숫자가 각각 몇 번 쓰였는지 차례로 한 줄에 하나씩 출력한다.\n",
    "\n",
    "풀이 : \n",
    "결과값을 출력하기 위한 list인 res와 A, B, C의 곱인 mul을 만들고, res에 0 ~ 9 까지의 count값을 저장할 count변수를 설정한다.\n",
    "첫번째 for문에서는 mul의 각 원소와 비교하기 위한 0 ~ 9를 i에 넣고, 두번째 for문에 각 원소와 i의 여부를 비교하여 count값을 res에 넣는다. \n",
    "\n",
    "i = 0, count = 0, j = 0, str(mul)[0] = str(i) ? -> count = 1, count = 0 "
   ]
  },
  {
   "cell_type": "code",
   "execution_count": 8,
   "id": "dc4d654a",
   "metadata": {},
   "outputs": [
    {
     "name": "stdout",
     "output_type": "stream",
     "text": [
      "150\n",
      "266\n",
      "427\n",
      "3\n",
      "1\n",
      "0\n",
      "2\n",
      "0\n",
      "0\n",
      "0\n",
      "2\n",
      "0\n",
      "0\n"
     ]
    }
   ],
   "source": [
    "A = int(input())\n",
    "B = int(input())\n",
    "C = int(input())\n",
    "res = []; \n",
    "mul = A*B*C\n",
    "\n",
    "for i in range(10) :\n",
    "    count = 0\n",
    "    for j in range(len(str(mul))) :\n",
    "        if str(mul)[j] == str(i):\n",
    "            count += 1\n",
    "    res.append(count)\n",
    "\n",
    "for k in res :\n",
    "    print(k)"
   ]
  },
  {
   "cell_type": "markdown",
   "id": "ef694f52",
   "metadata": {},
   "source": [
    "# Problem 2581"
   ]
  },
  {
   "cell_type": "code",
   "execution_count": 8,
   "id": "d983b85f",
   "metadata": {},
   "outputs": [
    {
     "name": "stdout",
     "output_type": "stream",
     "text": [
      "60\n",
      "100\n",
      "620\n",
      "61\n"
     ]
    }
   ],
   "source": [
    "N = int(input())\n",
    "M = int(input())\n",
    "\n",
    "def prime_num(N, M) : \n",
    "    res = []\n",
    "    for i in range(N, M+1) :\n",
    "        divcount = 0\n",
    "        for j in range(1, i) :\n",
    "            if i % j == 0 :\n",
    "                divcount += 1 # count 1 ~ num_list[i] \n",
    "        if divcount == 1 : # divcount must be 1 if num is answer\n",
    "            res.append(i)\n",
    "    return(res)\n",
    "ans = prime_num(N, M)\n",
    "if len(ans) == 0 :\n",
    "    print(-1)\n",
    "else :\n",
    "    print(sum(ans))\n",
    "    print(min(ans))"
   ]
  },
  {
   "cell_type": "markdown",
   "id": "a9fdc1d9",
   "metadata": {},
   "source": [
    "# Problem 2588"
   ]
  },
  {
   "cell_type": "markdown",
   "id": "8d1edd0f",
   "metadata": {},
   "source": [
    "풀이 : A, B를 입력받은 후 B의 뒷자리부터 A와 곱하기를 진행하고 마지막에는 총 결과를 출력한다.  \n",
    "      이때, for문에서는 B의 각원소를 추출하여 A와 곱한 값을 출력한다."
   ]
  },
  {
   "cell_type": "code",
   "execution_count": 5,
   "id": "6708e386",
   "metadata": {},
   "outputs": [
    {
     "name": "stdout",
     "output_type": "stream",
     "text": [
      "472\n",
      "385\n",
      "2360\n",
      "3776\n",
      "1416\n",
      "181720\n"
     ]
    }
   ],
   "source": [
    "A = int(input())\n",
    "B = int(input())\n",
    "\n",
    "for i in range(len(str(B))) :\n",
    "    print(A*int(str(B)[len(str(B))-(i+1)]))\n",
    "print(A*B)"
   ]
  },
  {
   "cell_type": "markdown",
   "id": "1dc56baa",
   "metadata": {},
   "source": [
    "# Problem 2675"
   ]
  },
  {
   "cell_type": "markdown",
   "id": "3beececa",
   "metadata": {},
   "source": [
    "문제 :  \n",
    "문자열 S를 입력받은 후에, 각 문자를 R번 반복해 새 문자열 P를 만든 후 출력하는 프로그램을 작성하시오. 즉, 첫 번째 문자를 R번 반복하고, 두 번째 문자를 R번 반복하는 식으로 P를 만들면 된다. S에는 QR Code \"alphanumeric\" 문자만 들어있다.\n",
    "QR Code \"alphanumeric\" 문자는 0123456789ABCDEFGHIJKLMNOPQRSTUVWXYZ\\$%*+-./: 이다.\n",
    "\n",
    "입력 :   \n",
    "첫째 줄에 테스트 케이스의 개수 T(1 ≤ T ≤ 1,000)가 주어진다. 각 테스트 케이스는 반복 횟수 R(1 ≤ R ≤ 8), 문자열 S가 공백으로 구분되어 주어진다. S의 길이는 적어도 1이며, 20글자를 넘지 않는다. \n",
    "\n",
    "출력 :  \n",
    "각 테스트 케이스에 대해 P를 출력한다.\n",
    "\n",
    "풀이 :   \n",
    "We devide number and string in rep, string variable.  \n",
    "After that, we multiply rep by each alphabet of string using for loop."
   ]
  },
  {
   "cell_type": "code",
   "execution_count": 27,
   "id": "aff99585",
   "metadata": {},
   "outputs": [
    {
     "name": "stdout",
     "output_type": "stream",
     "text": [
      "2\n",
      "3 ABC\n",
      "AAABBBCCC\n",
      "5 /HTP\n",
      "/////HHHHHTTTTTPPPPP\n"
     ]
    }
   ],
   "source": [
    "T = int(input())\n",
    "\n",
    "for _ in range(T) : \n",
    "    rep, string = map(str, input().split())\n",
    "    res = ''\n",
    "    for i in range(len(string)) : \n",
    "        res += string[i]*int(rep)\n",
    "    print(res)"
   ]
  },
  {
   "cell_type": "markdown",
   "id": "b0a03a61",
   "metadata": {},
   "source": [
    "# Problem 2739"
   ]
  },
  {
   "cell_type": "markdown",
   "id": "fef4c38e",
   "metadata": {},
   "source": [
    "문제 : N을 입력받은 뒤, 구구단 N단을 출력하는 프로그램을 작성하시오. 출력 형식에 맞춰서 출력하면 된다.\n",
    "\n",
    "풀이 : N을 입력받은 뒤, 1 ~ 9 의 숫자를 반복해서 곱해 출력하면 된다.  \n",
    "  \n",
    "2 * 1   \n",
    "2 * 2  \n",
    "2 * 3  \n",
    "2 * 4  \n",
    "2 * 5  \n",
    " ...   \n",
    "2 * 9  "
   ]
  },
  {
   "cell_type": "code",
   "execution_count": 1,
   "id": "b4c31654",
   "metadata": {
    "scrolled": true
   },
   "outputs": [
    {
     "name": "stdout",
     "output_type": "stream",
     "text": [
      "2\n",
      "2 * 1 = 2\n",
      "2 * 2 = 4\n",
      "2 * 3 = 6\n",
      "2 * 4 = 8\n",
      "2 * 5 = 10\n",
      "2 * 6 = 12\n",
      "2 * 7 = 14\n",
      "2 * 8 = 16\n",
      "2 * 9 = 18\n"
     ]
    }
   ],
   "source": [
    "N = int(input())\n",
    "for i in range(1,10) :\n",
    "    print('%d * %d = %d'%(N, i, N*i))"
   ]
  },
  {
   "cell_type": "markdown",
   "id": "89bbb956",
   "metadata": {},
   "source": [
    "# Problem 2741"
   ]
  },
  {
   "cell_type": "markdown",
   "id": "056fc590",
   "metadata": {},
   "source": [
    "문제 : 첫째 줄에 100,000보다 작거나 같은 자연수 N이 주어진다. 첫째 줄부터 N번째 줄 까지 차례대로 출력한다.\n",
    "\n",
    "풀이 : for i in range(1, ~)에서 N보다 작기 때문에 ~에 N+1을 삽입하고 순서대로 출력한다."
   ]
  },
  {
   "cell_type": "code",
   "execution_count": 2,
   "id": "50bf5c3a",
   "metadata": {},
   "outputs": [
    {
     "name": "stdout",
     "output_type": "stream",
     "text": [
      "5\n",
      "1\n",
      "2\n",
      "3\n",
      "4\n",
      "5\n"
     ]
    }
   ],
   "source": [
    "N = int(input())\n",
    "\n",
    "for num in range(1, N+1) :\n",
    "    print(num)"
   ]
  },
  {
   "cell_type": "markdown",
   "id": "67b452fc",
   "metadata": {},
   "source": [
    "# Problem 2742"
   ]
  },
  {
   "cell_type": "code",
   "execution_count": 3,
   "id": "38499abf",
   "metadata": {},
   "outputs": [
    {
     "name": "stdout",
     "output_type": "stream",
     "text": [
      "5\n",
      "5\n",
      "4\n",
      "3\n",
      "2\n",
      "1\n"
     ]
    }
   ],
   "source": [
    "N = int(input())\n",
    "\n",
    "for num in range(0, N) :\n",
    "    print(N-num)"
   ]
  },
  {
   "cell_type": "markdown",
   "id": "37974a9b",
   "metadata": {},
   "source": [
    "# Problem 2753"
   ]
  },
  {
   "cell_type": "markdown",
   "id": "bec5c885",
   "metadata": {},
   "source": [
    "문제 : 연도가 주어졌을 때, 윤년이면 1, 아니면 0을 출력하는 프로그램을 작성하시오.\n",
    "\n",
    "윤년은 연도가 4의 배수이면서, 100의 배수가 아닐 때 또는 400의 배수일 때이다.\n",
    "\n",
    "예를 들어, 2012년은 4의 배수이면서 100의 배수가 아니라서 윤년이다. 1900년은 100의 배수이고 400의 배수는 아니기 때문에 윤년이 아니다. 하지만, 2000년은 400의 배수이기 때문에 윤년이다.\n",
    "\n",
    "풀이 : if - else 구문 안에 if - else 구문이 존재하는 복합적인 구조를 통해 윤년을 분리한다.\n",
    "\n",
    "1. 4의 배수인가 ? \n",
    " 1) 100의 배수가 아니거나 400의 배수인가 ? -> 윤년\n",
    " 2) 이외 -> 윤년X\n",
    "2. 이외 -> 윤년X"
   ]
  },
  {
   "cell_type": "code",
   "execution_count": 2,
   "id": "2f5e75f3",
   "metadata": {},
   "outputs": [
    {
     "name": "stdout",
     "output_type": "stream",
     "text": [
      "1999\n",
      "0\n"
     ]
    }
   ],
   "source": [
    "Y = int(input())\n",
    "\n",
    "if Y % 4 == 0 :\n",
    "    if (Y % 100 != 0) or (Y % 400 == 0) :\n",
    "        print(\"1\")\n",
    "    else :\n",
    "        print(\"0\")\n",
    "else :\n",
    "    print(\"0\")"
   ]
  },
  {
   "cell_type": "markdown",
   "id": "c7bf0859",
   "metadata": {},
   "source": [
    "# Problem 2775"
   ]
  },
  {
   "cell_type": "code",
   "execution_count": 2,
   "id": "93687d8b",
   "metadata": {},
   "outputs": [
    {
     "name": "stdout",
     "output_type": "stream",
     "text": [
      "2\n",
      "1\n",
      "3\n",
      "6\n",
      "2\n",
      "3\n",
      "10\n"
     ]
    }
   ],
   "source": [
    "import math\n",
    "T = int(input())\n",
    "for _ in range(T) : \n",
    "    k = int(input())\n",
    "    n = int(input())\n",
    "    res = int(math.factorial(k+n)/(math.factorial(n-1)*math.factorial(k+1))) # People in room follows (k+n)C(n-1)\n",
    "    print(res)"
   ]
  },
  {
   "cell_type": "markdown",
   "id": "9b3c2d18",
   "metadata": {},
   "source": [
    "# Problem 2839"
   ]
  },
  {
   "cell_type": "code",
   "execution_count": 5,
   "id": "decd28fa",
   "metadata": {},
   "outputs": [
    {
     "name": "stdout",
     "output_type": "stream",
     "text": [
      "6\n",
      "2\n"
     ]
    }
   ],
   "source": [
    "sugar = int(input())\n",
    "bag = 0\n",
    "while sugar >= 0 : # If we get input sugar, to make minimum bags, minus 3 until divide into 5\n",
    "    if sugar % 5 == 0 :\n",
    "        print(sugar//5 + bag)\n",
    "        break\n",
    "    sugar -= 3\n",
    "    bag += 1\n",
    "else :  # While ~ else statement can process error case\n",
    "    print(-1)"
   ]
  },
  {
   "cell_type": "markdown",
   "id": "ce2e74e8",
   "metadata": {},
   "source": [
    "# Problem 2869"
   ]
  },
  {
   "cell_type": "code",
   "execution_count": 48,
   "id": "ed0d6e04",
   "metadata": {},
   "outputs": [
    {
     "name": "stdout",
     "output_type": "stream",
     "text": [
      "5 1 6\n",
      "2\n"
     ]
    }
   ],
   "source": [
    "A, B, V = map(int, input().split())\n",
    "day = (V-B)/(A-B)\n",
    "if day == int(day) : \n",
    "    print(int((V-B)/(A-B)))\n",
    "else :\n",
    "    print(int((V-B)/(A-B)) + 1)"
   ]
  },
  {
   "cell_type": "markdown",
   "id": "f8512e14",
   "metadata": {},
   "source": [
    "# Problem 2884"
   ]
  },
  {
   "cell_type": "markdown",
   "id": "638e3eab",
   "metadata": {},
   "source": [
    "문제 : \n",
    "\n",
    "상근이는 매일 아침 알람을 듣고 일어난다. 알람을 듣고 바로 일어나면 다행이겠지만, 항상 조금만 더 자려는 마음 때문에 매일 학교를 지각하고 있다.\n",
    "\n",
    "상근이는 모든 방법을 동원해보았지만, 조금만 더 자려는 마음은 그 어떤 것도 없앨 수가 없었다.\n",
    "\n",
    "이런 상근이를 불쌍하게 보던, 창영이는 자신이 사용하는 방법을 추천해 주었다.\n",
    "\n",
    "바로 \"45분 일찍 알람 설정하기\"이다.\n",
    "\n",
    "이 방법은 단순하다. 원래 설정되어 있는 알람을 45분 앞서는 시간으로 바꾸는 것이다. 어차피 알람 소리를 들으면, 알람을 끄고 조금 더 잘 것이기 때문이다. 이 방법을 사용하면, 매일 아침 더 잤다는 기분을 느낄 수 있고, 학교도 지각하지 않게 된다.\n",
    "\n",
    "현재 상근이가 설정한 알람 시각이 주어졌을 때, 창영이의 방법을 사용한다면, 이를 언제로 고쳐야 하는지 구하는 프로그램을 작성하시오.\n",
    "\n",
    "풀이 : \n",
    "첫번째로, '분'이 45분 기준으로 45분보다 더 크다면 단순히 빼기만 하면된다.  \n",
    "하지만 45분보다 작은 두번째 경우에는 분에 60을 더하고 45분을 빼줘야 한다.  \n",
    "하지만 시간이 24시(00시)의 예외 Case가 존재하게 되는데, 이 경우에는 시간에는 하루를 더해주고 -1시간을 적용해주면 된다.\n",
    "\n",
    "1. M > 45 ? -> M - 45 \n",
    "2. M < 45 ? \n",
    " 1) H == 0 ? -> H + 23, M + 60 -45\n",
    " 2) H == 0 ? -> H - 1, M + 60 - 45 "
   ]
  },
  {
   "cell_type": "code",
   "execution_count": 10,
   "id": "a85a5fb8",
   "metadata": {},
   "outputs": [
    {
     "name": "stdout",
     "output_type": "stream",
     "text": [
      "0 44\n",
      "23 59\n"
     ]
    }
   ],
   "source": [
    "H, M = map(int, input().split())\n",
    "\n",
    "if M >= 45 :\n",
    "    print(H, M - 45)\n",
    "else :\n",
    "    if H == 0 :\n",
    "        print((H + 24) - 1, (M + 60) - 45)\n",
    "    else :\n",
    "        print(H - 1, (M + 60) - 45)"
   ]
  },
  {
   "cell_type": "markdown",
   "id": "f53380e4",
   "metadata": {},
   "source": [
    "# Problem 2908"
   ]
  },
  {
   "cell_type": "markdown",
   "id": "38110cd7",
   "metadata": {},
   "source": [
    "문제 :  \n",
    "상근이의 동생 상수는 수학을 정말 못한다. 상수는 숫자를 읽는데 문제가 있다. 이렇게 수학을 못하는 상수를 위해서 상근이는 수의 크기를 비교하는 문제를 내주었다. 상근이는 세 자리 수 두 개를 칠판에 써주었다. 그 다음에 크기가 큰 수를 말해보라고 했다.\n",
    "\n",
    "상수는 수를 다른 사람과 다르게 거꾸로 읽는다. 예를 들어, 734와 893을 칠판에 적었다면, 상수는 이 수를 437과 398로 읽는다. 따라서, 상수는 두 수중 큰 수인 437을 큰 수라고 말할 것이다.\n",
    "\n",
    "두 수가 주어졌을 때, 상수의 대답을 출력하는 프로그램을 작성하시오.\n",
    "\n",
    "입력 :   \n",
    "첫째 줄에 상근이가 칠판에 적은 두 수 A와 B가 주어진다. 두 수는 같지 않은 세 자리 수이며, 0이 포함되어 있지 않다.\n",
    "\n",
    "출력 :  \n",
    "첫째 줄에 상수의 대답을 출력한다.\n",
    "\n",
    "풀이 : \n",
    "Sanguen's younger brother read number backward, so we need to backward to see from Sanguen's younger brother's eye.  \n",
    "After that, we just use if - else statement for comparison. "
   ]
  },
  {
   "cell_type": "code",
   "execution_count": 15,
   "id": "36f4fb8b",
   "metadata": {},
   "outputs": [
    {
     "name": "stdout",
     "output_type": "stream",
     "text": [
      "734 893\n",
      "437\n"
     ]
    }
   ],
   "source": [
    "A, B = map(str, input().split())\n",
    "A = int(A[::-1]); B = int(B[::-1])\n",
    "\n",
    "if A > B :\n",
    "    print(A)\n",
    "else :\n",
    "    print(B)"
   ]
  },
  {
   "cell_type": "markdown",
   "id": "fde9ac18",
   "metadata": {},
   "source": [
    "# Problem 2941"
   ]
  },
  {
   "cell_type": "markdown",
   "id": "c4b6fa36",
   "metadata": {},
   "source": [
    "문제 :  \n",
    "예전에는 운영체제에서 크로아티아 알파벳을 입력할 수가 없었다. 따라서, 다음과 같이 크로아티아 알파벳을 변경해서 입력했다.\n",
    "크로아티아 알파벳 \t변경\n",
    "č \tc=\n",
    "ć \tc-\n",
    "dž \tdz=\n",
    "đ \td-\n",
    "lj \tlj\n",
    "nj \tnj\n",
    "š \ts=\n",
    "ž \tz=\n",
    "\n",
    "예를 들어, ljes=njak은 크로아티아 알파벳 6개(lj, e, š, nj, a, k)로 이루어져 있다. 단어가 주어졌을 때, 몇 개의 크로아티아 알파벳으로 이루어져 있는지 출력한다.\n",
    "\n",
    "dž는 무조건 하나의 알파벳으로 쓰이고, d와 ž가 분리된 것으로 보지 않는다. lj와 nj도 마찬가지이다. 위 목록에 없는 알파벳은 한 글자씩 센다.\n",
    "\n",
    "입력 :  \n",
    "첫째 줄에 최대 100글자의 단어가 주어진다. 알파벳 소문자와 '-', '='로만 이루어져 있다.\n",
    "\n",
    "단어는 크로아티아 알파벳으로 이루어져 있다. 문제 설명의 표에 나와있는 알파벳은 변경된 형태로 입력된다.\n",
    "\n",
    "출력 :  \n",
    "입력으로 주어진 단어가 몇 개의 크로아티아 알파벳으로 이루어져 있는지 출력한다."
   ]
  },
  {
   "cell_type": "code",
   "execution_count": 12,
   "id": "73755b25",
   "metadata": {},
   "outputs": [
    {
     "name": "stdout",
     "output_type": "stream",
     "text": [
      "ddz=z=\n",
      "3\n"
     ]
    }
   ],
   "source": [
    "input_str = input()\n",
    "count = 0; index = 0\n",
    "dictionary = ['c=', 'c-', 'dz=', 'd-', 'lj', 'nj', 's=', 'z=']\n",
    "\n",
    "while index <= len(input_str) :\n",
    "    if input_str[index:index+3] == 'dz=' : #exception in dictionary checking index:index+3\n",
    "        count += 1\n",
    "        index += 3\n",
    "    elif input_str[index:index+2] in dictionary :\n",
    "        count += 1\n",
    "        index += 2\n",
    "    else : \n",
    "        count += 1\n",
    "        index += 1\n",
    "print(count-1)"
   ]
  }
 ],
 "metadata": {
  "kernelspec": {
   "display_name": "Python 3",
   "language": "python",
   "name": "python3"
  },
  "language_info": {
   "codemirror_mode": {
    "name": "ipython",
    "version": 3
   },
   "file_extension": ".py",
   "mimetype": "text/x-python",
   "name": "python",
   "nbconvert_exporter": "python",
   "pygments_lexer": "ipython3",
   "version": "3.8.8"
  },
  "toc": {
   "base_numbering": 1,
   "nav_menu": {},
   "number_sections": true,
   "sideBar": true,
   "skip_h1_title": false,
   "title_cell": "Table of Contents",
   "title_sidebar": "Contents",
   "toc_cell": false,
   "toc_position": {
    "height": "calc(100% - 180px)",
    "left": "10px",
    "top": "150px",
    "width": "384px"
   },
   "toc_section_display": true,
   "toc_window_display": true
  },
  "varInspector": {
   "cols": {
    "lenName": 16,
    "lenType": 16,
    "lenVar": 40
   },
   "kernels_config": {
    "python": {
     "delete_cmd_postfix": "",
     "delete_cmd_prefix": "del ",
     "library": "var_list.py",
     "varRefreshCmd": "print(var_dic_list())"
    },
    "r": {
     "delete_cmd_postfix": ") ",
     "delete_cmd_prefix": "rm(",
     "library": "var_list.r",
     "varRefreshCmd": "cat(var_dic_list()) "
    }
   },
   "types_to_exclude": [
    "module",
    "function",
    "builtin_function_or_method",
    "instance",
    "_Feature"
   ],
   "window_display": false
  }
 },
 "nbformat": 4,
 "nbformat_minor": 5
}
