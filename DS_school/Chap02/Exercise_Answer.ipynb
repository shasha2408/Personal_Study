{
 "cells": [
  {
   "cell_type": "markdown",
   "id": "eddb861e",
   "metadata": {},
   "source": [
    "# Chap2.1"
   ]
  },
  {
   "cell_type": "markdown",
   "id": "d9284db7",
   "metadata": {},
   "source": [
    "Exercise 2.1.1"
   ]
  },
  {
   "cell_type": "code",
   "execution_count": 2,
   "id": "7872fd82",
   "metadata": {},
   "outputs": [
    {
     "data": {
      "text/plain": [
       "4.0"
      ]
     },
     "execution_count": 2,
     "metadata": {},
     "output_type": "execute_result"
    }
   ],
   "source": [
    "# 1. \n",
    "3*2-8/4"
   ]
  },
  {
   "cell_type": "code",
   "execution_count": 3,
   "id": "90f99dc8",
   "metadata": {},
   "outputs": [
    {
     "data": {
      "text/plain": [
       "67.0"
      ]
     },
     "execution_count": 3,
     "metadata": {},
     "output_type": "execute_result"
    }
   ],
   "source": [
    "# 2. \n",
    "25*6/3+17"
   ]
  },
  {
   "cell_type": "code",
   "execution_count": 4,
   "id": "33f89cc9",
   "metadata": {},
   "outputs": [
    {
     "data": {
      "text/plain": [
       "38998.0"
      ]
     },
     "execution_count": 4,
     "metadata": {},
     "output_type": "execute_result"
    }
   ],
   "source": [
    "# 3. \n",
    "39021-276920/12040"
   ]
  },
  {
   "cell_type": "code",
   "execution_count": 5,
   "id": "ff0f1055",
   "metadata": {},
   "outputs": [
    {
     "data": {
      "text/plain": [
       "60"
      ]
     },
     "execution_count": 5,
     "metadata": {},
     "output_type": "execute_result"
    }
   ],
   "source": [
    "# 4.\n",
    "2**6-10%6"
   ]
  },
  {
   "cell_type": "markdown",
   "id": "d3035f0b",
   "metadata": {},
   "source": [
    "Exercise 2.1.2"
   ]
  },
  {
   "cell_type": "code",
   "execution_count": 6,
   "id": "01fa359b",
   "metadata": {},
   "outputs": [
    {
     "data": {
      "text/plain": [
       "-24"
      ]
     },
     "execution_count": 6,
     "metadata": {},
     "output_type": "execute_result"
    }
   ],
   "source": [
    "# 1. \n",
    "12-(5*7+1)"
   ]
  },
  {
   "cell_type": "code",
   "execution_count": 7,
   "id": "2928873f",
   "metadata": {},
   "outputs": [
    {
     "data": {
      "text/plain": [
       "50.0"
      ]
     },
     "execution_count": 7,
     "metadata": {},
     "output_type": "execute_result"
    }
   ],
   "source": [
    "# 2. \n",
    "5*(8+(10-6)/2)"
   ]
  },
  {
   "cell_type": "code",
   "execution_count": 10,
   "id": "5b35ca5e",
   "metadata": {},
   "outputs": [
    {
     "data": {
      "text/plain": [
       "28580.0"
      ]
     },
     "execution_count": 10,
     "metadata": {},
     "output_type": "execute_result"
    }
   ],
   "source": [
    "# 3.\n",
    "48320-((365-5*9)/16)*987"
   ]
  },
  {
   "cell_type": "code",
   "execution_count": 11,
   "id": "419d1a6e",
   "metadata": {},
   "outputs": [
    {
     "data": {
      "text/plain": [
       "256.0"
      ]
     },
     "execution_count": 11,
     "metadata": {},
     "output_type": "execute_result"
    }
   ],
   "source": [
    "# 4.\n",
    "((3**4-3*7)/5+4)**2"
   ]
  },
  {
   "cell_type": "markdown",
   "id": "0e1a86fe",
   "metadata": {},
   "source": [
    "Exercise 2.1.3"
   ]
  },
  {
   "cell_type": "code",
   "execution_count": 13,
   "id": "745363aa",
   "metadata": {},
   "outputs": [
    {
     "name": "stdout",
     "output_type": "stream",
     "text": [
      "True True True\n"
     ]
    }
   ],
   "source": [
    "# 1.\n",
    "print(1!=2, 1<3, 3+4==7)"
   ]
  },
  {
   "cell_type": "code",
   "execution_count": 14,
   "id": "c5159ebc",
   "metadata": {},
   "outputs": [
    {
     "name": "stdout",
     "output_type": "stream",
     "text": [
      "False False False\n"
     ]
    }
   ],
   "source": [
    "# 2. \n",
    "print(1==2, 1>3, 3+4!=7)"
   ]
  },
  {
   "cell_type": "markdown",
   "id": "55a93f5d",
   "metadata": {},
   "source": [
    "Exercise 2.1.4"
   ]
  },
  {
   "cell_type": "code",
   "execution_count": 16,
   "id": "ff92e5bb",
   "metadata": {},
   "outputs": [
    {
     "data": {
      "text/plain": [
       "False"
      ]
     },
     "execution_count": 16,
     "metadata": {},
     "output_type": "execute_result"
    }
   ],
   "source": [
    "# 1.\n",
    "(5<=6)&(3==4)"
   ]
  },
  {
   "cell_type": "code",
   "execution_count": 17,
   "id": "c51e8069",
   "metadata": {},
   "outputs": [
    {
     "data": {
      "text/plain": [
       "True"
      ]
     },
     "execution_count": 17,
     "metadata": {},
     "output_type": "execute_result"
    }
   ],
   "source": [
    "# 2.\n",
    "(2!=1)|(3>=4)"
   ]
  },
  {
   "cell_type": "code",
   "execution_count": 18,
   "id": "99d783c6",
   "metadata": {},
   "outputs": [
    {
     "data": {
      "text/plain": [
       "True"
      ]
     },
     "execution_count": 18,
     "metadata": {},
     "output_type": "execute_result"
    }
   ],
   "source": [
    "# 3.\n",
    "(5<=6)&((0==0)&(3<4))"
   ]
  },
  {
   "cell_type": "markdown",
   "id": "96d15279",
   "metadata": {},
   "source": [
    "Exercise 2.1.5"
   ]
  },
  {
   "cell_type": "code",
   "execution_count": 19,
   "id": "aad853e0",
   "metadata": {},
   "outputs": [
    {
     "data": {
      "text/plain": [
       "26"
      ]
     },
     "execution_count": 19,
     "metadata": {},
     "output_type": "execute_result"
    }
   ],
   "source": [
    "# 1. \n",
    "x = 3\n",
    "(2*x-1)**2+1"
   ]
  },
  {
   "cell_type": "code",
   "execution_count": 21,
   "id": "5c239a85",
   "metadata": {},
   "outputs": [
    {
     "data": {
      "text/plain": [
       "851968"
      ]
     },
     "execution_count": 21,
     "metadata": {},
     "output_type": "execute_result"
    }
   ],
   "source": [
    "# 2.\n",
    "x = 4; y = 4; z = 3\n",
    "x**(2*y)*(z+10)"
   ]
  },
  {
   "cell_type": "code",
   "execution_count": 24,
   "id": "6d37c3d2",
   "metadata": {},
   "outputs": [
    {
     "data": {
      "text/plain": [
       "True"
      ]
     },
     "execution_count": 24,
     "metadata": {},
     "output_type": "execute_result"
    }
   ],
   "source": [
    "# 3.\n",
    "j = 45; k = -5; i = 43\n",
    "((j==0)&(0<k))|(i<=100)"
   ]
  },
  {
   "cell_type": "markdown",
   "id": "6a44c74d",
   "metadata": {},
   "source": [
    "# Chap2.2"
   ]
  },
  {
   "cell_type": "markdown",
   "id": "080dba88",
   "metadata": {},
   "source": [
    "Exercise 2.2.1"
   ]
  },
  {
   "cell_type": "code",
   "execution_count": 25,
   "id": "d7cd4397",
   "metadata": {},
   "outputs": [
    {
     "data": {
      "text/plain": [
       "500000000.0"
      ]
     },
     "execution_count": 25,
     "metadata": {},
     "output_type": "execute_result"
    }
   ],
   "source": [
    "# n1. \n",
    "5e8"
   ]
  },
  {
   "cell_type": "code",
   "execution_count": 26,
   "id": "d20aad80",
   "metadata": {},
   "outputs": [
    {
     "data": {
      "text/plain": [
       "5600.0"
      ]
     },
     "execution_count": 26,
     "metadata": {},
     "output_type": "execute_result"
    }
   ],
   "source": [
    "# n2.\n",
    "5.6e3"
   ]
  },
  {
   "cell_type": "code",
   "execution_count": 27,
   "id": "3edc8872",
   "metadata": {},
   "outputs": [
    {
     "data": {
      "text/plain": [
       "-210.0"
      ]
     },
     "execution_count": 27,
     "metadata": {},
     "output_type": "execute_result"
    }
   ],
   "source": [
    "# n3. \n",
    "-2.1e2"
   ]
  },
  {
   "cell_type": "code",
   "execution_count": 28,
   "id": "d52214cd",
   "metadata": {},
   "outputs": [
    {
     "data": {
      "text/plain": [
       "-0.34"
      ]
     },
     "execution_count": 28,
     "metadata": {},
     "output_type": "execute_result"
    }
   ],
   "source": [
    "# n4.\n",
    "-3.4e-1"
   ]
  },
  {
   "cell_type": "markdown",
   "id": "eaafc73e",
   "metadata": {},
   "source": [
    "Exercise 2.2.2"
   ]
  },
  {
   "cell_type": "code",
   "execution_count": 30,
   "id": "da2b6466",
   "metadata": {},
   "outputs": [],
   "source": [
    "# n1. 3.141592 -> 3141592e-6\n",
    "# n2. 2.718 -> 2718e-3\n",
    "# n3. 1.4 -> 14e-1\n",
    "# n4. 1.73 -> 173e-2"
   ]
  },
  {
   "cell_type": "markdown",
   "id": "335694e5",
   "metadata": {},
   "source": [
    "Exercise 2.2.3"
   ]
  },
  {
   "cell_type": "code",
   "execution_count": 32,
   "id": "e546db41",
   "metadata": {},
   "outputs": [],
   "source": [
    "#n1. 1234 -> 1*10^3+2*10^2+3*10^1+4*10^0\n",
    "#n2. 1010 -> 1*10^3+1*10^1\n",
    "#n3. 3.14 -> 3*10^0+1*10^-1+4*10^-2\n",
    "#n4. 0.023 -> 2*10^-2+3*10-3"
   ]
  },
  {
   "cell_type": "markdown",
   "id": "c480ad5c",
   "metadata": {},
   "source": [
    "Exercise 2.2.4"
   ]
  },
  {
   "cell_type": "code",
   "execution_count": 35,
   "id": "09b7caaf",
   "metadata": {},
   "outputs": [],
   "source": [
    "#n1. 13 -> 1*2^3+1*2^2+1*2^0 \n",
    "#n2. 129 -> 1*2^8+1*2^0\n",
    "#n3. 0.8 -> 100(?)\n",
    "#n4. 1.25 -> 1*2^0+1*2^-2"
   ]
  },
  {
   "cell_type": "markdown",
   "id": "635faf6c",
   "metadata": {},
   "source": [
    "# Chap2.3"
   ]
  },
  {
   "cell_type": "markdown",
   "id": "a6936c41",
   "metadata": {},
   "source": [
    "Exrcise 2.3.1"
   ]
  },
  {
   "cell_type": "code",
   "execution_count": 38,
   "id": "66e6838b",
   "metadata": {},
   "outputs": [
    {
     "name": "stdout",
     "output_type": "stream",
     "text": [
      "\n",
      "Beautiful is better than ugly.\n",
      "Explicit is better than implicit.\n",
      "Simple is better than complex.\n",
      "Complex is better than complicated.\n",
      "Flat is better than nested.\n",
      "Spars is better than dense.\n",
      "\n"
     ]
    }
   ],
   "source": [
    "# n1.\n",
    "Exercise_line = \"\"\"\n",
    "Beautiful is better than ugly.\n",
    "Explicit is better than implicit.\n",
    "Simple is better than complex.\n",
    "Complex is better than complicated.\n",
    "Flat is better than nested.\n",
    "Spars is better than dense.\n",
    "\"\"\"\n",
    "print(Exercise_line)"
   ]
  },
  {
   "cell_type": "code",
   "execution_count": 42,
   "id": "219daf23",
   "metadata": {},
   "outputs": [
    {
     "name": "stdout",
     "output_type": "stream",
     "text": [
      "@@@@@@\n",
      "@    @\n",
      "@    @\n",
      "@    @\n",
      "@@@@@@\n"
     ]
    }
   ],
   "source": [
    "# n2. \n",
    "x = '@'\n",
    "y = 6\n",
    "print(x*y)\n",
    "print(x + \" \"*4 + x)\n",
    "print(x + \" \"*4 + x)\n",
    "print(x + \" \"*4 + x)\n",
    "print(x*y)"
   ]
  },
  {
   "cell_type": "markdown",
   "id": "80c7284d",
   "metadata": {},
   "source": [
    "Exercise 2.3.2"
   ]
  },
  {
   "cell_type": "code",
   "execution_count": 43,
   "id": "a3d95765",
   "metadata": {},
   "outputs": [
    {
     "data": {
      "text/plain": [
       "'20201225'"
      ]
     },
     "execution_count": 43,
     "metadata": {},
     "output_type": "execute_result"
    }
   ],
   "source": [
    "string = \"2020-12-25\"\n",
    "string.replace(\"-\", \"\")"
   ]
  },
  {
   "cell_type": "markdown",
   "id": "630881b9",
   "metadata": {},
   "source": [
    "# Chap2.4"
   ]
  },
  {
   "cell_type": "markdown",
   "id": "6287ce10",
   "metadata": {},
   "source": [
    "Exercise 2.4.1"
   ]
  },
  {
   "cell_type": "code",
   "execution_count": 46,
   "id": "e432dd9c",
   "metadata": {},
   "outputs": [
    {
     "name": "stdout",
     "output_type": "stream",
     "text": [
      "Tom is 13 years old\n"
     ]
    }
   ],
   "source": [
    "# n1.\n",
    "name = \"Tom\"; age = 13\n",
    "print(\"%s is %d years old\" % (name, age))"
   ]
  },
  {
   "cell_type": "code",
   "execution_count": 47,
   "id": "0e48ca30",
   "metadata": {},
   "outputs": [
    {
     "name": "stdout",
     "output_type": "stream",
     "text": [
      "10 / 3 = 3.333333\n"
     ]
    }
   ],
   "source": [
    "#n2. \n",
    "a = 10; b = 3\n",
    "print(\"%d / %d = %f\" %(a, b, a/b))"
   ]
  },
  {
   "cell_type": "code",
   "execution_count": 63,
   "id": "37489c38",
   "metadata": {},
   "outputs": [
    {
     "name": "stdout",
     "output_type": "stream",
     "text": [
      "      3 \n",
      " x   12 \n",
      " ------ \n",
      "     36\n"
     ]
    }
   ],
   "source": [
    "a = 3; b = 12\n",
    "print(\"%7d \\n x %4d \\n ------ \\n %6d\" %(a,b, a*b))"
   ]
  },
  {
   "cell_type": "code",
   "execution_count": 73,
   "id": "51f718c5",
   "metadata": {},
   "outputs": [
    {
     "name": "stdout",
     "output_type": "stream",
     "text": [
      "   123,456 \n",
      " +   7,890 \n",
      " --------- \n",
      "   131,346\n"
     ]
    }
   ],
   "source": [
    "a = 123456; b = 7890\n",
    "a_s = \"123,456\"; b_s = \"7,890\"; sum_s = \"131,346\"\n",
    "print(\"%10s \\n + %7s \\n --------- \\n %9s\" %(a_s,b_s, sum_s))"
   ]
  },
  {
   "cell_type": "markdown",
   "id": "8c6db750",
   "metadata": {},
   "source": [
    "# Chap2.5"
   ]
  },
  {
   "cell_type": "markdown",
   "id": "93568796",
   "metadata": {},
   "source": [
    "Exercise 2.5.1"
   ]
  },
  {
   "cell_type": "code",
   "execution_count": 1,
   "id": "e27f370c",
   "metadata": {},
   "outputs": [
    {
     "name": "stdout",
     "output_type": "stream",
     "text": [
      "짝수\n"
     ]
    }
   ],
   "source": [
    "# n1. \n",
    "a = 2\n",
    "if a % 2 == 0 :\n",
    "    print(\"짝수\")\n",
    "else :\n",
    "    print(\"홀수\")"
   ]
  },
  {
   "cell_type": "code",
   "execution_count": 2,
   "id": "3de02560",
   "metadata": {},
   "outputs": [
    {
     "name": "stdout",
     "output_type": "stream",
     "text": [
      "2자리 수의 짝수이다.\n"
     ]
    }
   ],
   "source": [
    "# n2.\n",
    "b = 38\n",
    "\n",
    "if (b >= 10) & (b < 100) & (b % 2 == 0):\n",
    "    print(\"2자리 수의 짝수이다.\")\n",
    "else:\n",
    "    print(\"2자리 수의 짝수가 아니다.\")"
   ]
  },
  {
   "cell_type": "markdown",
   "id": "90b77c13",
   "metadata": {},
   "source": [
    "Exercise 2.5.2"
   ]
  },
  {
   "cell_type": "code",
   "execution_count": 7,
   "id": "0dd926ad",
   "metadata": {},
   "outputs": [
    {
     "name": "stdout",
     "output_type": "stream",
     "text": [
      "평년입니다\n"
     ]
    }
   ],
   "source": [
    "y = 1900\n",
    "if y % 4 == 0 :\n",
    "    if y % 100 == 0 :\n",
    "        print(\"평년입니다\")\n",
    "        if y % 400 == 0 :\n",
    "            print(\"윤년입니다.\")\n",
    "    else : \n",
    "        print(\"윤년입니다\")\n",
    "else :\n",
    "    print(\"윤년이 아닙니다.\")"
   ]
  },
  {
   "cell_type": "markdown",
   "id": "f5c4b8f5",
   "metadata": {},
   "source": [
    "Exercise 2.5.3"
   ]
  },
  {
   "cell_type": "code",
   "execution_count": 8,
   "id": "aaeb232f",
   "metadata": {},
   "outputs": [
    {
     "name": "stdout",
     "output_type": "stream",
     "text": [
      "A\n"
     ]
    }
   ],
   "source": [
    "c = 9\n",
    "\n",
    "if c >= 8:\n",
    "    print(\"A\")\n",
    "elif c >= 5:\n",
    "    print(\"B\")\n",
    "else:\n",
    "    print(\"C\")"
   ]
  },
  {
   "cell_type": "markdown",
   "id": "30d065bb",
   "metadata": {},
   "source": [
    "Exercise 2.5.4"
   ]
  },
  {
   "cell_type": "code",
   "execution_count": 9,
   "id": "c30a1c62",
   "metadata": {},
   "outputs": [
    {
     "name": "stdout",
     "output_type": "stream",
     "text": [
      "1등급\n"
     ]
    }
   ],
   "source": [
    "kg = 11\n",
    "\n",
    "if kg > 10 :\n",
    "    print(\"1등급\")\n",
    "elif kg > 7 : \n",
    "    print(\"2등급\")\n",
    "elif k > 4 :\n",
    "    print(\"3등급\")\n",
    "else :\n",
    "    print(\"4등급\")"
   ]
  },
  {
   "cell_type": "markdown",
   "id": "a0d937d7",
   "metadata": {},
   "source": [
    "Exercise 2.5.5"
   ]
  },
  {
   "cell_type": "code",
   "execution_count": 13,
   "id": "bad3e9b6",
   "metadata": {},
   "outputs": [
    {
     "name": "stdout",
     "output_type": "stream",
     "text": [
      "1 1\n"
     ]
    }
   ],
   "source": [
    "XA = False ; XB = False\n",
    "if XA == True :\n",
    "    if XB == True : \n",
    "        YA = 5; YB = 5\n",
    "    else :\n",
    "        YA = 0; YB = 10 \n",
    "else :\n",
    "    if XB == True :\n",
    "        YA = 10; YB = 0\n",
    "    else : \n",
    "        YA = 1; YB = 1\n",
    "        \n",
    "print(YA, YB)"
   ]
  },
  {
   "cell_type": "markdown",
   "id": "c395d830",
   "metadata": {},
   "source": [
    "# Chap2.6"
   ]
  },
  {
   "cell_type": "markdown",
   "id": "acc1247d",
   "metadata": {},
   "source": [
    "Exercise 2.6.1"
   ]
  },
  {
   "cell_type": "code",
   "execution_count": 14,
   "id": "ecff7176",
   "metadata": {},
   "outputs": [
    {
     "data": {
      "text/plain": [
       "'짝수'"
      ]
     },
     "execution_count": 14,
     "metadata": {},
     "output_type": "execute_result"
    }
   ],
   "source": [
    "#n1. \n",
    "a = 2\n",
    "def even_odd(a) :\n",
    "    if a % 2 == 0 :\n",
    "        return \"짝수\"\n",
    "    else :\n",
    "        return \"홀수\"\n",
    "even_odd(a)"
   ]
  },
  {
   "cell_type": "code",
   "execution_count": 15,
   "id": "f123197c",
   "metadata": {},
   "outputs": [
    {
     "name": "stdout",
     "output_type": "stream",
     "text": [
      "평년입니다\n"
     ]
    }
   ],
   "source": [
    "y = 200\n",
    "def year(y) :\n",
    "    if y % 4 == 0 :\n",
    "        if y % 100 == 0 :\n",
    "            print(\"평년입니다\")\n",
    "            if y % 400 == 0 :\n",
    "                print(\"윤년입니다.\")\n",
    "        else : \n",
    "            print(\"윤년입니다\")\n",
    "    else :\n",
    "        print(\"윤년이 아닙니다.\")\n",
    "year(y)"
   ]
  },
  {
   "cell_type": "markdown",
   "id": "1d30ba4b",
   "metadata": {},
   "source": [
    "Exercise 2.6.2"
   ]
  },
  {
   "cell_type": "code",
   "execution_count": 23,
   "id": "9a9e8357",
   "metadata": {},
   "outputs": [
    {
     "data": {
      "text/plain": [
       "30"
      ]
     },
     "execution_count": 23,
     "metadata": {},
     "output_type": "execute_result"
    }
   ],
   "source": [
    "m = 11\n",
    "def days1(m) :\n",
    "    if m in [1,3,5,7,8,10,12] :\n",
    "        return 31\n",
    "    elif m in [4,6,9,11] :\n",
    "        return 30\n",
    "    else :\n",
    "        return 28\n",
    "days1(m)"
   ]
  },
  {
   "cell_type": "markdown",
   "id": "95063dd4",
   "metadata": {},
   "source": [
    "Exercise 2.6.3"
   ]
  },
  {
   "cell_type": "code",
   "execution_count": 29,
   "id": "07196b7a",
   "metadata": {},
   "outputs": [
    {
     "data": {
      "text/plain": [
       "31"
      ]
     },
     "execution_count": 29,
     "metadata": {},
     "output_type": "execute_result"
    }
   ],
   "source": [
    "def days2(y, m) :\n",
    "    if y % 4 == 0 :\n",
    "        if y % 100 == 0 :\n",
    "            if m in [1,3,5,7,8,10,12] :\n",
    "                return 31\n",
    "            elif m in [4,6,9,11] :\n",
    "                return 30\n",
    "            else :\n",
    "                return 28\n",
    "            if y % 400 == 0 :\n",
    "                if m in [1,3,5,7,8,10,12] :\n",
    "                    return 31\n",
    "                elif m in [4,6,9,11] :\n",
    "                    return 30\n",
    "                else :\n",
    "                    return 29\n",
    "        else : \n",
    "                if m in [1,3,5,7,8,10,12] :\n",
    "                    return 31\n",
    "                elif m in [4,6,9,11] :\n",
    "                    return 30\n",
    "                else :\n",
    "                    return 29\n",
    "    else :\n",
    "        if m in [1,3,5,7,8,10,12] :\n",
    "            return 31\n",
    "        elif m in [4,6,9,11] :\n",
    "            return 30\n",
    "        else :\n",
    "            return 28\n",
    "days2(2015, 1)"
   ]
  },
  {
   "cell_type": "markdown",
   "id": "797e0be3",
   "metadata": {},
   "source": [
    "Exercise 2.6.4"
   ]
  },
  {
   "cell_type": "code",
   "execution_count": 30,
   "id": "ac34ec4a",
   "metadata": {},
   "outputs": [
    {
     "data": {
      "text/plain": [
       "8"
      ]
     },
     "execution_count": 30,
     "metadata": {},
     "output_type": "execute_result"
    }
   ],
   "source": [
    "def diffsum(a, b, c) :\n",
    "    res = (a**2+b**2+c**2)-(a+b+c)\n",
    "    return(res)\n",
    "diffsum(1,2,3)"
   ]
  },
  {
   "cell_type": "markdown",
   "id": "5e5c8f7c",
   "metadata": {},
   "source": [
    "Exercise 2.6.5"
   ]
  },
  {
   "cell_type": "code",
   "execution_count": 32,
   "id": "9bd99801",
   "metadata": {},
   "outputs": [
    {
     "data": {
      "text/plain": [
       "8"
      ]
     },
     "execution_count": 32,
     "metadata": {},
     "output_type": "execute_result"
    }
   ],
   "source": [
    "m = 0\n",
    "def diffsum(a, b, c) :\n",
    "    global m\n",
    "    res = (a**2+b**2+c**2)-(a+b+c)\n",
    "    if res > m :\n",
    "        m = res\n",
    "    return(m)\n",
    "diffsum(1,2,3)\n",
    "m"
   ]
  },
  {
   "cell_type": "markdown",
   "id": "2f7af4d3",
   "metadata": {},
   "source": [
    "# Chap2.7"
   ]
  },
  {
   "cell_type": "markdown",
   "id": "7fb9bc8a",
   "metadata": {},
   "source": [
    "Exercise 2.7.1"
   ]
  },
  {
   "cell_type": "code",
   "execution_count": 33,
   "id": "9a5287e0",
   "metadata": {},
   "outputs": [
    {
     "name": "stdout",
     "output_type": "stream",
     "text": [
      "\n",
      "*\n",
      "**\n",
      "***\n",
      "****\n",
      "*****\n",
      "******\n",
      "*******\n",
      "********\n",
      "*********\n"
     ]
    }
   ],
   "source": [
    "for i in range(10) :\n",
    "    print('*'*i)"
   ]
  },
  {
   "cell_type": "markdown",
   "id": "bf295846",
   "metadata": {},
   "source": [
    "Exercise 2.7.2"
   ]
  },
  {
   "cell_type": "code",
   "execution_count": 34,
   "id": "5f17753c",
   "metadata": {},
   "outputs": [
    {
     "name": "stdout",
     "output_type": "stream",
     "text": [
      "**********\n",
      "*********\n",
      "********\n",
      "*******\n",
      "******\n",
      "*****\n",
      "****\n",
      "***\n",
      "**\n",
      "*\n"
     ]
    }
   ],
   "source": [
    "for i in range(10) :\n",
    "    print('*'*(10-i))"
   ]
  },
  {
   "cell_type": "markdown",
   "id": "be75ffff",
   "metadata": {},
   "source": [
    "Exercise 2.7.3"
   ]
  },
  {
   "cell_type": "code",
   "execution_count": 52,
   "id": "f0651e81",
   "metadata": {},
   "outputs": [
    {
     "name": "stdout",
     "output_type": "stream",
     "text": [
      "\n",
      "*\n",
      "**\n",
      "***\n",
      "****\n",
      "*****\n",
      "******\n",
      "*******\n",
      "********\n",
      "*********\n",
      "**********\n",
      "*********\n",
      "********\n",
      "*******\n",
      "******\n",
      "*****\n",
      "****\n",
      "***\n",
      "**\n",
      "*\n"
     ]
    }
   ],
   "source": [
    "for i in range(10) :\n",
    "    print('*'*i)\n",
    "    if i == 9 :\n",
    "        for j in range(10) :\n",
    "            print('*'*(10-j))"
   ]
  },
  {
   "cell_type": "markdown",
   "id": "597ed90c",
   "metadata": {},
   "source": [
    "Exercise 2.7.4"
   ]
  },
  {
   "cell_type": "code",
   "execution_count": 53,
   "id": "9fefea84",
   "metadata": {},
   "outputs": [
    {
     "name": "stdout",
     "output_type": "stream",
     "text": [
      "     *     \n",
      "    ***    \n",
      "   *****   \n",
      "  *******  \n",
      " ********* \n",
      "***********\n",
      " ********* \n",
      "  *******  \n",
      "   *****   \n",
      "    ***    \n",
      "     *     \n",
      "            \n"
     ]
    }
   ],
   "source": [
    "for i in range(6) :\n",
    "    print(' '*(5-i) + '*'*(2*i+1) + ' '*(5-i))\n",
    "    if i == 5 :\n",
    "        for j in range(i+1) :\n",
    "            print(' '*(j+1) + '*'*((2*i+1)-(2*j+2)) + ' '*(j+1))"
   ]
  },
  {
   "cell_type": "markdown",
   "id": "667ce186",
   "metadata": {},
   "source": [
    "Exercise 2.7.5\n"
   ]
  },
  {
   "cell_type": "code",
   "execution_count": 62,
   "id": "8618b9d4",
   "metadata": {},
   "outputs": [
    {
     "name": "stdout",
     "output_type": "stream",
     "text": [
      "0 0 0 8192\n",
      "0 0 1 2048\n",
      "0 1 0 2048\n",
      "0 1 1 512\n",
      "1 0 0 2048\n",
      "1 0 1 512\n",
      "1 1 0 512\n",
      "1 1 1 128\n"
     ]
    }
   ],
   "source": [
    "for i in range(2) :\n",
    "    stock = 1024\n",
    "    if (i == 0):\n",
    "        gain1 = 2\n",
    "    else : \n",
    "        gain1 = 0.5\n",
    "    for j in range(2) :\n",
    "        if (j == 0):\n",
    "            gain2 = 2\n",
    "        else :\n",
    "            gain2 = 0.5\n",
    "        for k in range(2) :\n",
    "            if (k == 0):\n",
    "                gain3 = 2\n",
    "            else :\n",
    "                gain3 = 0.5\n",
    "            print(i, j, k, int(stock*gain1*gain2*gain3))"
   ]
  },
  {
   "cell_type": "markdown",
   "id": "82e85333",
   "metadata": {},
   "source": [
    "Exercise 2.7.6"
   ]
  },
  {
   "cell_type": "code",
   "execution_count": 65,
   "id": "4f22fceb",
   "metadata": {},
   "outputs": [
    {
     "name": "stdout",
     "output_type": "stream",
     "text": [
      "1 1 1 False\n",
      "1 1 2 False\n",
      "1 1 3 False\n",
      "1 1 4 False\n",
      "1 1 5 False\n",
      "1 1 6 False\n",
      "1 1 7 False\n",
      "1 1 8 False\n",
      "1 1 9 False\n",
      "1 2 1 False\n",
      "1 2 2 False\n",
      "1 2 3 False\n",
      "1 2 4 False\n",
      "1 2 5 False\n",
      "1 2 6 False\n",
      "1 2 7 False\n",
      "1 2 8 False\n",
      "1 2 9 False\n",
      "1 3 1 False\n",
      "1 3 2 False\n",
      "1 3 3 False\n",
      "1 3 4 False\n",
      "1 3 5 False\n",
      "1 3 6 False\n",
      "1 3 7 False\n",
      "1 3 8 False\n",
      "1 3 9 False\n",
      "1 4 1 False\n",
      "1 4 2 False\n",
      "1 4 3 False\n",
      "1 4 4 False\n",
      "1 4 5 False\n",
      "1 4 6 False\n",
      "1 4 7 False\n",
      "1 4 8 False\n",
      "1 4 9 False\n",
      "1 5 1 False\n",
      "1 5 2 False\n",
      "1 5 3 False\n",
      "1 5 4 False\n",
      "1 5 5 False\n",
      "1 5 6 False\n",
      "1 5 7 False\n",
      "1 5 8 False\n",
      "1 5 9 False\n",
      "1 6 1 False\n",
      "1 6 2 False\n",
      "1 6 3 False\n",
      "1 6 4 False\n",
      "1 6 5 False\n",
      "1 6 6 False\n",
      "1 6 7 False\n",
      "1 6 8 False\n",
      "1 6 9 False\n",
      "1 7 1 False\n",
      "1 7 2 False\n",
      "1 7 3 False\n",
      "1 7 4 False\n",
      "1 7 5 False\n",
      "1 7 6 False\n",
      "1 7 7 False\n",
      "1 7 8 False\n",
      "1 7 9 False\n",
      "1 8 1 False\n",
      "1 8 2 False\n",
      "1 8 3 False\n",
      "1 8 4 False\n",
      "1 8 5 False\n",
      "1 8 6 False\n",
      "1 8 7 False\n",
      "1 8 8 False\n",
      "1 8 9 False\n",
      "1 9 1 False\n",
      "1 9 2 False\n",
      "1 9 3 False\n",
      "1 9 4 False\n",
      "1 9 5 False\n",
      "1 9 6 False\n",
      "1 9 7 False\n",
      "1 9 8 False\n",
      "1 9 9 False\n",
      "2 1 1 False\n",
      "2 1 2 False\n",
      "2 1 3 False\n",
      "2 1 4 False\n",
      "2 1 5 False\n",
      "2 1 6 False\n",
      "2 1 7 False\n",
      "2 1 8 False\n",
      "2 1 9 False\n",
      "2 2 1 False\n",
      "2 2 2 False\n",
      "2 2 3 False\n",
      "2 2 4 False\n",
      "2 2 5 False\n",
      "2 2 6 False\n",
      "2 2 7 False\n",
      "2 2 8 False\n",
      "2 2 9 False\n",
      "2 3 1 False\n",
      "2 3 2 False\n",
      "2 3 3 False\n",
      "2 3 4 False\n",
      "2 3 5 False\n",
      "2 3 6 False\n",
      "2 3 7 False\n",
      "2 3 8 False\n",
      "2 3 9 False\n",
      "2 4 1 False\n",
      "2 4 2 False\n",
      "2 4 3 False\n",
      "2 4 4 False\n",
      "2 4 5 False\n",
      "2 4 6 False\n",
      "2 4 7 False\n",
      "2 4 8 False\n",
      "2 4 9 False\n",
      "2 5 1 False\n",
      "2 5 2 False\n",
      "2 5 3 False\n",
      "2 5 4 False\n",
      "2 5 5 False\n",
      "2 5 6 False\n",
      "2 5 7 False\n",
      "2 5 8 False\n",
      "2 5 9 False\n",
      "2 6 1 False\n",
      "2 6 2 False\n",
      "2 6 3 False\n",
      "2 6 4 False\n",
      "2 6 5 False\n",
      "2 6 6 False\n",
      "2 6 7 False\n",
      "2 6 8 False\n",
      "2 6 9 False\n",
      "2 7 1 False\n",
      "2 7 2 False\n",
      "2 7 3 False\n",
      "2 7 4 False\n",
      "2 7 5 False\n",
      "2 7 6 False\n",
      "2 7 7 False\n",
      "2 7 8 False\n",
      "2 7 9 False\n",
      "2 8 1 False\n",
      "2 8 2 False\n",
      "2 8 3 False\n",
      "2 8 4 False\n",
      "2 8 5 False\n",
      "2 8 6 False\n",
      "2 8 7 False\n",
      "2 8 8 False\n",
      "2 8 9 False\n",
      "2 9 1 False\n",
      "2 9 2 False\n",
      "2 9 3 False\n",
      "2 9 4 False\n",
      "2 9 5 False\n",
      "2 9 6 False\n",
      "2 9 7 False\n",
      "2 9 8 False\n",
      "2 9 9 False\n",
      "3 1 1 False\n",
      "3 1 2 False\n",
      "3 1 3 False\n",
      "3 1 4 False\n",
      "3 1 5 False\n",
      "3 1 6 False\n",
      "3 1 7 False\n",
      "3 1 8 False\n",
      "3 1 9 False\n",
      "3 2 1 False\n",
      "3 2 2 False\n",
      "3 2 3 False\n",
      "3 2 4 False\n",
      "3 2 5 False\n",
      "3 2 6 False\n",
      "3 2 7 False\n",
      "3 2 8 False\n",
      "3 2 9 False\n",
      "3 3 1 False\n",
      "3 3 2 False\n",
      "3 3 3 False\n",
      "3 3 4 False\n",
      "3 3 5 False\n",
      "3 3 6 False\n",
      "3 3 7 False\n",
      "3 3 8 False\n",
      "3 3 9 False\n",
      "3 4 1 False\n",
      "3 4 2 False\n",
      "3 4 3 False\n",
      "3 4 4 False\n",
      "3 4 5 False\n",
      "3 4 6 False\n",
      "3 4 7 False\n",
      "3 4 8 False\n",
      "3 4 9 False\n",
      "3 5 1 False\n",
      "3 5 2 False\n",
      "3 5 3 False\n",
      "3 5 4 False\n",
      "3 5 5 False\n",
      "3 5 6 False\n",
      "3 5 7 False\n",
      "3 5 8 False\n",
      "3 5 9 False\n",
      "3 6 1 False\n",
      "3 6 2 False\n",
      "3 6 3 False\n",
      "3 6 4 False\n",
      "3 6 5 False\n",
      "3 6 6 False\n",
      "3 6 7 False\n",
      "3 6 8 False\n",
      "3 6 9 False\n",
      "3 7 1 False\n",
      "3 7 2 False\n",
      "3 7 3 False\n",
      "3 7 4 False\n",
      "3 7 5 False\n",
      "3 7 6 False\n",
      "3 7 7 False\n",
      "3 7 8 False\n",
      "3 7 9 False\n",
      "3 8 1 False\n",
      "3 8 2 False\n",
      "3 8 3 False\n",
      "3 8 4 False\n",
      "3 8 5 False\n",
      "3 8 6 False\n",
      "3 8 7 False\n",
      "3 8 8 False\n",
      "3 8 9 False\n",
      "3 9 1 False\n",
      "3 9 2 False\n",
      "3 9 3 False\n",
      "3 9 4 False\n",
      "3 9 5 False\n",
      "3 9 6 False\n",
      "3 9 7 False\n",
      "3 9 8 False\n",
      "3 9 9 False\n",
      "4 1 1 False\n",
      "4 1 2 False\n",
      "4 1 3 False\n",
      "4 1 4 False\n",
      "4 1 5 False\n",
      "4 1 6 False\n",
      "4 1 7 False\n",
      "4 1 8 False\n",
      "4 1 9 False\n",
      "4 2 1 False\n",
      "4 2 2 False\n",
      "4 2 3 False\n",
      "4 2 4 False\n",
      "4 2 5 False\n",
      "4 2 6 False\n",
      "4 2 7 False\n",
      "4 2 8 False\n",
      "4 2 9 False\n",
      "4 3 1 False\n",
      "4 3 2 False\n",
      "4 3 3 False\n",
      "4 3 4 False\n",
      "4 3 5 False\n",
      "4 3 6 False\n",
      "4 3 7 False\n",
      "4 3 8 False\n",
      "4 3 9 False\n",
      "4 4 1 False\n",
      "4 4 2 False\n",
      "4 4 3 False\n",
      "4 4 4 False\n",
      "4 4 5 False\n",
      "4 4 6 False\n",
      "4 4 7 False\n",
      "4 4 8 False\n",
      "4 4 9 False\n",
      "4 5 1 False\n",
      "4 5 2 False\n",
      "4 5 3 False\n",
      "4 5 4 False\n",
      "4 5 5 False\n",
      "4 5 6 False\n",
      "4 5 7 False\n",
      "4 5 8 False\n",
      "4 5 9 False\n",
      "4 6 1 False\n",
      "4 6 2 False\n",
      "4 6 3 False\n",
      "4 6 4 False\n",
      "4 6 5 False\n",
      "4 6 6 False\n",
      "4 6 7 False\n",
      "4 6 8 False\n",
      "4 6 9 False\n",
      "4 7 1 False\n",
      "4 7 2 False\n",
      "4 7 3 False\n",
      "4 7 4 False\n",
      "4 7 5 False\n",
      "4 7 6 False\n",
      "4 7 7 False\n",
      "4 7 8 False\n",
      "4 7 9 False\n",
      "4 8 1 False\n",
      "4 8 2 False\n",
      "4 8 3 False\n",
      "4 8 4 False\n",
      "4 8 5 False\n",
      "4 8 6 False\n",
      "4 8 7 False\n",
      "4 8 8 False\n",
      "4 8 9 False\n",
      "4 9 1 False\n",
      "4 9 2 False\n",
      "4 9 3 False\n",
      "4 9 4 False\n",
      "4 9 5 False\n",
      "4 9 6 False\n",
      "4 9 7 False\n",
      "4 9 8 False\n",
      "4 9 9 False\n",
      "5 1 1 False\n",
      "5 1 2 False\n",
      "5 1 3 False\n",
      "5 1 4 False\n",
      "5 1 5 False\n",
      "5 1 6 False\n",
      "5 1 7 False\n",
      "5 1 8 False\n",
      "5 1 9 False\n",
      "5 2 1 False\n",
      "5 2 2 False\n",
      "5 2 3 False\n",
      "5 2 4 False\n",
      "5 2 5 False\n",
      "5 2 6 False\n",
      "5 2 7 False\n",
      "5 2 8 False\n",
      "5 2 9 False\n",
      "5 3 1 False\n",
      "5 3 2 False\n",
      "5 3 3 False\n",
      "5 3 4 False\n",
      "5 3 5 False\n",
      "5 3 6 False\n",
      "5 3 7 False\n",
      "5 3 8 False\n",
      "5 3 9 False\n",
      "5 4 1 False\n",
      "5 4 2 False\n",
      "5 4 3 False\n",
      "5 4 4 False\n",
      "5 4 5 False\n",
      "5 4 6 False\n",
      "5 4 7 False\n",
      "5 4 8 False\n",
      "5 4 9 False\n",
      "5 5 1 False\n",
      "5 5 2 False\n",
      "5 5 3 False\n",
      "5 5 4 False\n",
      "5 5 5 False\n",
      "5 5 6 False\n",
      "5 5 7 False\n",
      "5 5 8 False\n",
      "5 5 9 False\n",
      "5 6 1 False\n",
      "5 6 2 False\n",
      "5 6 3 False\n",
      "5 6 4 False\n",
      "5 6 5 False\n",
      "5 6 6 False\n",
      "5 6 7 False\n",
      "5 6 8 False\n",
      "5 6 9 False\n",
      "5 7 1 False\n",
      "5 7 2 False\n",
      "5 7 3 False\n",
      "5 7 4 False\n",
      "5 7 5 False\n",
      "5 7 6 False\n",
      "5 7 7 False\n",
      "5 7 8 False\n",
      "5 7 9 False\n",
      "5 8 1 False\n",
      "5 8 2 False\n",
      "5 8 3 False\n",
      "5 8 4 False\n",
      "5 8 5 False\n",
      "5 8 6 False\n",
      "5 8 7 False\n",
      "5 8 8 False\n",
      "5 8 9 False\n",
      "5 9 1 False\n",
      "5 9 2 False\n",
      "5 9 3 False\n",
      "5 9 4 False\n",
      "5 9 5 False\n",
      "5 9 6 False\n",
      "5 9 7 False\n",
      "5 9 8 False\n",
      "5 9 9 False\n",
      "6 1 1 False\n",
      "6 1 2 False\n",
      "6 1 3 False\n",
      "6 1 4 False\n",
      "6 1 5 False\n",
      "6 1 6 False\n",
      "6 1 7 False\n",
      "6 1 8 False\n",
      "6 1 9 False\n",
      "6 2 1 False\n",
      "6 2 2 False\n",
      "6 2 3 False\n",
      "6 2 4 False\n",
      "6 2 5 False\n",
      "6 2 6 False\n",
      "6 2 7 False\n",
      "6 2 8 False\n",
      "6 2 9 False\n",
      "6 3 1 False\n",
      "6 3 2 False\n",
      "6 3 3 False\n",
      "6 3 4 False\n",
      "6 3 5 False\n",
      "6 3 6 False\n",
      "6 3 7 False\n",
      "6 3 8 False\n",
      "6 3 9 False\n",
      "6 4 1 False\n",
      "6 4 2 False\n",
      "6 4 3 False\n",
      "6 4 4 False\n",
      "6 4 5 False\n",
      "6 4 6 False\n",
      "6 4 7 False\n",
      "6 4 8 False\n",
      "6 4 9 False\n",
      "6 5 1 False\n",
      "6 5 2 False\n",
      "6 5 3 False\n",
      "6 5 4 False\n",
      "6 5 5 False\n",
      "6 5 6 False\n",
      "6 5 7 False\n",
      "6 5 8 False\n",
      "6 5 9 False\n",
      "6 6 1 False\n",
      "6 6 2 False\n",
      "6 6 3 False\n",
      "6 6 4 False\n",
      "6 6 5 False\n",
      "6 6 6 False\n",
      "6 6 7 False\n",
      "6 6 8 False\n",
      "6 6 9 False\n",
      "6 7 1 False\n",
      "6 7 2 False\n",
      "6 7 3 False\n",
      "6 7 4 False\n",
      "6 7 5 False\n",
      "6 7 6 False\n",
      "6 7 7 False\n",
      "6 7 8 False\n",
      "6 7 9 False\n",
      "6 8 1 False\n",
      "6 8 2 False\n",
      "6 8 3 False\n",
      "6 8 4 False\n",
      "6 8 5 False\n",
      "6 8 6 False\n",
      "6 8 7 False\n",
      "6 8 8 False\n",
      "6 8 9 False\n",
      "6 9 1 False\n",
      "6 9 2 False\n",
      "6 9 3 False\n",
      "6 9 4 False\n",
      "6 9 5 False\n",
      "6 9 6 False\n",
      "6 9 7 False\n",
      "6 9 8 False\n",
      "6 9 9 False\n",
      "7 1 1 False\n",
      "7 1 2 False\n",
      "7 1 3 False\n",
      "7 1 4 False\n",
      "7 1 5 False\n",
      "7 1 6 False\n",
      "7 1 7 False\n",
      "7 1 8 False\n",
      "7 1 9 False\n",
      "7 2 1 False\n",
      "7 2 2 False\n",
      "7 2 3 False\n",
      "7 2 4 False\n",
      "7 2 5 False\n",
      "7 2 6 False\n",
      "7 2 7 False\n",
      "7 2 8 False\n",
      "7 2 9 False\n",
      "7 3 1 False\n",
      "7 3 2 False\n",
      "7 3 3 False\n",
      "7 3 4 False\n",
      "7 3 5 False\n",
      "7 3 6 False\n",
      "7 3 7 False\n",
      "7 3 8 False\n",
      "7 3 9 False\n",
      "7 4 1 False\n",
      "7 4 2 False\n",
      "7 4 3 False\n",
      "7 4 4 False\n",
      "7 4 5 False\n",
      "7 4 6 False\n",
      "7 4 7 False\n",
      "7 4 8 False\n",
      "7 4 9 False\n",
      "7 5 1 False\n",
      "7 5 2 False\n",
      "7 5 3 False\n",
      "7 5 4 False\n",
      "7 5 5 False\n",
      "7 5 6 False\n",
      "7 5 7 False\n",
      "7 5 8 False\n",
      "7 5 9 False\n",
      "7 6 1 False\n",
      "7 6 2 False\n",
      "7 6 3 False\n",
      "7 6 4 False\n",
      "7 6 5 False\n",
      "7 6 6 False\n",
      "7 6 7 False\n",
      "7 6 8 False\n",
      "7 6 9 False\n",
      "7 7 1 False\n",
      "7 7 2 False\n",
      "7 7 3 False\n",
      "7 7 4 False\n",
      "7 7 5 False\n",
      "7 7 6 False\n",
      "7 7 7 False\n",
      "7 7 8 False\n",
      "7 7 9 False\n",
      "7 8 1 False\n",
      "7 8 2 False\n",
      "7 8 3 False\n",
      "7 8 4 False\n",
      "7 8 5 False\n",
      "7 8 6 False\n",
      "7 8 7 False\n",
      "7 8 8 False\n",
      "7 8 9 False\n",
      "7 9 1 False\n",
      "7 9 2 False\n",
      "7 9 3 False\n",
      "7 9 4 False\n",
      "7 9 5 False\n",
      "7 9 6 False\n",
      "7 9 7 False\n",
      "7 9 8 False\n",
      "7 9 9 False\n",
      "8 1 1 False\n",
      "8 1 2 False\n",
      "8 1 3 False\n",
      "8 1 4 False\n",
      "8 1 5 False\n",
      "8 1 6 False\n",
      "8 1 7 False\n",
      "8 1 8 False\n",
      "8 1 9 False\n",
      "8 2 1 False\n",
      "8 2 2 False\n",
      "8 2 3 False\n",
      "8 2 4 False\n",
      "8 2 5 False\n",
      "8 2 6 False\n",
      "8 2 7 False\n",
      "8 2 8 False\n",
      "8 2 9 False\n",
      "8 3 1 False\n",
      "8 3 2 False\n",
      "8 3 3 False\n",
      "8 3 4 False\n",
      "8 3 5 False\n",
      "8 3 6 False\n",
      "8 3 7 False\n",
      "8 3 8 False\n",
      "8 3 9 False\n",
      "8 4 1 False\n",
      "8 4 2 False\n",
      "8 4 3 False\n",
      "8 4 4 False\n",
      "8 4 5 False\n",
      "8 4 6 False\n",
      "8 4 7 False\n",
      "8 4 8 False\n",
      "8 4 9 False\n",
      "8 5 1 False\n",
      "8 5 2 False\n",
      "8 5 3 False\n",
      "8 5 4 False\n",
      "8 5 5 False\n",
      "8 5 6 False\n",
      "8 5 7 False\n",
      "8 5 8 False\n",
      "8 5 9 False\n",
      "8 6 1 False\n",
      "8 6 2 False\n",
      "8 6 3 False\n",
      "8 6 4 False\n",
      "8 6 5 False\n",
      "8 6 6 False\n",
      "8 6 7 False\n",
      "8 6 8 False\n",
      "8 6 9 False\n",
      "8 7 1 False\n",
      "8 7 2 False\n",
      "8 7 3 False\n",
      "8 7 4 False\n",
      "8 7 5 False\n",
      "8 7 6 False\n",
      "8 7 7 False\n",
      "8 7 8 False\n",
      "8 7 9 False\n",
      "8 8 1 False\n",
      "8 8 2 False\n",
      "8 8 3 False\n",
      "8 8 4 False\n",
      "8 8 5 False\n",
      "8 8 6 False\n",
      "8 8 7 False\n",
      "8 8 8 False\n",
      "8 8 9 False\n",
      "8 9 1 False\n",
      "8 9 2 False\n",
      "8 9 3 False\n",
      "8 9 4 False\n",
      "8 9 5 False\n",
      "8 9 6 False\n",
      "8 9 7 False\n",
      "8 9 8 False\n",
      "8 9 9 False\n",
      "9 1 1 False\n",
      "9 1 2 False\n",
      "9 1 3 False\n",
      "9 1 4 False\n",
      "9 1 5 False\n",
      "9 1 6 False\n",
      "9 1 7 False\n",
      "9 1 8 False\n",
      "9 1 9 False\n",
      "9 2 1 False\n",
      "9 2 2 False\n",
      "9 2 3 False\n",
      "9 2 4 False\n",
      "9 2 5 False\n",
      "9 2 6 False\n",
      "9 2 7 False\n",
      "9 2 8 False\n",
      "9 2 9 False\n",
      "9 3 1 False\n",
      "9 3 2 False\n",
      "9 3 3 False\n",
      "9 3 4 False\n",
      "9 3 5 False\n",
      "9 3 6 False\n",
      "9 3 7 False\n",
      "9 3 8 False\n",
      "9 3 9 False\n",
      "9 4 1 False\n",
      "9 4 2 False\n",
      "9 4 3 False\n",
      "9 4 4 False\n",
      "9 4 5 False\n",
      "9 4 6 False\n",
      "9 4 7 False\n",
      "9 4 8 False\n",
      "9 4 9 False\n",
      "9 5 1 False\n",
      "9 5 2 False\n",
      "9 5 3 False\n",
      "9 5 4 False\n",
      "9 5 5 False\n",
      "9 5 6 False\n",
      "9 5 7 False\n",
      "9 5 8 False\n",
      "9 5 9 False\n",
      "9 6 1 False\n",
      "9 6 2 False\n",
      "9 6 3 False\n",
      "9 6 4 False\n",
      "9 6 5 False\n",
      "9 6 6 False\n",
      "9 6 7 False\n",
      "9 6 8 False\n",
      "9 6 9 False\n",
      "9 7 1 False\n",
      "9 7 2 False\n",
      "9 7 3 False\n",
      "9 7 4 False\n",
      "9 7 5 False\n",
      "9 7 6 False\n",
      "9 7 7 False\n",
      "9 7 8 False\n",
      "9 7 9 False\n",
      "9 8 1 False\n",
      "9 8 2 False\n",
      "9 8 3 False\n",
      "9 8 4 False\n",
      "9 8 5 False\n",
      "9 8 6 False\n",
      "9 8 7 False\n",
      "9 8 8 False\n",
      "9 8 9 False\n",
      "9 9 1 False\n",
      "9 9 2 False\n",
      "9 9 3 False\n",
      "9 9 4 False\n",
      "9 9 5 False\n",
      "9 9 6 False\n",
      "9 9 7 False\n",
      "9 9 8 False\n",
      "9 9 9 False\n"
     ]
    }
   ],
   "source": [
    "n = 3\n",
    "for a in range(1,10) :\n",
    "    for b in range(1,10) :\n",
    "        for c in range(1,10) : \n",
    "            print(a, b, c, a**n+b**n == c**n)"
   ]
  },
  {
   "cell_type": "markdown",
   "id": "77155064",
   "metadata": {},
   "source": [
    "Exercise 2.7.7"
   ]
  },
  {
   "cell_type": "code",
   "execution_count": 83,
   "id": "5792a61b",
   "metadata": {},
   "outputs": [
    {
     "data": {
      "text/plain": [
       "10"
      ]
     },
     "execution_count": 83,
     "metadata": {},
     "output_type": "execute_result"
    }
   ],
   "source": [
    "sum = 0\n",
    "n = 3\n",
    "\n",
    "for j in range(n) :\n",
    "    a_n = 0\n",
    "    for i in range(j+1) :\n",
    "        a_n += i+1\n",
    "    sum += a_n\n",
    "sum"
   ]
  },
  {
   "cell_type": "markdown",
   "id": "fbe48c34",
   "metadata": {},
   "source": [
    "# Chap2.8"
   ]
  },
  {
   "cell_type": "markdown",
   "id": "7fe0e639",
   "metadata": {},
   "source": [
    "Exercise 2.8.1"
   ]
  },
  {
   "cell_type": "code",
   "execution_count": 84,
   "id": "0d18db17",
   "metadata": {},
   "outputs": [
    {
     "data": {
      "text/plain": [
       "69.0"
      ]
     },
     "execution_count": 84,
     "metadata": {},
     "output_type": "execute_result"
    }
   ],
   "source": [
    "score = [80, 30, 90, 95, 50]\n",
    "(score[0] + score[1] + score[2] + score[3] + score[4])/5"
   ]
  },
  {
   "cell_type": "markdown",
   "id": "65126e78",
   "metadata": {},
   "source": [
    "Exercise 2.8.2\n"
   ]
  },
  {
   "cell_type": "code",
   "execution_count": 87,
   "id": "09019b24",
   "metadata": {},
   "outputs": [
    {
     "data": {
      "text/plain": [
       "29.666666666666668"
      ]
     },
     "execution_count": 87,
     "metadata": {},
     "output_type": "execute_result"
    }
   ],
   "source": [
    "days = {'01' : 31, '02' : 28, '03' : 31, '04' :30, '05' : 31, \n",
    "        '06' : 30, '07' : 31, '08' : 30, '09' : 31, '10' :30,\n",
    "        '11' : 31, '12' :30}\n",
    "(days['02']+ days['04'] + days['06'] + days['08'] + days['10'] + days['12'])/6"
   ]
  },
  {
   "cell_type": "markdown",
   "id": "37d1c685",
   "metadata": {},
   "source": [
    "# Chap2.9"
   ]
  },
  {
   "cell_type": "markdown",
   "id": "bdd128c7",
   "metadata": {},
   "source": [
    "Exercise 2.9.1"
   ]
  },
  {
   "cell_type": "code",
   "execution_count": 88,
   "id": "af6e39ba",
   "metadata": {},
   "outputs": [],
   "source": [
    "#n1. \n",
    "Students = ['A', 'B', 'C', 'D', 'E']\n",
    "\n",
    "#n2. \n",
    "Students.append('F')\n",
    "\n",
    "#n3. \n",
    "del Students[2]\n",
    "\n",
    "#n4. \n",
    "New_Students = Students[3:5]"
   ]
  },
  {
   "cell_type": "markdown",
   "id": "6fe4e3a6",
   "metadata": {},
   "source": [
    "# Chap2.10"
   ]
  },
  {
   "cell_type": "markdown",
   "id": "c574afb9",
   "metadata": {},
   "source": [
    "Exercise 2.10.1"
   ]
  },
  {
   "cell_type": "code",
   "execution_count": 90,
   "id": "525ece58",
   "metadata": {},
   "outputs": [
    {
     "data": {
      "text/plain": [
       "3.3636363636363638"
      ]
     },
     "execution_count": 90,
     "metadata": {},
     "output_type": "execute_result"
    }
   ],
   "source": [
    "X = [4,3,2,3,4]\n",
    "Y = [3,3,1,2,2]\n",
    "sum_of_GPA = 0\n",
    "sum_of_Y = 0\n",
    "\n",
    "for i, Xi in enumerate(X) : \n",
    "    Yi = Y[i]\n",
    "    sum_of_GPA += Xi*Yi\n",
    "    sum_of_Y += Yi\n",
    "GPA = sum_of_GPA/sum_of_Y\n",
    "GPA"
   ]
  },
  {
   "cell_type": "markdown",
   "id": "73c7210f",
   "metadata": {},
   "source": [
    "Exercise 2.10.2"
   ]
  },
  {
   "cell_type": "code",
   "execution_count": 91,
   "id": "cebb3036",
   "metadata": {},
   "outputs": [
    {
     "data": {
      "text/plain": [
       "1.6666666666666667"
      ]
     },
     "execution_count": 91,
     "metadata": {},
     "output_type": "execute_result"
    }
   ],
   "source": [
    "X = [6,5,4,7,3,5]\n",
    "var_sum = 0\n",
    "sum = 0\n",
    "\n",
    "for Xi in X :\n",
    "    sum += Xi\n",
    "mean = sum/len(X)\n",
    "\n",
    "for Xi in X :\n",
    "    var_sum += (Xi-mean)**2\n",
    "variance = var_sum/len(X)\n",
    "variance"
   ]
  },
  {
   "cell_type": "markdown",
   "id": "d17fba3e",
   "metadata": {},
   "source": [
    "Exercise 2.10.3"
   ]
  },
  {
   "cell_type": "code",
   "execution_count": 102,
   "id": "edddb0c1",
   "metadata": {},
   "outputs": [
    {
     "data": {
      "text/plain": [
       "('길동', '철수', '영수', '방자')"
      ]
     },
     "execution_count": 102,
     "metadata": {},
     "output_type": "execute_result"
    }
   ],
   "source": [
    "x = [[\"길동\", 90], [\"철수\", 80], [\"영수\", 70], [\"방자\", 60]]\n",
    "x1, x2, x3, x4 = x\n",
    "ans = list(zip(x1, x2, x3, x4))[0]\n",
    "ans"
   ]
  },
  {
   "cell_type": "markdown",
   "id": "860960d2",
   "metadata": {},
   "source": [
    "# Chap2.11"
   ]
  },
  {
   "cell_type": "markdown",
   "id": "fd826d10",
   "metadata": {},
   "source": [
    "Exercise 2.11.1"
   ]
  },
  {
   "cell_type": "code",
   "execution_count": 108,
   "id": "394b6e50",
   "metadata": {},
   "outputs": [
    {
     "name": "stdout",
     "output_type": "stream",
     "text": [
      "철수     98\n",
      "영희     80\n",
      "순이     100\n",
      "돌이     70\n",
      "============\n",
      "평균     87\n"
     ]
    }
   ],
   "source": [
    "data = {\n",
    "    \"철수\": 98,\n",
    "    \"영희\": 80,\n",
    "    \"순이\": 100,\n",
    "    \"돌이\": 70,\n",
    "}\n",
    "sum = 0\n",
    "for score in data.values() :\n",
    "    sum += score\n",
    "avg = sum/len(data)\n",
    "\n",
    "for name, score in data.items() :\n",
    "    print(\"%s     %1d\" %(name, score))\n",
    "print(\"============\\n평균     %d\" %avg)\n",
    "    "
   ]
  },
  {
   "cell_type": "markdown",
   "id": "4807e019",
   "metadata": {},
   "source": [
    "# Chap2.12"
   ]
  },
  {
   "cell_type": "markdown",
   "id": "8a600b06",
   "metadata": {},
   "source": [
    "Exercise 2.12.1"
   ]
  },
  {
   "cell_type": "code",
   "execution_count": 3,
   "id": "27acb3e3",
   "metadata": {},
   "outputs": [],
   "source": [
    "class triangle(object) : \n",
    "    \n",
    "    def __init__(self, d, h) :\n",
    "        self.d = d\n",
    "        self.h = h\n",
    "    \n",
    "    def area(self) : \n",
    "        area = self.d*self.h*(0.5) \n",
    "        return area"
   ]
  },
  {
   "cell_type": "code",
   "execution_count": 4,
   "id": "bee71a47",
   "metadata": {},
   "outputs": [
    {
     "data": {
      "text/plain": [
       "1.0"
      ]
     },
     "execution_count": 4,
     "metadata": {},
     "output_type": "execute_result"
    }
   ],
   "source": [
    "t = triangle(1,2) \n",
    "t.area()"
   ]
  },
  {
   "cell_type": "markdown",
   "id": "73a66c92",
   "metadata": {},
   "source": [
    "Exercise 2.12.2"
   ]
  },
  {
   "cell_type": "code",
   "execution_count": 12,
   "id": "b7f4fe57",
   "metadata": {},
   "outputs": [],
   "source": [
    "class square(object) : \n",
    "    \n",
    "    def __init__(self, a, b, h) :\n",
    "        self.a = a\n",
    "        self.b = b\n",
    "        self.h = h\n",
    "    \n",
    "    def volume(self) :\n",
    "        volume = self.a*self.b*self.h\n",
    "        return volume\n",
    "    \n",
    "    def area(self) :\n",
    "        area = (2*self.a*self.b) + (self.a+self.b)*2*self.h\n",
    "        return area"
   ]
  },
  {
   "cell_type": "code",
   "execution_count": 14,
   "id": "30959fa2",
   "metadata": {},
   "outputs": [
    {
     "name": "stdout",
     "output_type": "stream",
     "text": [
      "6 22\n"
     ]
    }
   ],
   "source": [
    "v = square(1,2,3) \n",
    "print(v.volume(), v.area())"
   ]
  },
  {
   "cell_type": "markdown",
   "id": "83a56e05",
   "metadata": {},
   "source": [
    "Exercise 2.12.3"
   ]
  },
  {
   "cell_type": "code",
   "execution_count": 22,
   "id": "efa15e95",
   "metadata": {},
   "outputs": [],
   "source": [
    "class Character(object) :\n",
    "    \n",
    "    def __init__(self) :\n",
    "        self.life = 1000\n",
    "        self.strength = 10\n",
    "        self.intelligence = 10\n",
    "    \n",
    "    def attacked(self) : \n",
    "        self.life -= 10\n",
    "        print(\"공격받음! 생명력 = \", self.life)\n",
    "    \n",
    "    def attack(self) :\n",
    "        print(\"공격\")\n",
    "        \n",
    "class Warrior(Character) :\n",
    "    \n",
    "    def __init__(self) :\n",
    "        super(Warrior, self).__init__()\n",
    "        self.strength = 15\n",
    "        self.intelligence = 5\n",
    "    \n",
    "    def attacked(self) : \n",
    "        self.life -= 5\n",
    "        print(\"공격받음! 생명력 = \", self.life)\n",
    "    \n",
    "    def attack(self) :\n",
    "        print(\"육탄공격\")\n",
    "    \n",
    "class Wizard(Character) :\n",
    "    \n",
    "    def __init__(self) :\n",
    "        super(Wizard, self).__init__()\n",
    "        self.strength = 5\n",
    "        self.intelligence = 15\n",
    "        \n",
    "    def attacked(self) : \n",
    "        self.life -= 7 \n",
    "        print(\"공격받음! 생명력 = \", self.life)\n",
    "\n",
    "    def attack(self) :\n",
    "        print(\"마법공격\")"
   ]
  },
  {
   "cell_type": "code",
   "execution_count": 23,
   "id": "0d869b69",
   "metadata": {},
   "outputs": [],
   "source": [
    "a = Character()\n",
    "b = Warrior()\n",
    "c = Wizard()"
   ]
  },
  {
   "cell_type": "code",
   "execution_count": 26,
   "id": "d7a7684d",
   "metadata": {},
   "outputs": [
    {
     "name": "stdout",
     "output_type": "stream",
     "text": [
      "공격받음! 생명력 =  970\n",
      "공격받음! 생명력 =  985\n",
      "공격받음! 생명력 =  979\n"
     ]
    }
   ],
   "source": [
    "a.attacked()\n",
    "b.attacked()\n",
    "c.attacked()"
   ]
  },
  {
   "cell_type": "markdown",
   "id": "3dd6de2f",
   "metadata": {},
   "source": [
    "1. 클래스 상속 : 부모 클래스의 method와 속성을 자식 클래스에 동일하게 넘겨줌  \n",
    "2. 메서드 오버라이딩 : 여러 클래스에 걸쳐서 같은 이름의 메서드를 만드는 것. 자식 클래스에서 알아서 변경해서 사용한다"
   ]
  },
  {
   "cell_type": "markdown",
   "id": "093bd78d",
   "metadata": {},
   "source": [
    "Exercise 2.12.4"
   ]
  },
  {
   "cell_type": "code",
   "execution_count": 38,
   "id": "5826bab8",
   "metadata": {},
   "outputs": [],
   "source": [
    "class Car(object) :\n",
    "    \n",
    "    def __init__(self) : \n",
    "        self.max_speed = 160\n",
    "        self.speed = 0 \n",
    "    \n",
    "    def speed_up(self) :\n",
    "        self.speed += 20\n",
    "        if self.speed > self.max_speed :\n",
    "            self.speed = self.max_speed\n",
    "            print(\"속도를 증가할 수 없습니다! 속도 = \", self.speed)\n",
    "        else :\n",
    "            print(\"속도증가! 속도 = \", self.speed)\n",
    "        \n",
    "    def speed_down(self) :\n",
    "        self.speed -= 20\n",
    "        if self.speed < 0 :\n",
    "            self.speed = 0\n",
    "            print(\"속도가 이미 0 입니다! 속도 = \", self.speed)\n",
    "        else :\n",
    "            print(\"속도감소! 속도 = \", self.speed)"
   ]
  },
  {
   "cell_type": "code",
   "execution_count": 39,
   "id": "6835a2db",
   "metadata": {},
   "outputs": [],
   "source": [
    "a = Car()"
   ]
  },
  {
   "cell_type": "code",
   "execution_count": 49,
   "id": "83d8005e",
   "metadata": {},
   "outputs": [
    {
     "name": "stdout",
     "output_type": "stream",
     "text": [
      "속도를 증가할 수 없습니다! 속도 =  160\n"
     ]
    }
   ],
   "source": [
    "a.speed_up()"
   ]
  },
  {
   "cell_type": "code",
   "execution_count": 59,
   "id": "d91447f7",
   "metadata": {},
   "outputs": [
    {
     "name": "stdout",
     "output_type": "stream",
     "text": [
      "속도가 이미 0 입니다! 속도 =  0\n"
     ]
    }
   ],
   "source": [
    "a.speed_down()"
   ]
  },
  {
   "cell_type": "markdown",
   "id": "c946ff30",
   "metadata": {},
   "source": [
    "Exercise 2.12.5"
   ]
  },
  {
   "cell_type": "code",
   "execution_count": 62,
   "id": "fd8791cd",
   "metadata": {},
   "outputs": [],
   "source": [
    "class SportCar(Car) : \n",
    "    \n",
    "    def __init__(self) :\n",
    "        super(SportCar, self).__init__()\n",
    "        self.max_speed = 200\n",
    "    \n",
    "    def speed_up(self) :\n",
    "        self.speed += 45\n",
    "        if self.speed > self.max_speed :\n",
    "            self.speed = self.max_speed\n",
    "            print(\"속도를 증가할 수 없습니다! 속도 = \", self.speed)\n",
    "        else :\n",
    "            print(\"속도증가! 속도 = \", self.speed)\n",
    "        \n",
    "    def speed_down(self) :\n",
    "        self.speed -= 45\n",
    "        if self.speed < 0 :\n",
    "            self.speed = 0\n",
    "            print(\"속도가 이미 0 입니다! 속도 = \", self.speed)\n",
    "        else :\n",
    "            print(\"속도감소! 속도 = \", self.speed)\n",
    "            \n",
    "class Truck(Car) : \n",
    "    \n",
    "    def __init__(self) :\n",
    "        super(Truck, self).__init__()\n",
    "        self.max_speed = 100\n",
    "    \n",
    "    def speed_up(self) :\n",
    "        self.speed += 15\n",
    "        if self.speed > self.max_speed :\n",
    "            self.speed = self.max_speed\n",
    "            print(\"속도를 증가할 수 없습니다! 속도 = \", self.speed)\n",
    "        else :\n",
    "            print(\"속도증가! 속도 = \", self.speed)\n",
    "        \n",
    "    def speed_down(self) :\n",
    "        self.speed -= 15\n",
    "        if self.speed < 0 :\n",
    "            self.speed = 0\n",
    "            print(\"속도가 이미 0 입니다! 속도 = \", self.speed)\n",
    "        else :\n",
    "            print(\"속도감소! 속도 = \", self.speed)"
   ]
  },
  {
   "cell_type": "code",
   "execution_count": 63,
   "id": "c1c1b070",
   "metadata": {},
   "outputs": [],
   "source": [
    "b = SportCar()\n",
    "c = Truck()"
   ]
  },
  {
   "cell_type": "code",
   "execution_count": 70,
   "id": "f7c9bf3e",
   "metadata": {},
   "outputs": [
    {
     "name": "stdout",
     "output_type": "stream",
     "text": [
      "속도를 증가할 수 없습니다! 속도 =  200\n",
      "속도를 증가할 수 없습니다! 속도 =  100\n"
     ]
    }
   ],
   "source": [
    "b.speed_up()\n",
    "c.speed_up()"
   ]
  },
  {
   "cell_type": "code",
   "execution_count": 77,
   "id": "f3a75d1f",
   "metadata": {},
   "outputs": [
    {
     "name": "stdout",
     "output_type": "stream",
     "text": [
      "속도가 이미 0 입니다! 속도 =  0\n",
      "속도가 이미 0 입니다! 속도 =  0\n"
     ]
    }
   ],
   "source": [
    "b.speed_down()\n",
    "c.speed_down()"
   ]
  },
  {
   "cell_type": "markdown",
   "id": "a8875f1f",
   "metadata": {},
   "source": [
    "Exercise 2.12.6"
   ]
  },
  {
   "cell_type": "code",
   "execution_count": 84,
   "id": "356a7cc9",
   "metadata": {},
   "outputs": [],
   "source": [
    "class student(object) :\n",
    "    \n",
    "    def __init__(self, ID, name, math, english) :\n",
    "        self.ID = ID\n",
    "        self.name = name\n",
    "        self.math = math\n",
    "        self.english = english\n",
    "    \n",
    "    def avg(self) : \n",
    "        avg = (self.math + self.english)/2\n",
    "        return avg\n",
    "    \n",
    "    def __repr__(self) : \n",
    "        return \"Name = %s, ID = %s\" %(self.name, self.ID)\n",
    "    \n",
    "    def __getitem__(self, key) :\n",
    "        if key == 'math' : \n",
    "            return self.math\n",
    "        if key == 'english' : \n",
    "            return self.english"
   ]
  },
  {
   "cell_type": "code",
   "execution_count": 85,
   "id": "85c9c1b6",
   "metadata": {},
   "outputs": [],
   "source": [
    "s_info = student(201724570, '정석규', 100, 100)"
   ]
  },
  {
   "cell_type": "code",
   "execution_count": 86,
   "id": "b0df4644",
   "metadata": {},
   "outputs": [
    {
     "data": {
      "text/plain": [
       "100.0"
      ]
     },
     "execution_count": 86,
     "metadata": {},
     "output_type": "execute_result"
    }
   ],
   "source": [
    "s_info.avg()"
   ]
  },
  {
   "cell_type": "code",
   "execution_count": 87,
   "id": "fdf4850e",
   "metadata": {},
   "outputs": [
    {
     "data": {
      "text/plain": [
       "Name = 정석규, ID = 201724570"
      ]
     },
     "execution_count": 87,
     "metadata": {},
     "output_type": "execute_result"
    }
   ],
   "source": [
    "s_info"
   ]
  },
  {
   "cell_type": "code",
   "execution_count": 88,
   "id": "1da1314e",
   "metadata": {},
   "outputs": [
    {
     "data": {
      "text/plain": [
       "201724570"
      ]
     },
     "execution_count": 88,
     "metadata": {},
     "output_type": "execute_result"
    }
   ],
   "source": [
    "s_info.ID"
   ]
  },
  {
   "cell_type": "code",
   "execution_count": 89,
   "id": "ed072045",
   "metadata": {},
   "outputs": [
    {
     "name": "stdout",
     "output_type": "stream",
     "text": [
      "100 100\n"
     ]
    }
   ],
   "source": [
    "print(s_info['math'], s_info['english'])"
   ]
  },
  {
   "cell_type": "markdown",
   "id": "2f35cbad",
   "metadata": {},
   "source": [
    "# Chap2.14"
   ]
  },
  {
   "cell_type": "markdown",
   "id": "356597ff",
   "metadata": {},
   "source": [
    "Exercise 2.14.1"
   ]
  },
  {
   "cell_type": "code",
   "execution_count": 100,
   "id": "737ffa8d",
   "metadata": {},
   "outputs": [],
   "source": [
    "today = \"2020-10-25\"\n",
    "birthday = \"2000-11-21\"\n",
    "today_year = int(today.split(\"-\")[0])\n",
    "birth_year = int(birthday.split(\"-\")[0])\n",
    "today_month = int(today.split(\"-\")[1])\n",
    "birth_month = int(birthday.split(\"-\")[1])"
   ]
  },
  {
   "cell_type": "code",
   "execution_count": 101,
   "id": "667400a0",
   "metadata": {},
   "outputs": [],
   "source": [
    "if today_month > birth_month : \n",
    "    age = today_year - birth_year\n",
    "else : \n",
    "    age = today_year - birth_year + 1"
   ]
  },
  {
   "cell_type": "code",
   "execution_count": 102,
   "id": "a2a4011f",
   "metadata": {},
   "outputs": [
    {
     "data": {
      "text/plain": [
       "21"
      ]
     },
     "execution_count": 102,
     "metadata": {},
     "output_type": "execute_result"
    }
   ],
   "source": [
    "age"
   ]
  },
  {
   "cell_type": "markdown",
   "id": "27341549",
   "metadata": {},
   "source": [
    "# Chap2.15"
   ]
  },
  {
   "cell_type": "markdown",
   "id": "59467f7f",
   "metadata": {},
   "source": [
    "Exercise 2.15.1"
   ]
  },
  {
   "cell_type": "code",
   "execution_count": 106,
   "id": "c981b4d1",
   "metadata": {},
   "outputs": [
    {
     "data": {
      "text/plain": [
       "'1998년 05월 03일 Sunday'"
      ]
     },
     "execution_count": 106,
     "metadata": {},
     "output_type": "execute_result"
    }
   ],
   "source": [
    "import datetime as dt\n",
    "my_birth_day = \"1998-05-03\"\n",
    "dt.datetime.strptime(my_birth_day, \"%Y-%m-%d\").strftime(\"%Y년 %m월 %d일 %A\")"
   ]
  },
  {
   "cell_type": "markdown",
   "id": "64cb7071",
   "metadata": {},
   "source": [
    "Exercise 2.15.2"
   ]
  },
  {
   "cell_type": "code",
   "execution_count": 127,
   "id": "c7066314",
   "metadata": {},
   "outputs": [],
   "source": [
    "import datetime as dt\n",
    "n = dt.datetime.now() \n",
    "\n",
    "class my_birth(object) :\n",
    "    \n",
    "    def __init__(self, year, month, day) :\n",
    "        self.year = int(year)\n",
    "        if month[0] == \"0\" :\n",
    "            self.month = int(month[1])\n",
    "        else : \n",
    "            self.month = int(month)\n",
    "        if day[0] == \"0\" :\n",
    "            self.day = int(day[1])\n",
    "        else :\n",
    "            self.day = int(day)\n",
    "    def age(self) :\n",
    "        if n.month > self.month : \n",
    "            age = n.year - self.year\n",
    "        else : \n",
    "            age = n.year - self.year + 1\n",
    "        return age"
   ]
  },
  {
   "cell_type": "code",
   "execution_count": 128,
   "id": "8c8497bd",
   "metadata": {
    "scrolled": true
   },
   "outputs": [],
   "source": [
    "birth = my_birth(\"1998\", \"05\", \"03\")"
   ]
  },
  {
   "cell_type": "code",
   "execution_count": 130,
   "id": "e8d0f798",
   "metadata": {},
   "outputs": [
    {
     "data": {
      "text/plain": [
       "24"
      ]
     },
     "execution_count": 130,
     "metadata": {},
     "output_type": "execute_result"
    }
   ],
   "source": [
    "birth.age()"
   ]
  },
  {
   "cell_type": "markdown",
   "id": "93b702ac",
   "metadata": {},
   "source": [
    "Exercise 2.15.3"
   ]
  },
  {
   "cell_type": "code",
   "execution_count": 133,
   "id": "152cbb36",
   "metadata": {},
   "outputs": [
    {
     "data": {
      "text/plain": [
       "datetime.timedelta(days=366, seconds=16990, microseconds=293265)"
      ]
     },
     "execution_count": 133,
     "metadata": {},
     "output_type": "execute_result"
    }
   ],
   "source": [
    "dt1 = dt.datetime.now()\n",
    "dt2 = dt.datetime(2022, 5, 3, 0)\n",
    "td = dt2-dt1\n",
    "td"
   ]
  },
  {
   "cell_type": "code",
   "execution_count": 134,
   "id": "c51e9aec",
   "metadata": {},
   "outputs": [
    {
     "data": {
      "text/plain": [
       "527040"
      ]
     },
     "execution_count": 134,
     "metadata": {},
     "output_type": "execute_result"
    }
   ],
   "source": [
    "td.days*24*60"
   ]
  },
  {
   "cell_type": "markdown",
   "id": "0a87dffe",
   "metadata": {},
   "source": [
    "Exercise 2.15.4"
   ]
  },
  {
   "cell_type": "code",
   "execution_count": 137,
   "id": "4fc6f48b",
   "metadata": {},
   "outputs": [
    {
     "data": {
      "text/plain": [
       "datetime.datetime(2001, 2, 23, 0, 0)"
      ]
     },
     "execution_count": 137,
     "metadata": {},
     "output_type": "execute_result"
    }
   ],
   "source": [
    "t0 = dt.datetime(2000, 2, 29, 0)\n",
    "td0 = dt.timedelta(days = 360)\n",
    "t0+td0"
   ]
  }
 ],
 "metadata": {
  "kernelspec": {
   "display_name": "Python 3",
   "language": "python",
   "name": "python3"
  },
  "language_info": {
   "codemirror_mode": {
    "name": "ipython",
    "version": 3
   },
   "file_extension": ".py",
   "mimetype": "text/x-python",
   "name": "python",
   "nbconvert_exporter": "python",
   "pygments_lexer": "ipython3",
   "version": "3.8.8"
  },
  "toc": {
   "base_numbering": 1,
   "nav_menu": {},
   "number_sections": true,
   "sideBar": true,
   "skip_h1_title": false,
   "title_cell": "Table of Contents",
   "title_sidebar": "Contents",
   "toc_cell": false,
   "toc_position": {},
   "toc_section_display": true,
   "toc_window_display": true
  },
  "varInspector": {
   "cols": {
    "lenName": 16,
    "lenType": 16,
    "lenVar": 40
   },
   "kernels_config": {
    "python": {
     "delete_cmd_postfix": "",
     "delete_cmd_prefix": "del ",
     "library": "var_list.py",
     "varRefreshCmd": "print(var_dic_list())"
    },
    "r": {
     "delete_cmd_postfix": ") ",
     "delete_cmd_prefix": "rm(",
     "library": "var_list.r",
     "varRefreshCmd": "cat(var_dic_list()) "
    }
   },
   "types_to_exclude": [
    "module",
    "function",
    "builtin_function_or_method",
    "instance",
    "_Feature"
   ],
   "window_display": false
  }
 },
 "nbformat": 4,
 "nbformat_minor": 5
}
