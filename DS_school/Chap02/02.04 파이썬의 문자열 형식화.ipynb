{
 "cells": [
  {
   "cell_type": "markdown",
   "metadata": {
    "school_cell_uuid": "fd7cdceaf16b4d8fbf5d9a767a6f0034"
   },
   "source": [
    "# 2.4 파이썬의 문자열 형식화"
   ]
  },
  {
   "cell_type": "markdown",
   "metadata": {
    "school_cell_uuid": "e1be4f60767d4cf5abfafbcf7bb30061"
   },
   "source": [
    "파이썬에서는 복잡한 문자열 출력을 위한 문자열 형식화(string formatting)를 지원한다. 문자열을 형식화하는 방법에는 `%` 기호를 사용한 방식과 `format` 메서드를 사용한 방식, 그리고 `f` 문자열을 사용하는 방식이 있다."
   ]
  },
  {
   "cell_type": "markdown",
   "metadata": {
    "school_cell_uuid": "e645bdeea90f477a9cefea1943e055f4"
   },
   "source": [
    "## % 기호를 사용한 문자열 형식화"
   ]
  },
  {
   "cell_type": "markdown",
   "metadata": {
    "school_cell_uuid": "0f553ecc81014df4ba8ab370407b7c49"
   },
   "source": [
    "문자열 뒤에 % 기호를 붙이고 그 뒤에 다른 값을 붙이면 뒤에 붙은 값이 문자열 안으로 들어간다. \n",
    "\n",
    "> `\"문자열\" % 값`\n",
    "\n",
    "이 때 문자열의 어느 위치에 값이 들어가는지를 표시하기 위해 문자열 안에 `%` 기호로 시작하는 형식지정 문자열(format specification string)을 붙인다. 대표적인 형식지정 문자열은 다음과 같다.\n",
    "\n",
    "| 형식지정 문자열 | 의미 |\n",
    "|-|-|\n",
    "| ``%s`` | 문자열 |\n",
    "| ``%d`` | 정수 |\n",
    "| ``%f`` | 부동소수점 실수 |\n"
   ]
  },
  {
   "cell_type": "markdown",
   "metadata": {},
   "source": [
    "다음은 % 기호를 사용한 문자열 형식의 예이다."
   ]
  },
  {
   "cell_type": "code",
   "execution_count": null,
   "metadata": {
    "school_cell_uuid": "fd1679194527442597bb7c37e7a2f8b0"
   },
   "outputs": [],
   "source": [
    "\"내 이름은 %s입니다.\" % \"홍길동\""
   ]
  },
  {
   "cell_type": "code",
   "execution_count": 2,
   "metadata": {
    "school_cell_uuid": "3bd442b991774f078f08b7d2a43140c6"
   },
   "outputs": [
    {
     "data": {
      "text/plain": [
       "'나는 12살 입니다.'"
      ]
     },
     "execution_count": 2,
     "metadata": {},
     "output_type": "execute_result"
    }
   ],
   "source": [
    "\"나는 %d살 입니다.\" % 12"
   ]
  },
  {
   "cell_type": "code",
   "execution_count": 3,
   "metadata": {
    "school_cell_uuid": "e73f9dd7d66c40948d579190efc7bbe2"
   },
   "outputs": [
    {
     "data": {
      "text/plain": [
       "'원주율의 값은 3.141592입니다.'"
      ]
     },
     "execution_count": 3,
     "metadata": {},
     "output_type": "execute_result"
    }
   ],
   "source": [
    "\"원주율의 값은 %f입니다.\" % 3.141592"
   ]
  },
  {
   "cell_type": "markdown",
   "metadata": {
    "school_cell_uuid": "a85f38e795b942b5a9841c0c0b5635ff"
   },
   "source": [
    "만약 여러개의 값을 문자열 안에 넣어야 한다면 % 기호 뒤에 있는 값을 소괄호로 감싸야 한다."
   ]
  },
  {
   "cell_type": "code",
   "execution_count": 4,
   "metadata": {
    "school_cell_uuid": "ce44eeeb3c944fae9e73099e3d7241ae"
   },
   "outputs": [
    {
     "data": {
      "text/plain": [
       "'2 곱하기 3은 6이다.'"
      ]
     },
     "execution_count": 4,
     "metadata": {},
     "output_type": "execute_result"
    }
   ],
   "source": [
    "\"%d 곱하기 %d은 %d이다.\" % (2, 3, 6)"
   ]
  },
  {
   "cell_type": "code",
   "execution_count": 5,
   "metadata": {
    "school_cell_uuid": "ad07cba7dcc446b39167576fd6f96cb8"
   },
   "outputs": [
    {
     "data": {
      "text/plain": [
       "'철수의 수학 과목 점수는 100점이다.'"
      ]
     },
     "execution_count": 5,
     "metadata": {},
     "output_type": "execute_result"
    }
   ],
   "source": [
    "\"%s의 %s 과목 점수는 %d점이다.\" % (\"철수\", \"수학\", 100)"
   ]
  },
  {
   "cell_type": "markdown",
   "metadata": {
    "bootstrap": {
     "panel": {
      "class": "panel-default"
     }
    },
    "school_cell_uuid": "0644015a3963433b8219a0cd4a66c7ca"
   },
   "source": [
    "````{admonition} 연습 문제 2.4.1\n",
    "\n",
    "(1) `name`과  `age`라는 변수에 각각 이름과 나이를 넣고 다음과 같이 출력하는 코드를 만들어라\n",
    "  ```\n",
    "  Tom is 13 years old\n",
    "  ```\n",
    "\n",
    "(2) `a`, `b` 두 변수에 10과 3이라는 값을 대입하라.  `a`, `b` 변수와 문자열 형식화를 사용하여 다음과 같은 문자열을 출력하는 코드를 만들어라.\n",
    "\n",
    "  ```\n",
    "  10 / 3 = 3.333 \n",
    "  ```\n",
    "````\n"
   ]
  },
  {
   "cell_type": "markdown",
   "metadata": {
    "school_cell_uuid": "99f00f6fd336483e89efcc767a9b1219"
   },
   "source": [
    "## 고급 형식지정 문자열"
   ]
  },
  {
   "cell_type": "markdown",
   "metadata": {
    "school_cell_uuid": "c0a2d3e90c5d4885a1fdba32ac7c768c"
   },
   "source": [
    "형식지정 문자열은 여러가지 숫자 인수를 가질 수도 있다. `%` 기호 다음에 오는 정수는 값이 인쇄될 때 차지하는 공간의 길이를 뜻한다. 만약 공간의 길이가 인쇄될 값보다 크면 정수가 양수일 때는 값을 뒤로 보내고 공백을 앞에 채우거나 반대로 정수가 음수이면 값을 앞으로 보내고 공백을 뒤에 채운다. 만약 `%` 기호 다음에 소숫점이 있는 숫자가 오면 점 뒤의 숫자는 실수를 인쇄할 때 소숫점 아래로 그만큼의 숫자만 인쇄하라는 뜻이다."
   ]
  },
  {
   "cell_type": "markdown",
   "metadata": {},
   "source": [
    "| 고급 형식지정 문자열 | 의미 |\n",
    "|-|-|\n",
    "| ``%20s`` | 전체 20칸을 차지하는 문자열(공백을 앞에 붙인다.) |\n",
    "| ``%-10d`` | 전체 10칸을 차지하는 숫자(공백을 뒤에 붙인다.) |\n",
    "| ``%.5f`` | 부동소수점의 소수점 아래 5자리까지 표시 |"
   ]
  },
  {
   "cell_type": "code",
   "execution_count": 6,
   "metadata": {
    "school_cell_uuid": "ee4017b9633d4dcd91a756575d221f80"
   },
   "outputs": [
    {
     "data": {
      "text/plain": [
       "'[                   *]'"
      ]
     },
     "execution_count": 6,
     "metadata": {},
     "output_type": "execute_result"
    }
   ],
   "source": [
    "\"[%20s]\" % \"*\"   # [와 ] 사이에 20칸의 공백이 있다."
   ]
  },
  {
   "cell_type": "code",
   "execution_count": 7,
   "metadata": {
    "school_cell_uuid": "fe564c819b6541d8b0ca5f126981d88a"
   },
   "outputs": [
    {
     "data": {
      "text/plain": [
       "'[A                   ]'"
      ]
     },
     "execution_count": 7,
     "metadata": {},
     "output_type": "execute_result"
    }
   ],
   "source": [
    "\"[%-20s]\" % \"A\"  # 20칸의 공백의 앞쪽에 A를 인쇄한다."
   ]
  },
  {
   "cell_type": "code",
   "execution_count": 8,
   "metadata": {
    "school_cell_uuid": "4762e5493f2841c8995460547a101d70"
   },
   "outputs": [
    {
     "data": {
      "text/plain": [
       "'[                 123]'"
      ]
     },
     "execution_count": 8,
     "metadata": {},
     "output_type": "execute_result"
    }
   ],
   "source": [
    "\"[%20d]\" % 123  # 20칸의 공백의 뒷쪽에 123을 인쇄한다."
   ]
  },
  {
   "cell_type": "code",
   "execution_count": 9,
   "metadata": {
    "school_cell_uuid": "5d52b3ce630b47d181a4c691059aa72c"
   },
   "outputs": [
    {
     "data": {
      "text/plain": [
       "'[123                 ]'"
      ]
     },
     "execution_count": 9,
     "metadata": {},
     "output_type": "execute_result"
    }
   ],
   "source": [
    "\"[%-20d]\" % 123  # 20칸의 공백의 앞쪽에 123을 인쇄한다."
   ]
  },
  {
   "cell_type": "code",
   "execution_count": 10,
   "metadata": {
    "school_cell_uuid": "4523961e1ca64049b2e5bbec78f91d87"
   },
   "outputs": [
    {
     "data": {
      "text/plain": [
       "'0.33333'"
      ]
     },
     "execution_count": 10,
     "metadata": {},
     "output_type": "execute_result"
    }
   ],
   "source": [
    "x = 1 / 3.0  # 값은 0.3333333....\n",
    "\"%.5f\" % x   # 소숫점 아래 5자리까지만 인쇄한다."
   ]
  },
  {
   "cell_type": "markdown",
   "metadata": {},
   "source": [
    "공백 크기와 소숫점 아래 자릿수를 같이 지정할 수도 있다."
   ]
  },
  {
   "cell_type": "code",
   "execution_count": 11,
   "metadata": {
    "school_cell_uuid": "ca60e6d2a30c4f00a62303c4bffd0916"
   },
   "outputs": [
    {
     "data": {
      "text/plain": [
       "'[0.333333            ]'"
      ]
     },
     "execution_count": 11,
     "metadata": {},
     "output_type": "execute_result"
    }
   ],
   "source": [
    "\"[%-20.6f]\" % x  # 20칸의 공백의 앞쪽에 소숫점 아래 6자리 출력"
   ]
  },
  {
   "cell_type": "markdown",
   "metadata": {
    "bootstrap": {
     "panel": {
      "class": "panel-default"
     }
    },
    "school_cell_uuid": "122e76ae306149e98a5fbc9b1b21a72e"
   },
   "source": [
    "````{admonition} 연습 문제 2.4.2\n",
    "\n",
    "(1) `a`, `b` 두 개의 변수에 3과 12라는 값을 넣고 이 변수를 사용하여 다음과 같이 세로셈으로 곱셈 결과를 출력하는 코드를 만들어라. \n",
    "\n",
    "    ```\n",
    "           3\n",
    "    x     12\n",
    "    --------\n",
    "          36\n",
    "    ```\n",
    "\n",
    "(2) `a`, `b` 두 개의 변수에 `123456`과 `7890`이라는 값을 넣고 이 변수를 사용하여 다음과 같이 세로셈으로 덧셈 결과를 출력하는 코드를 만들어라. 천의 자리 쉼표를 표시해야 한다.\n",
    "\n",
    "    ```\n",
    "       123,456\n",
    "    +    7,890 \n",
    "    ----------\n",
    "       131,346\n",
    "    ```\n",
    "````"
   ]
  },
  {
   "cell_type": "markdown",
   "metadata": {
    "school_cell_uuid": "bf7b3501a48644849bcbc1515dc81f69"
   },
   "source": [
    "## ``format`` 메서드를 사용한 문자열 형식화"
   ]
  },
  {
   "cell_type": "markdown",
   "metadata": {},
   "source": [
    "```{margin}\n",
    "`format`\n",
    "```"
   ]
  },
  {
   "cell_type": "markdown",
   "metadata": {
    "school_cell_uuid": "7b2f76bbc7574a2991ca9dd4bf59373f"
   },
   "source": [
    "``format`` 메서드를 사용하여 문자열을 형식화하는 방법도 있다. 이 때는 `%` 기호로 시작하는 형식지정 문자열 대신 `{}` 기호를 사용한다. 또한 자료형을 표시할 필요가 없다. 문자열 내에서 `{` 문자를 출력하고 싶을 때는 `{{`라는 글자를 사용한다."
   ]
  },
  {
   "cell_type": "code",
   "execution_count": 12,
   "metadata": {
    "school_cell_uuid": "7db5f104f131460f85511d443d7c5ad3"
   },
   "outputs": [
    {
     "data": {
      "text/plain": [
       "'내 이름은 홍길동입니다.'"
      ]
     },
     "execution_count": 12,
     "metadata": {},
     "output_type": "execute_result"
    }
   ],
   "source": [
    "\"내 이름은 {}입니다.\".format(\"홍길동\")"
   ]
  },
  {
   "cell_type": "code",
   "execution_count": 13,
   "metadata": {
    "school_cell_uuid": "7db5f104f131460f85511d443d7c5ad3"
   },
   "outputs": [
    {
     "data": {
      "text/plain": [
       "'내 이름은 {홍길동}입니다.'"
      ]
     },
     "execution_count": 13,
     "metadata": {},
     "output_type": "execute_result"
    }
   ],
   "source": [
    "\"내 이름은 {{{}}}입니다.\".format(\"홍길동\")"
   ]
  },
  {
   "cell_type": "markdown",
   "metadata": {
    "school_cell_uuid": "3e08161839c349298dc671cd39199ad4"
   },
   "source": [
    "`{}` 안에 값의 순서를 지정하는 숫자를 넣을 수도 있다. 가장 앞에 있는 값은 `{0}`, 그 뒤의 값은 `{1}`, 이런 식으로 지정한다. 이 방법을 사용하면 값의 순서를 바꾸거나 같은 값을 여러번 인쇄할 수도 있다."
   ]
  },
  {
   "cell_type": "code",
   "execution_count": 14,
   "metadata": {
    "school_cell_uuid": "c56ed70e22a3432a8e77c90f512829f7"
   },
   "outputs": [
    {
     "data": {
      "text/plain": [
       "'철수의 수학 점수는 100점입니다. 100점! 100점!'"
      ]
     },
     "execution_count": 14,
     "metadata": {},
     "output_type": "execute_result"
    }
   ],
   "source": [
    "\"{2}의 {0} 점수는 {1}점입니다. {1}점! {1}점!\".format(\"수학\", 100, \"철수\")"
   ]
  },
  {
   "cell_type": "markdown",
   "metadata": {},
   "source": [
    "순서를 나타내는 숫자 대신 인수 이름을 지정할 수도 있다."
   ]
  },
  {
   "cell_type": "code",
   "execution_count": 15,
   "metadata": {},
   "outputs": [
    {
     "data": {
      "text/plain": [
       "'영어점수: 100점, 수학점수: 90점'"
      ]
     },
     "execution_count": 15,
     "metadata": {},
     "output_type": "execute_result"
    }
   ],
   "source": [
    "\"{a}점수: {x}점, {b}점수: {y}점\".format(a=\"영어\", b=\"수학\", x=100, y=90)"
   ]
  },
  {
   "cell_type": "markdown",
   "metadata": {},
   "source": [
    "만약 `{}`를 여러개 사용하면서 순서 숫자나 인수 이름을 지정하지 않으면 순서대로 입력된다."
   ]
  },
  {
   "cell_type": "code",
   "execution_count": 16,
   "metadata": {},
   "outputs": [
    {
     "data": {
      "text/plain": [
       "'영어점수: 100점, 수학점수: 90점'"
      ]
     },
     "execution_count": 16,
     "metadata": {},
     "output_type": "execute_result"
    }
   ],
   "source": [
    "\"{}점수: {}점, {}점수: {}점\".format(\"영어\", 100, \"수학\", 90)"
   ]
  },
  {
   "cell_type": "markdown",
   "metadata": {
    "school_cell_uuid": "5d55ef8cda2042f5b5536d44f7825ff4"
   },
   "source": [
    "format 방식에서 공백의 크기를 지정하거나 부동소수점의 소수점 아래 숫자를 지정할 때는 ``{}``안에 ``:`` 기호를 넣고 그 뒤에 고급 형식지정 문자열을 넣는다. `:` 뒤에 오는 숫자는 공백의 크기를 뜻한다. `<`는 값을 앞쪽으로 붙이고 공백을 뒤로 붙인다. 반대로 `>`는 값을 앞쪽으로 붙이고 공백을 뒤로 붙인다. 소숫점의 자릿수를 지정할 때는 `.`(점)과 숫자, 그리고 `f` 글자를 사용한다. `,` 기호를 넣으면 영미권에서 숫자를 쓸 때 천(1000)단위마다 붙이는 쉼표(thousand comma)를 붙인다.  "
   ]
  },
  {
   "cell_type": "markdown",
   "metadata": {},
   "source": [
    "| 고급 형식지정 문자열 | 의미 |\n",
    "|-|-|\n",
    "| ``{:>10}`` | 전체 10칸을 차지하며 공백을 앞에 붙임 (문자열을 오른쪽에 붙여서 출력) |\n",
    "| ``{:<10}`` | 전체 10칸을 차지하며 공백을 뒤에 붙임 (문자열을 왼쪽에 붙여서 출력)|\n",
    "| ``{:^10}`` | 전체 10칸을 차지하며 공백을 앞뒤에 붙임 (문자열을 중앙에 붙여서 출력)|\n",
    "| ``{:.5f}`` | 부동소수점의 소수점 아래 5자리까지 표시 |\n",
    "| ``{:,}`` | 천단위 쉼표 표시 |"
   ]
  },
  {
   "cell_type": "code",
   "execution_count": 17,
   "metadata": {
    "school_cell_uuid": "2de6cfa78dd744fe9050e579922dc342"
   },
   "outputs": [
    {
     "data": {
      "text/plain": [
       "'[*                   ]'"
      ]
     },
     "execution_count": 17,
     "metadata": {},
     "output_type": "execute_result"
    }
   ],
   "source": [
    "\"[{:<20}]\".format(\"*\")"
   ]
  },
  {
   "cell_type": "code",
   "execution_count": 18,
   "metadata": {
    "school_cell_uuid": "8061de0c0e59464d83322eacb01f4d7e"
   },
   "outputs": [
    {
     "data": {
      "text/plain": [
       "'[                   *]'"
      ]
     },
     "execution_count": 18,
     "metadata": {},
     "output_type": "execute_result"
    }
   ],
   "source": [
    "\"[{:>20}]\".format(\"*\")"
   ]
  },
  {
   "cell_type": "code",
   "execution_count": 19,
   "metadata": {
    "school_cell_uuid": "8061de0c0e59464d83322eacb01f4d7e"
   },
   "outputs": [
    {
     "data": {
      "text/plain": [
       "'[         *          ]'"
      ]
     },
     "execution_count": 19,
     "metadata": {},
     "output_type": "execute_result"
    }
   ],
   "source": [
    "\"[{:^20}]\".format(\"*\")"
   ]
  },
  {
   "cell_type": "code",
   "execution_count": 20,
   "metadata": {
    "school_cell_uuid": "43313ff5b0d946b7afbe2ab1407d4819"
   },
   "outputs": [
    {
     "data": {
      "text/plain": [
       "'[             0.33333]'"
      ]
     },
     "execution_count": 20,
     "metadata": {},
     "output_type": "execute_result"
    }
   ],
   "source": [
    "\"[{:20.5f}]\".format(1 / 3)"
   ]
  },
  {
   "cell_type": "code",
   "execution_count": 21,
   "metadata": {
    "school_cell_uuid": "43313ff5b0d946b7afbe2ab1407d4819"
   },
   "outputs": [
    {
     "data": {
      "text/plain": [
       "'[       1,234,567,890]'"
      ]
     },
     "execution_count": 21,
     "metadata": {},
     "output_type": "execute_result"
    }
   ],
   "source": [
    "\"[{:20,}]\".format(1234567890)"
   ]
  },
  {
   "cell_type": "markdown",
   "metadata": {},
   "source": [
    "만약 `>` 기호앞에 문자열을 쓰면 해당 문자열로 공백을 채운다."
   ]
  },
  {
   "cell_type": "markdown",
   "metadata": {},
   "source": [
    "| 고급 형식지정 문자열 | 의미 |\n",
    "|-|-|\n",
    "| ``{:*>10}`` | 전체 10칸을 차지하며 \"*\"을 앞에 붙임 (문자열을 오른쪽에 붙여서 출력)|\n",
    "| ``{:*<10}`` | 전체 10칸을 차지하며 \"*\"을 뒤에 붙임 (문자열을 왼쪽에 붙여서 출력)|\n",
    "| ``{:*^10}`` | 전체 10칸을 차지하며 \"*\"을 앞뒤에 붙임 (문자열을 중앙에 붙여서 출력) |\n"
   ]
  },
  {
   "cell_type": "code",
   "execution_count": 22,
   "metadata": {},
   "outputs": [
    {
     "data": {
      "text/plain": [
       "'[*-------------------]'"
      ]
     },
     "execution_count": 22,
     "metadata": {},
     "output_type": "execute_result"
    }
   ],
   "source": [
    "\"[{:-<20}]\".format(\"*\")"
   ]
  },
  {
   "cell_type": "code",
   "execution_count": 23,
   "metadata": {},
   "outputs": [
    {
     "data": {
      "text/plain": [
       "'[-------------------*]'"
      ]
     },
     "execution_count": 23,
     "metadata": {},
     "output_type": "execute_result"
    }
   ],
   "source": [
    "\"[{:->20}]\".format(\"*\")"
   ]
  },
  {
   "cell_type": "code",
   "execution_count": 24,
   "metadata": {},
   "outputs": [
    {
     "data": {
      "text/plain": [
       "'[---------*----------]'"
      ]
     },
     "execution_count": 24,
     "metadata": {},
     "output_type": "execute_result"
    }
   ],
   "source": [
    "\"[{:-^20}]\".format(\"*\")"
   ]
  },
  {
   "cell_type": "markdown",
   "metadata": {},
   "source": [
    "format 방법의 또다른 특징은 `{}`안에서 리스트나 사전의 인덱싱을 할수 있다는 것이다."
   ]
  },
  {
   "cell_type": "code",
   "execution_count": 25,
   "metadata": {},
   "outputs": [
    {
     "data": {
      "text/plain": [
       "'리스트의 첫번째 원소=10'"
      ]
     },
     "execution_count": 25,
     "metadata": {},
     "output_type": "execute_result"
    }
   ],
   "source": [
    "x = [10, 11, 12]\n",
    "\"리스트의 첫번째 원소={0[0]}\".format(x)"
   ]
  },
  {
   "cell_type": "code",
   "execution_count": 26,
   "metadata": {},
   "outputs": [
    {
     "data": {
      "text/plain": [
       "'사전의 a키 값=10'"
      ]
     },
     "execution_count": 26,
     "metadata": {},
     "output_type": "execute_result"
    }
   ],
   "source": [
    "y = {\"a\": 10, \"b\": 11, \"c\": 12}\n",
    "\"사전의 a키 값={0[a]}\".format(y)"
   ]
  },
  {
   "cell_type": "markdown",
   "metadata": {},
   "source": [
    "```{admonition} 연습 문제 2.4.3\n",
    "\n",
    "연습 문제 1, 2를 format 방법으로 다시 풀어라.\n",
    "```"
   ]
  },
  {
   "cell_type": "markdown",
   "metadata": {},
   "source": [
    "## f 문자열 "
   ]
  },
  {
   "cell_type": "markdown",
   "metadata": {},
   "source": [
    "```{margin}\n",
    "f 문자열(f-string)\n",
    "```"
   ]
  },
  {
   "cell_type": "markdown",
   "metadata": {},
   "source": [
    "파이썬 3.6부터는 f 문자열(f-string)이라는 것을 사용할 수 있다. f 문자열은 문자열의 앞에 f 글자를 붙인 문자열이다. f 문자열에서는 `{}` 안에 변수의 이름을 바로 사용할 수 있다."
   ]
  },
  {
   "cell_type": "code",
   "execution_count": 27,
   "metadata": {},
   "outputs": [
    {
     "name": "stdout",
     "output_type": "stream",
     "text": [
      "홍길동의 나이는 32살이다.\n"
     ]
    }
   ],
   "source": [
    "name = \"홍길동\"\n",
    "age = 32\n",
    "print(f\"{name}의 나이는 {age}살이다.\")"
   ]
  },
  {
   "cell_type": "markdown",
   "metadata": {},
   "source": [
    "f 문자열에서 공백의 크기 등을 지정할 때는 format 방법과 같은 고급 형식지정 문자열을 사용할 수 있다."
   ]
  },
  {
   "cell_type": "code",
   "execution_count": 28,
   "metadata": {},
   "outputs": [],
   "source": [
    "number = 1234567"
   ]
  },
  {
   "cell_type": "code",
   "execution_count": 29,
   "metadata": {},
   "outputs": [
    {
     "data": {
      "text/plain": [
       "'[1234567             ]'"
      ]
     },
     "execution_count": 29,
     "metadata": {},
     "output_type": "execute_result"
    }
   ],
   "source": [
    "f\"[{number:<20}]\""
   ]
  },
  {
   "cell_type": "code",
   "execution_count": 30,
   "metadata": {},
   "outputs": [
    {
     "data": {
      "text/plain": [
       "'[             1234567]'"
      ]
     },
     "execution_count": 30,
     "metadata": {},
     "output_type": "execute_result"
    }
   ],
   "source": [
    "f\"[{number:>20}]\""
   ]
  },
  {
   "cell_type": "code",
   "execution_count": 31,
   "metadata": {},
   "outputs": [
    {
     "data": {
      "text/plain": [
       "'[      1234567       ]'"
      ]
     },
     "execution_count": 31,
     "metadata": {},
     "output_type": "execute_result"
    }
   ],
   "source": [
    "f\"[{number:^20}]\""
   ]
  },
  {
   "cell_type": "code",
   "execution_count": 32,
   "metadata": {},
   "outputs": [
    {
     "data": {
      "text/plain": [
       "'[1234567-------------]'"
      ]
     },
     "execution_count": 32,
     "metadata": {},
     "output_type": "execute_result"
    }
   ],
   "source": [
    "f\"[{number:-<20}]\""
   ]
  },
  {
   "cell_type": "code",
   "execution_count": 33,
   "metadata": {},
   "outputs": [
    {
     "data": {
      "text/plain": [
       "'[-------------1234567]'"
      ]
     },
     "execution_count": 33,
     "metadata": {},
     "output_type": "execute_result"
    }
   ],
   "source": [
    "f\"[{number:->20}]\""
   ]
  },
  {
   "cell_type": "code",
   "execution_count": 34,
   "metadata": {},
   "outputs": [
    {
     "data": {
      "text/plain": [
       "'[------1234567-------]'"
      ]
     },
     "execution_count": 34,
     "metadata": {},
     "output_type": "execute_result"
    }
   ],
   "source": [
    "f\"[{number:-^20}]\""
   ]
  },
  {
   "cell_type": "code",
   "execution_count": 35,
   "metadata": {},
   "outputs": [
    {
     "data": {
      "text/plain": [
       "'[-----1,234,567------]'"
      ]
     },
     "execution_count": 35,
     "metadata": {},
     "output_type": "execute_result"
    }
   ],
   "source": [
    "f\"[{number:-^20,}]\""
   ]
  },
  {
   "cell_type": "code",
   "execution_count": 36,
   "metadata": {},
   "outputs": [],
   "source": [
    "f_number = 3.141592"
   ]
  },
  {
   "cell_type": "code",
   "execution_count": 37,
   "metadata": {},
   "outputs": [
    {
     "data": {
      "text/plain": [
       "'[               3.142]'"
      ]
     },
     "execution_count": 37,
     "metadata": {},
     "output_type": "execute_result"
    }
   ],
   "source": [
    "f\"[{f_number:20.3f}]\""
   ]
  },
  {
   "cell_type": "markdown",
   "metadata": {},
   "source": [
    "```{admonition} 연습 문제 2.4.4\n",
    "\n",
    "연습 문제 1, 2를 f 문자열 방법으로 다시 풀어라.\n",
    "```"
   ]
  },
  {
   "cell_type": "code",
   "execution_count": null,
   "metadata": {},
   "outputs": [],
   "source": []
  }
 ],
 "metadata": {
  "kernelspec": {
   "display_name": "Python 3",
   "language": "python",
   "name": "python3"
  },
  "language_info": {
   "codemirror_mode": {
    "name": "ipython",
    "version": 3
   },
   "file_extension": ".py",
   "mimetype": "text/x-python",
   "name": "python",
   "nbconvert_exporter": "python",
   "pygments_lexer": "ipython3",
   "version": "3.8.3"
  }
 },
 "nbformat": 4,
 "nbformat_minor": 4
}
