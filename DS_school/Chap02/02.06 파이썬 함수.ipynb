{
 "cells": [
  {
   "cell_type": "markdown",
   "metadata": {
    "school_cell_uuid": "fa686eec1a894ad385be2fffde92ef7a"
   },
   "source": [
    "# 2.6 파이썬 함수"
   ]
  },
  {
   "cell_type": "markdown",
   "metadata": {},
   "source": [
    "```{margin}\n",
    "함수(function)\n",
    "```"
   ]
  },
  {
   "cell_type": "markdown",
   "metadata": {
    "school_cell_uuid": "7fe1967d5ebe47f88a53beee3006d20c"
   },
   "source": [
    "함수(function)는 입력을 받아 그 입력에 해당하는 출력을 반환(return)하는 기계와 같다. 예를 들어 500원을 넣으면 생수가 나오고, 1000원을 넣으면 콜라가 나오는 자판기는 다음과 같은 함수이다.\n",
    "\n",
    "```\n",
    "f(500) = \"생수\"\n",
    "f(1000) = \"콜라\"\n",
    "```"
   ]
  },
  {
   "cell_type": "markdown",
   "metadata": {},
   "source": [
    "```{margin}\n",
    "`def`\n",
    "```"
   ]
  },
  {
   "cell_type": "markdown",
   "metadata": {},
   "source": [
    "```{margin}\n",
    "`return`\n",
    "```"
   ]
  },
  {
   "cell_type": "markdown",
   "metadata": {
    "school_cell_uuid": "f49603cc23474f8689a409a2f09463f8"
   },
   "source": [
    "파이썬에는 `def` 키워드와 `return` 키워드를 사용하여 다음과 같이 함수를 만들 수 있다. 파이썬에는 `def` 키워드와 `return` 키워드를 사용하여 다음과 같이 함수를 만들 수 있다\n",
    "\n",
    "```\n",
    "def 함수이름(입력변수이름):\n",
    "   출력변수를 만드는 명령\n",
    "   return 출력변수이름\n",
    "   \n",
    "```"
   ]
  },
  {
   "cell_type": "markdown",
   "metadata": {
    "school_cell_uuid": "6ad5d5067fb64e10aa55ebc0ba4156c8"
   },
   "source": [
    "예를 들어 숫자 x를 입력하면 두 배가 되도록 하는 함수는 다음과 같다."
   ]
  },
  {
   "cell_type": "code",
   "execution_count": 1,
   "metadata": {
    "school_cell_uuid": "33da0cf9c0ba469a8259f6292e35ed8b"
   },
   "outputs": [],
   "source": [
    "def twotimes(x):\n",
    "    y = 2 * x\n",
    "    return y"
   ]
  },
  {
   "cell_type": "markdown",
   "metadata": {
    "school_cell_uuid": "a2c4f5ae32d0466a9743a8f4c41989b3"
   },
   "source": [
    "이렇게 만들어진 함수를 사용하려면 함수 이름과 그 뒤에 괄호로 싸인 입력값을 넣으면 된다."
   ]
  },
  {
   "cell_type": "code",
   "execution_count": 2,
   "metadata": {
    "school_cell_uuid": "7ee2500e23db453b8a22136fb5edf628"
   },
   "outputs": [
    {
     "data": {
      "text/plain": [
       "4"
      ]
     },
     "execution_count": 2,
     "metadata": {},
     "output_type": "execute_result"
    }
   ],
   "source": [
    "twotimes(2)"
   ]
  },
  {
   "cell_type": "code",
   "execution_count": 3,
   "metadata": {
    "school_cell_uuid": "d32cb2b891584430b49d8da8c9f31f00"
   },
   "outputs": [
    {
     "data": {
      "text/plain": [
       "20"
      ]
     },
     "execution_count": 3,
     "metadata": {},
     "output_type": "execute_result"
    }
   ],
   "source": [
    "twotimes(10)"
   ]
  },
  {
   "cell_type": "markdown",
   "metadata": {
    "bootstrap": {
     "panel": {
      "class": "panel-default"
     }
    },
    "school_cell_uuid": "eb9af9ef18ea4e6791bb89038d9b0b99"
   },
   "source": [
    "```{admonition} 연습 문제 2.6.1\n",
    "\n",
    "1. 짝수가 입력되면 ``짝수``라는 문자열을, 홀수가 입력되면 ``홀수``라는 문자열을 반환하는 함수를 만든다.\n",
    "2. 윤년을 나타나는 수가 입력되면 ``윤년``이라는 문자열을, 그렇지 않은 수가 입력되면 ``평년``이라는 문자열을 반환하는 함수를 만든다.\n",
    "```"
   ]
  },
  {
   "cell_type": "markdown",
   "metadata": {
    "bootstrap": {
     "panel": {
      "class": "panel-default"
     }
    },
    "school_cell_uuid": "ef702f49e46e41bbb8f80211e26363ce"
   },
   "source": [
    "````{admonition} 연습 문제 2.6.2\n",
    "\n",
    "평년일 때 1, 3, 5, 7, 8, 10, 12 월은 31일, 4, 6, 9, 11월은 30일, 2월은 28일이다. 월을 나타내는 숫자를 입력하면 그 달의 날짜 수를 반환하는 함수 `days1` 를 만든다.  사용 예는 다음과 같다.\n",
    "\n",
    "```\n",
    ">>> days1(11) # 11월의 날짜 수\n",
    "30\n",
    "```\n",
    "````"
   ]
  },
  {
   "cell_type": "markdown",
   "metadata": {
    "school_cell_uuid": "e549eeedec2547e782ec484b508855da"
   },
   "source": [
    "## 입력이 여러 개인 함수"
   ]
  },
  {
   "cell_type": "markdown",
   "metadata": {
    "school_cell_uuid": "13b44269a39744e9a43393e1aff63e6b"
   },
   "source": [
    "함수의 입력은 한 개가 아니라 여러 개가 되어도 상관없다. 입력 변수가 여러개이면 쉼표, 영어로 comma 를 사용하여 함수를 정의한다. 입력 변수는 원하는 만큼 얼마든지 만들 수 있다.\n",
    "\n",
    "```\n",
    "def 함수이름(입력변수1, 입력변수2, 입력변수3):\n",
    "   출력변수를 만드는 명령\n",
    "   return 출력변수이름\n",
    "```"
   ]
  },
  {
   "cell_type": "code",
   "execution_count": 4,
   "metadata": {
    "school_cell_uuid": "42c845dfff8941aebe90f6f206c283cc"
   },
   "outputs": [],
   "source": [
    "def add(x, y):\n",
    "    return x + y"
   ]
  },
  {
   "cell_type": "code",
   "execution_count": 5,
   "metadata": {
    "school_cell_uuid": "16ff374bf9a94520bed4218c6b27a4b7"
   },
   "outputs": [
    {
     "data": {
      "text/plain": [
       "3"
      ]
     },
     "execution_count": 5,
     "metadata": {},
     "output_type": "execute_result"
    }
   ],
   "source": [
    "add(1, 2)"
   ]
  },
  {
   "cell_type": "code",
   "execution_count": 6,
   "metadata": {
    "school_cell_uuid": "f057db3e43ad45f9967037dcd4d888b0"
   },
   "outputs": [],
   "source": [
    "def sum(a, b, c):\n",
    "    s = a + b + c\n",
    "    return s"
   ]
  },
  {
   "cell_type": "code",
   "execution_count": 7,
   "metadata": {
    "school_cell_uuid": "b4bb5b23dcd246baa29eb5eac504de5e"
   },
   "outputs": [
    {
     "data": {
      "text/plain": [
       "6"
      ]
     },
     "execution_count": 7,
     "metadata": {},
     "output_type": "execute_result"
    }
   ],
   "source": [
    "sum(1, 2, 3)"
   ]
  },
  {
   "cell_type": "markdown",
   "metadata": {
    "bootstrap": {
     "panel": {
      "class": "panel-default"
     }
    },
    "school_cell_uuid": "b4833e32a18b4794acffc192535b7712"
   },
   "source": [
    "````{admonition} 연습 문제 2.6.3\n",
    "\n",
    "연도를 나타내는 숫자와 월을 나타내는 숫자를 입력하면 그 달의 날짜 수를 반환하는 함수 `days2` 를 만든다. \n",
    "\n",
    "사용 예는 다음과 같다.\n",
    "\n",
    "```\n",
    ">>> days2(2015, 1)\n",
    "31\n",
    "```\n",
    "````"
   ]
  },
  {
   "cell_type": "markdown",
   "metadata": {
    "school_cell_uuid": "deb0e1b80dfb4fe686aa605e86407afa"
   },
   "source": [
    "## 람다 함수"
   ]
  },
  {
   "cell_type": "markdown",
   "metadata": {},
   "source": [
    "```{margin}\n",
    "람다 함수(lambda function)\n",
    "```"
   ]
  },
  {
   "cell_type": "markdown",
   "metadata": {
    "school_cell_uuid": "3b30d929dd8e4100936c013daad7b626"
   },
   "source": [
    "함수에 이름을 주지 않거나 코드를 짧게 줄여쓰는 방법으로 람다(lambda)함수라는 것이 있다.  예를 들어 다음 함수 `f`는"
   ]
  },
  {
   "cell_type": "code",
   "execution_count": 8,
   "metadata": {
    "school_cell_uuid": "14371eacf4f24a44b2ef36ac29209cbc"
   },
   "outputs": [],
   "source": [
    "def f(x):\n",
    "    return 2 * x"
   ]
  },
  {
   "cell_type": "markdown",
   "metadata": {
    "school_cell_uuid": "21b889be49574ab8a93ebb12fa0c7aab"
   },
   "source": [
    "람다 함수로 정의하면 다음과 같다."
   ]
  },
  {
   "cell_type": "code",
   "execution_count": 9,
   "metadata": {
    "school_cell_uuid": "c77cd4a11a5f467ca88740320d4e4dec"
   },
   "outputs": [],
   "source": [
    "f = lambda x : 2 * x"
   ]
  },
  {
   "cell_type": "code",
   "execution_count": 10,
   "metadata": {
    "school_cell_uuid": "b37a90a3209045ce927ec5a6559c4d33"
   },
   "outputs": [
    {
     "data": {
      "text/plain": [
       "4"
      ]
     },
     "execution_count": 10,
     "metadata": {},
     "output_type": "execute_result"
    }
   ],
   "source": [
    "f(2)"
   ]
  },
  {
   "cell_type": "markdown",
   "metadata": {
    "school_cell_uuid": "163d86bf39154f769722f5b47bb2fe45"
   },
   "source": [
    "람다 함수는 함수 자체를 다른 함수의 인수로 넣을 때, 함수의 출력값을 함수로 받을 때 유용하게 사용된다."
   ]
  },
  {
   "cell_type": "markdown",
   "metadata": {
    "school_cell_uuid": "739066b96c3b4502bb9c85fed633810e"
   },
   "source": [
    "## 지역 변수"
   ]
  },
  {
   "cell_type": "markdown",
   "metadata": {},
   "source": [
    "```{margin}\n",
    "지역 변수(local variable)\n",
    "```"
   ]
  },
  {
   "cell_type": "markdown",
   "metadata": {
    "school_cell_uuid": "7e2038a1eb2b498fa706f5ddc7ddcd4c"
   },
   "source": [
    "함수에 넣은 입력 변수나 함수 안에서 만들어진 변수는 함수 바깥에서는 사용할 수 없다. 혹시 이름이 같은 변수가 있다고 하더라도 별개의 변수가 된다.\n",
    "\n",
    "따라서 함수 안에서 만들어지고 사용되는 함수를 지역 변수, 영어로 local variable 이라고 한다."
   ]
  },
  {
   "cell_type": "markdown",
   "metadata": {
    "school_cell_uuid": "ccb104538cfc4efbb87b18ba4bb47810"
   },
   "source": [
    "실제로 확인해 보자. 일단 함수 바깥에 혹시라도 y라는 변수가 있으면 `del` 명령으로 지운다."
   ]
  },
  {
   "cell_type": "code",
   "execution_count": 11,
   "metadata": {
    "school_cell_uuid": "ef4050eea7eb4716ad3a9112bc21b83b"
   },
   "outputs": [
    {
     "ename": "NameError",
     "evalue": "name 'y' is not defined",
     "output_type": "error",
     "traceback": [
      "\u001b[0;31m---------------------------------------------------------------------------\u001b[0m",
      "\u001b[0;31mNameError\u001b[0m                                 Traceback (most recent call last)",
      "\u001b[0;32m<ipython-input-11-aa8f3401fc42>\u001b[0m in \u001b[0;36m<module>\u001b[0;34m\u001b[0m\n\u001b[0;32m----> 1\u001b[0;31m \u001b[0;32mdel\u001b[0m \u001b[0my\u001b[0m\u001b[0;34m\u001b[0m\u001b[0;34m\u001b[0m\u001b[0m\n\u001b[0m",
      "\u001b[0;31mNameError\u001b[0m: name 'y' is not defined"
     ]
    }
   ],
   "source": [
    "del y"
   ]
  },
  {
   "cell_type": "markdown",
   "metadata": {
    "school_cell_uuid": "d9a7eb1b5e794808af8d5ae50f12efff"
   },
   "source": [
    "기존에 y라는 변수가 없었으면 그런 변수가 없다는 오류가 나온다. 만약 기존에 y라는 변수가 있었으면 오류가 출력되지 않고 지워지기만 한다"
   ]
  },
  {
   "cell_type": "markdown",
   "metadata": {
    "school_cell_uuid": "a88aecd458cb4e5193505893e605db7d"
   },
   "source": [
    "이제 다음과 같이 `y`라는 이름의 지역 변수를 가지는 함수를 만들고 실행시킨다."
   ]
  },
  {
   "cell_type": "code",
   "execution_count": 12,
   "metadata": {
    "school_cell_uuid": "e31c3c5830e64029ab12b3d48be96360"
   },
   "outputs": [],
   "source": [
    "def f(x):\n",
    "    y = 10 * x\n",
    "    print(\"y = \", y)\n",
    "    return y"
   ]
  },
  {
   "cell_type": "code",
   "execution_count": 13,
   "metadata": {
    "school_cell_uuid": "2cf94f6ebc614385ab31eb96981366db"
   },
   "outputs": [
    {
     "name": "stdout",
     "output_type": "stream",
     "text": [
      "y =  100\n"
     ]
    },
    {
     "data": {
      "text/plain": [
       "100"
      ]
     },
     "execution_count": 13,
     "metadata": {},
     "output_type": "execute_result"
    }
   ],
   "source": [
    "f(10)"
   ]
  },
  {
   "cell_type": "markdown",
   "metadata": {
    "school_cell_uuid": "53a189d87ba4401b8549feb36125b52b"
   },
   "source": [
    "y라는 변수가 생겨났는지 다시 확인한다."
   ]
  },
  {
   "cell_type": "code",
   "execution_count": 14,
   "metadata": {
    "school_cell_uuid": "4446be5b923242bb97dfbf19c0e70eaa"
   },
   "outputs": [
    {
     "ename": "NameError",
     "evalue": "name 'y' is not defined",
     "output_type": "error",
     "traceback": [
      "\u001b[0;31m---------------------------------------------------------------------------\u001b[0m",
      "\u001b[0;31mNameError\u001b[0m                                 Traceback (most recent call last)",
      "\u001b[0;32m<ipython-input-14-9063a9f0e032>\u001b[0m in \u001b[0;36m<module>\u001b[0;34m\u001b[0m\n\u001b[0;32m----> 1\u001b[0;31m \u001b[0my\u001b[0m\u001b[0;34m\u001b[0m\u001b[0;34m\u001b[0m\u001b[0m\n\u001b[0m",
      "\u001b[0;31mNameError\u001b[0m: name 'y' is not defined"
     ]
    }
   ],
   "source": [
    "y"
   ]
  },
  {
   "cell_type": "markdown",
   "metadata": {
    "school_cell_uuid": "40c765378d4a49cdbe27af4ae575f4a2"
   },
   "source": [
    "함수 안에서 만든 y라는 변수는 함수 밖에는 생성되지 않았다.\n",
    "\n",
    "이번에는 함수 바깥에서 y라는 변수를 사용해 보자."
   ]
  },
  {
   "cell_type": "code",
   "execution_count": 15,
   "metadata": {
    "school_cell_uuid": "e4fc061a5610498f8868acb4514ce40a"
   },
   "outputs": [],
   "source": [
    "y = 1000"
   ]
  },
  {
   "cell_type": "code",
   "execution_count": 16,
   "metadata": {
    "school_cell_uuid": "4c2fa6e9cb1246959c01cf9d80c96360"
   },
   "outputs": [
    {
     "data": {
      "text/plain": [
       "1000"
      ]
     },
     "execution_count": 16,
     "metadata": {},
     "output_type": "execute_result"
    }
   ],
   "source": [
    "y"
   ]
  },
  {
   "cell_type": "markdown",
   "metadata": {
    "school_cell_uuid": "63dd28419e5c428aabf64f434c961ec4"
   },
   "source": [
    "이제 함수를 실행시킨다."
   ]
  },
  {
   "cell_type": "code",
   "execution_count": 17,
   "metadata": {
    "school_cell_uuid": "8fdd4fded5bb44e3ae9a9db20d0e3f4b"
   },
   "outputs": [
    {
     "name": "stdout",
     "output_type": "stream",
     "text": [
      "y =  10\n"
     ]
    },
    {
     "data": {
      "text/plain": [
       "10"
      ]
     },
     "execution_count": 17,
     "metadata": {},
     "output_type": "execute_result"
    }
   ],
   "source": [
    "f(1)"
   ]
  },
  {
   "cell_type": "markdown",
   "metadata": {
    "school_cell_uuid": "8d72fa9a950642818ed1cef201836536"
   },
   "source": [
    "다시 바깥에서 y값을 확인하면 이전과 같다."
   ]
  },
  {
   "cell_type": "code",
   "execution_count": 18,
   "metadata": {
    "school_cell_uuid": "101701410acd4bf39ab8dc2ede0e34dd"
   },
   "outputs": [
    {
     "data": {
      "text/plain": [
       "1000"
      ]
     },
     "execution_count": 18,
     "metadata": {},
     "output_type": "execute_result"
    }
   ],
   "source": [
    "y"
   ]
  },
  {
   "cell_type": "markdown",
   "metadata": {
    "school_cell_uuid": "fa5ebaf3ffeb4730b08d8769beb5d186"
   },
   "source": [
    "즉, 함수 안에서 만들어지는 지역 변수는 함수 바깥에 아무런 영향을 주지 않는다."
   ]
  },
  {
   "cell_type": "markdown",
   "metadata": {
    "bootstrap": {
     "panel": {
      "class": "panel-default"
     }
    },
    "school_cell_uuid": "5ee82513f41d47eca3fdd0b1fd5f7a60"
   },
   "source": [
    "```{admonition} 연습 문제 2.6.4\n",
    "\n",
    "3개의 숫자를 입력하면 \"그 숫자들의 합\"과 \"그 숫자들을 제곱한 숫자들의 합\"의 차이(큰 수에서 작을 수를 뺀 값)를 계산하는 함수 `diffsum`를 만든다. 큰 수에서 작은 수를 뺀 결과이므로 항상 0보다 크거나 0과 같아야 한다.\n",
    "```"
   ]
  },
  {
   "cell_type": "markdown",
   "metadata": {
    "school_cell_uuid": "1d9e3118f0b646018028b04ffb227db5"
   },
   "source": [
    "## 전역 변수"
   ]
  },
  {
   "cell_type": "markdown",
   "metadata": {},
   "source": [
    "```{margin}\n",
    "전역 변수(global variable)\n",
    "```"
   ]
  },
  {
   "cell_type": "markdown",
   "metadata": {
    "school_cell_uuid": "df0b9de97ed24b6fb8fe1c113575bf6c"
   },
   "source": [
    "하지만 지역 변수와 반대로 함수 바깥에서 만들어진 변수는 함수 안에서 사용할 수 있다. 이러한 변수를 전역 변수(global variable)이라고 한다."
   ]
  },
  {
   "cell_type": "code",
   "execution_count": 19,
   "metadata": {
    "school_cell_uuid": "53cd74e812484171849329d83785df39"
   },
   "outputs": [],
   "source": [
    "z = 3\n",
    "\n",
    "def f2(x):\n",
    "    y = z * x\n",
    "    print(\"y =\", y)\n",
    "    print(\"z =\", z)\n",
    "    return y"
   ]
  },
  {
   "cell_type": "code",
   "execution_count": 20,
   "metadata": {
    "school_cell_uuid": "e39dbe640bd8451aa80b7ab4fcf90bfd"
   },
   "outputs": [
    {
     "name": "stdout",
     "output_type": "stream",
     "text": [
      "y = 30\n",
      "z = 3\n"
     ]
    },
    {
     "data": {
      "text/plain": [
       "30"
      ]
     },
     "execution_count": 20,
     "metadata": {},
     "output_type": "execute_result"
    }
   ],
   "source": [
    "f2(10)"
   ]
  },
  {
   "cell_type": "markdown",
   "metadata": {
    "school_cell_uuid": "0a46b6829f6f4fd898b22bdbeea05a83"
   },
   "source": [
    "다만, 이때 바깥의 변수와 같은 이름의 변수를 함수 안에 만들면 안 된다. 만약 바깥의 변수와 같은 이름의 변수를 함수 안에 다시 만들면 함수 안에서는 그 지역 변수를 사용하다가 함수 바깥으로 나오면 지역 변수는 사라지고 원래의 변숫값으로 되돌아온다.\n",
    "따라서 함수 안에서는 함수 바깥에 있는 변수의 값을 바꿀 수 없다."
   ]
  },
  {
   "cell_type": "code",
   "execution_count": 21,
   "metadata": {
    "school_cell_uuid": "11196631d96c4a5399cb975e12aa56ef"
   },
   "outputs": [],
   "source": [
    "z = 3\n",
    "\n",
    "def f3(x):\n",
    "    z = 99\n",
    "    y = z * x\n",
    "    print(\"y =\", y)\n",
    "    print(\"z =\", z)\n",
    "    return y"
   ]
  },
  {
   "cell_type": "code",
   "execution_count": 22,
   "metadata": {
    "school_cell_uuid": "7c63ea75fbbd4ec2b6d13005f15373bd"
   },
   "outputs": [
    {
     "name": "stdout",
     "output_type": "stream",
     "text": [
      "y = 990\n",
      "z = 99\n"
     ]
    },
    {
     "data": {
      "text/plain": [
       "990"
      ]
     },
     "execution_count": 22,
     "metadata": {},
     "output_type": "execute_result"
    }
   ],
   "source": [
    "f3(10)"
   ]
  },
  {
   "cell_type": "markdown",
   "metadata": {
    "school_cell_uuid": "3564decb9d20462d88407a9640671bc9"
   },
   "source": [
    "함수 바깥에서는 z가 여전히 3이다."
   ]
  },
  {
   "cell_type": "code",
   "execution_count": 23,
   "metadata": {
    "school_cell_uuid": "f01f9028d41146178673e5a0ddffe22a"
   },
   "outputs": [
    {
     "data": {
      "text/plain": [
       "3"
      ]
     },
     "execution_count": 23,
     "metadata": {},
     "output_type": "execute_result"
    }
   ],
   "source": [
    "z"
   ]
  },
  {
   "cell_type": "markdown",
   "metadata": {},
   "source": [
    "```{margin}\n",
    "`global`\n",
    "```"
   ]
  },
  {
   "cell_type": "markdown",
   "metadata": {
    "school_cell_uuid": "78cb4827c183444fbd1af32c0e358ea9"
   },
   "source": [
    "만약 함수안에서 함수 바깥에 있는 변수의 값을 꼭 바꿔야만 한다면 다음과 같이 함수 이름 앞에 `global` 키워드를 선언해 주면 된다."
   ]
  },
  {
   "cell_type": "code",
   "execution_count": 24,
   "metadata": {
    "school_cell_uuid": "074df8e8c2374419a9ef9d9718e046c8"
   },
   "outputs": [],
   "source": [
    "z = 3\n",
    "\n",
    "def f4(x):\n",
    "    global z\n",
    "    z = 99\n",
    "    y = z * x\n",
    "    print(\"y =\", y)\n",
    "    print(\"z =\", z)\n",
    "    return y"
   ]
  },
  {
   "cell_type": "code",
   "execution_count": 25,
   "metadata": {
    "school_cell_uuid": "3c1686d15c3c41cfb84e73f101d1add0"
   },
   "outputs": [
    {
     "name": "stdout",
     "output_type": "stream",
     "text": [
      "y = 990\n",
      "z = 99\n"
     ]
    },
    {
     "data": {
      "text/plain": [
       "990"
      ]
     },
     "execution_count": 25,
     "metadata": {},
     "output_type": "execute_result"
    }
   ],
   "source": [
    "f4(10)"
   ]
  },
  {
   "cell_type": "code",
   "execution_count": 26,
   "metadata": {
    "school_cell_uuid": "a08935c52e7c4dc08587d32045b4c11f"
   },
   "outputs": [
    {
     "data": {
      "text/plain": [
       "99"
      ]
     },
     "execution_count": 26,
     "metadata": {},
     "output_type": "execute_result"
    }
   ],
   "source": [
    "z"
   ]
  },
  {
   "cell_type": "markdown",
   "metadata": {
    "school_cell_uuid": "91fdfaffd25148069dfd176e707cbd46"
   },
   "source": [
    "함수 바깥의 z 값이 99로 바뀌어 있는 것을 확인할 수 있다."
   ]
  },
  {
   "cell_type": "markdown",
   "metadata": {
    "bootstrap": {
     "panel": {
      "class": "panel-default"
     }
    },
    "school_cell_uuid": "a61c88c556bd4207b141fb99a8b2fa75"
   },
   "source": [
    "```{admonition} 연습 문제 2.6.5\n",
    "\n",
    "함수 바깥에 ``m`` 이라는  전역 변수를 만들고 그 값을 0으로 놓는다.  앞에서 만든 `diffsum` 함수를 고쳐서 `diffsum` 함수와 같은 값을 반환하지만 함수를 실행할 때 마다 `diffsum` 함수에서 계산된 값이 원래 있던 ``m``보다 크면 ``m``을 계산된 값으로 바꾸는 함수 `diffsum2` 를 만든다.\n",
    "```"
   ]
  },
  {
   "cell_type": "code",
   "execution_count": null,
   "metadata": {},
   "outputs": [],
   "source": []
  }
 ],
 "metadata": {
  "celltoolbar": "Edit Metadata",
  "kernelspec": {
   "display_name": "Python 3",
   "language": "python",
   "name": "python3"
  },
  "language_info": {
   "codemirror_mode": {
    "name": "ipython",
    "version": 3
   },
   "file_extension": ".py",
   "mimetype": "text/x-python",
   "name": "python",
   "nbconvert_exporter": "python",
   "pygments_lexer": "ipython3",
   "version": "3.8.3"
  }
 },
 "nbformat": 4,
 "nbformat_minor": 4
}
