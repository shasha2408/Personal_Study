{
 "cells": [
  {
   "cell_type": "markdown",
   "metadata": {
    "school_cell_uuid": "6197af054d3548d295f014b66f997f9c"
   },
   "source": [
    "# 2.7 파이썬 for 반복문"
   ]
  },
  {
   "cell_type": "markdown",
   "metadata": {
    "school_cell_uuid": "d29ca1b79f924145b7e8b5d343018df5"
   },
   "source": [
    "다음과 같이 문자열을 반복해서 출력해야 하는 경우를 생각해보자."
   ]
  },
  {
   "cell_type": "code",
   "execution_count": 1,
   "metadata": {
    "school_cell_uuid": "32478aa9fe0144c0a314f348a1ce0e97"
   },
   "outputs": [
    {
     "name": "stdout",
     "output_type": "stream",
     "text": [
      "=1=\n",
      "=2=\n",
      "=3=\n",
      "=4=\n",
      "=5=\n",
      "=6=\n",
      "=7=\n",
      "=8=\n",
      "=9=\n"
     ]
    }
   ],
   "source": [
    "print(\"=1=\")\n",
    "print(\"=2=\")\n",
    "print(\"=3=\")\n",
    "print(\"=4=\")\n",
    "print(\"=5=\")\n",
    "print(\"=6=\")\n",
    "print(\"=7=\")\n",
    "print(\"=8=\")\n",
    "print(\"=9=\")"
   ]
  },
  {
   "cell_type": "markdown",
   "metadata": {
    "school_cell_uuid": "32bf6507d3824524911899bf085cdc89"
   },
   "source": [
    "## `for` 반복문"
   ]
  },
  {
   "cell_type": "markdown",
   "metadata": {},
   "source": [
    "```{margin}\n",
    "`for`\n",
    "```"
   ]
  },
  {
   "cell_type": "markdown",
   "metadata": {
    "school_cell_uuid": "0a09e96f536b4a22ae12d1f2c1df16ee"
   },
   "source": [
    "파이썬에서는 이렇게 명령이 반복될 수 있게 하는 `for` 반복문(loop)을 사용할 수 있다. `for` 반복문은 다음과 같이 사용한다.\n",
    "\n",
    "```\n",
    "for 카운터변수 in range(반복횟수):\n",
    "    반복해서 실행할 명령\n",
    "```\n",
    "\n",
    "이 때 반복횟수는 10, 100과 같은 양의 정수이어야 한다. "
   ]
  },
  {
   "cell_type": "markdown",
   "metadata": {},
   "source": [
    "```{margin}\n",
    "카운터 변수(counter variable)\n",
    "```"
   ]
  },
  {
   "cell_type": "markdown",
   "metadata": {},
   "source": [
    "현재 몇 번째 반복인지를 알려주는 변수를 카운터 변수(counter variable)이라고 한다. 카운터 변수의 이름은 아무거나 쓸 수 있다. 하지만 전문 프로그래머들은 보통 `i` 또는 `j` 라는 변수 이름을 자주 사용한다."
   ]
  },
  {
   "cell_type": "code",
   "execution_count": 2,
   "metadata": {
    "school_cell_uuid": "16da8d8920a64216af97d74c2d858fe4"
   },
   "outputs": [
    {
     "name": "stdout",
     "output_type": "stream",
     "text": [
      "=\n",
      "=\n",
      "=\n",
      "=\n",
      "=\n",
      "=\n",
      "=\n",
      "=\n",
      "=\n",
      "=\n"
     ]
    }
   ],
   "source": [
    "for i in range(10):\n",
    "    print(\"=\")"
   ]
  },
  {
   "cell_type": "markdown",
   "metadata": {
    "school_cell_uuid": "73490a54ea0e490dac5ef1ccc9ab677f"
   },
   "source": [
    "카운터 변수는 반복 실행될 때마다 현재의 실행 횟수에 해당하는 숫자가 들어가게 되는데, 가장 처음 실행할 때는 아직 한 번도 실행한 적이 없기 때문에 0이 된다."
   ]
  },
  {
   "cell_type": "code",
   "execution_count": 3,
   "metadata": {
    "school_cell_uuid": "69459a884312420db6c51a36ac1f9fa4"
   },
   "outputs": [
    {
     "name": "stdout",
     "output_type": "stream",
     "text": [
      "0\n",
      "1\n",
      "2\n",
      "3\n",
      "4\n",
      "5\n",
      "6\n",
      "7\n",
      "8\n",
      "9\n"
     ]
    }
   ],
   "source": [
    "for i in range(10):\n",
    "    print(i)"
   ]
  },
  {
   "cell_type": "markdown",
   "metadata": {
    "school_cell_uuid": "b5b3db2d23894adcb957f41c0019841a"
   },
   "source": [
    "따라서 시작 부분에서 나타낸 프로그램은 반복문을 쓰면 다음과 같이 짧은 프로그램으로 바꿀 수 있다."
   ]
  },
  {
   "cell_type": "code",
   "execution_count": 4,
   "metadata": {
    "school_cell_uuid": "2797d912810647e4ad104443d210c4bf"
   },
   "outputs": [
    {
     "name": "stdout",
     "output_type": "stream",
     "text": [
      "=0=\n",
      "=1=\n",
      "=2=\n",
      "=3=\n",
      "=4=\n",
      "=5=\n",
      "=6=\n",
      "=7=\n",
      "=8=\n",
      "=9=\n"
     ]
    }
   ],
   "source": [
    "for i in range(10):\n",
    "    print(\"=\" + str(i) + \"=\")"
   ]
  },
  {
   "cell_type": "markdown",
   "metadata": {
    "school_cell_uuid": "381a851b5c0949cfa83b68ba91bda82d"
   },
   "source": [
    "그런데 시작이 0이라서 우리가 원하는 결과와 달라졌다. 그래서 프로그램을 다음과 같이 고쳐야 한다."
   ]
  },
  {
   "cell_type": "code",
   "execution_count": 5,
   "metadata": {
    "school_cell_uuid": "9fa7ee036c0a464491b6562925e9e2a0"
   },
   "outputs": [
    {
     "name": "stdout",
     "output_type": "stream",
     "text": [
      "=1=\n",
      "=2=\n",
      "=3=\n",
      "=4=\n",
      "=5=\n",
      "=6=\n",
      "=7=\n",
      "=8=\n",
      "=9=\n"
     ]
    }
   ],
   "source": [
    "for i in range(9):\n",
    "    print(\"=\" + str(i + 1) + \"=\")"
   ]
  },
  {
   "cell_type": "markdown",
   "metadata": {
    "school_cell_uuid": "c0f81bfc71f94673ba280cee5761f9be"
   },
   "source": [
    "카운터 변수는 항상 0부터 시작하므로 1부터 시작하는 것처럼 보이게 하려면 1을 더해주어야 한다. 또 1부터 9까지 9번만 실행하면 되기 때문에 반복횟수도 10이 아니라 9가 되었다."
   ]
  },
  {
   "cell_type": "markdown",
   "metadata": {
    "bootstrap": {
     "panel": {
      "class": "panel-default"
     }
    },
    "school_cell_uuid": "477d4e7d95c7475aa12d2623c710ec90"
   },
   "source": [
    "````{admonition} 연습 문제 2.7.1\n",
    "\n",
    "`for` 반복문과 문자열 연산을 사용하여 다음과 같이 출력한다.\n",
    "\n",
    "```\n",
    "*\n",
    "**\n",
    "***\n",
    "****\n",
    "*****\n",
    "******\n",
    "*******\n",
    "********\n",
    "*********\n",
    "**********\n",
    "```\n",
    "````"
   ]
  },
  {
   "cell_type": "markdown",
   "metadata": {
    "bootstrap": {
     "panel": {
      "class": "panel-default"
     }
    },
    "school_cell_uuid": "b9855baa68404eee8c7a9be8450b1d9a"
   },
   "source": [
    "````{admonition} 연습 문제 2.7.2\n",
    "\n",
    "`for` 반복문과 문자열 연산을 사용하여 다음과 같이 출력한다.\n",
    "\n",
    "```\n",
    "**********\n",
    "*********\n",
    "********\n",
    "*******\n",
    "******\n",
    "*****\n",
    "****\n",
    "***\n",
    "**\n",
    "*\n",
    "```\n",
    "````"
   ]
  },
  {
   "cell_type": "markdown",
   "metadata": {
    "bootstrap": {
     "panel": {
      "class": "panel-default"
     }
    },
    "school_cell_uuid": "132181892b19415fb0a897a5919afe03"
   },
   "source": [
    "````{admonition} 연습 문제 2.7.3\n",
    "\n",
    "`for` 반복문과 문자열 연산, `if` 조건문을 사용하여 다음과 같이 출력한다.\n",
    "\n",
    "```\n",
    "*\n",
    "**\n",
    "***\n",
    "****\n",
    "*****\n",
    "******\n",
    "*******\n",
    "********\n",
    "*********\n",
    "**********\n",
    "*********\n",
    "********\n",
    "*******\n",
    "******\n",
    "*****\n",
    "****\n",
    "***\n",
    "**\n",
    "*\n",
    "```\n",
    "````"
   ]
  },
  {
   "cell_type": "markdown",
   "metadata": {
    "bootstrap": {
     "panel": {
      "class": "panel-default"
     }
    },
    "school_cell_uuid": "978ba00343664239b8acac02b9eee56f"
   },
   "source": [
    "````{admonition} 연습 문제 2.7.4\n",
    "\n",
    "`for` 반복문과 문자열 연산, `if` 조건문을 사용하여 다음과 같이 출력한다.\n",
    "\n",
    "```\n",
    "     * \n",
    "    ***\n",
    "   *****\n",
    "  *******\n",
    " *********\n",
    "***********\n",
    " *********\n",
    "  *******\n",
    "   *****\n",
    "    ***\n",
    "     *\n",
    "```\n",
    "````"
   ]
  },
  {
   "cell_type": "markdown",
   "metadata": {
    "school_cell_uuid": "c9dd26dc0c06451c89996a6d91c89efa"
   },
   "source": [
    "## 중첩 for 반복문"
   ]
  },
  {
   "cell_type": "markdown",
   "metadata": {
    "school_cell_uuid": "72faab92924a40a9b04c9d7944e0acee"
   },
   "source": [
    "때로는 반복문 안에서 다시 반복문을 실행해야 할 때가 있을 수 있다. 예를 들어 다음과 같이 출력해야 할 때를 생각해 보자.\n",
    "\n",
    "```\n",
    "0 1 2 3 \n",
    "1 2 3 4 \n",
    "2 3 4 5 \n",
    "3 4 5 6 \n",
    "```"
   ]
  },
  {
   "cell_type": "markdown",
   "metadata": {
    "school_cell_uuid": "6f9a9f74610d4f42a94622228a20c179"
   },
   "source": [
    "여러가지 방법이 있을 수 있지만 다음과 같이 for 반복문 안에 다시 for 반복문을 사용하는 중첩 반복문(nested loop)를 사용할 수도 있다."
   ]
  },
  {
   "cell_type": "code",
   "execution_count": 6,
   "metadata": {
    "school_cell_uuid": "c8bd4baef5e040b09555cfad9adb46ed"
   },
   "outputs": [
    {
     "name": "stdout",
     "output_type": "stream",
     "text": [
      "0 1 2 3 \n",
      "1 2 3 4 \n",
      "2 3 4 5 \n",
      "3 4 5 6 \n"
     ]
    }
   ],
   "source": [
    "for i in range(4):\n",
    "    for j in range(4):\n",
    "        print(i + j, end=\" \")\n",
    "    print()"
   ]
  },
  {
   "cell_type": "markdown",
   "metadata": {
    "school_cell_uuid": "482f9be816d94365b01227529f4fed12"
   },
   "source": [
    "중첩 반복문을 사용할 때는 각각의 반복문에서 쓰고 있는 카운터 변수의 이름이 겹치지 않도록 주의해야 한다. 앞의 예에서는 바깥쪽 반복문의 카운터 변수는 i를 사용하였고 안쪽 반복문의 카운터 변수는 j를 사용하여 카운터 변수의 이름이 겹치지 않도록 하였다."
   ]
  },
  {
   "cell_type": "markdown",
   "metadata": {
    "school_cell_uuid": "cba2df100f454842851ad6739ee9a0f4"
   },
   "source": [
    "경우의 수를 구하는 데도 중첩 반복문을 사용할 수 있다. 예를 들어 1부터 6까지의 눈금이 있는 주사위를 두 번 던져서 나온 숫자들은 다음과 같이 구한다."
   ]
  },
  {
   "cell_type": "code",
   "execution_count": 7,
   "metadata": {
    "school_cell_uuid": "e0402d7232a94e4186108a32fea21f10"
   },
   "outputs": [
    {
     "name": "stdout",
     "output_type": "stream",
     "text": [
      "1 1\n",
      "1 2\n",
      "1 3\n",
      "1 4\n",
      "1 5\n",
      "1 6\n",
      "2 1\n",
      "2 2\n",
      "2 3\n",
      "2 4\n",
      "2 5\n",
      "2 6\n",
      "3 1\n",
      "3 2\n",
      "3 3\n",
      "3 4\n",
      "3 5\n",
      "3 6\n",
      "4 1\n",
      "4 2\n",
      "4 3\n",
      "4 4\n",
      "4 5\n",
      "4 6\n",
      "5 1\n",
      "5 2\n",
      "5 3\n",
      "5 4\n",
      "5 5\n",
      "5 6\n",
      "6 1\n",
      "6 2\n",
      "6 3\n",
      "6 4\n",
      "6 5\n",
      "6 6\n"
     ]
    }
   ],
   "source": [
    "for i in range(6):\n",
    "    n1 = i + 1\n",
    "    for j in range(6):\n",
    "        n2 = j + 1\n",
    "        print(n1, n2)"
   ]
  },
  {
   "cell_type": "markdown",
   "metadata": {
    "school_cell_uuid": "a294f5ad6ad341208135263a02abf2c7"
   },
   "source": [
    "만약 주사위를 두 번 던져서 나온 숫자들의 합이 4의 배수가 되는 경우만 구해야 한다면 다음과 같이 if 조건문을 추가한다."
   ]
  },
  {
   "cell_type": "code",
   "execution_count": 8,
   "metadata": {
    "school_cell_uuid": "7c4c1a4019d14590b84598ac016a9e6f"
   },
   "outputs": [
    {
     "name": "stdout",
     "output_type": "stream",
     "text": [
      "1 3\n",
      "2 2\n",
      "2 6\n",
      "3 1\n",
      "3 5\n",
      "4 4\n",
      "5 3\n",
      "6 2\n",
      "6 6\n"
     ]
    }
   ],
   "source": [
    "for i in range(6):\n",
    "    n1 = i + 1\n",
    "    for j in range(6):\n",
    "        n2 = j + 1\n",
    "        n = n1 + n2\n",
    "        if n % 4 == 0:\n",
    "            print(n1, n2)"
   ]
  },
  {
   "cell_type": "markdown",
   "metadata": {
    "bootstrap": {
     "panel": {
      "class": "panel-default"
     }
    },
    "school_cell_uuid": "e3212cebca23460192ad669ad6528237"
   },
   "source": [
    "````{admonition} 연습 문제 2.7.5\n",
    "\n",
    "어떤 주식의 가격은 매일 한 번 동전을 던져서 앞면이 나오면 전날 가격의 2배가 되고, 뒷면이 나오면 전날 가격의 절반이 된다. 1일에 주식의 가격이 1,024원이었을 때, 4일 주식의 가격이 나올 수 있는 경우를 모두 구한다. (힌트: for 반복문이 3개 중첩되어야 한다)\n",
    "````"
   ]
  },
  {
   "cell_type": "markdown",
   "metadata": {
    "bootstrap": {
     "panel": {
      "class": "panel-default"
     }
    },
    "school_cell_uuid": "b9b181d9adbb4834809ff170ed2a312b"
   },
   "source": [
    "````{admonition} 연습 문제 2.7.6\n",
    "\n",
    "프랑스의 수학자 페르마(Ferma)의 마지막 정리는 다음과 같다.\n",
    "\n",
    "> n이 2보다 큰 자연수인 경우에, $a^n + b^n = c^n$ 이 되는 자연수 $a$, $b$, $c$는 존재하지 않는다.\n",
    "\n",
    "n이 3이고 a, b, c 가 1부터 10까지의 자연수일 때 페르마의 마지막 정리가 사실임을 중첩 반복문을 써서 보인다. (힌트: 1부터 10까지 반복되는 for 반복문이 3개 중첩되어야 한다.)\n",
    "````"
   ]
  },
  {
   "cell_type": "markdown",
   "metadata": {
    "school_cell_uuid": "23398a1ff0ad4743987c0d009f7001b6"
   },
   "source": [
    "## 카운터 변수가 변하는 경우"
   ]
  },
  {
   "cell_type": "markdown",
   "metadata": {
    "school_cell_uuid": "d8246c32fc00430a8c47af3b79692122"
   },
   "source": [
    "반복문에서 가장 복잡한 형태는 안쪽 반복문의 반복 횟수가 바깥쪽 반복문의 카운터 변수에 따라 변하는 상황이다. 예를 들어 1부터 5까지의 합은 다음과 같이 하나의 반복문으로 구할 수 있다."
   ]
  },
  {
   "cell_type": "code",
   "execution_count": 9,
   "metadata": {
    "school_cell_uuid": "5c0b993c76c342709efd7439ac3436a7"
   },
   "outputs": [
    {
     "name": "stdout",
     "output_type": "stream",
     "text": [
      "15\n"
     ]
    }
   ],
   "source": [
    "n = 5\n",
    "\n",
    "sum = 0\n",
    "for i in range(n):\n",
    "    sum = sum + (i + 1)\n",
    "print(sum)"
   ]
  },
  {
   "cell_type": "markdown",
   "metadata": {
    "school_cell_uuid": "4045d6cd7cee4f49924a67afc9185102"
   },
   "source": [
    "1부터 1까지의 합, 1부터 2까지의 합, 1부터 3까지의 합, 이런 식으로 1부터 10까지의 합을 모두 구해야 한다면 반복문을 다음과 같이 중첩해야 한다."
   ]
  },
  {
   "cell_type": "code",
   "execution_count": 10,
   "metadata": {
    "school_cell_uuid": "87baf596042e4bbab7daa574fbdf804c"
   },
   "outputs": [
    {
     "name": "stdout",
     "output_type": "stream",
     "text": [
      "1\n",
      "3\n",
      "6\n",
      "10\n",
      "15\n",
      "21\n",
      "28\n",
      "36\n",
      "45\n",
      "55\n"
     ]
    }
   ],
   "source": [
    "for j in range(10):\n",
    "    sum = 0\n",
    "    for i in range(j + 1):\n",
    "        sum = sum + (i + 1)\n",
    "    print(sum)"
   ]
  },
  {
   "cell_type": "markdown",
   "metadata": {
    "bootstrap": {
     "panel": {
      "class": "panel-default"
     }
    },
    "school_cell_uuid": "0d8dd919d4c64b3ebfcf06bc2534c638"
   },
   "source": [
    "````{admonition} 연습 문제 2.7.7\n",
    "\n",
    "다음과 같은 수열이 있을 경우에 $n$번째 수열의 값을 구한다.\n",
    "\n",
    "$$ \n",
    "1\n",
    "$$\n",
    "\n",
    "$$ \n",
    "1 + (1 + 2)\n",
    "$$\n",
    "\n",
    "$$ \n",
    "1 + (1 + 2) + (1 + 2 + 3)\n",
    "$$\n",
    "\n",
    "$$ \n",
    "1 + (1 + 2) + (1 + 2 + 3) + (1 + 2 + 3 + 4)\n",
    "$$\n",
    "\n",
    "$$ \\vdots $$\n",
    "$$ \n",
    "1 + (1 + 2) + (1 + 2 + 3) + (1 + 2 + 3 + 4) + \\cdots + (1 + \\cdots + n)\n",
    "$$\n",
    "````"
   ]
  },
  {
   "cell_type": "code",
   "execution_count": null,
   "metadata": {},
   "outputs": [],
   "source": []
  }
 ],
 "metadata": {
  "kernelspec": {
   "display_name": "Python 3",
   "language": "python",
   "name": "python3"
  },
  "language_info": {
   "codemirror_mode": {
    "name": "ipython",
    "version": 3
   },
   "file_extension": ".py",
   "mimetype": "text/x-python",
   "name": "python",
   "nbconvert_exporter": "python",
   "pygments_lexer": "ipython3",
   "version": "3.8.3"
  }
 },
 "nbformat": 4,
 "nbformat_minor": 4
}
