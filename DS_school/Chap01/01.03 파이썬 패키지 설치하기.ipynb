{
 "cells": [
  {
   "cell_type": "markdown",
   "metadata": {
    "school_cell_uuid": "160cf94ef0e74b9584532eacb853917f"
   },
   "source": [
    "# 1.3 파이썬 패키지 설치하기"
   ]
  },
  {
   "cell_type": "markdown",
   "metadata": {
    "school_cell_uuid": "45555f96f97044978f8568d255161f89"
   },
   "source": [
    "## 라이브러리와 패키지"
   ]
  },
  {
   "cell_type": "markdown",
   "metadata": {},
   "source": [
    "```{margin}\n",
    "라이브러리, 패키지\n",
    "```"
   ]
  },
  {
   "cell_type": "markdown",
   "metadata": {
    "school_cell_uuid": "ba773ddff1f547c1979bf05f6752d8cc"
   },
   "source": [
    "집을 지을 때, 시멘트나 철근이 필요하다고 해서 집을 짓는 사람이 시멘트 제작이나 철광석 제련부터 할 수는 없다. 부품이나 재료는 이미 만들어진 것을 사서 쓰는 것이 효율적이다. 프로그램도 마찬가지어서 필요한 모든 부분을 한 사람이 만드는 경우는 거의 없으며 여러가지 프로그램에 공통적으로 사용되는 부분은 해당 분야의 전문가가 미리 만들어 놓은 프로그램을 가져다 사용하는 것이 현명한 선택이다. 이처럼 다른 프로그램 제작에 사용하기 위해 미리 만들어진 프로그램의 집합을 라이브러리(library)라고 한다. 파이썬에서는 라이브러리라는 용어 대신 패키지(package)라는 말을 주로 사용한다."
   ]
  },
  {
   "cell_type": "markdown",
   "metadata": {
    "school_cell_uuid": "62eb633fb3854150840b6af361314989"
   },
   "source": [
    "## 패키지 설치"
   ]
  },
  {
   "cell_type": "markdown",
   "metadata": {
    "school_cell_uuid": "fd1b0633075c4a5c8b81ed2c26dd3cf0"
   },
   "source": [
    "일부 패키지는 파이썬을 설치할 때 함께 설치되는데 이러한 패키지를 표준 패키지(standard package)라고 한다. 그러나 대부분의 패키지는 파이썬을 설치한 후에 별도로 설치한다. 아나콘다 배포판을 설치하면 다양한 패키지들을 추가로 기본 설치해준다. 그러나 그 외에 추가로 패키지를 더 사용해야 할 때는 사용자가 수동으로 설치해야 한다.\n",
    "\n",
    "C, C++, 자바 같은 언어는 새로운 라이브러리를 설치할 때 그 라이브러리를 제공하는 웹사이트를 일일이 방문하여 소스코드나 바이너리를 내려받아야 한다. 반면 파이썬은 모든 패키지를 한 서버에 등록해서 간단한 명령어만으로 패키지를 쉽게 내려받아 설치할 수 있다.\n",
    "\n",
    "기본적으로 모든 파이썬 패키지는 PyPI 서버(https://pypi.org/) 라는 공식 패키지 서버에 등록된다. 하지만 아나콘다 배포판의 경우에는 PyPI가 아닌 독자적인 패키지 서버(https://anaconda.org/)를 운영하고 있으며 운영체제별로 미리 컴파일된 패키지를 제공하는 대신 PyPI보다는 제공하는 패키지의 수가 적다."
   ]
  },
  {
   "cell_type": "markdown",
   "metadata": {
    "school_cell_uuid": "0a618f3ef0044819b69a812bfc80598d"
   },
   "source": [
    "## 패키지 관리자"
   ]
  },
  {
   "cell_type": "markdown",
   "metadata": {
    "school_cell_uuid": "b0eec1ae77f04a2790f32f7d879df5e9"
   },
   "source": [
    "패키지를 설치하기 위한 프로그램을 패키지 관리자라고 한다. 파이썬에서는 pip라고 하는 패키지 관리자를 기본으로 제공하지만, 아나콘다 배포판에서는 conda라고 하는 아나콘다 전용 패키지 관리자도 제공한다. `conda`는 아나콘다 배포판이 설치될 때 자동으로 함께 설치된다."
   ]
  },
  {
   "cell_type": "markdown",
   "metadata": {},
   "source": [
    "```{margin}\n",
    "pip 패키지 관리자\n",
    "```"
   ]
  },
  {
   "cell_type": "markdown",
   "metadata": {},
   "source": [
    "## pip를 사용하여 설치된 패키지를 확인하기"
   ]
  },
  {
   "cell_type": "markdown",
   "metadata": {
    "school_cell_uuid": "7df549d97c7644d9bae709727b55f7e9"
   },
   "source": [
    "pip 패키지 관리자를 사용할 때는 `pip list` 명령으로 설치된 패키지 목록을 볼 수 있다.\n",
    "\n",
    "```\n",
    "$ pip list\n",
    "Package                            Version\n",
    "---------------------------------- ---------------------------\n",
    "absl-py                            0.7.1\n",
    "alabaster                          0.7.12\n",
    "anaconda-clean                     1.0\n",
    "anaconda-client                    1.7.2\n",
    "anaconda-navigator                 1.9.7\n",
    "anaconda-project                   0.8.2\n",
    "... (이하 생략)\n",
    "\n",
    "```\n"
   ]
  },
  {
   "cell_type": "markdown",
   "metadata": {},
   "source": [
    "```{margin}\n",
    "conda 패키지 관리자\n",
    "```"
   ]
  },
  {
   "cell_type": "markdown",
   "metadata": {},
   "source": [
    "## conda를 사용하여 설치된 패키지를 확인하기"
   ]
  },
  {
   "cell_type": "markdown",
   "metadata": {
    "school_cell_uuid": "53538c6805f94a6aaeb37d374a23da25"
   },
   "source": [
    "conda 패키지 관리자를 사용할 때는 `conda list` 명령으로 설치된 패키지 목록을 볼 수 있다.\n",
    "\n",
    "```\n",
    "$ conda list\n",
    "# packages in environment at /home/dockeruser/anaconda3:\n",
    "#\n",
    "# Name                    Version                   Build  Channel\n",
    "_ipyw_jlab_nb_ext_conf    0.1.0                    py37_0\n",
    "_py-xgboost-mutex         2.0                       cpu_0    conda-forge\n",
    "absl-py                   0.7.1                    pypi_0    pypi\n",
    "alabaster                 0.7.12                   py37_0\n",
    "anaconda                  custom                   py37_0\n",
    "... (이하 생략)\n",
    "```"
   ]
  },
  {
   "cell_type": "markdown",
   "metadata": {
    "school_cell_uuid": "b95065d1ea424222bc055fcf0163c389"
   },
   "source": [
    "## pip를 이용하여 패키지를 설치하기"
   ]
  },
  {
   "cell_type": "markdown",
   "metadata": {
    "school_cell_uuid": "749a438fdf5f467db802441eb6ef5ac4"
   },
   "source": [
    "pip 패키지 관리자를 이용하여 패키지를 설치하려면 콘솔 창에서 다음과 같이 입력한다.\n",
    "\n",
    "```\n",
    "pip install 패키지이름\n",
    "```\n",
    "\n",
    "예를 들어 quandl이라는 이름의 패키지를 설치하려면 ``pip install quandl`` 이라고 명령한다."
   ]
  },
  {
   "cell_type": "markdown",
   "metadata": {
    "school_cell_uuid": "85a474fe6172471490823df903db4c56"
   },
   "source": [
    "```\n",
    "~$ pip install quandl\n",
    "Collecting quandl\n",
    "  Downloading https://files.pythonhosted.org/packages/12/64/6314547cb01fa75697ddba6d6d43a9f1d023c1730ffc6abf3db7a0c89222/Quandl-3.4.8-py2.py3-none-any.whl\n",
    "Collecting more-itertools<=5.0.0 (from quandl)\n",
    "\n",
    "...(중략)...\n",
    "\n",
    "Installing collected packages: more-itertools, inflection, ndg-httpsclient, quandl\n",
    "  Found existing installation: more-itertools 7.0.0\n",
    "    Uninstalling more-itertools-7.0.0:\n",
    "      Successfully uninstalled more-itertools-7.0.0\n",
    "Successfully installed inflection-0.3.1 more-itertools-5.0.0 ndg-httpsclient-0.5.1 quandl-3.4.8\n",
    "dockeruser@7f62df393a47:~$\n",
    "```\n"
   ]
  },
  {
   "cell_type": "markdown",
   "metadata": {},
   "source": [
    "대부분의 패키지는 내부적으로는 다른 패키지의 기능을 사용한다. 예를 들어 만약 패키지 A가 패키지 B의 기능을 사용하고 있다면 패키지 B가 설치되어 있을 때만 패키지 A를 사용할 수 있다. 이때 패키지 A가 패키지 B에 의존(depend)한다고 말한다.\n",
    "pip로 패키지를 설치하면 그 패키지가 의존하는 다른 패키지도 자동으로 설치한다. 위에서 quandl 패키지를 설치하였더니 more-itertools, ndg-httpsclient를 같이 설치한 것을 볼 수 있다."
   ]
  },
  {
   "cell_type": "markdown",
   "metadata": {
    "school_cell_uuid": "56d309c6d47841f29bfce49508943831"
   },
   "source": [
    "## conda를 이용하여 패키지를 설치하기"
   ]
  },
  {
   "cell_type": "markdown",
   "metadata": {
    "school_cell_uuid": "b41d611f65b144b39aa9a0a70e57a90b"
   },
   "source": [
    "아나콘다 배포판에서 제공하는 conda 패키지 관리자는 의존성 관리 성능이 pip보다 뛰어나다. 설치하거나 제거할 패키지간의 의존성을 파악하고 만약 설치하고자 하는 패키지가 의존하고 있는 다른 패키지가 설치되어 있지 않거나 버전이 맞지 않으면 필요한 패키지를 설치해 주는 것 이외에도 기존의 패키지를 자동으로 업그레이드하거나 다운그레이드해 준다."
   ]
  },
  {
   "cell_type": "markdown",
   "metadata": {
    "school_cell_uuid": "8f202df638d84cf2bb8e36cb24114f5b"
   },
   "source": [
    "conda를 이용하여 패키지를 설치하는 명령어는 다음과 같다.\n",
    "\n",
    "```\n",
    "conda install 패키지이름\n",
    "```\n",
    "\n",
    "예를 들어 flake8이라는 이름의 패키지를 설치하려면 다음과 같이 ``conda install flake8``이라고 명령한다. \n",
    "\n",
    "중간에 ``Proceed ([y]/n)?``라고 진행여부를 물어보면 ``y`` 키를 누르면 된다."
   ]
  },
  {
   "cell_type": "markdown",
   "metadata": {
    "school_cell_uuid": "67cae2a09ba4427d88a3565f310211d8"
   },
   "source": [
    "```\n",
    "$ conda install flake8\n",
    "Collecting package metadata: done\n",
    "Solving environment: |\n",
    "\n",
    "## Package Plan ##\n",
    "\n",
    "  environment location: /home/dockeruser/anaconda3\n",
    "\n",
    "  added / updated specs:\n",
    "    - flake8\n",
    "\n",
    "The following packages will be downloaded:\n",
    "\n",
    "    package                    |            build\n",
    "    ---------------------------|-----------------\n",
    "    conda-4.6.14               |           py37_0         2.1 MB\n",
    "    flake8-3.7.7               |           py37_0         131 KB\n",
    "    ------------------------------------------------------------\n",
    "                                           Total:         2.2 MB\n",
    "\n",
    "The following NEW packages will be INSTALLED:\n",
    "\n",
    "  flake8             pkgs/main/linux-64::flake8-3.7.7-py37_0\n",
    "\n",
    "The following packages will be SUPERSEDED by a higher-priority channel:\n",
    "\n",
    "  ca-certificates    conda-forge::ca-certificates-2019.3.9~ --> pkgs/main::ca-certificates-2019.1.23-0\n",
    "  conda                                         conda-forge --> pkgs/main\n",
    "  openssl            conda-forge::openssl-1.1.1b-h14c3975_1 --> pkgs/main::openssl-1.1.1b-h7b6447c_1\n",
    "\n",
    "Proceed ([y]/n)?\n",
    "\n",
    "Downloading and Extracting Packages\n",
    "flake8-3.7.7         | 131 KB    | ####################################################### | 100%\n",
    "conda-4.6.14         | 2.1 MB    | ####################################################### | 100%\n",
    "Preparing transaction: done\n",
    "Verifying transaction: done\n",
    "Executing transaction: done\n",
    "```\n",
    "\n",
    "conda 패키지 관리자가 flake8 설치에 필요한 다른 패키지까지도 자동으로 설치하거나 업그레이드 해 주는 것을 볼 수 있다.\n",
    "패키지를 설치할 때는 되도록 conda 패키지 관리자를 사용하고 anaconda 서버에 해당 패키지가 없을 때문 pip 패키지 관리자를 사용하기를 권장한다."
   ]
  }
 ],
 "metadata": {
  "kernelspec": {
   "display_name": "Python 3",
   "language": "python",
   "name": "python3"
  },
  "language_info": {
   "codemirror_mode": {
    "name": "ipython",
    "version": 3
   },
   "file_extension": ".py",
   "mimetype": "text/x-python",
   "name": "python",
   "nbconvert_exporter": "python",
   "pygments_lexer": "ipython3",
   "version": "3.8.3"
  }
 },
 "nbformat": 4,
 "nbformat_minor": 4
}
