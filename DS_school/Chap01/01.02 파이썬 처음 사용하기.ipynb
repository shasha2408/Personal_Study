{
 "cells": [
  {
   "cell_type": "markdown",
   "metadata": {
    "school_cell_uuid": "186a0c4c7a91493fa95a588ad1750b32"
   },
   "source": [
    "# 1.2 파이썬 처음 사용하기"
   ]
  },
  {
   "cell_type": "markdown",
   "metadata": {
    "school_cell_uuid": "f26a1efb3b204da88448226f1645e241"
   },
   "source": [
    "파이썬을 설치하였으면 이제부터 실제로 사용해보자. 파이썬은 다음과 같이 두 가지 방법으로 사용할 수 있다.\n",
    "\n",
    "1. 콘솔이나 주피터 노트북을 사용한 REPL(Read–Eval–Print Loop) 방식\n",
    "2. 스크립트(script) 실행 방식"
   ]
  },
  {
   "cell_type": "markdown",
   "metadata": {
    "school_cell_uuid": "ee83b9d690b041ff9d2d0f76c0dfe91b"
   },
   "source": [
    "## REPL(Read–Eval–Print Loop) 방식"
   ]
  },
  {
   "cell_type": "markdown",
   "metadata": {},
   "source": [
    "```{margin}\n",
    "REPL\n",
    "```"
   ]
  },
  {
   "cell_type": "markdown",
   "metadata": {
    "school_cell_uuid": "df4d9752c44b43e99af0003ba3834ee2"
   },
   "source": [
    "REPL(Read–Eval–Print Loop, '레플'이라고 읽는다) 방식은 주피터 노트북이나 파이썬(또는 IPython) 콘솔을 실행해서 명령어를 한 줄씩 입력하며 실행 상황을 지켜보는 방식이다. 파이썬 프로그래밍을 공부하거나 코드의 초기 버전을 제작할 때 유용한 방식이다. 이 책에서는 모든 코드를 REPL 방식으로 실행하면서 공부한다."
   ]
  },
  {
   "cell_type": "markdown",
   "metadata": {
    "school_cell_uuid": "ce3d79f2e82f4763aef8c0e01ebf2867"
   },
   "source": [
    "### 주피터 노트북 사용법"
   ]
  },
  {
   "cell_type": "markdown",
   "metadata": {
    "school_cell_uuid": "98719643ccde44099de11d0392b93f7c"
   },
   "source": [
    "앞절에서 설명한대로 주피터 노트북 서버를 실행한 후에 웹브라우저에 http://localhost:8888 주소를 입력하면 주피터 노트북 홈 화면이 나온다. 사용자의 홈 디렉터리에 있는 내용이 보여준다. 사용자마다 내용은 다를 것이다. 디렉터리를 클릭하면 해당 디렉터리로 이동한다."
   ]
  },
  {
   "cell_type": "markdown",
   "metadata": {},
   "source": [
    "![jupyter_notebook_1.png](figs/jupyter_notebook_1.png)"
   ]
  },
  {
   "cell_type": "markdown",
   "metadata": {
    "school_cell_uuid": "a80617570637400e88f469bbd4272b4e"
   },
   "source": [
    "홈 화면에서 오른쪽 위에 있는 <kbd>New</kbd> 버튼을 누르면 다음과 같이 실행할 수 있는 명령어 목록이 나온다."
   ]
  },
  {
   "cell_type": "markdown",
   "metadata": {
    "school_cell_uuid": "da808deae0c94a02a09f30e4dc26affc",
    "sidetitle": true
   },
   "source": [
    "![jupyter_notebook_2.png](figs/jupyter_notebook_2.png)"
   ]
  },
  {
   "cell_type": "markdown",
   "metadata": {
    "school_cell_uuid": "313d37e6406748f689876b37366e4abe"
   },
   "source": [
    "여기에서 ``Python 3``라고 되어 있는 명령을 선택하면 웹 브라우저의 새 탭에서 ``Untitled``란 이름으로 주피터 노트북이 실행된다."
   ]
  },
  {
   "cell_type": "markdown",
   "metadata": {
    "school_cell_uuid": "fd3ccc0b690543bbaa01e26969e46130",
    "sidetitle": true
   },
   "source": [
    "![jupyter_notebook_3.png](figs/jupyter_notebook_3.png)"
   ]
  },
  {
   "cell_type": "markdown",
   "metadata": {},
   "source": [
    "이렇게 노트북이 새로 만들어지면 원래의 홈 화면에는 다음과 같이 새로 만들어진 노트북이 표시된다. 이때 현재 가동 중인 노트북은 녹색 아이콘으로 표시되며 오른쪽에 녹색으로 Running이라는 글자가 표시된다."
   ]
  },
  {
   "cell_type": "markdown",
   "metadata": {
    "school_cell_uuid": "fd3ccc0b690543bbaa01e26969e46130",
    "sidetitle": true
   },
   "source": [
    "![jupyter_notebook_4.png](figs/jupyter_notebook_4.png)"
   ]
  },
  {
   "cell_type": "markdown",
   "metadata": {
    "school_cell_uuid": "6136c6d33cfa41c19c75f03cca85fa3b"
   },
   "source": [
    "새로 만든 Untitled 노트북을 마저 살펴보자. 노트북은 셀(cell)이라는 네모 칸들로 구성된다. 새로 만든 노트북에는 셀이 하나만 표시되어 있는데 이 셀에 파이썬 코드를 입력한다. 우선 다음과 같은 코드를 입력해보자.\n",
    "\n",
    "```\n",
    "  print(\"Hello\")\n",
    "```\n",
    "\n",
    "코드를 입력한 후에 <kbd>shift</kbd> + <kbd>Enter</kbd> 키를 누르면 현재 셀이 실행되며 결과가 출력된다. 또한, 다음 셀이 만들어지고 포커스는 다음 셀로 넘어간다. 실행된 셀의 프롬프트에는 실행 순서를 나타내는 번호가 붙는다.\n",
    "만일 <kbd>Enter</kbd> 키만 누르면 다음 줄로 넘어가기만 하고 코드가 실행되지는 않는다."
   ]
  },
  {
   "cell_type": "markdown",
   "metadata": {
    "school_cell_uuid": "e5bd723c30e84db99be0bb9885837d44"
   },
   "source": [
    "![jupyter_notebook_5.png](figs/jupyter_notebook_5.png)"
   ]
  },
  {
   "cell_type": "markdown",
   "metadata": {
    "school_cell_uuid": "fdf051bd208843faa559e91ebd676285"
   },
   "source": [
    "이제 다음과 같은 명령을 한 줄씩 입력해보자. 한 줄을 입력할 때마다 <kbd>shift</kbd>+<kbd>Enter</kbd> 키를 누르고 해당 명령이 실행되는 것을 살펴보자. 변수 ``x``에 1이라는 값을 넣고, 변수 ``y``에 2를 넣은 후 변수 ``z``에 변수 ``x``와  ``y`` 변숫값을 더해서 넣자.\n",
    "\n",
    "```\n",
    "x = 1\n",
    "```\n",
    "<kbd>shift</kbd>+<kbd>Enter</kbd>\n",
    "```\n",
    "x\n",
    "```\n",
    "<kbd>shift</kbd>+<kbd>Enter</kbd>\n",
    "```\n",
    "y = 2\n",
    "```\n",
    "<kbd>shift</kbd>+<kbd>Enter</kbd>\n",
    "```\n",
    "y\n",
    "```\n",
    "<kbd>shift</kbd>+<kbd>Enter</kbd>\n",
    "```\n",
    "z = x + y\n",
    "```\n",
    "<kbd>shift</kbd>+<kbd>Enter</kbd>\n",
    "```\n",
    "z\n",
    "```\n",
    "<kbd>shift</kbd>+<kbd>Enter</kbd>"
   ]
  },
  {
   "cell_type": "markdown",
   "metadata": {
    "school_cell_uuid": "7331fd62151e40bf990036cf4bf87c33"
   },
   "source": [
    "![jupyter_notebook_6.png](figs/jupyter_notebook_6.png)"
   ]
  },
  {
   "cell_type": "markdown",
   "metadata": {
    "school_cell_uuid": "5c92087ea8934710b08fad806b48793c"
   },
   "source": [
    "### 값과 변수의 표현"
   ]
  },
  {
   "cell_type": "markdown",
   "metadata": {},
   "source": [
    "```{margin}\n",
    "표현(representation)\n",
    "```"
   ]
  },
  {
   "cell_type": "markdown",
   "metadata": {
    "school_cell_uuid": "54a120da95e14817822a6c13e6fcf703"
   },
   "source": [
    "위의 코드에서 두 번째 명령으로 나오는 \n",
    "```\n",
    "x\n",
    "```\n",
    "는 변수 x 값을 표시하라는 뜻이다. 이때 표시되는 것을 그 값의 표현(representation)이라고 한다. 변수 이름을 입력했을 때 표현이 나오는 것은 REPL에서만 가능하고 이후에 설명할 스크립트 실행시에는 표시되지 않는다."
   ]
  },
  {
   "cell_type": "markdown",
   "metadata": {
    "school_cell_uuid": "30d142f63e8d4b379d5b10116e1687ec"
   },
   "source": [
    "이 방식이 REPL이라고 불리우는 것은 이렇게 명령을 하나 하나 입력하고(Read) 실행하면서(Evaluate) 변수의 값을 출력하여(Print) 살펴보는 것을 반복(Loop)하면서 코드를 만들기 때문이다."
   ]
  },
  {
   "cell_type": "markdown",
   "metadata": {
    "school_cell_uuid": "252173575ebd496dbec7f69e87c90b55"
   },
   "source": [
    "물론 위 명령을 셀 하나에 넣고 한꺼번에 실행할 수도 있다. 다만 변수 이름을 지정해서 변숫값을 살펴보는 것은 셀의 마지막 행(line)에서만 가능하다. 즉 아래 그림의 8번 셀에서 중간에 있는 ``x`` 등은 아무런 의미가 없으므로 8번 셀의 코드는 실제로 9번 셀과 같다."
   ]
  },
  {
   "cell_type": "markdown",
   "metadata": {
    "school_cell_uuid": "223c4eecf9474c2fa317ddc7009c61c0"
   },
   "source": [
    "![jupyter_notebook_7.png](figs/jupyter_notebook_7.png)"
   ]
  },
  {
   "cell_type": "markdown",
   "metadata": {
    "school_cell_uuid": "30a0506ca97a48a0bdc992e943d877a3"
   },
   "source": [
    "노트북 사용이 끝나면 ``File`` > ``Rename`` 명령을 실행하여 노트북의 이름을 ``Untitled``가 아닌 다른 이름으로 바꾼 뒤, ``File`` > ``Close and Halt`` 명령으로 파이썬 탭을 닫는다. 이 명령을 사용하지 않고 그냥 웹 브라우저를 닫으면 파이썬 콘솔이 배경에서 계속 실행된다. 반드시 ``Close and Halt`` 명령을 사용해 닫자."
   ]
  },
  {
   "cell_type": "markdown",
   "metadata": {
    "school_cell_uuid": "223c4eecf9474c2fa317ddc7009c61c0"
   },
   "source": [
    "![jupyter_notebook_8.png](figs/jupyter_notebook_8.png)"
   ]
  },
  {
   "cell_type": "markdown",
   "metadata": {
    "school_cell_uuid": "eddae678fb844ae49ceeedce4a767653"
   },
   "source": [
    "## 스크립트 실행 방식"
   ]
  },
  {
   "cell_type": "markdown",
   "metadata": {},
   "source": [
    "```{margin}\n",
    "스크립트(script)\n",
    "```"
   ]
  },
  {
   "cell_type": "markdown",
   "metadata": {
    "school_cell_uuid": "2d1588e5f2574db0b77d7d7bbd2b3f1e"
   },
   "source": [
    "코드를 모두 완성한 후 전체 코드를 한 번에 실행하고 싶을 때는 코드를 ``.py`` 확장자 파일로 만든다. 이렇게 만든 코드 파일을 스크립트(script)라고 한다. 스크립트는 주피터 노트북이나 아이파이썬(IPython) 콘솔을 실행하지 않고 터미널에서 직접 실행할 수 있다.\n",
    "\n",
    "다만 스크립트에서는 변수 이름만 입력해서 변수의 값, 즉 표현(representation)이 표시되게 하는 것은 불가능하므로 화면에 무언가를 표시하려면 반드시 명시적으로 `print` 명령을 사용해야 한다."
   ]
  },
  {
   "cell_type": "markdown",
   "metadata": {
    "school_cell_uuid": "16f85606debf409082092d1dfc27048f"
   },
   "source": [
    "간단한 스크립트를 하나 만들어보자. 홈 화면의 오른쪽 위에 있는 <New> 버튼에서 [Text File]을 실행하여 파일 입력 탭을 생성한다. "
   ]
  },
  {
   "cell_type": "markdown",
   "metadata": {
    "school_cell_uuid": "223c4eecf9474c2fa317ddc7009c61c0"
   },
   "source": [
    "![jupyter_notebook_9.png](figs/jupyter_notebook_9.png)"
   ]
  },
  {
   "cell_type": "markdown",
   "metadata": {},
   "source": [
    "[File → Rename] 명령을 선택하여 노트북의 이름을 test.py로 변경한다. "
   ]
  },
  {
   "cell_type": "markdown",
   "metadata": {
    "school_cell_uuid": "223c4eecf9474c2fa317ddc7009c61c0"
   },
   "source": [
    "![jupyter_notebook_10.png](figs/jupyter_notebook_10.png)"
   ]
  },
  {
   "cell_type": "markdown",
   "metadata": {},
   "source": [
    "다음 그림과 같이 코드를 타이핑한다."
   ]
  },
  {
   "cell_type": "markdown",
   "metadata": {
    "school_cell_uuid": "223c4eecf9474c2fa317ddc7009c61c0"
   },
   "source": [
    "![jupyter_notebook_12.png](figs/jupyter_notebook_12.png)"
   ]
  },
  {
   "cell_type": "markdown",
   "metadata": {},
   "source": [
    " [File → Save] 명령을 선택하여 저장한다. "
   ]
  },
  {
   "cell_type": "markdown",
   "metadata": {
    "school_cell_uuid": "223c4eecf9474c2fa317ddc7009c61c0"
   },
   "source": [
    "![jupyter_notebook_13.png](figs/jupyter_notebook_13.png)"
   ]
  },
  {
   "cell_type": "markdown",
   "metadata": {
    "school_cell_uuid": "503c74b92eb34d4ca871673b589c6e34"
   },
   "source": [
    "스크립트 방식은 애플리케이션(application)이나 반복하여 실행해야 하는 코드를 만들 때 주로 사용된다.\n",
    "\n",
    "이제 터미널을 열고 test.py가 저장된 폴더로 이동한 후 다음 명령을 입력한 후 엔터를 치자. 윈도우라면 아나콘다 프롬프트를 실행하여 터미널을 연다. 파이썬 스크립트가 실행되고 결과가 출력되는 것을 볼 수 있다.\n",
    "\n",
    "```\n",
    "$ python test.py\n",
    "```\n",
    "\n",
    "실행 결과는 다음과 같다.\n",
    "\n",
    "```\n",
    "$ python test.py\n",
    "1\n",
    "2\n",
    "3\n",
    "```\n"
   ]
  }
 ],
 "metadata": {
  "celltoolbar": "Edit Metadata",
  "kernelspec": {
   "display_name": "Python 3",
   "language": "python",
   "name": "python3"
  },
  "language_info": {
   "codemirror_mode": {
    "name": "ipython",
    "version": 3
   },
   "file_extension": ".py",
   "mimetype": "text/x-python",
   "name": "python",
   "nbconvert_exporter": "python",
   "pygments_lexer": "ipython3",
   "version": "3.8.3"
  }
 },
 "nbformat": 4,
 "nbformat_minor": 4
}
