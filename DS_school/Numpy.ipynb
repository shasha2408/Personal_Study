{
 "cells": [
  {
   "cell_type": "markdown",
   "id": "6081dc82",
   "metadata": {},
   "source": [
    "#### Chap3.1 : 넘파이 배열 \n",
    "\n",
    "많은 숫자 데이터를 하나의 변수에 넣고 관리 할 떄 리스트는 속도가 느리고 메모리를 많이 차지하는 단점이 있다. 배열을 사용하면 적은 메모리로 많은 데이터를 빠르게 처리할 수 있다. 배열은 리스트와 비슷하지만 다음과 같은 점에서 다르다.   \n",
    "\n",
    "1. 모든 원소가 같은 자료형이어야 한다.\n",
    "2. 원소의 갯수를 바꿀 수 없다. \n",
    "  \n",
    "파이썬은 자체적으로 배열 자료형을 제공하지 않는다 따라서 배열을 구현한 다른 패키지를 임포트해야 한다. 파이썬에서 배열을 사용하기 위한 표준 패키지는 Numpy이다. 넘파이는 수치해석용 파이썬 패키지로 벡터와 행렬을 사용하는 선형대수 계산에 주로 사용된다. \n",
    "\n",
    "\n",
    "##### 벡터화 연산 \n",
    "배열 객체는 배열의 각 원소에 대한 반복 연산을 하나의 명령어로 처리하는 벡터화 연산을 지원한다. \n",
    "\n",
    "#### 2차원 배열 \n",
    "ndarray는 N-dimensional Array의 약자이다. 이름 그대로 1차원 배열 이외에도 2차원 배열, 3차원 배열 등의 다차원 배열 자료구조를 지원한다. 2차원 배열은 행렬이라고 하는데 행렬에서는 가로줄을 행이라고 하고 세로줄을 열이라고 부른다. "
   ]
  },
  {
   "cell_type": "code",
   "execution_count": 3,
   "id": "7e085185",
   "metadata": {},
   "outputs": [
    {
     "data": {
      "text/plain": [
       "array([[10, 20, 30, 40],\n",
       "       [50, 60, 70, 80]])"
      ]
     },
     "execution_count": 3,
     "metadata": {},
     "output_type": "execute_result"
    }
   ],
   "source": [
    "# Problem 3.1.1\n",
    "import numpy as np \n",
    "\n",
    "ans1 = np.array([[10, 20, 30, 40], [50, 60, 70, 80]])\n",
    "ans1"
   ]
  },
  {
   "cell_type": "raw",
   "id": "52fedab7",
   "metadata": {},
   "source": [
    "# 배열생성 \n",
    "np.array([v1, v2, v3])\n",
    "\n",
    "# 행렬생성\n",
    "np.array([[v1, v2, v3], [v4, v5 v6]) -> matrix (2 X 3) 행렬생성 \n",
    "\n",
    "# 배열의 차원과 크기 확인\n",
    "a.dim\n",
    "a.shape"
   ]
  },
  {
   "cell_type": "code",
   "execution_count": 14,
   "id": "e7e2ab44",
   "metadata": {},
   "outputs": [
    {
     "name": "stdout",
     "output_type": "stream",
     "text": [
      "7 14 [6 7] [ 7 12] [[3 4]\n",
      " [8 9]]\n"
     ]
    }
   ],
   "source": [
    "# Problem 3.1.2 \n",
    "\n",
    "m = np.array([[ 0,  1,  2,  3,  4],\n",
    "            [ 5,  6,  7,  8,  9],\n",
    "            [10, 11, 12, 13, 14]])\n",
    "\n",
    "ans1 = m[1,2]\n",
    "ans2 = m[-1, -1]\n",
    "ans3 = m[1, 1:3]\n",
    "ans4 = m[1:3, 2]\n",
    "ans5 = m[:2, 3:]\n",
    "print(ans1, ans2, ans3, ans4, ans5)"
   ]
  },
  {
   "cell_type": "code",
   "execution_count": 15,
   "id": "d206741d",
   "metadata": {},
   "outputs": [
    {
     "name": "stdout",
     "output_type": "stream",
     "text": [
      "[ 3  6  9 12 15 18] [ 1  5  9 13 17] [9]\n"
     ]
    }
   ],
   "source": [
    "# Problem 3.1.3\n",
    "\n",
    "x = np.array([1, 2, 3, 4, 5, 6, 7, 8, 9, 10,\n",
    "             11, 12, 13, 14, 15, 16, 17, 18, 19, 20])\n",
    "ans1 = x[x % 3 == 0]\n",
    "ans2 = x[x % 4 == 1]\n",
    "ans3 = x[(x % 3 == 0) & (x % 4 == 1)]\n",
    "print(ans1, ans2, ans3)"
   ]
  },
  {
   "cell_type": "markdown",
   "id": "ca0c092a",
   "metadata": {},
   "source": [
    "#### Chap3.2 : 배열의 생성과 변형 \n",
    "\n",
    "##### 넘파이의 자료형\n",
    "넘파이의 배열 즉, ndarray클래스는 원소가 모두 같은 자료형이어야 한다. array 명령으로 배열을 만들 때 자료형을 명시적으로 적용하려면 dtype 인수를 사용한다. 만약 dtype 인수가 없으면 주어진 데이터를 저장할 수 있는 자료형을 스스로 유추한다. "
   ]
  },
  {
   "cell_type": "raw",
   "id": "da58b305",
   "metadata": {},
   "source": [
    "x = np.array([1,2,3], dtype = 'f') -> 배열 원소의 자료형을 직접 지정할 수 있다."
   ]
  },
  {
   "cell_type": "markdown",
   "id": "5fe5d7d6",
   "metadata": {},
   "source": [
    "##### 배열생성 \n",
    "\n",
    "- np.zeros(n) : 크기가 정해져 있고 무든 값이 0인 배열을 생성하려면 zeros명령을 사용한다. \n",
    "- np.ones(n) : 0이 아닌 1로 초기화 된 배열을 생성하려면 ones명령을 사용한다. \n",
    "- np.ones_like(array, dtype = ' ') or np.zeros_like(array, dtype = ' ') : 만약 크기를 튜플로 명시하지 않고 다른 배열과 같은 크기의 배열을 생성할 경우 \n",
    "- np.empty : 배열의 크기가 커지면 배열을 초기화 하는데도 시간이 걸린다. 이 시간을 단축하려면 배열을 생성만 하고 특정한 값으로 초기화를 하지 않는 empty 명령을 사용할 수 있다. empty 명령으로 생성된 배열에는 기존에 메모리에 저장되어 있던 값이 있으므로 배열의 원소의 값을 미리 알 수 없다. \n",
    "- np.arrange() : python의 range()명령, R의 seq()명령과 동일한 작업을 수행한다. \n",
    "- np.linspace(0, 100, 5) : 선형 구간 혹은 로그구간을 지정한 수만큼 분할한다.\n",
    "- np.logspace(0, 100, 5) "
   ]
  },
  {
   "cell_type": "markdown",
   "id": "1a44c346",
   "metadata": {},
   "source": [
    "##### 배열 수정 \n",
    "- A.T : 전치 연산 \n",
    "- A.reshape((n1, n2)) : 1차원 행렬을 n1, n2형태의 2차원 행렬로 만들 수 있다.\n",
    "- A.flatten() A.ravel() : 다차원 배열을 1차원 배열로 만든다. \n",
    "- np.hstack([m1, m2]) : m1, m2를 행방향으로 연결한다.\n",
    "- np.vstack([m1, m2]) : m1, m2를 열방향으로 연결한다.\n",
    "- np.dstack([m1, m2]) : m1, m2를 차원을 추가로 생성한다 "
   ]
  },
  {
   "cell_type": "code",
   "execution_count": 10,
   "id": "8f1a813d",
   "metadata": {},
   "outputs": [
    {
     "data": {
      "text/plain": [
       "array([[  0.,   0.,   0.,   1.,   1.],\n",
       "       [  0.,   0.,   0.,   1.,   1.],\n",
       "       [  0.,   0.,   0.,   1.,   1.],\n",
       "       [ 10.,  20.,  30.,  40.,  50.],\n",
       "       [ 60.,  70.,  80.,  90., 100.],\n",
       "       [110., 120., 130., 140., 150.],\n",
       "       [  0.,   0.,   0.,   1.,   1.],\n",
       "       [  0.,   0.,   0.,   1.,   1.],\n",
       "       [  0.,   0.,   0.,   1.,   1.],\n",
       "       [ 10.,  20.,  30.,  40.,  50.],\n",
       "       [ 60.,  70.,  80.,  90., 100.],\n",
       "       [110., 120., 130., 140., 150.]])"
      ]
     },
     "execution_count": 10,
     "metadata": {},
     "output_type": "execute_result"
    }
   ],
   "source": [
    "# Problem 3.2.1\n",
    "\n",
    "m1 = np.zeros((3,3)) \n",
    "m2 = np.ones((3,2)) \n",
    "m3 = np.array([1, 2, 3, 4, 5, 6, 7, 8, 9, 10, 11, 12, 13, 14, 15])*10\n",
    "m3 = m3.reshape(3, -1)\n",
    "\n",
    "a1 = np.hstack([m1, m2])\n",
    "a2 = np.vstack([a1, m3])\n",
    "np.tile(a2, (2, 1))"
   ]
  },
  {
   "cell_type": "markdown",
   "id": "b9de73bc",
   "metadata": {},
   "source": [
    "##### 2차원 그리드 생성\n",
    "변수가 2개인 2차원 함수의 그래프를 그리거나 표를 작성하려면 ㅈ차원 영역에 대한 (x, y)좌표값 쌍 즉, 그리드 포인드(grid point)를 생성하여 각 좌표에 대한 함수값을 계산해야 한다. 예를ㄷ 들어 x, y라는 두변수를 가진 함수에서 x가 0부터 2까지, y가 0부터 4까지의 사각형 영역에서 변화하는 과적을 보고 싶다면 이 사각형 영역 안의 다음과 같은 그리드 포인트 들에 대해 함수를 계산해야 한다. "
   ]
  },
  {
   "cell_type": "markdown",
   "id": "97948ad3",
   "metadata": {},
   "source": [
    "#### Chap3.3 : 배열의 연산"
   ]
  },
  {
   "cell_type": "code",
   "execution_count": 13,
   "id": "62f9ac89",
   "metadata": {},
   "outputs": [
    {
     "name": "stdout",
     "output_type": "stream",
     "text": [
      "29 435 [ 15  51  87 123 159] [ 2.5  8.5 14.5 20.5 26.5] [ 0  6 12 18 24]\n"
     ]
    }
   ],
   "source": [
    "# Problem 3.3.1 \n",
    "X = np.array([range(30)]).reshape(5, -1)\n",
    "\n",
    "ans1 = np.max(X)\n",
    "ans2 = np.sum(X)\n",
    "ans3 = X.sum(axis = 1)\n",
    "ans4 = X.mean(axis = 1)\n",
    "ans5 = X.min(axis = 1)\n",
    "print(ans1, ans2, ans3, ans4, ans5)"
   ]
  },
  {
   "cell_type": "code",
   "execution_count": 17,
   "id": "29bcc5ed",
   "metadata": {},
   "outputs": [
    {
     "data": {
      "text/plain": [
       "array([[  1,   4,   2,   3],\n",
       "       [ 46,  71,  99, 100],\n",
       "       [ 81, 100,  59,  90]])"
      ]
     },
     "execution_count": 17,
     "metadata": {},
     "output_type": "execute_result"
    }
   ],
   "source": [
    "# Problem 3.3.2\n",
    "a = np.array([[  1,    2,    3,    4],\n",
    "       [ 46,   99,  100,   71],\n",
    "       [ 81,   59,   90,  100]])\n",
    "\n",
    "j = np.argsort(a[1, :])\n",
    "a[:,j]"
   ]
  },
  {
   "cell_type": "markdown",
   "id": "9ecfd56c",
   "metadata": {},
   "source": [
    "#### Chap3.4 : 기술통계  "
   ]
  },
  {
   "cell_type": "markdown",
   "id": "0800e863",
   "metadata": {},
   "source": [
    "#### Chap3.5 : 난수 발생과 카운팅 "
   ]
  }
 ],
 "metadata": {
  "kernelspec": {
   "display_name": "Python 3",
   "language": "python",
   "name": "python3"
  },
  "language_info": {
   "codemirror_mode": {
    "name": "ipython",
    "version": 3
   },
   "file_extension": ".py",
   "mimetype": "text/x-python",
   "name": "python",
   "nbconvert_exporter": "python",
   "pygments_lexer": "ipython3",
   "version": "3.8.8"
  },
  "toc": {
   "base_numbering": 1,
   "nav_menu": {},
   "number_sections": true,
   "sideBar": true,
   "skip_h1_title": false,
   "title_cell": "Table of Contents",
   "title_sidebar": "Contents",
   "toc_cell": false,
   "toc_position": {},
   "toc_section_display": true,
   "toc_window_display": true
  },
  "varInspector": {
   "cols": {
    "lenName": 16,
    "lenType": 16,
    "lenVar": 40
   },
   "kernels_config": {
    "python": {
     "delete_cmd_postfix": "",
     "delete_cmd_prefix": "del ",
     "library": "var_list.py",
     "varRefreshCmd": "print(var_dic_list())"
    },
    "r": {
     "delete_cmd_postfix": ") ",
     "delete_cmd_prefix": "rm(",
     "library": "var_list.r",
     "varRefreshCmd": "cat(var_dic_list()) "
    }
   },
   "types_to_exclude": [
    "module",
    "function",
    "builtin_function_or_method",
    "instance",
    "_Feature"
   ],
   "window_display": false
  }
 },
 "nbformat": 4,
 "nbformat_minor": 5
}
