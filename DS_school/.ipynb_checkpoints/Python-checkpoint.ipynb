{
 "cells": [
  {
   "cell_type": "markdown",
   "id": "5e112d3d",
   "metadata": {},
   "source": [
    "#### Chap2.1 : 파이썬을 계산기로 사용하기"
   ]
  },
  {
   "cell_type": "code",
   "execution_count": 3,
   "id": "55121269",
   "metadata": {},
   "outputs": [
    {
     "name": "stdout",
     "output_type": "stream",
     "text": [
      "4.0 67.0 38998.0 60\n"
     ]
    }
   ],
   "source": [
    "# Problem 2.1.1\n",
    "ans1 = 3 * 2 - 8 / 4\n",
    "ans2 = 25 * 6 / 3 + 17\n",
    "ans3 = 39021 - 276920 / 12040\n",
    "ans4 = 2**6 - 10 % 6\n",
    "print(ans1, ans2, ans3, ans4)"
   ]
  },
  {
   "cell_type": "code",
   "execution_count": 4,
   "id": "c862c166",
   "metadata": {},
   "outputs": [
    {
     "name": "stdout",
     "output_type": "stream",
     "text": [
      "-24 50.0 28580.0 16\n"
     ]
    }
   ],
   "source": [
    "# Problem 2.1.2\n",
    "ans1 = 12 - (5 * 7 + 1)\n",
    "ans2 = 5 * (8 + (10 - 6) / 2)\n",
    "ans3 = 48320 - ((365 - 5 * 9) / 16) * 987\n",
    "ans4 = ((3**4 - 3 * 7) % 5 + 4)**2\n",
    "print(ans1, ans2, ans3, ans4)"
   ]
  },
  {
   "cell_type": "code",
   "execution_count": 6,
   "id": "edc08e32",
   "metadata": {},
   "outputs": [
    {
     "name": "stdout",
     "output_type": "stream",
     "text": [
      "[True, True, True] [False, False, False]\n"
     ]
    }
   ],
   "source": [
    "# Problem 2.1.3\n",
    "ans1 = [3 == 3, 1.0 == 1.0, 2-1 == 1]\n",
    "ans2 = [3 != 3, 1.0 == 1.0001, 2-1 == 0]\n",
    "print(ans1, ans2)"
   ]
  },
  {
   "cell_type": "code",
   "execution_count": 7,
   "id": "9329b952",
   "metadata": {},
   "outputs": [
    {
     "name": "stdout",
     "output_type": "stream",
     "text": [
      "False True True\n"
     ]
    }
   ],
   "source": [
    "# Problem 2.1.4\n",
    "ans1 = (5 <= 6) & (3 == 4)\n",
    "ans2 = (2 != 1) | (3 >= 4)\n",
    "ans3 = (5 <= 6) & ((0 == 0) | (3 < 4))\n",
    "print(ans1, ans2, ans3)"
   ]
  },
  {
   "cell_type": "code",
   "execution_count": 9,
   "id": "d0a24857",
   "metadata": {},
   "outputs": [
    {
     "name": "stdout",
     "output_type": "stream",
     "text": [
      "2 13 True\n"
     ]
    }
   ],
   "source": [
    "# Problem 2.1.5\n",
    "x, y, z, i, j, k = [1, 2, 3, 4, 5, 6]\n",
    "\n",
    "ans1 = (2 * x - 1)**2 + 1\n",
    "ans2 = (x ** (2 * y))*(z + 10)\n",
    "ans3 = ((j == 0) & (0 < k)) | (i <= 100)\n",
    "\n",
    "print(ans1, ans2, ans3)"
   ]
  },
  {
   "cell_type": "markdown",
   "id": "c86166a7",
   "metadata": {},
   "source": [
    "#### Chap2.2 : 부동소수점 실수 자료형"
   ]
  },
  {
   "cell_type": "code",
   "execution_count": 11,
   "id": "6a93c30b",
   "metadata": {},
   "outputs": [
    {
     "name": "stdout",
     "output_type": "stream",
     "text": [
      "500000000.0 5600.0 -210.0 -0.34\n"
     ]
    }
   ],
   "source": [
    "# Problem 2.2.1\n",
    "ans1 = 5e8\n",
    "ans2 = 5.6e3\n",
    "ans3 = -2.1e2\n",
    "ans4 = -3.4e-1\n",
    "print(ans1, ans2, ans3, ans4)"
   ]
  },
  {
   "cell_type": "code",
   "execution_count": 13,
   "id": "d360b2dd",
   "metadata": {},
   "outputs": [
    {
     "name": "stdout",
     "output_type": "stream",
     "text": [
      "3.141592 2.718 1.4 1.73\n"
     ]
    }
   ],
   "source": [
    "# Problem 2.2.2\n",
    "ans1 = 3141592e-6\n",
    "ans2 = 2718e-3\n",
    "ans3 = 14e-1\n",
    "ans4 = 173e-2\n",
    "print(ans1, ans2, ans3, ans4)"
   ]
  },
  {
   "cell_type": "code",
   "execution_count": 1,
   "id": "e01639f9",
   "metadata": {},
   "outputs": [
    {
     "name": "stdout",
     "output_type": "stream",
     "text": [
      "1234 1010 3.14 0.023\n"
     ]
    }
   ],
   "source": [
    "# Problem 2.2.3 \n",
    "ans1 = 1 * 10**3 + 2 * 10**2 + 3 * 10**1 + 4\n",
    "ans2 = 1 * 10**3 + 0 * 10**2 + 1 * 10**1 + 0\n",
    "ans3 = 3 * 10**0 + 1 * 10**(-1) + 4 * 10**(-2)\n",
    "ans4 = 0 * 10**0 + 0 * 10**(-1) + 2 * 10**(-2) + 3 * 10**(-3) \n",
    "\n",
    "print(ans1, ans2, ans3, ans4)"
   ]
  },
  {
   "cell_type": "code",
   "execution_count": 5,
   "id": "a053d698",
   "metadata": {},
   "outputs": [
    {
     "name": "stdout",
     "output_type": "stream",
     "text": [
      "0b1101 0b10000001\n"
     ]
    }
   ],
   "source": [
    "# Problem 2.2.4\n",
    "ans1 = bin(13)\n",
    "ans2 = bin(129)\n",
    "print(ans1, ans2)"
   ]
  },
  {
   "cell_type": "markdown",
   "id": "0dd005e4",
   "metadata": {},
   "source": [
    "#### Chap2.3 : 파이썬으로 글자를 출력하기"
   ]
  },
  {
   "cell_type": "code",
   "execution_count": 11,
   "id": "71879025",
   "metadata": {},
   "outputs": [
    {
     "name": "stdout",
     "output_type": "stream",
     "text": [
      "\n",
      "Beautiful is better than ugly.\n",
      "Explicit is better than implicit.\n",
      "Simple is better than complex.\n",
      "Complex is better than complicated.\n",
      "Flat is better than nested.\n",
      "Sparse is better than dense.\n",
      "\n",
      "@@@@@\n",
      "@   @\n",
      "@   @\n",
      "@   @\n",
      "@@@@@\n"
     ]
    }
   ],
   "source": [
    "# Problem 2.3.1\n",
    "ans1 = \"\"\"\n",
    "Beautiful is better than ugly.\n",
    "Explicit is better than implicit.\n",
    "Simple is better than complex.\n",
    "Complex is better than complicated.\n",
    "Flat is better than nested.\n",
    "Sparse is better than dense.\n",
    "\"\"\"\n",
    "print(ans1)\n",
    "\n",
    "print(\"@\" * 5)\n",
    "print(\"@\" + \" \" * 3 + \"@\")\n",
    "print(\"@\" + \" \" * 3 + \"@\")\n",
    "print(\"@\" + \" \" * 3 + \"@\")\n",
    "print(\"@\" * 5)"
   ]
  },
  {
   "cell_type": "code",
   "execution_count": 8,
   "id": "08a919f0",
   "metadata": {},
   "outputs": [
    {
     "data": {
      "text/plain": [
       "'20201225'"
      ]
     },
     "execution_count": 8,
     "metadata": {},
     "output_type": "execute_result"
    }
   ],
   "source": [
    "# Problem 2.3.2\n",
    "string = \"2020-12-25\"\n",
    "string.replace(\"-\", \"\")"
   ]
  },
  {
   "cell_type": "markdown",
   "id": "28de2e43",
   "metadata": {},
   "source": [
    "#### Chap2.4 : 파이썬의 문자열 형식화\n",
    "\n",
    "##### %기호를 사용한 문자열 형식화   \n",
    "문자열 뒤에 % 기호를 붙이고 그뒤에 다른 값을 붙이면 뒤에 붙은 값이 문자열 안으로 들어간다.\n",
    "\n",
    "**<center> <\"문자열\" % 값>**\n",
    "    \n",
    "| 형식지정 문자열 | 의미 | \n",
    "| --- | --- |\n",
    "| %s | String |\n",
    "| %d | Integer | \n",
    "| %f | Floart | \n",
    "| %ns | 전체 n칸을 차지하는 문자열(공백이 앞에 위치한다) | \n",
    "| %-nd | 전체 n칸을 차지하는 숫자(공백이 뒤에 위치한다) |\n",
    "| %.nf | 부동소수점의 소수점 n자리까지 표시 | \n",
    "    \n",
    "    \n",
    "##### format method를 사용한 문자열 형식화\n",
    "format 메서드를 사용하여 문자열을 형식화하는 방법도 있다. 이 때는 % 기호로 시작하는 형식지정 문자열 대신 {} 기호를 사용한다. 또한 자료형을 표시할 필요가 없다. 문자열 내에서 { 문자를 출력하고 싶을 때는 {{라는 글자를 사용한다. {} 안에 값의 순서를 지정하는 숫자를 넣을 수도 있다. 가장 앞에 있는 값은 {0}, 그 뒤의 값은 {1}, 이런 식으로 지정한다. 이 방법을 사용하면 값의 순서를 바꾸거나 같은 값을 여러번 인쇄할 수도 있다."
   ]
  },
  {
   "cell_type": "code",
   "execution_count": 10,
   "id": "6b2d08bc",
   "metadata": {},
   "outputs": [
    {
     "name": "stdout",
     "output_type": "stream",
     "text": [
      "Tom is 13 years old\n",
      "10 / 3 = 3.333333\n"
     ]
    }
   ],
   "source": [
    "# Problem 2.4.1\n",
    "name = \"Tom\"\n",
    "age = 13 \n",
    "print(\"%s is %d years old\" % (name, age))\n",
    "\n",
    "a = 10\n",
    "b = 3\n",
    "print(\"%d / %d = %f\" %(a, b, a/b))"
   ]
  },
  {
   "cell_type": "code",
   "execution_count": 39,
   "id": "83c0e2e4",
   "metadata": {},
   "outputs": [
    {
     "name": "stdout",
     "output_type": "stream",
     "text": [
      "     3\n",
      "x   12\n",
      "-------\n",
      "    36\n",
      "\n",
      "    123456\n",
      "+     7890\n",
      "----------\n",
      "    131346\n"
     ]
    }
   ],
   "source": [
    "# Problem 2.4.2\n",
    "a = 3\n",
    "b = 12\n",
    "print(\"%6d\\nx%5d\\n-------\\n%6d\\n\" %(a,b, a*b))\n",
    "\n",
    "a = 123456\n",
    "b = 7890\n",
    "print(\"%10d\\n+%9d\\n----------\\n%10d\" %(a,b, a+b))"
   ]
  },
  {
   "cell_type": "markdown",
   "id": "6762f4d9",
   "metadata": {},
   "source": [
    "#### Chap2.5 : 파이썬 조건문 기초 "
   ]
  },
  {
   "cell_type": "code",
   "execution_count": 40,
   "id": "1be3cff1",
   "metadata": {},
   "outputs": [
    {
     "name": "stdout",
     "output_type": "stream",
     "text": [
      "2자리 수의 짝수가 아니다.\n"
     ]
    }
   ],
   "source": [
    "# Problem 2.5.1 \n",
    "a = 10 \n",
    "if (a>=10) & (b < 100) & (b % 2 == 0) : \n",
    "    print(\"2자리 수의 짝수이다.\")\n",
    "else : \n",
    "    print(\"2자리 수의 짝수가 아니다.\")"
   ]
  },
  {
   "cell_type": "code",
   "execution_count": 46,
   "id": "963a77a6",
   "metadata": {},
   "outputs": [
    {
     "name": "stdout",
     "output_type": "stream",
     "text": [
      "윤년이 아닙니다\n"
     ]
    }
   ],
   "source": [
    "# Problem 2.5.2\n",
    "year = 1900\n",
    "if (year % 4 == 0) & (year % 100 != 0) | (year % 400 == 0) :\n",
    "    print(\"윤년입니다.\")\n",
    "else : \n",
    "    print(\"윤년이 아닙니다\")"
   ]
  },
  {
   "cell_type": "code",
   "execution_count": 47,
   "id": "d9be1ed1",
   "metadata": {},
   "outputs": [
    {
     "name": "stdout",
     "output_type": "stream",
     "text": [
      "A\n"
     ]
    }
   ],
   "source": [
    "# Problem 2.5.3\n",
    "c = 10\n",
    "\n",
    "if c >= 8:\n",
    "    print(\"A\")\n",
    "elif c >= 5:\n",
    "    print(\"B\")\n",
    "else:\n",
    "    print(\"C\")\n"
   ]
  },
  {
   "cell_type": "code",
   "execution_count": 49,
   "id": "fdc4a9ea",
   "metadata": {},
   "outputs": [
    {
     "name": "stdout",
     "output_type": "stream",
     "text": [
      "3\n"
     ]
    }
   ],
   "source": [
    "# Problem 2.5.4\n",
    "weight = 5\n",
    "\n",
    "if weight > 10 : \n",
    "    print(1)\n",
    "elif weight > 7 : \n",
    "    print(2)\n",
    "elif weight > 4 : \n",
    "    print(3)\n",
    "else :\n",
    "    print(4)"
   ]
  },
  {
   "cell_type": "code",
   "execution_count": 52,
   "id": "38f92f13",
   "metadata": {},
   "outputs": [
    {
     "name": "stdout",
     "output_type": "stream",
     "text": [
      "0 10\n"
     ]
    }
   ],
   "source": [
    "# Problem 2.5.5\n",
    "XA = True\n",
    "XB = False\n",
    "\n",
    "if XA == True : \n",
    "    if XB == True  :\n",
    "        YA = 5\n",
    "        YB = 5\n",
    "    else : \n",
    "        YA = 0\n",
    "        YB = 10 \n",
    "else : \n",
    "    if XB == True : \n",
    "        YA = 10\n",
    "        YB = 0\n",
    "    else : \n",
    "        YA = 1\n",
    "        YB = 1\n",
    "print(YA, YB)"
   ]
  },
  {
   "cell_type": "markdown",
   "id": "00141053",
   "metadata": {},
   "source": [
    "#### Chap2.6 : 파이썬 함수"
   ]
  },
  {
   "cell_type": "code",
   "execution_count": 54,
   "id": "fb4da2a7",
   "metadata": {},
   "outputs": [
    {
     "name": "stdout",
     "output_type": "stream",
     "text": [
      "짝수 평년\n"
     ]
    }
   ],
   "source": [
    "# Problem 2.6.1\n",
    "def ans1(n) :\n",
    "    if n % 2 == 0 :\n",
    "        return \"짝수\"\n",
    "    else :\n",
    "        return \"홀수\"\n",
    "\n",
    "def ans2(year) : \n",
    "    if (year % 4 == 0) & (year % 100 != 0) | (year % 400 == 0) :\n",
    "        return \"윤년\"\n",
    "    else : \n",
    "        return \"평년\"\n",
    "    \n",
    "print(ans1(2), ans2(1900))"
   ]
  },
  {
   "cell_type": "code",
   "execution_count": 55,
   "id": "0e6c5cfd",
   "metadata": {},
   "outputs": [
    {
     "data": {
      "text/plain": [
       "30"
      ]
     },
     "execution_count": 55,
     "metadata": {},
     "output_type": "execute_result"
    }
   ],
   "source": [
    "# Problem 2.6.2\n",
    "def days1(month) : \n",
    "    if month in [1, 3, 5, 7, 8 ,10 ,12] :\n",
    "        return 31\n",
    "    elif month in [4, 6, 9, 11] : \n",
    "        return 30 \n",
    "    else : \n",
    "        return 28\n",
    "\n",
    "days1(11)"
   ]
  },
  {
   "cell_type": "code",
   "execution_count": 56,
   "id": "25629e6b",
   "metadata": {},
   "outputs": [
    {
     "data": {
      "text/plain": [
       "31"
      ]
     },
     "execution_count": 56,
     "metadata": {},
     "output_type": "execute_result"
    }
   ],
   "source": [
    "# Problem 2.6.3\n",
    "def days2(year, month)  :\n",
    "    if month in [1, 3, 5, 7, 8 ,10 ,12] :\n",
    "        return 31\n",
    "    elif month in [4, 6, 9, 11] : \n",
    "        return 30 \n",
    "    else : \n",
    "        return 28\n",
    "    \n",
    "days2(2015, 1)"
   ]
  },
  {
   "cell_type": "markdown",
   "id": "a8395a09",
   "metadata": {},
   "source": [
    "##### 람다함수 \n",
    "함수에 이름을 주지 않거나 코드를 짧게 줄여쓰는 방법으로 람다(lambda)함수라는 것이 있다. "
   ]
  },
  {
   "cell_type": "code",
   "execution_count": 57,
   "id": "c9e4f396",
   "metadata": {},
   "outputs": [
    {
     "data": {
      "text/plain": [
       "4"
      ]
     },
     "execution_count": 57,
     "metadata": {},
     "output_type": "execute_result"
    }
   ],
   "source": [
    "f = lambda x : 2*x\n",
    "f(2)"
   ]
  },
  {
   "cell_type": "markdown",
   "id": "387042fd",
   "metadata": {},
   "source": [
    "#### Chap2.7 :  파이썬 for 반복문 "
   ]
  },
  {
   "cell_type": "code",
   "execution_count": 58,
   "id": "35b57e6f",
   "metadata": {},
   "outputs": [
    {
     "name": "stdout",
     "output_type": "stream",
     "text": [
      "*\n",
      "**\n",
      "***\n",
      "****\n",
      "*****\n",
      "******\n",
      "*******\n",
      "********\n",
      "*********\n",
      "**********\n",
      "***********\n"
     ]
    }
   ],
   "source": [
    "# Problem 2.7.1\n",
    "for i in range(11) : \n",
    "    print('*' * (i+1))"
   ]
  },
  {
   "cell_type": "code",
   "execution_count": 59,
   "id": "23169610",
   "metadata": {},
   "outputs": [
    {
     "name": "stdout",
     "output_type": "stream",
     "text": [
      "***********\n",
      "**********\n",
      "*********\n",
      "********\n",
      "*******\n",
      "******\n",
      "*****\n",
      "****\n",
      "***\n",
      "**\n",
      "*\n"
     ]
    }
   ],
   "source": [
    "# Problem 2.7.2\n",
    "for i in range(11) : \n",
    "    print('*' * (11-i))"
   ]
  },
  {
   "cell_type": "code",
   "execution_count": 61,
   "id": "996fdf5a",
   "metadata": {},
   "outputs": [
    {
     "name": "stdout",
     "output_type": "stream",
     "text": [
      "*\n",
      "**\n",
      "***\n",
      "****\n",
      "*****\n",
      "******\n",
      "*******\n",
      "********\n",
      "*********\n",
      "**********\n",
      "***********\n",
      "*********\n",
      "********\n",
      "*******\n",
      "******\n",
      "*****\n",
      "****\n",
      "***\n",
      "**\n",
      "*\n"
     ]
    }
   ],
   "source": [
    "# Problem 2.7.2\n",
    "for i in range(20) : \n",
    "    if i < 11 : \n",
    "        print('*' * (i + 1))\n",
    "    else : \n",
    "        print('*' * (20-i))"
   ]
  },
  {
   "cell_type": "code",
   "execution_count": 76,
   "id": "5e95f44f",
   "metadata": {},
   "outputs": [
    {
     "name": "stdout",
     "output_type": "stream",
     "text": [
      "     *     \n",
      "    ***    \n",
      "   *****   \n",
      "  *******  \n",
      " ********* \n",
      "***********\n",
      " ********* \n",
      "  *******  \n",
      "   *****   \n",
      "    ***    \n",
      "     *     \n"
     ]
    }
   ],
   "source": [
    "# Problem 2.7.3\n",
    "for i in range(11) :\n",
    "    if i < 6 : \n",
    "        print(\" \" * (5-i) + \"*\" * (2 * i + 1) + \" \" * (5-i))\n",
    "    else : \n",
    "        print(\" \" * (i-5) + \"*\" * (2 * (10-i) + 1) + \" \" * (i-5))"
   ]
  },
  {
   "cell_type": "code",
   "execution_count": 79,
   "id": "d589549e",
   "metadata": {},
   "outputs": [
    {
     "name": "stdout",
     "output_type": "stream",
     "text": [
      "8192\n",
      "2048.0\n",
      "2048.0\n",
      "512.0\n",
      "2048.0\n",
      "512.0\n",
      "512.0\n",
      "128.0\n"
     ]
    }
   ],
   "source": [
    "# Problem 2.7.4\n",
    "\n",
    "for i in [2, 1/2]:\n",
    "    for j in [2, 1/2]:\n",
    "        for k in [2, 1/2]:\n",
    "            print(1024 * i * j * k)"
   ]
  },
  {
   "cell_type": "code",
   "execution_count": 82,
   "id": "a0da1a71",
   "metadata": {},
   "outputs": [
    {
     "data": {
      "text/plain": [
       "25"
      ]
     },
     "execution_count": 82,
     "metadata": {},
     "output_type": "execute_result"
    }
   ],
   "source": [
    "# Problem 2.7.5\n",
    "n = 4\n",
    "\n",
    "for i in range(n+1) : \n",
    "    res = 0\n",
    "    for j in range(i + 1) : \n",
    "        res += i + 1\n",
    "res"
   ]
  },
  {
   "cell_type": "markdown",
   "id": "bb282fe4",
   "metadata": {},
   "source": [
    "#### Chap2.8 : 여러개의 자료를 한 변수에 담기 "
   ]
  },
  {
   "cell_type": "markdown",
   "id": "4a93d3cc",
   "metadata": {},
   "source": [
    "#### Chap2.9 : 파이썬에서 리스트 자료형 다루기"
   ]
  },
  {
   "cell_type": "markdown",
   "id": "e07fb4b1",
   "metadata": {},
   "source": [
    "#### Chap2.10 : 리스트와 반복문을 사용하여 계산하기"
   ]
  },
  {
   "cell_type": "markdown",
   "id": "f8d2eb1e",
   "metadata": {},
   "source": [
    "#### Chap2.11 : 파이썬에서 딕셔너리 자료형 다루기 "
   ]
  },
  {
   "cell_type": "markdown",
   "id": "825c246e",
   "metadata": {},
   "source": [
    "#### Chap2.12 : 파이썬 객체지향 프로그래밍 "
   ]
  },
  {
   "cell_type": "markdown",
   "id": "4e7da093",
   "metadata": {},
   "source": [
    "#### Chap2.13 : 파이썬 패키지 사용하기"
   ]
  },
  {
   "cell_type": "markdown",
   "id": "be8070bb",
   "metadata": {},
   "source": [
    "#### Chap2.14 : 파이썬의 자료형 "
   ]
  },
  {
   "cell_type": "markdown",
   "id": "295043e8",
   "metadata": {},
   "source": [
    "#### Chap2.15 : 파이썬에서 날짜와 시간 다루기 "
   ]
  }
 ],
 "metadata": {
  "kernelspec": {
   "display_name": "Python 3",
   "language": "python",
   "name": "python3"
  },
  "language_info": {
   "codemirror_mode": {
    "name": "ipython",
    "version": 3
   },
   "file_extension": ".py",
   "mimetype": "text/x-python",
   "name": "python",
   "nbconvert_exporter": "python",
   "pygments_lexer": "ipython3",
   "version": "3.8.8"
  },
  "toc": {
   "base_numbering": 1,
   "nav_menu": {},
   "number_sections": true,
   "sideBar": true,
   "skip_h1_title": false,
   "title_cell": "Table of Contents",
   "title_sidebar": "Contents",
   "toc_cell": false,
   "toc_position": {},
   "toc_section_display": true,
   "toc_window_display": true
  },
  "varInspector": {
   "cols": {
    "lenName": 16,
    "lenType": 16,
    "lenVar": 40
   },
   "kernels_config": {
    "python": {
     "delete_cmd_postfix": "",
     "delete_cmd_prefix": "del ",
     "library": "var_list.py",
     "varRefreshCmd": "print(var_dic_list())"
    },
    "r": {
     "delete_cmd_postfix": ") ",
     "delete_cmd_prefix": "rm(",
     "library": "var_list.r",
     "varRefreshCmd": "cat(var_dic_list()) "
    }
   },
   "types_to_exclude": [
    "module",
    "function",
    "builtin_function_or_method",
    "instance",
    "_Feature"
   ],
   "window_display": false
  }
 },
 "nbformat": 4,
 "nbformat_minor": 5
}
