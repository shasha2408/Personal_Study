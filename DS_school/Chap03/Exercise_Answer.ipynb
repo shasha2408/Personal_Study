{
 "cells": [
  {
   "cell_type": "markdown",
   "id": "49f84fcf",
   "metadata": {},
   "source": [
    "# Chap3.1"
   ]
  },
  {
   "cell_type": "markdown",
   "id": "6165d56e",
   "metadata": {},
   "source": [
    "Exercise 3.1.1"
   ]
  },
  {
   "cell_type": "code",
   "execution_count": 6,
   "id": "6c56e214",
   "metadata": {},
   "outputs": [
    {
     "data": {
      "text/plain": [
       "array([[10, 20, 30, 40],\n",
       "       [50, 60, 70, 80]])"
      ]
     },
     "execution_count": 6,
     "metadata": {},
     "output_type": "execute_result"
    }
   ],
   "source": [
    "import numpy as np\n",
    "\n",
    "x = np.array([[10, 20, 30, 40], \n",
    "              [50, 60, 70, 80]])\n",
    "x"
   ]
  },
  {
   "cell_type": "markdown",
   "id": "0cee43ec",
   "metadata": {},
   "source": [
    "Exercise 3.1.2"
   ]
  },
  {
   "cell_type": "code",
   "execution_count": 8,
   "id": "f2d03971",
   "metadata": {},
   "outputs": [
    {
     "name": "stdout",
     "output_type": "stream",
     "text": [
      "2 (3, 5)\n"
     ]
    }
   ],
   "source": [
    "m = np.array([[0, 1, 2, 3, 4],\n",
    "              [5, 6, 7, 8, 9],\n",
    "              [10, 11, 12, 13, 14]])\n",
    "print(m.ndim, m.shape)"
   ]
  },
  {
   "cell_type": "code",
   "execution_count": 9,
   "id": "3dc0c612",
   "metadata": {},
   "outputs": [
    {
     "data": {
      "text/plain": [
       "7"
      ]
     },
     "execution_count": 9,
     "metadata": {},
     "output_type": "execute_result"
    }
   ],
   "source": [
    "#n1. \n",
    "m[1,2]"
   ]
  },
  {
   "cell_type": "code",
   "execution_count": 10,
   "id": "f2add78c",
   "metadata": {},
   "outputs": [
    {
     "data": {
      "text/plain": [
       "14"
      ]
     },
     "execution_count": 10,
     "metadata": {},
     "output_type": "execute_result"
    }
   ],
   "source": [
    "#n2.\n",
    "m[-1, -1]"
   ]
  },
  {
   "cell_type": "code",
   "execution_count": 13,
   "id": "15967f07",
   "metadata": {},
   "outputs": [
    {
     "data": {
      "text/plain": [
       "array([6, 7])"
      ]
     },
     "execution_count": 13,
     "metadata": {},
     "output_type": "execute_result"
    }
   ],
   "source": [
    "#n3.\n",
    "m[1, 1:3]"
   ]
  },
  {
   "cell_type": "code",
   "execution_count": 15,
   "id": "7e7808b6",
   "metadata": {},
   "outputs": [
    {
     "data": {
      "text/plain": [
       "array([ 7, 12])"
      ]
     },
     "execution_count": 15,
     "metadata": {},
     "output_type": "execute_result"
    }
   ],
   "source": [
    "#n4. \n",
    "m[1:, 2]"
   ]
  },
  {
   "cell_type": "code",
   "execution_count": 17,
   "id": "8ef9fcc3",
   "metadata": {},
   "outputs": [
    {
     "data": {
      "text/plain": [
       "array([[3, 4],\n",
       "       [8, 9]])"
      ]
     },
     "execution_count": 17,
     "metadata": {},
     "output_type": "execute_result"
    }
   ],
   "source": [
    "#n5. \n",
    "m[:2, 3:]"
   ]
  },
  {
   "cell_type": "markdown",
   "id": "695ef045",
   "metadata": {},
   "source": [
    "Exercise 3.1.3"
   ]
  },
  {
   "cell_type": "code",
   "execution_count": 18,
   "id": "76039eaa",
   "metadata": {},
   "outputs": [],
   "source": [
    "x = np.array([1, 2, 3, 4, 5, 6, 7, 8, 9, 10,\n",
    "             11, 12, 13, 14, 15, 16, 17, 18, 19, 20])"
   ]
  },
  {
   "cell_type": "code",
   "execution_count": 19,
   "id": "6c057859",
   "metadata": {},
   "outputs": [
    {
     "data": {
      "text/plain": [
       "array([ 3,  6,  9, 12, 15, 18])"
      ]
     },
     "execution_count": 19,
     "metadata": {},
     "output_type": "execute_result"
    }
   ],
   "source": [
    "#n1. \n",
    "x[x % 3 == 0]"
   ]
  },
  {
   "cell_type": "code",
   "execution_count": 20,
   "id": "2cef4b3b",
   "metadata": {},
   "outputs": [
    {
     "data": {
      "text/plain": [
       "array([ 1,  5,  9, 13, 17])"
      ]
     },
     "execution_count": 20,
     "metadata": {},
     "output_type": "execute_result"
    }
   ],
   "source": [
    "#n2. \n",
    "x[x % 4 == 1]"
   ]
  },
  {
   "cell_type": "code",
   "execution_count": 21,
   "id": "e5606c40",
   "metadata": {},
   "outputs": [
    {
     "data": {
      "text/plain": [
       "array([9])"
      ]
     },
     "execution_count": 21,
     "metadata": {},
     "output_type": "execute_result"
    }
   ],
   "source": [
    "#n3. \n",
    "x[(x % 3 == 0)&(x % 4 == 1)]"
   ]
  },
  {
   "cell_type": "markdown",
   "id": "991d5046",
   "metadata": {},
   "source": [
    "# Chap3.2"
   ]
  },
  {
   "cell_type": "markdown",
   "id": "18a586fd",
   "metadata": {},
   "source": [
    "Exercise 3.2.1"
   ]
  },
  {
   "cell_type": "code",
   "execution_count": 29,
   "id": "fc5d8bca",
   "metadata": {},
   "outputs": [
    {
     "data": {
      "text/plain": [
       "array([[0., 0., 0., 1., 1.],\n",
       "       [0., 0., 0., 1., 1.],\n",
       "       [0., 0., 0., 1., 1.]])"
      ]
     },
     "execution_count": 29,
     "metadata": {},
     "output_type": "execute_result"
    }
   ],
   "source": [
    "a1 = np.zeros((3,3))\n",
    "a2 = np.ones((3,2))\n",
    "a = np.hstack([a1, a2])\n",
    "a"
   ]
  },
  {
   "cell_type": "code",
   "execution_count": 40,
   "id": "1df1cbf2",
   "metadata": {},
   "outputs": [
    {
     "data": {
      "text/plain": [
       "array([[ 10,  20,  30,  40,  50],\n",
       "       [ 60,  70,  80,  90, 100],\n",
       "       [110, 120, 130, 140, 150]])"
      ]
     },
     "execution_count": 40,
     "metadata": {},
     "output_type": "execute_result"
    }
   ],
   "source": [
    "b = (np.arange(15)+1)*10\n",
    "b = b.reshape(3,5)\n",
    "b"
   ]
  },
  {
   "cell_type": "code",
   "execution_count": 52,
   "id": "e9db36fc",
   "metadata": {},
   "outputs": [
    {
     "data": {
      "text/plain": [
       "array([[  0.,   0.,   0.,   1.,   1.],\n",
       "       [  0.,   0.,   0.,   1.,   1.],\n",
       "       [  0.,   0.,   0.,   1.,   1.],\n",
       "       [ 10.,  20.,  30.,  40.,  50.],\n",
       "       [ 60.,  70.,  80.,  90., 100.],\n",
       "       [110., 120., 130., 140., 150.],\n",
       "       [  0.,   0.,   0.,   1.,   1.],\n",
       "       [  0.,   0.,   0.,   1.,   1.],\n",
       "       [  0.,   0.,   0.,   1.,   1.],\n",
       "       [ 10.,  20.,  30.,  40.,  50.],\n",
       "       [ 60.,  70.,  80.,  90., 100.],\n",
       "       [110., 120., 130., 140., 150.]])"
      ]
     },
     "execution_count": 52,
     "metadata": {},
     "output_type": "execute_result"
    }
   ],
   "source": [
    "c = np.vstack([a,b])\n",
    "c = np.vstack([c,c])\n",
    "c"
   ]
  },
  {
   "cell_type": "markdown",
   "id": "dba0f944",
   "metadata": {},
   "source": [
    "Exercise 3.2.2"
   ]
  },
  {
   "cell_type": "code",
   "execution_count": 59,
   "id": "83f5c023",
   "metadata": {},
   "outputs": [
    {
     "data": {
      "text/plain": [
       "array([[77, 88, 88, 41,  7, 60],\n",
       "       [86, 31, 48, 34, 55, 29],\n",
       "       [16, 93, 79,  3, 84, 47],\n",
       "       [77, 44, 59, 51,  0, 86],\n",
       "       [ 9,  5, 14, 60,  1, 92]])"
      ]
     },
     "execution_count": 59,
     "metadata": {},
     "output_type": "execute_result"
    }
   ],
   "source": [
    "x = np.random.randint(100, size = 30)\n",
    "x = x.reshape(5,6)\n",
    "x"
   ]
  },
  {
   "cell_type": "code",
   "execution_count": 61,
   "id": "2e0d2b36",
   "metadata": {},
   "outputs": [
    {
     "data": {
      "text/plain": [
       "0"
      ]
     },
     "execution_count": 61,
     "metadata": {},
     "output_type": "execute_result"
    }
   ],
   "source": [
    "#n1.\n",
    "x.min()"
   ]
  },
  {
   "cell_type": "code",
   "execution_count": 62,
   "id": "519b9c5e",
   "metadata": {},
   "outputs": [
    {
     "data": {
      "text/plain": [
       "array([361, 283, 322, 317, 181])"
      ]
     },
     "execution_count": 62,
     "metadata": {},
     "output_type": "execute_result"
    }
   ],
   "source": [
    "#n2.\n",
    "x.sum(axis = 1)"
   ]
  },
  {
   "cell_type": "code",
   "execution_count": 63,
   "id": "59025c20",
   "metadata": {},
   "outputs": [
    {
     "data": {
      "text/plain": [
       "array([88, 86, 93, 86, 92])"
      ]
     },
     "execution_count": 63,
     "metadata": {},
     "output_type": "execute_result"
    }
   ],
   "source": [
    "#n3. \n",
    "x.max(axis = 1)"
   ]
  },
  {
   "cell_type": "code",
   "execution_count": 64,
   "id": "71a77d3c",
   "metadata": {},
   "outputs": [
    {
     "data": {
      "text/plain": [
       "array([60.16666667, 47.16666667, 53.66666667, 52.83333333, 30.16666667])"
      ]
     },
     "execution_count": 64,
     "metadata": {},
     "output_type": "execute_result"
    }
   ],
   "source": [
    "#n4. \n",
    "x.mean(axis = 1)"
   ]
  },
  {
   "cell_type": "code",
   "execution_count": 65,
   "id": "d63fce2d",
   "metadata": {},
   "outputs": [
    {
     "data": {
      "text/plain": [
       "array([ 7, 29,  3,  0,  1])"
      ]
     },
     "execution_count": 65,
     "metadata": {},
     "output_type": "execute_result"
    }
   ],
   "source": [
    "x.min(axis = 1)"
   ]
  },
  {
   "cell_type": "markdown",
   "id": "0078a584",
   "metadata": {},
   "source": [
    "# Chap3.3"
   ]
  },
  {
   "cell_type": "markdown",
   "id": "8031f7bf",
   "metadata": {},
   "source": [
    "Exercise 3.3.1"
   ]
  },
  {
   "cell_type": "code",
   "execution_count": 69,
   "id": "0a18ab65",
   "metadata": {},
   "outputs": [],
   "source": [
    "x = np.array([[  1,    2,    3,    4],\n",
    "              [ 46,   99,  100,   71],\n",
    "              [ 81,   59,   90,  100]])"
   ]
  },
  {
   "cell_type": "code",
   "execution_count": 81,
   "id": "e75167b9",
   "metadata": {},
   "outputs": [
    {
     "data": {
      "text/plain": [
       "array([[  1,   4,   2,   3],\n",
       "       [ 46,  71,  99, 100],\n",
       "       [ 81, 100,  59,  90]])"
      ]
     },
     "execution_count": 81,
     "metadata": {},
     "output_type": "execute_result"
    }
   ],
   "source": [
    "np.argsort(x[1, :])\n",
    "x[:, [0,3,1,2]]"
   ]
  },
  {
   "cell_type": "markdown",
   "id": "a906ddfa",
   "metadata": {},
   "source": [
    "# Chap3.5"
   ]
  },
  {
   "cell_type": "markdown",
   "id": "c5bbee1f",
   "metadata": {},
   "source": [
    "Exercise 3.5.1"
   ]
  },
  {
   "cell_type": "code",
   "execution_count": 83,
   "id": "c6bb8cb4",
   "metadata": {},
   "outputs": [
    {
     "data": {
      "text/plain": [
       "0.49"
      ]
     },
     "execution_count": 83,
     "metadata": {},
     "output_type": "execute_result"
    }
   ],
   "source": [
    "x = np.random.choice([0,1], 100, replace = True, p = [.5, .5])\n",
    "x.mean()"
   ]
  },
  {
   "cell_type": "markdown",
   "id": "445b1879",
   "metadata": {},
   "source": [
    "Exercise 3.5.2"
   ]
  },
  {
   "cell_type": "code",
   "execution_count": 84,
   "id": "70ddbcd9",
   "metadata": {},
   "outputs": [
    {
     "data": {
      "text/plain": [
       "array([-12324.71398306, -10662.02509181,   1418.61969684, -20399.64234061,\n",
       "        10145.58937314,   7542.26107245,   7130.6925315 ,  -2283.93346122,\n",
       "         7504.89654717,  20329.25084521,  -8722.28990331,   5826.65069933,\n",
       "        -2557.87296725,  24435.16174399,  -7039.34219193, -16962.35781562,\n",
       "        10295.19031548,   6427.76511512,  -7830.73820924,  -6785.46924369,\n",
       "         6594.51728147, -15391.30597554,  11247.34326444, -12951.59930137,\n",
       "        -3103.20606281,  -2579.06523992,   6262.5558417 ,  -6262.16612323,\n",
       "       -10282.72407569,  -2908.23161707,   7707.40627565,  -4904.93691018,\n",
       "        -8606.33400887,    201.12772315,   3294.54498027, -18016.98596243,\n",
       "        -6747.91533912,  20328.50340237,  -9090.08829195,  11959.42047985,\n",
       "        -8353.73199156,  11667.29392474,  -1742.62809272,  14945.50524798,\n",
       "        18775.08272946,   8467.13693157,  12488.93775034,  18608.6997729 ,\n",
       "         6465.06504603,  22658.98053204,  13063.55758657,  -3703.83326319,\n",
       "         6074.39331172,   7389.03743401,   7604.83427359, -19294.21962242,\n",
       "        -5172.77633027,  -7774.33086345,    679.83910163,  -6325.20221376,\n",
       "        -7246.10009186, -11049.51608427,  -7011.38127991,  -6451.73934374,\n",
       "         8571.4422535 ,   8096.39332051,   6166.59157524,  -8021.97134443,\n",
       "        -7016.33337915,   1885.0592678 ,   6181.78544643,   8452.01206694,\n",
       "         7274.327353  ,  10535.58739895,  -8456.25727704,   9732.58351271,\n",
       "       -24725.56842749,  -6498.93142929,   4189.75544016,  10977.90588523,\n",
       "         9805.15921585,   1628.69287419,   7766.75003171,   1347.8582679 ,\n",
       "       -15397.01989669,  -3489.54462733, -14457.8288347 , -10046.70680599,\n",
       "        -2263.82305694,  12812.25498394,  -1874.21322835, -13727.42487776,\n",
       "         1453.24771424, -11298.31457575,  13215.1585757 ,   7562.66376306,\n",
       "        10212.49891844,    155.9880047 ,   1495.07370892,  11076.93630701,\n",
       "        10350.15402682,  11858.15820862,  -9357.08490111,  -3365.93420742,\n",
       "        12567.82935964,   3241.5147251 , -10763.34806045, -11554.46268472,\n",
       "        -5704.32551178,  -1200.91987161,  -1927.51869828,  13111.38807867,\n",
       "        15220.52600005,   7460.85450024,  12116.04811171,   1456.14834649,\n",
       "        -8228.90751082, -10196.86925845,  -9468.58089094,   -593.73859292,\n",
       "        -1266.73000061,   8322.33665892,   9825.22810611,   4808.37200007,\n",
       "         5479.85323483, -32565.87394015,  -3017.6159333 , -12135.21750937,\n",
       "          400.08835846,  -2756.79100752,  11961.26451694,   6347.71651094,\n",
       "        -7754.72402871,  -4784.52390449,  -9928.19519801,   4348.51280155,\n",
       "           53.45549567,   6248.33920296,   2973.78412072,  -2585.62910541,\n",
       "         1055.36584153,   7011.22794964, -15992.42747226,  -7722.97191554,\n",
       "        -4316.85488429,   9206.00004807,  -3486.34727214,  -5487.19627084,\n",
       "          368.97786041,  11729.28891368,  -3970.93140879,   3122.92985692,\n",
       "       -14438.64796166,   8457.11867109,  -8238.85492863,  13524.90811464,\n",
       "       -16085.96876918, -12403.45288672, -18154.45704137,   -329.61298768,\n",
       "        -7120.49741169,  16280.05871809,   2059.84010706,   7591.96427451,\n",
       "        -6805.68813995, -15064.98845233,  12428.66226671, -11550.87540544,\n",
       "       -12609.58780359, -12836.92099139,  17033.1299312 ,   -546.56813658,\n",
       "         6909.72980863,  -4157.70161816,  10295.45488806,  10979.5237203 ,\n",
       "        -5000.1102315 ,  -4566.05613475,  -4674.34262771,  -3332.09495673,\n",
       "        -2417.50986367,   4608.68410646,  -5153.34538924,  -3944.80720243,\n",
       "        -5520.94131975,  -7175.02567702,  -5356.44457862,  21529.7088441 ,\n",
       "        -4968.3137104 ,  15691.81954786,  -3248.20717766,  -3028.6232911 ,\n",
       "         6111.41439415,  -5428.45974742, -14170.64701466,  23173.5667515 ,\n",
       "        -3458.18502231, -14748.80088807, -13727.39327562,   -744.91771981,\n",
       "         -152.18961934,    901.70453618,  -1885.15720465,  -1220.6378105 ,\n",
       "          659.31068756,  19628.75802047,  -8613.84254844,  -4329.671496  ,\n",
       "       -14667.14738312,   3333.9187533 ,  21717.90403376, -13389.60441748,\n",
       "        -1495.77799232, -16382.94567343, -15652.6149444 ,   7732.49529098,\n",
       "        -3420.3554129 ,    209.90477649,  -3218.74004733,    973.4893869 ,\n",
       "        -1149.61109516,  -3719.31440066,   6202.18805847,   4762.99837742,\n",
       "       -11629.53574984, -10827.00017682,  -4702.31498368, -12936.30359149,\n",
       "       -12281.65060747,  -4087.29698561,   5344.23518667,   8548.75303538,\n",
       "         6610.72820586,  -7670.04329915,  -4975.31635743,  -1861.62871237,\n",
       "         3652.47845357,  -2855.43309983,  14796.16050175,  -4160.515754  ,\n",
       "        16738.49011986,  -9501.9493705 ,  -2610.65317303,   2421.55445881,\n",
       "         8303.47913513,   3153.05188586,  -2537.72181342,  -6219.38914586,\n",
       "        13309.60706673,   4363.99884138])"
      ]
     },
     "execution_count": 84,
     "metadata": {},
     "output_type": "execute_result"
    }
   ],
   "source": [
    "np.random.randn(250)*10000"
   ]
  }
 ],
 "metadata": {
  "kernelspec": {
   "display_name": "Python 3",
   "language": "python",
   "name": "python3"
  },
  "language_info": {
   "codemirror_mode": {
    "name": "ipython",
    "version": 3
   },
   "file_extension": ".py",
   "mimetype": "text/x-python",
   "name": "python",
   "nbconvert_exporter": "python",
   "pygments_lexer": "ipython3",
   "version": "3.8.8"
  },
  "toc": {
   "base_numbering": 1,
   "nav_menu": {},
   "number_sections": true,
   "sideBar": true,
   "skip_h1_title": false,
   "title_cell": "Table of Contents",
   "title_sidebar": "Contents",
   "toc_cell": false,
   "toc_position": {},
   "toc_section_display": true,
   "toc_window_display": true
  },
  "varInspector": {
   "cols": {
    "lenName": 16,
    "lenType": 16,
    "lenVar": 40
   },
   "kernels_config": {
    "python": {
     "delete_cmd_postfix": "",
     "delete_cmd_prefix": "del ",
     "library": "var_list.py",
     "varRefreshCmd": "print(var_dic_list())"
    },
    "r": {
     "delete_cmd_postfix": ") ",
     "delete_cmd_prefix": "rm(",
     "library": "var_list.r",
     "varRefreshCmd": "cat(var_dic_list()) "
    }
   },
   "types_to_exclude": [
    "module",
    "function",
    "builtin_function_or_method",
    "instance",
    "_Feature"
   ],
   "window_display": false
  }
 },
 "nbformat": 4,
 "nbformat_minor": 5
}
