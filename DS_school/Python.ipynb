{
 "cells": [
  {
   "cell_type": "markdown",
   "id": "5e112d3d",
   "metadata": {},
   "source": [
    "#### Chap2.1 : 파이썬을 계산기로 사용하기"
   ]
  },
  {
   "cell_type": "code",
   "execution_count": 3,
   "id": "55121269",
   "metadata": {},
   "outputs": [
    {
     "name": "stdout",
     "output_type": "stream",
     "text": [
      "4.0 67.0 38998.0 60\n"
     ]
    }
   ],
   "source": [
    "# Problem 2.1.1\n",
    "ans1 = 3 * 2 - 8 / 4\n",
    "ans2 = 25 * 6 / 3 + 17\n",
    "ans3 = 39021 - 276920 / 12040\n",
    "ans4 = 2**6 - 10 % 6\n",
    "print(ans1, ans2, ans3, ans4)"
   ]
  },
  {
   "cell_type": "code",
   "execution_count": 4,
   "id": "c862c166",
   "metadata": {},
   "outputs": [
    {
     "name": "stdout",
     "output_type": "stream",
     "text": [
      "-24 50.0 28580.0 16\n"
     ]
    }
   ],
   "source": [
    "# Problem 2.1.2\n",
    "ans1 = 12 - (5 * 7 + 1)\n",
    "ans2 = 5 * (8 + (10 - 6) / 2)\n",
    "ans3 = 48320 - ((365 - 5 * 9) / 16) * 987\n",
    "ans4 = ((3**4 - 3 * 7) % 5 + 4)**2\n",
    "print(ans1, ans2, ans3, ans4)"
   ]
  },
  {
   "cell_type": "code",
   "execution_count": 6,
   "id": "edc08e32",
   "metadata": {},
   "outputs": [
    {
     "name": "stdout",
     "output_type": "stream",
     "text": [
      "[True, True, True] [False, False, False]\n"
     ]
    }
   ],
   "source": [
    "# Problem 2.1.3\n",
    "ans1 = [3 == 3, 1.0 == 1.0, 2-1 == 1]\n",
    "ans2 = [3 != 3, 1.0 == 1.0001, 2-1 == 0]\n",
    "print(ans1, ans2)"
   ]
  },
  {
   "cell_type": "code",
   "execution_count": 7,
   "id": "9329b952",
   "metadata": {},
   "outputs": [
    {
     "name": "stdout",
     "output_type": "stream",
     "text": [
      "False True True\n"
     ]
    }
   ],
   "source": [
    "# Problem 2.1.4\n",
    "ans1 = (5 <= 6) & (3 == 4)\n",
    "ans2 = (2 != 1) | (3 >= 4)\n",
    "ans3 = (5 <= 6) & ((0 == 0) | (3 < 4))\n",
    "print(ans1, ans2, ans3)"
   ]
  },
  {
   "cell_type": "code",
   "execution_count": 9,
   "id": "d0a24857",
   "metadata": {},
   "outputs": [
    {
     "name": "stdout",
     "output_type": "stream",
     "text": [
      "2 13 True\n"
     ]
    }
   ],
   "source": [
    "# Problem 2.1.5\n",
    "x, y, z, i, j, k = [1, 2, 3, 4, 5, 6]\n",
    "\n",
    "ans1 = (2 * x - 1)**2 + 1\n",
    "ans2 = (x ** (2 * y))*(z + 10)\n",
    "ans3 = ((j == 0) & (0 < k)) | (i <= 100)\n",
    "\n",
    "print(ans1, ans2, ans3)"
   ]
  },
  {
   "cell_type": "markdown",
   "id": "c86166a7",
   "metadata": {},
   "source": [
    "#### Chap2.2 : 부동소수점 실수 자료형"
   ]
  },
  {
   "cell_type": "code",
   "execution_count": 11,
   "id": "6a93c30b",
   "metadata": {},
   "outputs": [
    {
     "name": "stdout",
     "output_type": "stream",
     "text": [
      "500000000.0 5600.0 -210.0 -0.34\n"
     ]
    }
   ],
   "source": [
    "# Problem 2.2.1\n",
    "ans1 = 5e8\n",
    "ans2 = 5.6e3\n",
    "ans3 = -2.1e2\n",
    "ans4 = -3.4e-1\n",
    "print(ans1, ans2, ans3, ans4)"
   ]
  },
  {
   "cell_type": "code",
   "execution_count": 13,
   "id": "d360b2dd",
   "metadata": {},
   "outputs": [
    {
     "name": "stdout",
     "output_type": "stream",
     "text": [
      "3.141592 2.718 1.4 1.73\n"
     ]
    }
   ],
   "source": [
    "# Problem 2.2.2\n",
    "ans1 = 3141592e-6\n",
    "ans2 = 2718e-3\n",
    "ans3 = 14e-1\n",
    "ans4 = 173e-2\n",
    "print(ans1, ans2, ans3, ans4)"
   ]
  },
  {
   "cell_type": "code",
   "execution_count": 1,
   "id": "13d2026f",
   "metadata": {},
   "outputs": [
    {
     "name": "stdout",
     "output_type": "stream",
     "text": [
      "1234 1010 3.14 0.023\n"
     ]
    }
   ],
   "source": [
    "# Problem 2.2.3 \n",
    "ans1 = 1 * 10**3 + 2 * 10**2 + 3 * 10**1 + 4\n",
    "ans2 = 1 * 10**3 + 0 * 10**2 + 1 * 10**1 + 0\n",
    "ans3 = 3 * 10**0 + 1 * 10**(-1) + 4 * 10**(-2)\n",
    "ans4 = 0 * 10**0 + 0 * 10**(-1) + 2 * 10**(-2) + 3 * 10**(-3) \n",
    "\n",
    "print(ans1, ans2, ans3, ans4)"
   ]
  },
  {
   "cell_type": "code",
   "execution_count": 5,
   "id": "1150c20b",
   "metadata": {},
   "outputs": [
    {
     "name": "stdout",
     "output_type": "stream",
     "text": [
      "0b1101 0b10000001\n"
     ]
    }
   ],
   "source": [
    "# Problem 2.2.4\n",
    "ans1 = bin(13)\n",
    "ans2 = bin(129)\n",
    "print(ans1, ans2)"
   ]
  },
  {
   "cell_type": "markdown",
   "id": "0dd005e4",
   "metadata": {},
   "source": [
    "#### Chap2.3 : 파이썬으로 글자를 출력하기"
   ]
  },
  {
   "cell_type": "code",
   "execution_count": 11,
   "id": "fcf45ba1",
   "metadata": {},
   "outputs": [
    {
     "name": "stdout",
     "output_type": "stream",
     "text": [
      "\n",
      "Beautiful is better than ugly.\n",
      "Explicit is better than implicit.\n",
      "Simple is better than complex.\n",
      "Complex is better than complicated.\n",
      "Flat is better than nested.\n",
      "Sparse is better than dense.\n",
      "\n",
      "@@@@@\n",
      "@   @\n",
      "@   @\n",
      "@   @\n",
      "@@@@@\n"
     ]
    }
   ],
   "source": [
    "# Problem 2.3.1\n",
    "ans1 = \"\"\"\n",
    "Beautiful is better than ugly.\n",
    "Explicit is better than implicit.\n",
    "Simple is better than complex.\n",
    "Complex is better than complicated.\n",
    "Flat is better than nested.\n",
    "Sparse is better than dense.\n",
    "\"\"\"\n",
    "print(ans1)\n",
    "\n",
    "print(\"@\" * 5)\n",
    "print(\"@\" + \" \" * 3 + \"@\")\n",
    "print(\"@\" + \" \" * 3 + \"@\")\n",
    "print(\"@\" + \" \" * 3 + \"@\")\n",
    "print(\"@\" * 5)"
   ]
  },
  {
   "cell_type": "code",
   "execution_count": 8,
   "id": "7cfd9bcd",
   "metadata": {},
   "outputs": [
    {
     "data": {
      "text/plain": [
       "'20201225'"
      ]
     },
     "execution_count": 8,
     "metadata": {},
     "output_type": "execute_result"
    }
   ],
   "source": [
    "# Problem 2.3.2\n",
    "string = \"2020-12-25\"\n",
    "string.replace(\"-\", \"\")"
   ]
  },
  {
   "cell_type": "markdown",
   "id": "28de2e43",
   "metadata": {},
   "source": [
    "#### Chap2.4 : 파이썬의 문자열 형식화\n",
    "\n",
    "##### %기호를 사용한 문자열 형식화   \n",
    "문자열 뒤에 % 기호를 붙이고 그뒤에 다른 값을 붙이면 뒤에 붙은 값이 문자열 안으로 들어간다.\n",
    "\n",
    "**<center> <\"문자열\" % 값>**\n",
    "    \n",
    "| 형식지정 문자열 | 의미 | \n",
    "| --- | --- |\n",
    "| %s | String |\n",
    "| %d | Integer | \n",
    "| %f | Floart | \n",
    "| %ns | 전체 n칸을 차지하는 문자열(공백이 앞에 위치한다) | \n",
    "| %-nd | 전체 n칸을 차지하는 숫자(공백이 뒤에 위치한다) |\n",
    "| %.nf | 부동소수점의 소수점 n자리까지 표시 | \n",
    "    \n",
    "    \n",
    "##### format method를 사용한 문자열 형식화\n",
    "format 메서드를 사용하여 문자열을 형식화하는 방법도 있다. 이 때는 % 기호로 시작하는 형식지정 문자열 대신 {} 기호를 사용한다. 또한 자료형을 표시할 필요가 없다. 문자열 내에서 { 문자를 출력하고 싶을 때는 {{라는 글자를 사용한다. {} 안에 값의 순서를 지정하는 숫자를 넣을 수도 있다. 가장 앞에 있는 값은 {0}, 그 뒤의 값은 {1}, 이런 식으로 지정한다. 이 방법을 사용하면 값의 순서를 바꾸거나 같은 값을 여러번 인쇄할 수도 있다."
   ]
  },
  {
   "cell_type": "code",
   "execution_count": 10,
   "id": "92725173",
   "metadata": {},
   "outputs": [
    {
     "name": "stdout",
     "output_type": "stream",
     "text": [
      "Tom is 13 years old\n",
      "10 / 3 = 3.333333\n"
     ]
    }
   ],
   "source": [
    "# Problem 2.4.1\n",
    "name = \"Tom\"\n",
    "age = 13 \n",
    "print(\"%s is %d years old\" % (name, age))\n",
    "\n",
    "a = 10\n",
    "b = 3\n",
    "print(\"%d / %d = %f\" %(a, b, a/b))"
   ]
  },
  {
   "cell_type": "code",
   "execution_count": 39,
   "id": "92f56906",
   "metadata": {},
   "outputs": [
    {
     "name": "stdout",
     "output_type": "stream",
     "text": [
      "     3\n",
      "x   12\n",
      "-------\n",
      "    36\n",
      "\n",
      "    123456\n",
      "+     7890\n",
      "----------\n",
      "    131346\n"
     ]
    }
   ],
   "source": [
    "# Problem 2.4.2\n",
    "a = 3\n",
    "b = 12\n",
    "print(\"%6d\\nx%5d\\n-------\\n%6d\\n\" %(a,b, a*b))\n",
    "\n",
    "a = 123456\n",
    "b = 7890\n",
    "print(\"%10d\\n+%9d\\n----------\\n%10d\" %(a,b, a+b))"
   ]
  },
  {
   "cell_type": "markdown",
   "id": "6762f4d9",
   "metadata": {},
   "source": [
    "#### Chap2.5 : 파이썬 조건문 기초 "
   ]
  },
  {
   "cell_type": "code",
   "execution_count": 40,
   "id": "fc2986cf",
   "metadata": {},
   "outputs": [
    {
     "name": "stdout",
     "output_type": "stream",
     "text": [
      "2자리 수의 짝수가 아니다.\n"
     ]
    }
   ],
   "source": [
    "# Problem 2.5.1 \n",
    "a = 10 \n",
    "if (a>=10) & (b < 100) & (b % 2 == 0) : \n",
    "    print(\"2자리 수의 짝수이다.\")\n",
    "else : \n",
    "    print(\"2자리 수의 짝수가 아니다.\")"
   ]
  },
  {
   "cell_type": "code",
   "execution_count": 46,
   "id": "d4d2abf2",
   "metadata": {},
   "outputs": [
    {
     "name": "stdout",
     "output_type": "stream",
     "text": [
      "윤년이 아닙니다\n"
     ]
    }
   ],
   "source": [
    "# Problem 2.5.2\n",
    "year = 1900\n",
    "if (year % 4 == 0) & (year % 100 != 0) | (year % 400 == 0) :\n",
    "    print(\"윤년입니다.\")\n",
    "else : \n",
    "    print(\"윤년이 아닙니다\")"
   ]
  },
  {
   "cell_type": "code",
   "execution_count": 47,
   "id": "0548f2a8",
   "metadata": {},
   "outputs": [
    {
     "name": "stdout",
     "output_type": "stream",
     "text": [
      "A\n"
     ]
    }
   ],
   "source": [
    "# Problem 2.5.3\n",
    "c = 10\n",
    "\n",
    "if c >= 8:\n",
    "    print(\"A\")\n",
    "elif c >= 5:\n",
    "    print(\"B\")\n",
    "else:\n",
    "    print(\"C\")\n"
   ]
  },
  {
   "cell_type": "code",
   "execution_count": 49,
   "id": "426d03b2",
   "metadata": {},
   "outputs": [
    {
     "name": "stdout",
     "output_type": "stream",
     "text": [
      "3\n"
     ]
    }
   ],
   "source": [
    "# Problem 2.5.4\n",
    "weight = 5\n",
    "\n",
    "if weight > 10 : \n",
    "    print(1)\n",
    "elif weight > 7 : \n",
    "    print(2)\n",
    "elif weight > 4 : \n",
    "    print(3)\n",
    "else :\n",
    "    print(4)"
   ]
  },
  {
   "cell_type": "code",
   "execution_count": 52,
   "id": "0d68e876",
   "metadata": {},
   "outputs": [
    {
     "name": "stdout",
     "output_type": "stream",
     "text": [
      "0 10\n"
     ]
    }
   ],
   "source": [
    "# Problem 2.5.5\n",
    "XA = True\n",
    "XB = False\n",
    "\n",
    "if XA == True : \n",
    "    if XB == True  :\n",
    "        YA = 5\n",
    "        YB = 5\n",
    "    else : \n",
    "        YA = 0\n",
    "        YB = 10 \n",
    "else : \n",
    "    if XB == True : \n",
    "        YA = 10\n",
    "        YB = 0\n",
    "    else : \n",
    "        YA = 1\n",
    "        YB = 1\n",
    "print(YA, YB)"
   ]
  },
  {
   "cell_type": "markdown",
   "id": "00141053",
   "metadata": {},
   "source": [
    "#### Chap2.6 : 파이썬 함수"
   ]
  },
  {
   "cell_type": "code",
   "execution_count": 54,
   "id": "ac597f14",
   "metadata": {},
   "outputs": [
    {
     "name": "stdout",
     "output_type": "stream",
     "text": [
      "짝수 평년\n"
     ]
    }
   ],
   "source": [
    "# Problem 2.6.1\n",
    "def ans1(n) :\n",
    "    if n % 2 == 0 :\n",
    "        return \"짝수\"\n",
    "    else :\n",
    "        return \"홀수\"\n",
    "\n",
    "def ans2(year) : \n",
    "    if (year % 4 == 0) & (year % 100 != 0) | (year % 400 == 0) :\n",
    "        return \"윤년\"\n",
    "    else : \n",
    "        return \"평년\"\n",
    "    \n",
    "print(ans1(2), ans2(1900))"
   ]
  },
  {
   "cell_type": "code",
   "execution_count": 55,
   "id": "77248881",
   "metadata": {},
   "outputs": [
    {
     "data": {
      "text/plain": [
       "30"
      ]
     },
     "execution_count": 55,
     "metadata": {},
     "output_type": "execute_result"
    }
   ],
   "source": [
    "# Problem 2.6.2\n",
    "def days1(month) : \n",
    "    if month in [1, 3, 5, 7, 8 ,10 ,12] :\n",
    "        return 31\n",
    "    elif month in [4, 6, 9, 11] : \n",
    "        return 30 \n",
    "    else : \n",
    "        return 28\n",
    "\n",
    "days1(11)"
   ]
  },
  {
   "cell_type": "code",
   "execution_count": 56,
   "id": "b65d50fb",
   "metadata": {},
   "outputs": [
    {
     "data": {
      "text/plain": [
       "31"
      ]
     },
     "execution_count": 56,
     "metadata": {},
     "output_type": "execute_result"
    }
   ],
   "source": [
    "# Problem 2.6.3\n",
    "def days2(year, month)  :\n",
    "    if month in [1, 3, 5, 7, 8 ,10 ,12] :\n",
    "        return 31\n",
    "    elif month in [4, 6, 9, 11] : \n",
    "        return 30 \n",
    "    else : \n",
    "        return 28\n",
    "    \n",
    "days2(2015, 1)"
   ]
  },
  {
   "cell_type": "markdown",
   "id": "0eb79f01",
   "metadata": {},
   "source": [
    "##### 람다함수 \n",
    "함수에 이름을 주지 않거나 코드를 짧게 줄여쓰는 방법으로 람다(lambda)함수라는 것이 있다. "
   ]
  },
  {
   "cell_type": "code",
   "execution_count": 57,
   "id": "b5edd03e",
   "metadata": {},
   "outputs": [
    {
     "data": {
      "text/plain": [
       "4"
      ]
     },
     "execution_count": 57,
     "metadata": {},
     "output_type": "execute_result"
    }
   ],
   "source": [
    "f = lambda x : 2*x\n",
    "f(2)"
   ]
  },
  {
   "cell_type": "markdown",
   "id": "387042fd",
   "metadata": {},
   "source": [
    "#### Chap2.7 :  파이썬 for 반복문 "
   ]
  },
  {
   "cell_type": "code",
   "execution_count": 58,
   "id": "56c694a9",
   "metadata": {},
   "outputs": [
    {
     "name": "stdout",
     "output_type": "stream",
     "text": [
      "*\n",
      "**\n",
      "***\n",
      "****\n",
      "*****\n",
      "******\n",
      "*******\n",
      "********\n",
      "*********\n",
      "**********\n",
      "***********\n"
     ]
    }
   ],
   "source": [
    "# Problem 2.7.1\n",
    "for i in range(11) : \n",
    "    print('*' * (i+1))"
   ]
  },
  {
   "cell_type": "code",
   "execution_count": 59,
   "id": "0429f1da",
   "metadata": {},
   "outputs": [
    {
     "name": "stdout",
     "output_type": "stream",
     "text": [
      "***********\n",
      "**********\n",
      "*********\n",
      "********\n",
      "*******\n",
      "******\n",
      "*****\n",
      "****\n",
      "***\n",
      "**\n",
      "*\n"
     ]
    }
   ],
   "source": [
    "# Problem 2.7.2\n",
    "for i in range(11) : \n",
    "    print('*' * (11-i))"
   ]
  },
  {
   "cell_type": "code",
   "execution_count": 61,
   "id": "a12015af",
   "metadata": {},
   "outputs": [
    {
     "name": "stdout",
     "output_type": "stream",
     "text": [
      "*\n",
      "**\n",
      "***\n",
      "****\n",
      "*****\n",
      "******\n",
      "*******\n",
      "********\n",
      "*********\n",
      "**********\n",
      "***********\n",
      "*********\n",
      "********\n",
      "*******\n",
      "******\n",
      "*****\n",
      "****\n",
      "***\n",
      "**\n",
      "*\n"
     ]
    }
   ],
   "source": [
    "# Problem 2.7.2\n",
    "for i in range(20) : \n",
    "    if i < 11 : \n",
    "        print('*' * (i + 1))\n",
    "    else : \n",
    "        print('*' * (20-i))"
   ]
  },
  {
   "cell_type": "code",
   "execution_count": 76,
   "id": "6a8bffaa",
   "metadata": {},
   "outputs": [
    {
     "name": "stdout",
     "output_type": "stream",
     "text": [
      "     *     \n",
      "    ***    \n",
      "   *****   \n",
      "  *******  \n",
      " ********* \n",
      "***********\n",
      " ********* \n",
      "  *******  \n",
      "   *****   \n",
      "    ***    \n",
      "     *     \n"
     ]
    }
   ],
   "source": [
    "# Problem 2.7.3\n",
    "for i in range(11) :\n",
    "    if i < 6 : \n",
    "        print(\" \" * (5-i) + \"*\" * (2 * i + 1) + \" \" * (5-i))\n",
    "    else : \n",
    "        print(\" \" * (i-5) + \"*\" * (2 * (10-i) + 1) + \" \" * (i-5))"
   ]
  },
  {
   "cell_type": "code",
   "execution_count": 79,
   "id": "f00e660c",
   "metadata": {},
   "outputs": [
    {
     "name": "stdout",
     "output_type": "stream",
     "text": [
      "8192\n",
      "2048.0\n",
      "2048.0\n",
      "512.0\n",
      "2048.0\n",
      "512.0\n",
      "512.0\n",
      "128.0\n"
     ]
    }
   ],
   "source": [
    "# Problem 2.7.4\n",
    "\n",
    "for i in [2, 1/2]:\n",
    "    for j in [2, 1/2]:\n",
    "        for k in [2, 1/2]:\n",
    "            print(1024 * i * j * k)"
   ]
  },
  {
   "cell_type": "code",
   "execution_count": 82,
   "id": "0a7729b7",
   "metadata": {},
   "outputs": [
    {
     "data": {
      "text/plain": [
       "25"
      ]
     },
     "execution_count": 82,
     "metadata": {},
     "output_type": "execute_result"
    }
   ],
   "source": [
    "# Problem 2.7.5\n",
    "n = 4\n",
    "\n",
    "for i in range(n+1) : \n",
    "    res = 0\n",
    "    for j in range(i + 1) : \n",
    "        res += i + 1\n",
    "res"
   ]
  },
  {
   "cell_type": "markdown",
   "id": "bb282fe4",
   "metadata": {},
   "source": [
    "#### Chap2.8 : 여러개의 자료를 한 변수에 담기 "
   ]
  },
  {
   "cell_type": "code",
   "execution_count": 2,
   "id": "0d4ddd82",
   "metadata": {},
   "outputs": [
    {
     "data": {
      "text/plain": [
       "3.0"
      ]
     },
     "execution_count": 2,
     "metadata": {},
     "output_type": "execute_result"
    }
   ],
   "source": [
    "# Problem 2.8.1\n",
    "score = [1, 2, 3, 4, 5]\n",
    "ans1 = sum(score) / 5\n",
    "\n",
    "ans1"
   ]
  },
  {
   "cell_type": "code",
   "execution_count": 7,
   "id": "48bcfe2a",
   "metadata": {},
   "outputs": [
    {
     "data": {
      "text/plain": [
       "30"
      ]
     },
     "execution_count": 7,
     "metadata": {},
     "output_type": "execute_result"
    }
   ],
   "source": [
    "# Problem 2.8.2\n",
    "days = {'01' : 31, '02' : 28, '03' : 31, '04' : 30, '05' : 31, '06' : 30, '07' : 31,\n",
    "       '08' : 31, '09' : 30, '10' : 31, '11' : 30, '12' : 31}\n",
    "ans1 = (days['02'] + days['04'] + days['06'] + days['08'] + days['10'] + days['12'])/6\n",
    "\n",
    "int(ans1)"
   ]
  },
  {
   "cell_type": "markdown",
   "id": "4a93d3cc",
   "metadata": {},
   "source": [
    "#### Chap2.9 : 파이썬에서 리스트 자료형 다루기"
   ]
  },
  {
   "cell_type": "code",
   "execution_count": 13,
   "id": "b09ed571",
   "metadata": {},
   "outputs": [
    {
     "name": "stdout",
     "output_type": "stream",
     "text": [
      "['철수', '영희']\n",
      "['철수', '영희', '민수']\n",
      "['철수', '민수']\n"
     ]
    }
   ],
   "source": [
    "# Problem 2.9.1\n",
    "class_room = ['철수', '영희']\n",
    "print(class_room) \n",
    "\n",
    "class_room.append('민수')\n",
    "print(class_room)\n",
    "\n",
    "del class_room[1]\n",
    "print(class_room)"
   ]
  },
  {
   "cell_type": "markdown",
   "id": "e07fb4b1",
   "metadata": {},
   "source": [
    "#### Chap2.10 : 리스트와 반복문을 사용하여 계산하기"
   ]
  },
  {
   "cell_type": "markdown",
   "id": "f315c2e5",
   "metadata": {},
   "source": [
    "##### enumerate 함수\n",
    "때로는 반복문에 정수 인덱스가 필요할 때도 있다. 예를 들어 반복문에서 append 메서드를 쓰면 계산 속도가 저하된다. 이때는 미리 저장 공간을 만들어 놓고 해당 위치에 계산 결과를 갱신해야 한다. 이때는 enumerate 명령을 쓸 수 있다. enumerate 명령은 리스트의 원소를 반복하면서 동시에 인덱스 값도 생성한다.\n",
    "\n",
    "Data Structure에 자리를 직접 지정하여 넣어준다. null list의 고정 length에 넣어준다 -> 속도 증가 "
   ]
  },
  {
   "cell_type": "code",
   "execution_count": 18,
   "id": "5af41c39",
   "metadata": {},
   "outputs": [
    {
     "data": {
      "text/plain": [
       "3.3636363636363638"
      ]
     },
     "execution_count": 18,
     "metadata": {},
     "output_type": "execute_result"
    }
   ],
   "source": [
    "# Problem 2.10.1\n",
    "X = [4, 3, 2, 3, 4]\n",
    "W = [3, 3, 1, 2, 2]\n",
    "weighted_sum = 0\n",
    "tot = 0\n",
    "for i, (grade, hour) in enumerate(zip(X,W)) : \n",
    "        weighted_sum = weighted_sum + grade*hour\n",
    "        tot = tot + hour\n",
    "\n",
    "ans1 = weighted_sum / tot\n",
    "ans1"
   ]
  },
  {
   "cell_type": "code",
   "execution_count": 21,
   "id": "ec38e13e",
   "metadata": {},
   "outputs": [
    {
     "data": {
      "text/plain": [
       "2.0"
      ]
     },
     "execution_count": 21,
     "metadata": {},
     "output_type": "execute_result"
    }
   ],
   "source": [
    "# Problem 2.10.2\n",
    "X = [6, 5, 4, 7, 3, 5]\n",
    "\n",
    "var_sum = 0\n",
    "mean = sum(X)/len(X)\n",
    "\n",
    "for i in X : \n",
    "    var_sum += (i - mean)**2\n",
    "\n",
    "ans2 = var_sum/mean\n",
    "ans2"
   ]
  },
  {
   "cell_type": "code",
   "execution_count": 22,
   "id": "1fda7c99",
   "metadata": {},
   "outputs": [
    {
     "data": {
      "text/plain": [
       "[('길동', '철수', '영수', '방자'), (90, 80, 70, 60)]"
      ]
     },
     "execution_count": 22,
     "metadata": {},
     "output_type": "execute_result"
    }
   ],
   "source": [
    "# Problem 2.10.3\n",
    "x = [\n",
    "  [\"길동\", 90],\n",
    "  [\"철수\", 80],\n",
    "  [\"영수\", 70],\n",
    "  [\"방자\", 60],\n",
    "]\n",
    "x = list(zip(*x))\n",
    "x"
   ]
  },
  {
   "cell_type": "markdown",
   "id": "f8d2eb1e",
   "metadata": {},
   "source": [
    "#### Chap2.11 : 파이썬에서 딕셔너리 자료형 다루기 "
   ]
  },
  {
   "cell_type": "code",
   "execution_count": 10,
   "id": "ce6e3108",
   "metadata": {},
   "outputs": [
    {
     "name": "stdout",
     "output_type": "stream",
     "text": [
      "철수         98\n",
      "영희         80\n",
      "순이        100\n",
      "돌이         70\n",
      "===============\n",
      "평균         87\n"
     ]
    }
   ],
   "source": [
    "# Problem 2.11.1\n",
    "data = {\n",
    "    \"철수\": 98,\n",
    "    \"영희\": 80,\n",
    "    \"순이\": 100,\n",
    "    \"돌이\": 70,\n",
    "}\n",
    "cum = 0\n",
    "for name, score in data.items() :\n",
    "    print(\"%s %10d\"%(name, score))\n",
    "    cum += score\n",
    "print(\"===============\")\n",
    "print(\"평균%11d\"%(cum/len(data)))"
   ]
  },
  {
   "cell_type": "markdown",
   "id": "825c246e",
   "metadata": {},
   "source": [
    "#### Chap2.12 : 파이썬 객체지향 프로그래밍 \n",
    "\n",
    "##### 객체  \n",
    "프로그램이 어떤 작업을 수행하기 위해서는 (1)데이터와 (2)데이터를 조작하는 행위, 두 가지 요소가 필요하다. 일반적으로 데이터는 변수에 넣어서 사용하고 데이터를 조작하는 일은 함수로 구성해서 쉽게 실행할 수 있도록 만들어 놓는다. \n",
    "\n",
    "객체(object)는 서로 관련된 데이터와 그 데이터를 조작하기 위한 함수를 하나의 집합에 모아놓은 것을 말한다. 이때 집합의 원소가 되는 변수나 함수는 멤버(memeber) 또는 속성(attribute)이라고 한다. 특히 객체의 속성인 함수는 메서드(method)라고 부른다. \n",
    "\n",
    "- 객체 \n",
    "    - 메서드(필드의 원소를 사용하여 동작을 수행함) \n",
    "        - 속성(객체를 구성하는 필드)\n",
    "\n",
    "특정 원소와 특정 작업을 반복적으로 수행하기 위해 클래스를 정의하고, 입력된 속성에 대해 생성된 객체에 대해서 행동을 부여한다.\n",
    "즉, 클래스는 속성에 대한 의미를 형성하고, 매서드는 속성에 대한 행동을 수행한다.  \n",
    "- linear = sklearn.Linear_Regression(a, b, h) : 클래스 지정   \n",
    "- linear.fit_model() : 매서드 수행  "
   ]
  },
  {
   "cell_type": "code",
   "execution_count": 22,
   "id": "0eec79a4",
   "metadata": {},
   "outputs": [
    {
     "data": {
      "text/plain": [
       "4.0"
      ]
     },
     "execution_count": 22,
     "metadata": {},
     "output_type": "execute_result"
    }
   ],
   "source": [
    "# Problem 2.12.1\n",
    "class triangle(object) :\n",
    "    \n",
    "    def __init__(self, b, h) :\n",
    "        self.b = b\n",
    "        self.h = h\n",
    "    \n",
    "    def area(self) :\n",
    "        return (1/2)*self.b*self.h\n",
    "    \n",
    "ans1 = triangle(2, 4) \n",
    "ans1.area()"
   ]
  },
  {
   "cell_type": "code",
   "execution_count": 24,
   "id": "7420dce8",
   "metadata": {},
   "outputs": [
    {
     "data": {
      "text/plain": [
       "6"
      ]
     },
     "execution_count": 24,
     "metadata": {},
     "output_type": "execute_result"
    }
   ],
   "source": [
    "# Problem 2.13.1\n",
    "class Rec_col(object) :\n",
    "    \n",
    "    def __init__(self, a, b, h) :\n",
    "        self.a = a\n",
    "        self.b = b\n",
    "        self.h = h\n",
    "    \n",
    "    def volume(self) : \n",
    "        return self.a*self.b*self.h\n",
    "\n",
    "ans2 = Rec_col(1,2,3)\n",
    "ans2.volume()"
   ]
  },
  {
   "cell_type": "markdown",
   "id": "14b973f1",
   "metadata": {},
   "source": [
    "##### 클래스 상속\n",
    "\n",
    "부모 클래스의 속성에 대하여 Character에 따라 다른 초기 속성값을 부여하고 싶다면, 자식 클래스를 생성하여 그에 따른 개별 속성을 부여할 수 있다.\n",
    "\n",
    "##### 매서드 오버라이딩 \n",
    "\n",
    "메서드 오버라이딩(Method Overriding)이란, 여러 클래스에 걸쳐서 같은 이름의 메서드를 만드는 것이다. 예를 들어 부모 클래스, 전사 캐릭터 클래스, 마법사 캐릭터 클래스에 공통으로 attack이라는 메서드가 있지만, 각각 하는 일이 다를 때는 다음처럼 같은 이름의 메서드를 클래스별로 구현하면 된다. 이렇게 되면 부모 클래스에서 만든 메서드 정의를 자식 클래스에서는 변경해서 사용한다."
   ]
  },
  {
   "cell_type": "code",
   "execution_count": 26,
   "id": "c244d4b4",
   "metadata": {},
   "outputs": [],
   "source": [
    "# Problem 2.12.3\n",
    "class Character(object):\n",
    "\n",
    "    def __init__(self):\n",
    "        self.life = 1000\n",
    "        self.strength = 10\n",
    "        self.intelligence = 10\n",
    "\n",
    "    def attacked(self):\n",
    "        self.life -= 20\n",
    "        print(\"공격받음! 생명력 =\", self.life)\n",
    "\n",
    "    def attack(self):\n",
    "        print(\"공격!\")\n",
    "\n",
    "class Warrior(Character):\n",
    "\n",
    "    def __init__(self):\n",
    "        super(Warrior, self).__init__()\n",
    "        self.strength = 15\n",
    "        self.intelligence = 5\n",
    "\n",
    "    def attack(self):\n",
    "        print(\"육탄 공격!\")\n",
    "        \n",
    "    def attacked(self):\n",
    "        self.life -= 5\n",
    "        print(\"공격받음! 생명력 =\", self.life)\n",
    "        \n",
    "class Wizard(Character):\n",
    "\n",
    "    def __init__(self):\n",
    "        super(Wizard, self).__init__()\n",
    "        self.strength = 5\n",
    "        self.intelligence = 15\n",
    "\n",
    "    def attack(self):\n",
    "        print(\"마법 공격!\")\n",
    "    \n",
    "    def attacked(self):\n",
    "        self.life -= 15\n",
    "        print(\"공격받음! 생명력 =\", self.life)"
   ]
  },
  {
   "cell_type": "code",
   "execution_count": 32,
   "id": "990948f4",
   "metadata": {},
   "outputs": [
    {
     "name": "stdout",
     "output_type": "stream",
     "text": [
      "[1000, 1000, 1000]\n",
      "공격받음! 생명력 = 980\n",
      "공격받음! 생명력 = 995\n",
      "공격받음! 생명력 = 985\n",
      "[980, 995, 985]\n"
     ]
    }
   ],
   "source": [
    "a = Character()\n",
    "b = Warrior()\n",
    "c = Wizard()\n",
    "\n",
    "print([a.life, b.life, c.life])\n",
    "a.attacked()\n",
    "b.attacked()\n",
    "c.attacked()\n",
    "print([a.life, b.life, c.life])"
   ]
  },
  {
   "cell_type": "code",
   "execution_count": 40,
   "id": "a1f7379d",
   "metadata": {},
   "outputs": [
    {
     "data": {
      "text/plain": [
       "20"
      ]
     },
     "execution_count": 40,
     "metadata": {},
     "output_type": "execute_result"
    }
   ],
   "source": [
    "# Problem 2.12.4\n",
    "\n",
    "class Car(object) : \n",
    "    \n",
    "    def __init__(self) : \n",
    "        self.max_speed = 160\n",
    "        self.speed = 0\n",
    "    \n",
    "    def speedup(self) :\n",
    "        if self.speed > self.max_speed : \n",
    "            print(\"Cannot accelorate more speed!\")\n",
    "        self.speed += 20\n",
    "        \n",
    "    def speeddown(self) :\n",
    "        if self.speed < 0 :\n",
    "            print(\"Cannot downgrade more speed\")\n",
    "        slef.speed -=20 \n",
    "\n",
    "c = Car() \n",
    "c.speedup()\n",
    "c.speed"
   ]
  },
  {
   "cell_type": "code",
   "execution_count": 44,
   "id": "a685cca2",
   "metadata": {},
   "outputs": [
    {
     "name": "stdout",
     "output_type": "stream",
     "text": [
      "[0, 0, 0]\n",
      "[20, 45, 15]\n",
      "[40, 90, 30]\n",
      "[60, 135, 45]\n",
      "[80, 180, 60]\n"
     ]
    }
   ],
   "source": [
    "# Problem 2.12.5\n",
    "\n",
    "class SportCar(Car) : \n",
    "\n",
    "    def __init__(self):\n",
    "        super(SportCar, self).__init__()\n",
    "        self.max_speed = 200\n",
    "    \n",
    "    def speedup(self) : \n",
    "        if self.speed > self.max_speed :\n",
    "            print(\"Cannot accelorate more speed\")\n",
    "        self.speed += 45\n",
    "    \n",
    "    def speeddown(self) :\n",
    "        if self.speed < 0 :\n",
    "            print(\"Cannot downgrade more speed\")\n",
    "        slef.speed -= 45    \n",
    "        \n",
    "class Truck(Car) : \n",
    "\n",
    "    def __init__(self):\n",
    "        super(Truck, self).__init__()\n",
    "        self.max_speed = 100\n",
    "    \n",
    "    def speedup(self) : \n",
    "        if self.speed > self.max_speed :\n",
    "            print(\"Cannot accelorate more speed\")\n",
    "        self.speed += 15\n",
    "    \n",
    "    def speeddown(self) :\n",
    "        if self.speed < 0 :\n",
    "            print(\"Cannot downgrade more speed\")\n",
    "        slef.speed -= 15\n",
    "        \n",
    "a = Car()\n",
    "b = SportCar()\n",
    "c = Truck()\n",
    "\n",
    "print([a.speed, b.speed, c.speed])\n",
    "for i in range(4) : \n",
    "    a.speedup()\n",
    "    b.speedup()\n",
    "    c.speedup()\n",
    "    print([a.speed, b.speed, c.speed])"
   ]
  },
  {
   "cell_type": "markdown",
   "id": "4e7da093",
   "metadata": {},
   "source": [
    "#### Chap2.13 : 파이썬 패키지 사용하기"
   ]
  },
  {
   "cell_type": "markdown",
   "id": "be8070bb",
   "metadata": {},
   "source": [
    "#### Chap2.14 : 파이썬의 자료형 "
   ]
  },
  {
   "cell_type": "code",
   "execution_count": 17,
   "id": "b0b4aac9",
   "metadata": {},
   "outputs": [
    {
     "data": {
      "text/plain": [
       "0"
      ]
     },
     "execution_count": 17,
     "metadata": {},
     "output_type": "execute_result"
    }
   ],
   "source": [
    "# Problem 2.14.1\n",
    "today = \"2020-10-25\"\n",
    "birthday = \"2020-11-21\"\n",
    "ans1 = int(today.split('-')[0])-int(birthday.split('-')[0])\n",
    "ans1"
   ]
  },
  {
   "cell_type": "markdown",
   "id": "295043e8",
   "metadata": {},
   "source": [
    "#### Chap2.15 : 파이썬에서 날짜와 시간 다루기 "
   ]
  },
  {
   "cell_type": "code",
   "execution_count": 46,
   "id": "1f883746",
   "metadata": {},
   "outputs": [
    {
     "name": "stdout",
     "output_type": "stream",
     "text": [
      "1998년 05월 03일\n"
     ]
    }
   ],
   "source": [
    "# Problem 2.15.1\n",
    "import datetime as dt\n",
    "\n",
    "birth = dt.datetime.strptime(\"1998-05-03 02:30\", '%Y-%m-%d %H:%M')\n",
    "print(birth.strftime(\"%Y년 %m월 %d일\"))"
   ]
  }
 ],
 "metadata": {
  "kernelspec": {
   "display_name": "Python 3",
   "language": "python",
   "name": "python3"
  },
  "language_info": {
   "codemirror_mode": {
    "name": "ipython",
    "version": 3
   },
   "file_extension": ".py",
   "mimetype": "text/x-python",
   "name": "python",
   "nbconvert_exporter": "python",
   "pygments_lexer": "ipython3",
   "version": "3.8.8"
  },
  "toc": {
   "base_numbering": 1,
   "nav_menu": {},
   "number_sections": true,
   "sideBar": true,
   "skip_h1_title": false,
   "title_cell": "Table of Contents",
   "title_sidebar": "Contents",
   "toc_cell": false,
   "toc_position": {},
   "toc_section_display": true,
   "toc_window_display": true
  },
  "varInspector": {
   "cols": {
    "lenName": 16,
    "lenType": 16,
    "lenVar": 40
   },
   "kernels_config": {
    "python": {
     "delete_cmd_postfix": "",
     "delete_cmd_prefix": "del ",
     "library": "var_list.py",
     "varRefreshCmd": "print(var_dic_list())"
    },
    "r": {
     "delete_cmd_postfix": ") ",
     "delete_cmd_prefix": "rm(",
     "library": "var_list.r",
     "varRefreshCmd": "cat(var_dic_list()) "
    }
   },
   "types_to_exclude": [
    "module",
    "function",
    "builtin_function_or_method",
    "instance",
    "_Feature"
   ],
   "window_display": false
  }
 },
 "nbformat": 4,
 "nbformat_minor": 5
}
