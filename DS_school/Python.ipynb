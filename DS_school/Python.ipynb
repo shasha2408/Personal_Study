{
 "cells": [
  {
   "cell_type": "markdown",
   "id": "5e112d3d",
   "metadata": {},
   "source": [
    "#### Chap2.1 : 파이썬을 계산기로 사용하기"
   ]
  },
  {
   "cell_type": "code",
   "execution_count": 3,
   "id": "55121269",
   "metadata": {},
   "outputs": [
    {
     "name": "stdout",
     "output_type": "stream",
     "text": [
      "4.0 67.0 38998.0 60\n"
     ]
    }
   ],
   "source": [
    "# Problem 2.1.1\n",
    "ans1 = 3 * 2 - 8 / 4\n",
    "ans2 = 25 * 6 / 3 + 17\n",
    "ans3 = 39021 - 276920 / 12040\n",
    "ans4 = 2**6 - 10 % 6\n",
    "print(ans1, ans2, ans3, ans4)"
   ]
  },
  {
   "cell_type": "code",
   "execution_count": 4,
   "id": "c862c166",
   "metadata": {},
   "outputs": [
    {
     "name": "stdout",
     "output_type": "stream",
     "text": [
      "-24 50.0 28580.0 16\n"
     ]
    }
   ],
   "source": [
    "# Problem 2.1.2\n",
    "ans1 = 12 - (5 * 7 + 1)\n",
    "ans2 = 5 * (8 + (10 - 6) / 2)\n",
    "ans3 = 48320 - ((365 - 5 * 9) / 16) * 987\n",
    "ans4 = ((3**4 - 3 * 7) % 5 + 4)**2\n",
    "print(ans1, ans2, ans3, ans4)"
   ]
  },
  {
   "cell_type": "code",
   "execution_count": 6,
   "id": "edc08e32",
   "metadata": {},
   "outputs": [
    {
     "name": "stdout",
     "output_type": "stream",
     "text": [
      "[True, True, True] [False, False, False]\n"
     ]
    }
   ],
   "source": [
    "# Problem 2.1.3\n",
    "ans1 = [3 == 3, 1.0 == 1.0, 2-1 == 1]\n",
    "ans2 = [3 != 3, 1.0 == 1.0001, 2-1 == 0]\n",
    "print(ans1, ans2)"
   ]
  },
  {
   "cell_type": "code",
   "execution_count": 7,
   "id": "9329b952",
   "metadata": {},
   "outputs": [
    {
     "name": "stdout",
     "output_type": "stream",
     "text": [
      "False True True\n"
     ]
    }
   ],
   "source": [
    "# Problem 2.1.4\n",
    "ans1 = (5 <= 6) & (3 == 4)\n",
    "ans2 = (2 != 1) | (3 >= 4)\n",
    "ans3 = (5 <= 6) & ((0 == 0) | (3 < 4))\n",
    "print(ans1, ans2, ans3)"
   ]
  },
  {
   "cell_type": "code",
   "execution_count": 9,
   "id": "d0a24857",
   "metadata": {},
   "outputs": [
    {
     "name": "stdout",
     "output_type": "stream",
     "text": [
      "2 13 True\n"
     ]
    }
   ],
   "source": [
    "# Problem 2.1.5\n",
    "x, y, z, i, j, k = [1, 2, 3, 4, 5, 6]\n",
    "\n",
    "ans1 = (2 * x - 1)**2 + 1\n",
    "ans2 = (x ** (2 * y))*(z + 10)\n",
    "ans3 = ((j == 0) & (0 < k)) | (i <= 100)\n",
    "\n",
    "print(ans1, ans2, ans3)"
   ]
  },
  {
   "cell_type": "markdown",
   "id": "c86166a7",
   "metadata": {},
   "source": [
    "#### Chap2.2 : 부동소수점 실수 자료형"
   ]
  },
  {
   "cell_type": "code",
   "execution_count": 11,
   "id": "6a93c30b",
   "metadata": {},
   "outputs": [
    {
     "name": "stdout",
     "output_type": "stream",
     "text": [
      "500000000.0 5600.0 -210.0 -0.34\n"
     ]
    }
   ],
   "source": [
    "# Problem 2.2.1\n",
    "ans1 = 5e8\n",
    "ans2 = 5.6e3\n",
    "ans3 = -2.1e2\n",
    "ans4 = -3.4e-1\n",
    "print(ans1, ans2, ans3, ans4)"
   ]
  },
  {
   "cell_type": "code",
   "execution_count": 13,
   "id": "d360b2dd",
   "metadata": {},
   "outputs": [
    {
     "name": "stdout",
     "output_type": "stream",
     "text": [
      "3.141592 2.718 1.4 1.73\n"
     ]
    }
   ],
   "source": [
    "# Problem 2.2.2\n",
    "ans1 = 3141592e-6\n",
    "ans2 = 2718e-3\n",
    "ans3 = 14e-1\n",
    "ans4 = 173e-2\n",
    "print(ans1, ans2, ans3, ans4)"
   ]
  },
  {
   "cell_type": "markdown",
   "id": "0dd005e4",
   "metadata": {},
   "source": [
    "#### "
   ]
  },
  {
   "cell_type": "markdown",
   "id": "28de2e43",
   "metadata": {},
   "source": [
    "#### "
   ]
  },
  {
   "cell_type": "markdown",
   "id": "6762f4d9",
   "metadata": {},
   "source": [
    "#### "
   ]
  },
  {
   "cell_type": "markdown",
   "id": "00141053",
   "metadata": {},
   "source": [
    "#### "
   ]
  },
  {
   "cell_type": "markdown",
   "id": "387042fd",
   "metadata": {},
   "source": [
    "#### "
   ]
  },
  {
   "cell_type": "markdown",
   "id": "bb282fe4",
   "metadata": {},
   "source": [
    "#### "
   ]
  },
  {
   "cell_type": "markdown",
   "id": "4a93d3cc",
   "metadata": {},
   "source": [
    "#### "
   ]
  },
  {
   "cell_type": "markdown",
   "id": "e07fb4b1",
   "metadata": {},
   "source": [
    "#### "
   ]
  },
  {
   "cell_type": "markdown",
   "id": "f8d2eb1e",
   "metadata": {},
   "source": [
    "#### "
   ]
  },
  {
   "cell_type": "markdown",
   "id": "825c246e",
   "metadata": {},
   "source": [
    "#### "
   ]
  },
  {
   "cell_type": "markdown",
   "id": "4e7da093",
   "metadata": {},
   "source": [
    "#### "
   ]
  },
  {
   "cell_type": "markdown",
   "id": "be8070bb",
   "metadata": {},
   "source": [
    "#### "
   ]
  },
  {
   "cell_type": "markdown",
   "id": "295043e8",
   "metadata": {},
   "source": [
    "#### "
   ]
  }
 ],
 "metadata": {
  "kernelspec": {
   "display_name": "Python 3",
   "language": "python",
   "name": "python3"
  },
  "language_info": {
   "codemirror_mode": {
    "name": "ipython",
    "version": 3
   },
   "file_extension": ".py",
   "mimetype": "text/x-python",
   "name": "python",
   "nbconvert_exporter": "python",
   "pygments_lexer": "ipython3",
   "version": "3.8.8"
  },
  "toc": {
   "base_numbering": 1,
   "nav_menu": {},
   "number_sections": true,
   "sideBar": true,
   "skip_h1_title": false,
   "title_cell": "Table of Contents",
   "title_sidebar": "Contents",
   "toc_cell": false,
   "toc_position": {},
   "toc_section_display": true,
   "toc_window_display": true
  },
  "varInspector": {
   "cols": {
    "lenName": 16,
    "lenType": 16,
    "lenVar": 40
   },
   "kernels_config": {
    "python": {
     "delete_cmd_postfix": "",
     "delete_cmd_prefix": "del ",
     "library": "var_list.py",
     "varRefreshCmd": "print(var_dic_list())"
    },
    "r": {
     "delete_cmd_postfix": ") ",
     "delete_cmd_prefix": "rm(",
     "library": "var_list.r",
     "varRefreshCmd": "cat(var_dic_list()) "
    }
   },
   "types_to_exclude": [
    "module",
    "function",
    "builtin_function_or_method",
    "instance",
    "_Feature"
   ],
   "window_display": false
  }
 },
 "nbformat": 4,
 "nbformat_minor": 5
}
